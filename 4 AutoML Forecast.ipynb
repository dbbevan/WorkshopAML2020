{
 "cells": [
  {
   "cell_type": "markdown",
   "metadata": {},
   "source": [
    "# Automated Machine Learning\n",
    "_**Orange Juice Sales Forecasting**_\n"
   ]
  },
  {
   "cell_type": "markdown",
   "metadata": {},
   "source": [
    "<img src='https://github.com/retkowsky/images/blob/master/AzureMLservicebanniere.png?raw=true'>"
   ]
  },
  {
   "cell_type": "markdown",
   "metadata": {},
   "source": [
    "## Introduction\n",
    "In this example, we use AutoML to train, select, and operationalize a time-series forecasting model for multiple time-series.\n",
    "\n",
    "Make sure you have executed the [configuration notebook](../../../configuration.ipynb) before running this notebook.\n",
    "\n",
    "The examples in the follow code samples use the University of Chicago's Dominick's Finer Foods dataset to forecast orange juice sales. Dominick's was a grocery chain in the Chicago metropolitan area."
   ]
  },
  {
   "cell_type": "markdown",
   "metadata": {},
   "source": [
    "## Setup"
   ]
  },
  {
   "cell_type": "code",
   "execution_count": 1,
   "metadata": {},
   "outputs": [],
   "source": [
    "import azureml.core\n",
    "import pandas as pd\n",
    "import numpy as np\n",
    "import logging\n",
    "\n",
    "from azureml.core.workspace import Workspace\n",
    "from azureml.core.experiment import Experiment\n",
    "from azureml.train.automl import AutoMLConfig\n",
    "from azureml.automl.core.featurization import FeaturizationConfig"
   ]
  },
  {
   "cell_type": "code",
   "execution_count": 2,
   "metadata": {},
   "outputs": [
    {
     "name": "stdout",
     "output_type": "stream",
     "text": [
      "2020-07-20 10:34:42.306071\n"
     ]
    }
   ],
   "source": [
    "import datetime\n",
    "now = datetime.datetime.now()\n",
    "print(now)"
   ]
  },
  {
   "cell_type": "code",
   "execution_count": 3,
   "metadata": {},
   "outputs": [
    {
     "name": "stdout",
     "output_type": "stream",
     "text": [
      "Version Azure ML : 1.9.0\n"
     ]
    }
   ],
   "source": [
    "#Version\n",
    "import azureml.core\n",
    "print(\"Version Azure ML :\", azureml.core.VERSION)\n"
   ]
  },
  {
   "cell_type": "code",
   "execution_count": 4,
   "metadata": {},
   "outputs": [
    {
     "data": {
      "text/html": [
       "<div>\n",
       "<style scoped>\n",
       "    .dataframe tbody tr th:only-of-type {\n",
       "        vertical-align: middle;\n",
       "    }\n",
       "\n",
       "    .dataframe tbody tr th {\n",
       "        vertical-align: top;\n",
       "    }\n",
       "\n",
       "    .dataframe thead th {\n",
       "        text-align: right;\n",
       "    }\n",
       "</style>\n",
       "<table border=\"1\" class=\"dataframe\">\n",
       "  <thead>\n",
       "    <tr style=\"text-align: right;\">\n",
       "      <th></th>\n",
       "      <th></th>\n",
       "    </tr>\n",
       "  </thead>\n",
       "  <tbody>\n",
       "    <tr>\n",
       "      <th>Workspace</th>\n",
       "      <td>workshopAML2020</td>\n",
       "    </tr>\n",
       "    <tr>\n",
       "      <th>SKU</th>\n",
       "      <td>Enterprise</td>\n",
       "    </tr>\n",
       "    <tr>\n",
       "      <th>Resource Group</th>\n",
       "      <td>workshopAML2020-rg</td>\n",
       "    </tr>\n",
       "    <tr>\n",
       "      <th>Location</th>\n",
       "      <td>westeurope</td>\n",
       "    </tr>\n",
       "    <tr>\n",
       "      <th>Run History Name</th>\n",
       "      <td>Exemple4-AutoMLForecastSales</td>\n",
       "    </tr>\n",
       "  </tbody>\n",
       "</table>\n",
       "</div>"
      ],
      "text/plain": [
       "                                              \n",
       "Workspace         workshopAML2020             \n",
       "SKU               Enterprise                  \n",
       "Resource Group    workshopAML2020-rg          \n",
       "Location          westeurope                  \n",
       "Run History Name  Exemple4-AutoMLForecastSales"
      ]
     },
     "execution_count": 4,
     "metadata": {},
     "output_type": "execute_result"
    }
   ],
   "source": [
    "ws = Workspace.from_config()\n",
    "\n",
    "# choose a name for the run history container in the workspace\n",
    "experiment_name = 'Exemple4-AutoMLForecastSales'\n",
    "\n",
    "experiment = Experiment(ws, experiment_name)\n",
    "\n",
    "output = {}\n",
    "output['Workspace'] = ws.name\n",
    "output['SKU'] = ws.sku\n",
    "output['Resource Group'] = ws.resource_group\n",
    "output['Location'] = ws.location\n",
    "output['Run History Name'] = experiment_name\n",
    "pd.set_option('display.max_colwidth', -1)\n",
    "outputDf = pd.DataFrame(data = output, index = [''])\n",
    "outputDf.T"
   ]
  },
  {
   "cell_type": "markdown",
   "metadata": {},
   "source": [
    "## Compute\n",
    "You will need to create a [compute target](https://docs.microsoft.com/en-us/azure/machine-learning/service/how-to-set-up-training-targets#amlcompute) for your AutoML run. In this tutorial, you create AmlCompute as your training compute resource.\n",
    "#### Creation of AmlCompute takes approximately 5 minutes. \n",
    "If the AmlCompute with that name is already in your workspace this code will skip the creation process.\n",
    "As with other Azure services, there are limits on certain resources (e.g. AmlCompute) associated with the Azure Machine Learning service. Please read this article on the default limits and how to request more quota."
   ]
  },
  {
   "cell_type": "code",
   "execution_count": 5,
   "metadata": {},
   "outputs": [
    {
     "name": "stdout",
     "output_type": "stream",
     "text": [
      "Found existing cluster, use it.\n",
      "Succeeded\n",
      "AmlCompute wait for completion finished\n",
      "\n",
      "Minimum number of nodes requested have been provisioned\n"
     ]
    }
   ],
   "source": [
    "from azureml.core.compute import ComputeTarget, AmlCompute\n",
    "from azureml.core.compute_target import ComputeTargetException\n",
    "\n",
    "# Choose a name for your CPU cluster\n",
    "amlcompute_cluster_name = \"oj-cluster\"\n",
    "\n",
    "# Verify that cluster does not exist already\n",
    "try:\n",
    "    compute_target = ComputeTarget(workspace=ws, name=amlcompute_cluster_name)\n",
    "    print('Found existing cluster, use it.')\n",
    "except ComputeTargetException:\n",
    "    compute_config = AmlCompute.provisioning_configuration(vm_size='STANDARD_D2_V2',\n",
    "                                                           max_nodes=6)\n",
    "    compute_target = ComputeTarget.create(ws, amlcompute_cluster_name, compute_config)\n",
    "\n",
    "compute_target.wait_for_completion(show_output=True)"
   ]
  },
  {
   "cell_type": "markdown",
   "metadata": {},
   "source": [
    "## Data\n",
    "You are now ready to load the historical orange juice sales data. We will load the CSV file into a plain pandas DataFrame; the time column in the CSV is called _WeekStarting_, so it will be specially parsed into the datetime type."
   ]
  },
  {
   "cell_type": "code",
   "execution_count": 6,
   "metadata": {},
   "outputs": [
    {
     "data": {
      "text/html": [
       "<div>\n",
       "<style scoped>\n",
       "    .dataframe tbody tr th:only-of-type {\n",
       "        vertical-align: middle;\n",
       "    }\n",
       "\n",
       "    .dataframe tbody tr th {\n",
       "        vertical-align: top;\n",
       "    }\n",
       "\n",
       "    .dataframe thead th {\n",
       "        text-align: right;\n",
       "    }\n",
       "</style>\n",
       "<table border=\"1\" class=\"dataframe\">\n",
       "  <thead>\n",
       "    <tr style=\"text-align: right;\">\n",
       "      <th></th>\n",
       "      <th>WeekStarting</th>\n",
       "      <th>Store</th>\n",
       "      <th>Brand</th>\n",
       "      <th>Quantity</th>\n",
       "      <th>logQuantity</th>\n",
       "      <th>Advert</th>\n",
       "      <th>Price</th>\n",
       "      <th>Age60</th>\n",
       "      <th>COLLEGE</th>\n",
       "      <th>INCOME</th>\n",
       "      <th>Hincome150</th>\n",
       "      <th>Large HH</th>\n",
       "      <th>Minorities</th>\n",
       "      <th>WorkingWoman</th>\n",
       "      <th>SSTRDIST</th>\n",
       "      <th>SSTRVOL</th>\n",
       "      <th>CPDIST5</th>\n",
       "      <th>CPWVOL5</th>\n",
       "    </tr>\n",
       "  </thead>\n",
       "  <tbody>\n",
       "    <tr>\n",
       "      <th>0</th>\n",
       "      <td>1990-06-14</td>\n",
       "      <td>2</td>\n",
       "      <td>dominicks</td>\n",
       "      <td>10560</td>\n",
       "      <td>9.264829</td>\n",
       "      <td>1</td>\n",
       "      <td>1.59</td>\n",
       "      <td>0.232865</td>\n",
       "      <td>0.248935</td>\n",
       "      <td>10.553205</td>\n",
       "      <td>0.463887</td>\n",
       "      <td>0.103953</td>\n",
       "      <td>0.114280</td>\n",
       "      <td>0.303585</td>\n",
       "      <td>2.110122</td>\n",
       "      <td>1.142857</td>\n",
       "      <td>1.927280</td>\n",
       "      <td>0.376927</td>\n",
       "    </tr>\n",
       "    <tr>\n",
       "      <th>1</th>\n",
       "      <td>1990-06-14</td>\n",
       "      <td>2</td>\n",
       "      <td>minute.maid</td>\n",
       "      <td>4480</td>\n",
       "      <td>8.407378</td>\n",
       "      <td>0</td>\n",
       "      <td>3.17</td>\n",
       "      <td>0.232865</td>\n",
       "      <td>0.248935</td>\n",
       "      <td>10.553205</td>\n",
       "      <td>0.463887</td>\n",
       "      <td>0.103953</td>\n",
       "      <td>0.114280</td>\n",
       "      <td>0.303585</td>\n",
       "      <td>2.110122</td>\n",
       "      <td>1.142857</td>\n",
       "      <td>1.927280</td>\n",
       "      <td>0.376927</td>\n",
       "    </tr>\n",
       "    <tr>\n",
       "      <th>2</th>\n",
       "      <td>1990-06-14</td>\n",
       "      <td>2</td>\n",
       "      <td>tropicana</td>\n",
       "      <td>8256</td>\n",
       "      <td>9.018695</td>\n",
       "      <td>0</td>\n",
       "      <td>3.87</td>\n",
       "      <td>0.232865</td>\n",
       "      <td>0.248935</td>\n",
       "      <td>10.553205</td>\n",
       "      <td>0.463887</td>\n",
       "      <td>0.103953</td>\n",
       "      <td>0.114280</td>\n",
       "      <td>0.303585</td>\n",
       "      <td>2.110122</td>\n",
       "      <td>1.142857</td>\n",
       "      <td>1.927280</td>\n",
       "      <td>0.376927</td>\n",
       "    </tr>\n",
       "    <tr>\n",
       "      <th>3</th>\n",
       "      <td>1990-06-14</td>\n",
       "      <td>5</td>\n",
       "      <td>dominicks</td>\n",
       "      <td>1792</td>\n",
       "      <td>7.491088</td>\n",
       "      <td>1</td>\n",
       "      <td>1.59</td>\n",
       "      <td>0.117368</td>\n",
       "      <td>0.321226</td>\n",
       "      <td>10.922371</td>\n",
       "      <td>0.535883</td>\n",
       "      <td>0.103092</td>\n",
       "      <td>0.053875</td>\n",
       "      <td>0.410568</td>\n",
       "      <td>3.801998</td>\n",
       "      <td>0.681818</td>\n",
       "      <td>1.600573</td>\n",
       "      <td>0.736307</td>\n",
       "    </tr>\n",
       "    <tr>\n",
       "      <th>4</th>\n",
       "      <td>1990-06-14</td>\n",
       "      <td>5</td>\n",
       "      <td>minute.maid</td>\n",
       "      <td>4224</td>\n",
       "      <td>8.348538</td>\n",
       "      <td>0</td>\n",
       "      <td>2.99</td>\n",
       "      <td>0.117368</td>\n",
       "      <td>0.321226</td>\n",
       "      <td>10.922371</td>\n",
       "      <td>0.535883</td>\n",
       "      <td>0.103092</td>\n",
       "      <td>0.053875</td>\n",
       "      <td>0.410568</td>\n",
       "      <td>3.801998</td>\n",
       "      <td>0.681818</td>\n",
       "      <td>1.600573</td>\n",
       "      <td>0.736307</td>\n",
       "    </tr>\n",
       "  </tbody>\n",
       "</table>\n",
       "</div>"
      ],
      "text/plain": [
       "  WeekStarting  Store        Brand  Quantity  logQuantity  Advert  Price  \\\n",
       "0 1990-06-14    2      dominicks    10560     9.264829     1       1.59    \n",
       "1 1990-06-14    2      minute.maid  4480      8.407378     0       3.17    \n",
       "2 1990-06-14    2      tropicana    8256      9.018695     0       3.87    \n",
       "3 1990-06-14    5      dominicks    1792      7.491088     1       1.59    \n",
       "4 1990-06-14    5      minute.maid  4224      8.348538     0       2.99    \n",
       "\n",
       "      Age60   COLLEGE     INCOME  Hincome150  Large HH  Minorities  \\\n",
       "0  0.232865  0.248935  10.553205  0.463887    0.103953  0.114280     \n",
       "1  0.232865  0.248935  10.553205  0.463887    0.103953  0.114280     \n",
       "2  0.232865  0.248935  10.553205  0.463887    0.103953  0.114280     \n",
       "3  0.117368  0.321226  10.922371  0.535883    0.103092  0.053875     \n",
       "4  0.117368  0.321226  10.922371  0.535883    0.103092  0.053875     \n",
       "\n",
       "   WorkingWoman  SSTRDIST   SSTRVOL   CPDIST5   CPWVOL5  \n",
       "0  0.303585      2.110122  1.142857  1.927280  0.376927  \n",
       "1  0.303585      2.110122  1.142857  1.927280  0.376927  \n",
       "2  0.303585      2.110122  1.142857  1.927280  0.376927  \n",
       "3  0.410568      3.801998  0.681818  1.600573  0.736307  \n",
       "4  0.410568      3.801998  0.681818  1.600573  0.736307  "
      ]
     },
     "execution_count": 6,
     "metadata": {},
     "output_type": "execute_result"
    }
   ],
   "source": [
    "time_column_name = 'WeekStarting'\n",
    "data = pd.read_csv(\"dominicks_OJ.csv\", parse_dates=[time_column_name])\n",
    "data.head()"
   ]
  },
  {
   "cell_type": "markdown",
   "metadata": {},
   "source": [
    "Each row in the DataFrame holds a quantity of weekly sales for an OJ brand at a single store. The data also includes the sales price, a flag indicating if the OJ brand was advertised in the store that week, and some customer demographic information based on the store location. For historical reasons, the data also include the logarithm of the sales quantity. The Dominick's grocery data is commonly used to illustrate econometric modeling techniques where logarithms of quantities are generally preferred.    \n",
    "\n",
    "The task is now to build a time-series model for the _Quantity_ column. It is important to note that this dataset is comprised of many individual time-series - one for each unique combination of _Store_ and _Brand_. To distinguish the individual time-series, we thus define the **grain** - the columns whose values determine the boundaries between time-series: "
   ]
  },
  {
   "cell_type": "code",
   "execution_count": 7,
   "metadata": {},
   "outputs": [
    {
     "name": "stdout",
     "output_type": "stream",
     "text": [
      "Data contains 249 individual time-series.\n"
     ]
    }
   ],
   "source": [
    "grain_column_names = ['Store', 'Brand']\n",
    "nseries = data.groupby(grain_column_names).ngroups\n",
    "print('Data contains {0} individual time-series.'.format(nseries))"
   ]
  },
  {
   "cell_type": "markdown",
   "metadata": {},
   "source": [
    "For demonstration purposes, we extract sales time-series for just a few of the stores:"
   ]
  },
  {
   "cell_type": "code",
   "execution_count": 8,
   "metadata": {},
   "outputs": [
    {
     "name": "stdout",
     "output_type": "stream",
     "text": [
      "Data subset contains 9 individual time-series.\n"
     ]
    }
   ],
   "source": [
    "use_stores = [2, 5, 8]\n",
    "data_subset = data[data.Store.isin(use_stores)]\n",
    "nseries = data_subset.groupby(grain_column_names).ngroups\n",
    "print('Data subset contains {0} individual time-series.'.format(nseries))"
   ]
  },
  {
   "cell_type": "markdown",
   "metadata": {},
   "source": [
    "### Data Splitting\n",
    "We now split the data into a training and a testing set for later forecast evaluation. The test set will contain the final 20 weeks of observed sales for each time-series. The splits should be stratified by series, so we use a group-by statement on the grain columns."
   ]
  },
  {
   "cell_type": "code",
   "execution_count": 9,
   "metadata": {},
   "outputs": [],
   "source": [
    "n_test_periods = 20\n",
    "\n",
    "def split_last_n_by_grain(df, n):\n",
    "    \"\"\"Group df by grain and split on last n rows for each group.\"\"\"\n",
    "    df_grouped = (df.sort_values(time_column_name) # Sort by ascending time\n",
    "                  .groupby(grain_column_names, group_keys=False))\n",
    "    df_head = df_grouped.apply(lambda dfg: dfg.iloc[:-n])\n",
    "    df_tail = df_grouped.apply(lambda dfg: dfg.iloc[-n:])\n",
    "    return df_head, df_tail\n",
    "\n",
    "train, test = split_last_n_by_grain(data_subset, n_test_periods)"
   ]
  },
  {
   "cell_type": "markdown",
   "metadata": {},
   "source": [
    "### Upload data to datastore\n",
    "The [Machine Learning service workspace](https://docs.microsoft.com/en-us/azure/machine-learning/service/concept-workspace), is paired with the storage account, which contains the default data store. We will use it to upload the train and test data and create [tabular datasets](https://docs.microsoft.com/en-us/python/api/azureml-core/azureml.data.tabulardataset?view=azure-ml-py) for training and testing. A tabular dataset defines a series of lazily-evaluated, immutable operations to load data from the data source into tabular representation."
   ]
  },
  {
   "cell_type": "code",
   "execution_count": 10,
   "metadata": {},
   "outputs": [],
   "source": [
    "train.to_csv (r'./dominicks_OJ_train.csv', index = None, header=True)\n",
    "test.to_csv (r'./dominicks_OJ_test.csv', index = None, header=True)"
   ]
  },
  {
   "cell_type": "code",
   "execution_count": 11,
   "metadata": {},
   "outputs": [
    {
     "name": "stdout",
     "output_type": "stream",
     "text": [
      "Uploading an estimated of 2 files\n",
      "Uploading ./dominicks_OJ_test.csv\n",
      "Uploading ./dominicks_OJ_train.csv\n",
      "Uploaded ./dominicks_OJ_test.csv, 1 files out of an estimated total of 2\n",
      "Uploaded ./dominicks_OJ_train.csv, 2 files out of an estimated total of 2\n",
      "Uploaded 2 files\n"
     ]
    },
    {
     "data": {
      "text/plain": [
       "$AZUREML_DATAREFERENCE_538a856cf86144f28cb67793f55858f9"
      ]
     },
     "execution_count": 11,
     "metadata": {},
     "output_type": "execute_result"
    }
   ],
   "source": [
    "datastore = ws.get_default_datastore()\n",
    "datastore.upload_files(files = ['./dominicks_OJ_train.csv', './dominicks_OJ_test.csv'], target_path = 'dataset/', overwrite = True,show_progress = True)"
   ]
  },
  {
   "cell_type": "markdown",
   "metadata": {},
   "source": [
    "### Create dataset for training"
   ]
  },
  {
   "cell_type": "code",
   "execution_count": 12,
   "metadata": {},
   "outputs": [],
   "source": [
    "from azureml.core.dataset import Dataset\n",
    "train_dataset = Dataset.Tabular.from_delimited_files(path=datastore.path('dataset/dominicks_OJ_train.csv'))"
   ]
  },
  {
   "cell_type": "code",
   "execution_count": 13,
   "metadata": {},
   "outputs": [
    {
     "data": {
      "text/html": [
       "<div>\n",
       "<style scoped>\n",
       "    .dataframe tbody tr th:only-of-type {\n",
       "        vertical-align: middle;\n",
       "    }\n",
       "\n",
       "    .dataframe tbody tr th {\n",
       "        vertical-align: top;\n",
       "    }\n",
       "\n",
       "    .dataframe thead th {\n",
       "        text-align: right;\n",
       "    }\n",
       "</style>\n",
       "<table border=\"1\" class=\"dataframe\">\n",
       "  <thead>\n",
       "    <tr style=\"text-align: right;\">\n",
       "      <th></th>\n",
       "      <th>WeekStarting</th>\n",
       "      <th>Store</th>\n",
       "      <th>Brand</th>\n",
       "      <th>Quantity</th>\n",
       "      <th>logQuantity</th>\n",
       "      <th>Advert</th>\n",
       "      <th>Price</th>\n",
       "      <th>Age60</th>\n",
       "      <th>COLLEGE</th>\n",
       "      <th>INCOME</th>\n",
       "      <th>Hincome150</th>\n",
       "      <th>Large HH</th>\n",
       "      <th>Minorities</th>\n",
       "      <th>WorkingWoman</th>\n",
       "      <th>SSTRDIST</th>\n",
       "      <th>SSTRVOL</th>\n",
       "      <th>CPDIST5</th>\n",
       "      <th>CPWVOL5</th>\n",
       "    </tr>\n",
       "  </thead>\n",
       "  <tbody>\n",
       "    <tr>\n",
       "      <th>847</th>\n",
       "      <td>1992-04-09</td>\n",
       "      <td>8</td>\n",
       "      <td>tropicana</td>\n",
       "      <td>16192</td>\n",
       "      <td>9.692273</td>\n",
       "      <td>0</td>\n",
       "      <td>2.50</td>\n",
       "      <td>0.252394</td>\n",
       "      <td>0.095173</td>\n",
       "      <td>10.59701</td>\n",
       "      <td>0.054227</td>\n",
       "      <td>0.13175</td>\n",
       "      <td>0.035243</td>\n",
       "      <td>0.283075</td>\n",
       "      <td>2.636333</td>\n",
       "      <td>1.5</td>\n",
       "      <td>2.905384</td>\n",
       "      <td>0.641016</td>\n",
       "    </tr>\n",
       "    <tr>\n",
       "      <th>848</th>\n",
       "      <td>1992-04-16</td>\n",
       "      <td>8</td>\n",
       "      <td>tropicana</td>\n",
       "      <td>6528</td>\n",
       "      <td>8.783856</td>\n",
       "      <td>0</td>\n",
       "      <td>2.89</td>\n",
       "      <td>0.252394</td>\n",
       "      <td>0.095173</td>\n",
       "      <td>10.59701</td>\n",
       "      <td>0.054227</td>\n",
       "      <td>0.13175</td>\n",
       "      <td>0.035243</td>\n",
       "      <td>0.283075</td>\n",
       "      <td>2.636333</td>\n",
       "      <td>1.5</td>\n",
       "      <td>2.905384</td>\n",
       "      <td>0.641016</td>\n",
       "    </tr>\n",
       "    <tr>\n",
       "      <th>849</th>\n",
       "      <td>1992-04-23</td>\n",
       "      <td>8</td>\n",
       "      <td>tropicana</td>\n",
       "      <td>8320</td>\n",
       "      <td>9.026418</td>\n",
       "      <td>0</td>\n",
       "      <td>2.89</td>\n",
       "      <td>0.252394</td>\n",
       "      <td>0.095173</td>\n",
       "      <td>10.59701</td>\n",
       "      <td>0.054227</td>\n",
       "      <td>0.13175</td>\n",
       "      <td>0.035243</td>\n",
       "      <td>0.283075</td>\n",
       "      <td>2.636333</td>\n",
       "      <td>1.5</td>\n",
       "      <td>2.905384</td>\n",
       "      <td>0.641016</td>\n",
       "    </tr>\n",
       "    <tr>\n",
       "      <th>850</th>\n",
       "      <td>1992-04-30</td>\n",
       "      <td>8</td>\n",
       "      <td>tropicana</td>\n",
       "      <td>30784</td>\n",
       "      <td>10.334750</td>\n",
       "      <td>1</td>\n",
       "      <td>2.16</td>\n",
       "      <td>0.252394</td>\n",
       "      <td>0.095173</td>\n",
       "      <td>10.59701</td>\n",
       "      <td>0.054227</td>\n",
       "      <td>0.13175</td>\n",
       "      <td>0.035243</td>\n",
       "      <td>0.283075</td>\n",
       "      <td>2.636333</td>\n",
       "      <td>1.5</td>\n",
       "      <td>2.905384</td>\n",
       "      <td>0.641016</td>\n",
       "    </tr>\n",
       "    <tr>\n",
       "      <th>851</th>\n",
       "      <td>1992-05-07</td>\n",
       "      <td>8</td>\n",
       "      <td>tropicana</td>\n",
       "      <td>18048</td>\n",
       "      <td>9.800790</td>\n",
       "      <td>0</td>\n",
       "      <td>2.89</td>\n",
       "      <td>0.252394</td>\n",
       "      <td>0.095173</td>\n",
       "      <td>10.59701</td>\n",
       "      <td>0.054227</td>\n",
       "      <td>0.13175</td>\n",
       "      <td>0.035243</td>\n",
       "      <td>0.283075</td>\n",
       "      <td>2.636333</td>\n",
       "      <td>1.5</td>\n",
       "      <td>2.905384</td>\n",
       "      <td>0.641016</td>\n",
       "    </tr>\n",
       "  </tbody>\n",
       "</table>\n",
       "</div>"
      ],
      "text/plain": [
       "    WeekStarting  Store      Brand  Quantity  logQuantity  Advert  Price  \\\n",
       "847 1992-04-09    8      tropicana  16192     9.692273     0       2.50    \n",
       "848 1992-04-16    8      tropicana  6528      8.783856     0       2.89    \n",
       "849 1992-04-23    8      tropicana  8320      9.026418     0       2.89    \n",
       "850 1992-04-30    8      tropicana  30784     10.334750    1       2.16    \n",
       "851 1992-05-07    8      tropicana  18048     9.800790     0       2.89    \n",
       "\n",
       "        Age60   COLLEGE    INCOME  Hincome150  Large HH  Minorities  \\\n",
       "847  0.252394  0.095173  10.59701  0.054227    0.13175   0.035243     \n",
       "848  0.252394  0.095173  10.59701  0.054227    0.13175   0.035243     \n",
       "849  0.252394  0.095173  10.59701  0.054227    0.13175   0.035243     \n",
       "850  0.252394  0.095173  10.59701  0.054227    0.13175   0.035243     \n",
       "851  0.252394  0.095173  10.59701  0.054227    0.13175   0.035243     \n",
       "\n",
       "     WorkingWoman  SSTRDIST  SSTRVOL   CPDIST5   CPWVOL5  \n",
       "847  0.283075      2.636333  1.5      2.905384  0.641016  \n",
       "848  0.283075      2.636333  1.5      2.905384  0.641016  \n",
       "849  0.283075      2.636333  1.5      2.905384  0.641016  \n",
       "850  0.283075      2.636333  1.5      2.905384  0.641016  \n",
       "851  0.283075      2.636333  1.5      2.905384  0.641016  "
      ]
     },
     "execution_count": 13,
     "metadata": {},
     "output_type": "execute_result"
    }
   ],
   "source": [
    "train_dataset.to_pandas_dataframe().tail()"
   ]
  },
  {
   "cell_type": "markdown",
   "metadata": {},
   "source": [
    "## Modeling\n",
    "\n",
    "For forecasting tasks, AutoML uses pre-processing and estimation steps that are specific to time-series. AutoML will undertake the following pre-processing steps:\n",
    "* Detect time-series sample frequency (e.g. hourly, daily, weekly) and create new records for absent time points to make the series regular. A regular time series has a well-defined frequency and has a value at every sample point in a contiguous time span \n",
    "* Impute missing values in the target (via forward-fill) and feature columns (using median column values) \n",
    "* Create grain-based features to enable fixed effects across different series\n",
    "* Create time-based features to assist in learning seasonal patterns\n",
    "* Encode categorical variables to numeric quantities\n",
    "\n",
    "In this notebook, AutoML will train a single, regression-type model across **all** time-series in a given training set. This allows the model to generalize across related series. If you're looking for training multiple models for different time-series, please check out the forecasting grouping notebook. \n",
    "\n",
    "You are almost ready to start an AutoML training job. First, we need to separate the target column from the rest of the DataFrame: "
   ]
  },
  {
   "cell_type": "code",
   "execution_count": 14,
   "metadata": {},
   "outputs": [],
   "source": [
    "target_column_name = 'Quantity'"
   ]
  },
  {
   "cell_type": "markdown",
   "metadata": {},
   "source": [
    "## Customization\n",
    "\n",
    "The featurization customization in forecasting is an advanced feature in AutoML which allows our customers to change the default forecasting featurization behaviors and column types through `FeaturizationConfig`. The supported scenarios include,\n",
    "1. Column purposes update: Override feature type for the specified column. Currently supports DateTime, Categorical and Numeric. This customization can be used in the scenario that the type of the column cannot correctly reflect its purpose. Some numerical columns, for instance, can be treated as Categorical columns which need to be converted to categorical while some can be treated as epoch timestamp which need to be converted to datetime. To tell our SDK to correctly preprocess these columns, a configuration need to be add with the columns and their desired types.\n",
    "2. Transformer parameters update: Currently supports parameter change for Imputer only. User can customize imputation methods, the supported methods are constant for target data and mean, median, most frequent and constant for training data. This customization can be used for the scenario that our customers know which imputation methods fit best to the input data. For instance, some datasets use NaN to represent 0 which the correct behavior should impute all the missing value with 0. To achieve this behavior, these columns need to be configured as constant imputation with `fill_value` 0.\n",
    "3. Drop columns: Columns to drop from being featurized. These usually are the columns which are leaky or the columns contain no useful data.\n",
    "\n",
    "This step requires an Enterprise workspace to gain access to this feature. To learn more about creating an Enterprise workspace or upgrading to an Enterprise workspace from the Azure portal, please visit our [Workspace page.](https://docs.microsoft.com/azure/machine-learning/service/concept-workspace#upgrade)"
   ]
  },
  {
   "cell_type": "code",
   "execution_count": 15,
   "metadata": {
    "tags": [
     "sample-featurizationconfig-remarks"
    ]
   },
   "outputs": [],
   "source": [
    "featurization_config = FeaturizationConfig()\n",
    "featurization_config.drop_columns = ['logQuantity']  # 'logQuantity' is a leaky feature, so we remove it.\n",
    "# Force the CPWVOL5 feature to be numeric type.\n",
    "featurization_config.add_column_purpose('CPWVOL5', 'Numeric')\n",
    "# Fill missing values in the target column, Quantity, with zeros.\n",
    "featurization_config.add_transformer_params('Imputer', ['Quantity'], {\"strategy\": \"constant\", \"fill_value\": 0})\n",
    "# Fill missing values in the INCOME column with median value.\n",
    "featurization_config.add_transformer_params('Imputer', ['INCOME'], {\"strategy\": \"median\"})"
   ]
  },
  {
   "cell_type": "markdown",
   "metadata": {},
   "source": [
    "## Train\n",
    "\n",
    "The [AutoMLConfig](https://docs.microsoft.com/en-us/python/api/azureml-train-automl-client/azureml.train.automl.automlconfig.automlconfig?view=azure-ml-py) object defines the settings and data for an AutoML training job. Here, we set necessary inputs like the task type, the number of AutoML iterations to try, the training data, and cross-validation parameters.\n",
    "\n",
    "For forecasting tasks, there are some additional parameters that can be set: the name of the column holding the date/time, the grain column names, and the maximum forecast horizon. A time column is required for forecasting, while the grain is optional. If grain columns are not given, AutoML assumes that the whole dataset is a single time-series. We also pass a list of columns to drop prior to modeling. The _logQuantity_ column is completely correlated with the target quantity, so it must be removed to prevent a target leak.\n",
    "\n",
    "The forecast horizon is given in units of the time-series frequency; for instance, the OJ series frequency is weekly, so a horizon of 20 means that a trained model will estimate sales up to 20 weeks beyond the latest date in the training data for each series. In this example, we set the maximum horizon to the number of samples per series in the test set (n_test_periods). Generally, the value of this parameter will be dictated by business needs. For example, a demand planning application that estimates the next month of sales should set the horizon according to suitable planning time-scales. Please see the [energy_demand notebook](https://github.com/Azure/MachineLearningNotebooks/tree/master/how-to-use-azureml/automated-machine-learning/forecasting-energy-demand) for more discussion of forecast horizon.\n",
    "\n",
    "We note here that AutoML can sweep over two types of time-series models:\n",
    "* Models that are trained for each series such as ARIMA and Facebook's Prophet. Note that these models are only available for [Enterprise Edition Workspaces](https://docs.microsoft.com/en-us/azure/machine-learning/how-to-manage-workspace#upgrade).\n",
    "* Models trained across multiple time-series using a regression approach.\n",
    "\n",
    "In the first case, AutoML loops over all time-series in your dataset and trains one model (e.g. AutoArima or Prophet, as the case may be) for each series. This can result in long runtimes to train these models if there are a lot of series in the data. One way to mitigate this problem is to fit models for different series in parallel if you have multiple compute cores available. To enable this behavior, set the `max_cores_per_iteration` parameter in your AutoMLConfig as shown in the example in the next cell. \n",
    "\n",
    "\n",
    "Finally, a note about the cross-validation (CV) procedure for time-series data. AutoML uses out-of-sample error estimates to select a best pipeline/model, so it is important that the CV fold splitting is done correctly. Time-series can violate the basic statistical assumptions of the canonical K-Fold CV strategy, so AutoML implements a [rolling origin validation](https://robjhyndman.com/hyndsight/tscv/) procedure to create CV folds for time-series data. To use this procedure, you just need to specify the desired number of CV folds in the AutoMLConfig object. It is also possible to bypass CV and use your own validation set by setting the *validation_data* parameter of AutoMLConfig.\n",
    "\n",
    "Here is a summary of AutoMLConfig parameters used for training the OJ model:\n",
    "\n",
    "|Property|Description|\n",
    "|-|-|\n",
    "|**task**|forecasting|\n",
    "|**primary_metric**|This is the metric that you want to optimize.<br> Forecasting supports the following primary metrics <br><i>spearman_correlation</i><br><i>normalized_root_mean_squared_error</i><br><i>r2_score</i><br><i>normalized_mean_absolute_error</i>\n",
    "|**experiment_timeout_hours**|Experimentation timeout in hours.|\n",
    "|**enable_early_stopping**|If early stopping is on, training will stop when the primary metric is no longer improving.|\n",
    "|**training_data**|Input dataset, containing both features and label column.|\n",
    "|**label_column_name**|The name of the label column.|\n",
    "|**compute_target**|The remote compute for training.|\n",
    "|**n_cross_validations**|Number of cross-validation folds to use for model/pipeline selection|\n",
    "|**enable_voting_ensemble**|Allow AutoML to create a Voting ensemble of the best performing models|\n",
    "|**enable_stack_ensemble**|Allow AutoML to create a Stack ensemble of the best performing models|\n",
    "|**debug_log**|Log file path for writing debugging information|\n",
    "|**time_column_name**|Name of the datetime column in the input data|\n",
    "|**grain_column_names**|Name(s) of the columns defining individual series in the input data|\n",
    "|**max_horizon**|Maximum desired forecast horizon in units of time-series frequency|\n",
    "|**featurization**| 'auto' / 'off' / FeaturizationConfig Indicator for whether featurization step should be done automatically or not, or whether customized featurization should be used. Setting this enables AutoML to perform featurization on the input to handle *missing data*, and to perform some common *feature extraction*.|\n",
    "|**max_cores_per_iteration**|Maximum number of cores to utilize per iteration. A value of -1 indicates all available cores should be used.|"
   ]
  },
  {
   "cell_type": "code",
   "execution_count": 16,
   "metadata": {},
   "outputs": [],
   "source": [
    "time_series_settings = {\n",
    "    'time_column_name': time_column_name,\n",
    "    'time_series_id_column_names': grain_column_names,\n",
    "    'forecast_horizon': n_test_periods\n",
    "}\n",
    "\n",
    "automl_config = AutoMLConfig(task='forecasting',\n",
    "                             debug_log='automl_oj_sales_errors.log',\n",
    "                             primary_metric='normalized_mean_absolute_error',\n",
    "                             experiment_timeout_hours=0.25,\n",
    "                             training_data=train_dataset,\n",
    "                             label_column_name=target_column_name,\n",
    "                             compute_target=compute_target,\n",
    "                             enable_early_stopping=True,\n",
    "                             featurization=featurization_config,\n",
    "                             n_cross_validations=3,\n",
    "                             verbosity=logging.INFO,\n",
    "                             max_cores_per_iteration=-1,\n",
    "                             **time_series_settings)"
   ]
  },
  {
   "cell_type": "markdown",
   "metadata": {},
   "source": [
    "You can now submit a new training run. Depending on the data and number of iterations this operation may take several minutes.\n",
    "Information from each iteration will be printed to the console."
   ]
  },
  {
   "cell_type": "code",
   "execution_count": 17,
   "metadata": {},
   "outputs": [
    {
     "name": "stderr",
     "output_type": "stream",
     "text": [
      "WARNING - Using different time series parameters in AutoML configs for forecasting tasks will be deprecated, please use ForecastingParameters class instead.\n"
     ]
    },
    {
     "name": "stdout",
     "output_type": "stream",
     "text": [
      "Running on remote or ADB.\n",
      "Running on remote compute: oj-cluster\n",
      "Parent Run ID: AutoML_627c0371-0d6a-4639-8d6f-f268224fc74f\n",
      "\n",
      "Current status: DatasetFeaturization. Beginning to featurize the dataset.\n",
      "Current status: DatasetFeaturizationCompleted. Completed featurizing the CV split.\n",
      "Current status: ModelSelection. Beginning model selection.\n",
      "\n",
      "****************************************************************************************************\n",
      "DATA GUARDRAILS: \n",
      "\n",
      "TYPE:         Frequency detection\n",
      "STATUS:       PASSED\n",
      "DESCRIPTION:  The time series was analyzed, all data points are aligned with detected frequency.\n",
      "              \n",
      "\n",
      "****************************************************************************************************\n",
      "\n",
      "TYPE:         Missing feature values imputation\n",
      "STATUS:       PASSED\n",
      "DESCRIPTION:  No feature missing values were detected in the training data.\n",
      "              Learn more about missing value imputation: https://aka.ms/AutomatedMLFeaturization\n",
      "\n",
      "****************************************************************************************************\n",
      "\n",
      "****************************************************************************************************\n",
      "ITERATION: The iteration being evaluated.\n",
      "PIPELINE: A summary description of the pipeline being evaluated.\n",
      "DURATION: Time taken for the current iteration.\n",
      "METRIC: The result of computing score on the fitted pipeline.\n",
      "BEST: The best observed score thus far.\n",
      "****************************************************************************************************\n",
      "\n",
      " ITERATION   PIPELINE                                       DURATION      METRIC      BEST\n"
     ]
    },
    {
     "name": "stderr",
     "output_type": "stream",
     "text": [
      "WARNING - Using different time series parameters in AutoML configs for forecasting tasks will be deprecated, please use ForecastingParameters class instead.\n",
      "WARNING - Forecasting parameter grain_column_names will be deprecated in the future, please use time_series_id_column_names instead.\n",
      "WARNING - Forecasting parameter max_horizon will be deprecated in the future, please use forecast_horizon instead.\n",
      "WARNING - Forecasting parameter country_or_region will be deprecated in the future, please use holiday_country instead.\n"
     ]
    },
    {
     "name": "stdout",
     "output_type": "stream",
     "text": [
      "Something went wrong while printing the experiment progress but the run is still executing on the compute target. \n",
      "Please check portal for updated status: https://ml.azure.com/experiments/Exemple4-AutoMLForecastSales/runs/AutoML_627c0371-0d6a-4639-8d6f-f268224fc74f?wsid=/subscriptions/70b8f39e-8863-49f7-b6ba-34a80799550c/resourcegroups/workshopAML2020-rg/workspaces/workshopAML2020\n"
     ]
    },
    {
     "data": {
      "text/html": [
       "<table style=\"width:100%\"><tr><th>Experiment</th><th>Id</th><th>Type</th><th>Status</th><th>Details Page</th><th>Docs Page</th></tr><tr><td>Exemple4-AutoMLForecastSales</td><td>AutoML_627c0371-0d6a-4639-8d6f-f268224fc74f</td><td>automl</td><td>Running</td><td><a href=\"https://ml.azure.com/experiments/Exemple4-AutoMLForecastSales/runs/AutoML_627c0371-0d6a-4639-8d6f-f268224fc74f?wsid=/subscriptions/70b8f39e-8863-49f7-b6ba-34a80799550c/resourcegroups/workshopAML2020-rg/workspaces/workshopAML2020\" target=\"_blank\" rel=\"noopener\">Link to Azure Machine Learning studio</a></td><td><a href=\"https://docs.microsoft.com/en-us/python/api/overview/azure/ml/intro?view=azure-ml-py\" target=\"_blank\" rel=\"noopener\">Link to Documentation</a></td></tr></table>"
      ],
      "text/plain": [
       "Run(Experiment: Exemple4-AutoMLForecastSales,\n",
       "Id: AutoML_627c0371-0d6a-4639-8d6f-f268224fc74f,\n",
       "Type: automl,\n",
       "Status: Running)"
      ]
     },
     "execution_count": 17,
     "metadata": {},
     "output_type": "execute_result"
    }
   ],
   "source": [
    "remote_run = experiment.submit(automl_config, show_output=True)\n",
    "remote_run"
   ]
  },
  {
   "cell_type": "code",
   "execution_count": 18,
   "metadata": {},
   "outputs": [
    {
     "data": {
      "text/plain": [
       "{'runId': 'AutoML_627c0371-0d6a-4639-8d6f-f268224fc74f',\n",
       " 'target': 'oj-cluster',\n",
       " 'status': 'Completed',\n",
       " 'startTimeUtc': '2020-07-20T10:40:05.268875Z',\n",
       " 'endTimeUtc': '2020-07-20T10:57:28.69994Z',\n",
       " 'properties': {'num_iterations': '1000',\n",
       "  'training_type': 'TrainFull',\n",
       "  'acquisition_function': 'EI',\n",
       "  'primary_metric': 'normalized_mean_absolute_error',\n",
       "  'train_split': '0',\n",
       "  'acquisition_parameter': '0',\n",
       "  'num_cross_validation': '3',\n",
       "  'target': 'oj-cluster',\n",
       "  'RawAMLSettingsString': \"{'path': '/mnt/batch/tasks/shared/LS_root/mounts/clusters/instance/code/WorkshopAML2020', 'name': 'Exemple4-AutoMLForecastSales', 'subscription_id': '70b8f39e-8863-49f7-b6ba-34a80799550c', 'resource_group': 'workshopAML2020-rg', 'workspace_name': 'workshopAML2020', 'region': 'westeurope', 'compute_target': 'oj-cluster', 'spark_service': None, 'azure_service': 'Microsoft.AzureNotebookVM', '_local_managed_run_id': None, 'iterations': 1000, 'primary_metric': 'normalized_mean_absolute_error', 'task_type': 'regression', 'data_script': None, 'validation_size': 0.0, 'n_cross_validations': 3, 'y_min': None, 'y_max': None, 'num_classes': None, 'featurization': {'_blocked_transformers': None, '_column_purposes': {'CPWVOL5': 'Numeric'}, '_transformer_params': {'Imputer': [(['Quantity'], {'strategy': 'constant', 'fill_value': 0}), (['INCOME'], {'strategy': 'median'})]}, '_drop_columns': ['logQuantity'], '_dataset_language': None}, '_ignore_package_version_incompatibilities': False, 'is_timeseries': True, 'max_cores_per_iteration': -1, 'max_concurrent_iterations': 1, 'iteration_timeout_minutes': None, 'mem_in_mb': None, 'enforce_time_on_windows': False, 'experiment_timeout_minutes': 15, 'experiment_exit_score': None, 'whitelist_models': None, 'blacklist_algos': None, 'supported_models': ['AutoArima', 'ExtremeRandomTrees', 'DecisionTree', 'LightGBM', 'XGBoostRegressor', 'LassoLars', 'ElasticNet', 'Prophet', 'SGD', 'GradientBoosting', 'RandomForest', 'KNN', 'TCNForecaster', 'TensorFlowLinearRegressor', 'TensorFlowDNN'], 'auto_blacklist': True, 'blacklist_samples_reached': False, 'exclude_nan_labels': True, 'verbosity': 20, '_debug_log': 'azureml_automl.log', 'show_warnings': False, 'model_explainability': True, 'service_url': None, 'sdk_url': None, 'sdk_packages': None, 'enable_onnx_compatible_models': False, 'enable_split_onnx_featurizer_estimator_models': False, 'vm_type': 'STANDARD_D2_V2', 'telemetry_verbosity': 20, 'send_telemetry': True, 'enable_dnn': False, 'force_text_dnn': False, 'enable_feature_sweeping': False, 'time_column_name': 'WeekStarting', 'grain_column_names': ['Store', 'Brand'], 'drop_column_names': [], 'max_horizon': 20, 'dropna': False, 'overwrite_columns': True, 'transform_dictionary': {'min': '_automl_target_col', 'max': '_automl_target_col', 'mean': '_automl_target_col'}, 'window_size': None, 'country_or_region': None, 'lags': None, 'feature_lags': None, 'seasonality': -1, 'use_stl': None, 'short_series_handling': True, 'enable_early_stopping': True, 'early_stopping_n_iters': 10, 'metrics': None, 'enable_ensembling': True, 'enable_stack_ensembling': False, 'ensemble_iterations': 15, 'enable_tf': False, 'enable_subsampling': False, 'subsample_seed': None, 'enable_nimbusml': False, 'enable_streaming': False, 'force_streaming': False, 'track_child_runs': True, 'label_column_name': 'Quantity', 'weight_column_name': None, 'cv_split_column_names': None, 'enable_local_managed': False, 'cost_mode': 1, 'lag_length': 0, 'metric_operation': 'minimize', 'preprocess': True, 'scenario': 'SDK-Compatible'}\",\n",
       "  'AMLSettingsJsonString': '{\"path\": \"/mnt/batch/tasks/shared/LS_root/mounts/clusters/instance/code/WorkshopAML2020\", \"name\": \"Exemple4-AutoMLForecastSales\", \"subscription_id\": \"70b8f39e-8863-49f7-b6ba-34a80799550c\", \"resource_group\": \"workshopAML2020-rg\", \"workspace_name\": \"workshopAML2020\", \"region\": \"westeurope\", \"compute_target\": \"oj-cluster\", \"spark_service\": null, \"azure_service\": \"Microsoft.AzureNotebookVM\", \"_local_managed_run_id\": null, \"iterations\": 1000, \"primary_metric\": \"normalized_mean_absolute_error\", \"task_type\": \"regression\", \"data_script\": null, \"validation_size\": 0.0, \"n_cross_validations\": 3, \"y_min\": null, \"y_max\": null, \"num_classes\": null, \"featurization\": {\"_blocked_transformers\": null, \"_column_purposes\": {\"CPWVOL5\": \"Numeric\"}, \"_transformer_params\": {\"Imputer\": [[[\"Quantity\"], {\"strategy\": \"constant\", \"fill_value\": 0}], [[\"INCOME\"], {\"strategy\": \"median\"}]]}, \"_drop_columns\": [\"logQuantity\"], \"_dataset_language\": null}, \"_ignore_package_version_incompatibilities\": false, \"is_timeseries\": true, \"max_cores_per_iteration\": -1, \"max_concurrent_iterations\": 1, \"iteration_timeout_minutes\": null, \"mem_in_mb\": null, \"enforce_time_on_windows\": false, \"experiment_timeout_minutes\": 15, \"experiment_exit_score\": null, \"whitelist_models\": null, \"blacklist_algos\": null, \"supported_models\": [\"AutoArima\", \"ExtremeRandomTrees\", \"DecisionTree\", \"LightGBM\", \"XGBoostRegressor\", \"LassoLars\", \"ElasticNet\", \"Prophet\", \"SGD\", \"GradientBoosting\", \"RandomForest\", \"KNN\", \"TCNForecaster\", \"TensorFlowLinearRegressor\", \"TensorFlowDNN\"], \"auto_blacklist\": true, \"blacklist_samples_reached\": false, \"exclude_nan_labels\": true, \"verbosity\": 20, \"_debug_log\": \"azureml_automl.log\", \"show_warnings\": false, \"model_explainability\": true, \"service_url\": null, \"sdk_url\": null, \"sdk_packages\": null, \"enable_onnx_compatible_models\": false, \"enable_split_onnx_featurizer_estimator_models\": false, \"vm_type\": \"STANDARD_D2_V2\", \"telemetry_verbosity\": 20, \"send_telemetry\": true, \"enable_dnn\": false, \"force_text_dnn\": false, \"enable_feature_sweeping\": false, \"time_column_name\": \"WeekStarting\", \"grain_column_names\": [\"Store\", \"Brand\"], \"drop_column_names\": [], \"max_horizon\": 20, \"dropna\": false, \"overwrite_columns\": true, \"transform_dictionary\": {\"min\": \"_automl_target_col\", \"max\": \"_automl_target_col\", \"mean\": \"_automl_target_col\"}, \"window_size\": null, \"country_or_region\": null, \"lags\": null, \"feature_lags\": null, \"seasonality\": -1, \"use_stl\": null, \"short_series_handling\": true, \"enable_early_stopping\": true, \"early_stopping_n_iters\": 10, \"metrics\": null, \"enable_ensembling\": true, \"enable_stack_ensembling\": false, \"ensemble_iterations\": 15, \"enable_tf\": false, \"enable_subsampling\": false, \"subsample_seed\": null, \"enable_nimbusml\": false, \"enable_streaming\": false, \"force_streaming\": false, \"track_child_runs\": true, \"label_column_name\": \"Quantity\", \"weight_column_name\": null, \"cv_split_column_names\": null, \"enable_local_managed\": false, \"cost_mode\": 1, \"lag_length\": 0, \"metric_operation\": \"minimize\", \"preprocess\": true, \"scenario\": \"SDK-Compatible\"}',\n",
       "  'DataPrepJsonString': '{\\\\\"training_data\\\\\": \\\\\"{\\\\\\\\\\\\\"blocks\\\\\\\\\\\\\": [{\\\\\\\\\\\\\"id\\\\\\\\\\\\\": \\\\\\\\\\\\\"8caffdd8-473f-4a59-b222-57d7dfaca5b0\\\\\\\\\\\\\", \\\\\\\\\\\\\"type\\\\\\\\\\\\\": \\\\\\\\\\\\\"Microsoft.DPrep.GetDatastoreFilesBlock\\\\\\\\\\\\\", \\\\\\\\\\\\\"arguments\\\\\\\\\\\\\": {\\\\\\\\\\\\\"datastores\\\\\\\\\\\\\": [{\\\\\\\\\\\\\"datastoreName\\\\\\\\\\\\\": \\\\\\\\\\\\\"workspaceblobstore\\\\\\\\\\\\\", \\\\\\\\\\\\\"path\\\\\\\\\\\\\": \\\\\\\\\\\\\"dataset/dominicks_OJ_train.csv\\\\\\\\\\\\\", \\\\\\\\\\\\\"resourceGroup\\\\\\\\\\\\\": \\\\\\\\\\\\\"workshopAML2020-rg\\\\\\\\\\\\\", \\\\\\\\\\\\\"subscription\\\\\\\\\\\\\": \\\\\\\\\\\\\"70b8f39e-8863-49f7-b6ba-34a80799550c\\\\\\\\\\\\\", \\\\\\\\\\\\\"workspaceName\\\\\\\\\\\\\": \\\\\\\\\\\\\"workshopAML2020\\\\\\\\\\\\\"}]}, \\\\\\\\\\\\\"localData\\\\\\\\\\\\\": {}, \\\\\\\\\\\\\"isEnabled\\\\\\\\\\\\\": true, \\\\\\\\\\\\\"name\\\\\\\\\\\\\": null, \\\\\\\\\\\\\"annotation\\\\\\\\\\\\\": null}, {\\\\\\\\\\\\\"id\\\\\\\\\\\\\": \\\\\\\\\\\\\"cd3d94ca-1777-4303-8c76-f45992d3bed2\\\\\\\\\\\\\", \\\\\\\\\\\\\"type\\\\\\\\\\\\\": \\\\\\\\\\\\\"Microsoft.DPrep.ParseDelimitedBlock\\\\\\\\\\\\\", \\\\\\\\\\\\\"arguments\\\\\\\\\\\\\": {\\\\\\\\\\\\\"columnHeadersMode\\\\\\\\\\\\\": 3, \\\\\\\\\\\\\"fileEncoding\\\\\\\\\\\\\": 0, \\\\\\\\\\\\\"handleQuotedLineBreaks\\\\\\\\\\\\\": false, \\\\\\\\\\\\\"preview\\\\\\\\\\\\\": false, \\\\\\\\\\\\\"separator\\\\\\\\\\\\\": \\\\\\\\\\\\\",\\\\\\\\\\\\\", \\\\\\\\\\\\\"skipRows\\\\\\\\\\\\\": 0, \\\\\\\\\\\\\"skipRowsMode\\\\\\\\\\\\\": 0}, \\\\\\\\\\\\\"localData\\\\\\\\\\\\\": {}, \\\\\\\\\\\\\"isEnabled\\\\\\\\\\\\\": true, \\\\\\\\\\\\\"name\\\\\\\\\\\\\": null, \\\\\\\\\\\\\"annotation\\\\\\\\\\\\\": null}, {\\\\\\\\\\\\\"id\\\\\\\\\\\\\": \\\\\\\\\\\\\"3b456417-fa61-4e18-87c8-fca06ab4becb\\\\\\\\\\\\\", \\\\\\\\\\\\\"type\\\\\\\\\\\\\": \\\\\\\\\\\\\"Microsoft.DPrep.DropColumnsBlock\\\\\\\\\\\\\", \\\\\\\\\\\\\"arguments\\\\\\\\\\\\\": {\\\\\\\\\\\\\"columns\\\\\\\\\\\\\": {\\\\\\\\\\\\\"type\\\\\\\\\\\\\": 0, \\\\\\\\\\\\\"details\\\\\\\\\\\\\": {\\\\\\\\\\\\\"selectedColumns\\\\\\\\\\\\\": [\\\\\\\\\\\\\"Path\\\\\\\\\\\\\"]}}}, \\\\\\\\\\\\\"localData\\\\\\\\\\\\\": {}, \\\\\\\\\\\\\"isEnabled\\\\\\\\\\\\\": true, \\\\\\\\\\\\\"name\\\\\\\\\\\\\": null, \\\\\\\\\\\\\"annotation\\\\\\\\\\\\\": null}, {\\\\\\\\\\\\\"id\\\\\\\\\\\\\": \\\\\\\\\\\\\"b14f6a25-e9f5-4a27-af28-aaf46f80f64a\\\\\\\\\\\\\", \\\\\\\\\\\\\"type\\\\\\\\\\\\\": \\\\\\\\\\\\\"Microsoft.DPrep.SetColumnTypesBlock\\\\\\\\\\\\\", \\\\\\\\\\\\\"arguments\\\\\\\\\\\\\": {\\\\\\\\\\\\\"columnConversion\\\\\\\\\\\\\": [{\\\\\\\\\\\\\"column\\\\\\\\\\\\\": {\\\\\\\\\\\\\"type\\\\\\\\\\\\\": 2, \\\\\\\\\\\\\"details\\\\\\\\\\\\\": {\\\\\\\\\\\\\"selectedColumn\\\\\\\\\\\\\": \\\\\\\\\\\\\"WeekStarting\\\\\\\\\\\\\"}}, \\\\\\\\\\\\\"typeArguments\\\\\\\\\\\\\": {\\\\\\\\\\\\\"dateTimeFormats\\\\\\\\\\\\\": [\\\\\\\\\\\\\"%Y-%m-%d\\\\\\\\\\\\\"]}, \\\\\\\\\\\\\"typeProperty\\\\\\\\\\\\\": 4}, {\\\\\\\\\\\\\"column\\\\\\\\\\\\\": {\\\\\\\\\\\\\"type\\\\\\\\\\\\\": 2, \\\\\\\\\\\\\"details\\\\\\\\\\\\\": {\\\\\\\\\\\\\"selectedColumn\\\\\\\\\\\\\": \\\\\\\\\\\\\"Store\\\\\\\\\\\\\"}}, \\\\\\\\\\\\\"typeProperty\\\\\\\\\\\\\": 2}, {\\\\\\\\\\\\\"column\\\\\\\\\\\\\": {\\\\\\\\\\\\\"type\\\\\\\\\\\\\": 2, \\\\\\\\\\\\\"details\\\\\\\\\\\\\": {\\\\\\\\\\\\\"selectedColumn\\\\\\\\\\\\\": \\\\\\\\\\\\\"Brand\\\\\\\\\\\\\"}}, \\\\\\\\\\\\\"typeProperty\\\\\\\\\\\\\": 0}, {\\\\\\\\\\\\\"column\\\\\\\\\\\\\": {\\\\\\\\\\\\\"type\\\\\\\\\\\\\": 2, \\\\\\\\\\\\\"details\\\\\\\\\\\\\": {\\\\\\\\\\\\\"selectedColumn\\\\\\\\\\\\\": \\\\\\\\\\\\\"Quantity\\\\\\\\\\\\\"}}, \\\\\\\\\\\\\"typeProperty\\\\\\\\\\\\\": 2}, {\\\\\\\\\\\\\"column\\\\\\\\\\\\\": {\\\\\\\\\\\\\"type\\\\\\\\\\\\\": 2, \\\\\\\\\\\\\"details\\\\\\\\\\\\\": {\\\\\\\\\\\\\"selectedColumn\\\\\\\\\\\\\": \\\\\\\\\\\\\"logQuantity\\\\\\\\\\\\\"}}, \\\\\\\\\\\\\"typeProperty\\\\\\\\\\\\\": 3}, {\\\\\\\\\\\\\"column\\\\\\\\\\\\\": {\\\\\\\\\\\\\"type\\\\\\\\\\\\\": 2, \\\\\\\\\\\\\"details\\\\\\\\\\\\\": {\\\\\\\\\\\\\"selectedColumn\\\\\\\\\\\\\": \\\\\\\\\\\\\"Advert\\\\\\\\\\\\\"}}, \\\\\\\\\\\\\"typeProperty\\\\\\\\\\\\\": 2}, {\\\\\\\\\\\\\"column\\\\\\\\\\\\\": {\\\\\\\\\\\\\"type\\\\\\\\\\\\\": 2, \\\\\\\\\\\\\"details\\\\\\\\\\\\\": {\\\\\\\\\\\\\"selectedColumn\\\\\\\\\\\\\": \\\\\\\\\\\\\"Price\\\\\\\\\\\\\"}}, \\\\\\\\\\\\\"typeProperty\\\\\\\\\\\\\": 3}, {\\\\\\\\\\\\\"column\\\\\\\\\\\\\": {\\\\\\\\\\\\\"type\\\\\\\\\\\\\": 2, \\\\\\\\\\\\\"details\\\\\\\\\\\\\": {\\\\\\\\\\\\\"selectedColumn\\\\\\\\\\\\\": \\\\\\\\\\\\\"Age60\\\\\\\\\\\\\"}}, \\\\\\\\\\\\\"typeProperty\\\\\\\\\\\\\": 3}, {\\\\\\\\\\\\\"column\\\\\\\\\\\\\": {\\\\\\\\\\\\\"type\\\\\\\\\\\\\": 2, \\\\\\\\\\\\\"details\\\\\\\\\\\\\": {\\\\\\\\\\\\\"selectedColumn\\\\\\\\\\\\\": \\\\\\\\\\\\\"COLLEGE\\\\\\\\\\\\\"}}, \\\\\\\\\\\\\"typeProperty\\\\\\\\\\\\\": 3}, {\\\\\\\\\\\\\"column\\\\\\\\\\\\\": {\\\\\\\\\\\\\"type\\\\\\\\\\\\\": 2, \\\\\\\\\\\\\"details\\\\\\\\\\\\\": {\\\\\\\\\\\\\"selectedColumn\\\\\\\\\\\\\": \\\\\\\\\\\\\"INCOME\\\\\\\\\\\\\"}}, \\\\\\\\\\\\\"typeProperty\\\\\\\\\\\\\": 3}, {\\\\\\\\\\\\\"column\\\\\\\\\\\\\": {\\\\\\\\\\\\\"type\\\\\\\\\\\\\": 2, \\\\\\\\\\\\\"details\\\\\\\\\\\\\": {\\\\\\\\\\\\\"selectedColumn\\\\\\\\\\\\\": \\\\\\\\\\\\\"Hincome150\\\\\\\\\\\\\"}}, \\\\\\\\\\\\\"typeProperty\\\\\\\\\\\\\": 3}, {\\\\\\\\\\\\\"column\\\\\\\\\\\\\": {\\\\\\\\\\\\\"type\\\\\\\\\\\\\": 2, \\\\\\\\\\\\\"details\\\\\\\\\\\\\": {\\\\\\\\\\\\\"selectedColumn\\\\\\\\\\\\\": \\\\\\\\\\\\\"Large HH\\\\\\\\\\\\\"}}, \\\\\\\\\\\\\"typeProperty\\\\\\\\\\\\\": 3}, {\\\\\\\\\\\\\"column\\\\\\\\\\\\\": {\\\\\\\\\\\\\"type\\\\\\\\\\\\\": 2, \\\\\\\\\\\\\"details\\\\\\\\\\\\\": {\\\\\\\\\\\\\"selectedColumn\\\\\\\\\\\\\": \\\\\\\\\\\\\"Minorities\\\\\\\\\\\\\"}}, \\\\\\\\\\\\\"typeProperty\\\\\\\\\\\\\": 3}, {\\\\\\\\\\\\\"column\\\\\\\\\\\\\": {\\\\\\\\\\\\\"type\\\\\\\\\\\\\": 2, \\\\\\\\\\\\\"details\\\\\\\\\\\\\": {\\\\\\\\\\\\\"selectedColumn\\\\\\\\\\\\\": \\\\\\\\\\\\\"WorkingWoman\\\\\\\\\\\\\"}}, \\\\\\\\\\\\\"typeProperty\\\\\\\\\\\\\": 3}, {\\\\\\\\\\\\\"column\\\\\\\\\\\\\": {\\\\\\\\\\\\\"type\\\\\\\\\\\\\": 2, \\\\\\\\\\\\\"details\\\\\\\\\\\\\": {\\\\\\\\\\\\\"selectedColumn\\\\\\\\\\\\\": \\\\\\\\\\\\\"SSTRDIST\\\\\\\\\\\\\"}}, \\\\\\\\\\\\\"typeProperty\\\\\\\\\\\\\": 3}, {\\\\\\\\\\\\\"column\\\\\\\\\\\\\": {\\\\\\\\\\\\\"type\\\\\\\\\\\\\": 2, \\\\\\\\\\\\\"details\\\\\\\\\\\\\": {\\\\\\\\\\\\\"selectedColumn\\\\\\\\\\\\\": \\\\\\\\\\\\\"SSTRVOL\\\\\\\\\\\\\"}}, \\\\\\\\\\\\\"typeProperty\\\\\\\\\\\\\": 3}, {\\\\\\\\\\\\\"column\\\\\\\\\\\\\": {\\\\\\\\\\\\\"type\\\\\\\\\\\\\": 2, \\\\\\\\\\\\\"details\\\\\\\\\\\\\": {\\\\\\\\\\\\\"selectedColumn\\\\\\\\\\\\\": \\\\\\\\\\\\\"CPDIST5\\\\\\\\\\\\\"}}, \\\\\\\\\\\\\"typeProperty\\\\\\\\\\\\\": 3}, {\\\\\\\\\\\\\"column\\\\\\\\\\\\\": {\\\\\\\\\\\\\"type\\\\\\\\\\\\\": 2, \\\\\\\\\\\\\"details\\\\\\\\\\\\\": {\\\\\\\\\\\\\"selectedColumn\\\\\\\\\\\\\": \\\\\\\\\\\\\"CPWVOL5\\\\\\\\\\\\\"}}, \\\\\\\\\\\\\"typeProperty\\\\\\\\\\\\\": 3}]}, \\\\\\\\\\\\\"localData\\\\\\\\\\\\\": {}, \\\\\\\\\\\\\"isEnabled\\\\\\\\\\\\\": true, \\\\\\\\\\\\\"name\\\\\\\\\\\\\": null, \\\\\\\\\\\\\"annotation\\\\\\\\\\\\\": null}], \\\\\\\\\\\\\"inspectors\\\\\\\\\\\\\": [], \\\\\\\\\\\\\"meta\\\\\\\\\\\\\": {\\\\\\\\\\\\\"savedDatasetId\\\\\\\\\\\\\": \\\\\\\\\\\\\"4ed8973e-6e56-48fc-bdeb-e4c100bc5a70\\\\\\\\\\\\\", \\\\\\\\\\\\\"datasetType\\\\\\\\\\\\\": \\\\\\\\\\\\\"tabular\\\\\\\\\\\\\", \\\\\\\\\\\\\"subscriptionId\\\\\\\\\\\\\": \\\\\\\\\\\\\"70b8f39e-8863-49f7-b6ba-34a80799550c\\\\\\\\\\\\\", \\\\\\\\\\\\\"workspaceId\\\\\\\\\\\\\": \\\\\\\\\\\\\"1696467d-5136-4ed9-9f78-4c69eaff7896\\\\\\\\\\\\\", \\\\\\\\\\\\\"workspaceLocation\\\\\\\\\\\\\": \\\\\\\\\\\\\"westeurope\\\\\\\\\\\\\"}}\\\\\", \\\\\"activities\\\\\": 0}',\n",
       "  'EnableSubsampling': 'False',\n",
       "  'runTemplate': 'AutoML',\n",
       "  'azureml.runsource': 'automl',\n",
       "  'display_task_type': 'forecasting',\n",
       "  'dependencies_versions': '{\"azureml-widgets\": \"1.9.0\", \"azureml-train\": \"1.9.0\", \"azureml-train-restclients-hyperdrive\": \"1.9.0\", \"azureml-train-core\": \"1.9.0\", \"azureml-train-automl\": \"1.9.0\", \"azureml-train-automl-runtime\": \"1.9.0\", \"azureml-train-automl-client\": \"1.9.0\", \"azureml-tensorboard\": \"1.9.0\", \"azureml-telemetry\": \"1.9.0\", \"azureml-sdk\": \"1.9.0\", \"azureml-samples\": \"0+unknown\", \"azureml-pipeline\": \"1.9.0\", \"azureml-pipeline-steps\": \"1.9.0\", \"azureml-pipeline-core\": \"1.9.0\", \"azureml-opendatasets\": \"1.6.0\", \"azureml-monitoring\": \"0.1.0a18\", \"azureml-model-management-sdk\": \"1.0.1b6.post1\", \"azureml-mlflow\": \"1.6.0\", \"azureml-interpret\": \"1.9.0\", \"azureml-explain-model\": \"1.9.0\", \"azureml-defaults\": \"1.9.0\", \"azureml-dataprep\": \"1.9.1\", \"azureml-dataprep-native\": \"14.2.1\", \"azureml-datadrift\": \"1.6.0\", \"azureml-core\": \"1.9.0\", \"azureml-contrib-services\": \"1.9.0\", \"azureml-contrib-server\": \"1.9.0\", \"azureml-contrib-reinforcementlearning\": \"1.6.0\", \"azureml-contrib-pipeline-steps\": \"1.9.0\", \"azureml-contrib-notebook\": \"1.9.0\", \"azureml-contrib-interpret\": \"1.6.0\", \"azureml-contrib-gbdt\": \"1.6.0\", \"azureml-contrib-fairness\": \"1.9.0\", \"azureml-contrib-dataset\": \"1.6.0\", \"azureml-cli-common\": \"1.6.0\", \"azureml-automl-runtime\": \"1.9.0\", \"azureml-automl-core\": \"1.9.0\", \"azureml-accel-models\": \"1.6.0\"}',\n",
       "  'ClientSdkVersion': '1.9.0',\n",
       "  'ClientType': 'SDK',\n",
       "  'environment_cpu_name': 'AzureML-AutoML',\n",
       "  'environment_cpu_version': '27',\n",
       "  'environment_gpu_name': 'AzureML-AutoML-GPU',\n",
       "  'environment_gpu_version': '16',\n",
       "  'root_attribution': 'automl',\n",
       "  'attribution': 'AutoML',\n",
       "  'CancelUri': 'https://westeurope.experiments.azureml.net/jasmine/v1.0/subscriptions/70b8f39e-8863-49f7-b6ba-34a80799550c/resourceGroups/workshopAML2020-rg/providers/Microsoft.MachineLearningServices/workspaces/workshopAML2020/experiment/Exemple4-AutoMLForecastSales/cancel/AutoML_627c0371-0d6a-4639-8d6f-f268224fc74f',\n",
       "  'Orchestrator': 'AutoML',\n",
       "  'ContentSnapshotId': 'd0ce1eeb-0c90-4f9e-ac22-0b7f555d4c7a',\n",
       "  'SetupRunId': 'AutoML_627c0371-0d6a-4639-8d6f-f268224fc74f_setup',\n",
       "  'SetupRunContainerId': 'dcid.AutoML_627c0371-0d6a-4639-8d6f-f268224fc74f_setup',\n",
       "  'forecasting_target_lags': '[0]',\n",
       "  'forecasting_target_rolling_window_size': '0',\n",
       "  'forecasting_max_horizon': '20',\n",
       "  'ProblemInfoJsonString': '{\"dataset_num_categorical\": 0, \"is_sparse\": false, \"subsampling\": false, \"dataset_classes\": 401, \"dataset_features\": 34, \"dataset_samples\": 852, \"single_frequency_class_detected\": false}',\n",
       "  'azureml.git.repository_uri': 'https://github.com/retkowsky/WorkshopAML2020',\n",
       "  'mlflow.source.git.repoURL': 'https://github.com/retkowsky/WorkshopAML2020',\n",
       "  'azureml.git.branch': 'master',\n",
       "  'mlflow.source.git.branch': 'master',\n",
       "  'azureml.git.commit': 'eb05ad565a41b5121d26c6fda4b1c6398a9243d7',\n",
       "  'mlflow.source.git.commit': 'eb05ad565a41b5121d26c6fda4b1c6398a9243d7',\n",
       "  'azureml.git.dirty': 'True',\n",
       "  'ModelExplainRunId': 'AutoML_627c0371-0d6a-4639-8d6f-f268224fc74f_ModelExplain'},\n",
       " 'inputDatasets': [{'dataset': {'id': '4ed8973e-6e56-48fc-bdeb-e4c100bc5a70'}, 'consumptionDetails': {'type': 'RunInput', 'inputName': 'training_data', 'mechanism': 'Direct'}}],\n",
       " 'logFiles': {}}"
      ]
     },
     "execution_count": 18,
     "metadata": {},
     "output_type": "execute_result"
    }
   ],
   "source": [
    "remote_run.wait_for_completion()"
   ]
  },
  {
   "cell_type": "markdown",
   "metadata": {},
   "source": [
    "### Retrieve the Best Model\n",
    "Each run within an Experiment stores serialized (i.e. pickled) pipelines from the AutoML iterations. We can now retrieve the pipeline with the best performance on the validation dataset:"
   ]
  },
  {
   "cell_type": "code",
   "execution_count": 19,
   "metadata": {},
   "outputs": [
    {
     "name": "stderr",
     "output_type": "stream",
     "text": [
      "WARNING - Using different time series parameters in AutoML configs for forecasting tasks will be deprecated, please use ForecastingParameters class instead.\n",
      "WARNING - Forecasting parameter grain_column_names will be deprecated in the future, please use time_series_id_column_names instead.\n",
      "WARNING - Forecasting parameter max_horizon will be deprecated in the future, please use forecast_horizon instead.\n",
      "WARNING - Forecasting parameter country_or_region will be deprecated in the future, please use holiday_country instead.\n",
      "WARNING - Using different time series parameters in AutoML configs for forecasting tasks will be deprecated, please use ForecastingParameters class instead.\n",
      "WARNING - Forecasting parameter grain_column_names will be deprecated in the future, please use time_series_id_column_names instead.\n",
      "WARNING - Forecasting parameter max_horizon will be deprecated in the future, please use forecast_horizon instead.\n",
      "WARNING - Forecasting parameter country_or_region will be deprecated in the future, please use holiday_country instead.\n"
     ]
    },
    {
     "name": "stdout",
     "output_type": "stream",
     "text": [
      "[('timeseriestransformer', TimeSeriesTransformer(featurization_config=None,\n",
      "           pipeline_type=<TimeSeriesPipelineType.FULL: 1>)), ('prefittedsoftvotingregressor', PreFittedSoftVotingRegressor(estimators=[('3', Pipeline(memory=None,\n",
      "     steps=[('minmaxscaler', MinMaxScaler(copy=True, feature_range=(0, 1))), ('decisiontreeregressor', DecisionTreeRegressor(criterion='mse', max_depth=None, max_features=0.6,\n",
      "           max_leaf_nodes=None, min_impurity_decrease=0.0,\n",
      "           min_impurity_s...toarima', <azureml.automl.runtime.shared.forecasting_models.AutoArima object at 0x7f106a1ad668>)]))],\n",
      "               flatten_transform=None, weights=[0.2, 0.3, 0.2, 0.2, 0.1]))]\n"
     ]
    }
   ],
   "source": [
    "best_run, fitted_model = remote_run.get_output()\n",
    "print(fitted_model.steps)\n",
    "model_name = best_run.properties['model_name']"
   ]
  },
  {
   "cell_type": "markdown",
   "metadata": {},
   "source": [
    "## Transparency\n",
    "\n",
    "View updated featurization summary"
   ]
  },
  {
   "cell_type": "code",
   "execution_count": 20,
   "metadata": {},
   "outputs": [],
   "source": [
    "custom_featurizer = fitted_model.named_steps['timeseriestransformer']"
   ]
  },
  {
   "cell_type": "code",
   "execution_count": 21,
   "metadata": {},
   "outputs": [
    {
     "data": {
      "text/plain": [
       "[{'RawFeatureName': 'Advert',\n",
       "  'TypeDetected': 'Numeric',\n",
       "  'Dropped': 'No',\n",
       "  'EngineeredFeatureCount': 2,\n",
       "  'Transformations': ['MedianImputer', 'ImputationMarker']},\n",
       " {'RawFeatureName': 'Price',\n",
       "  'TypeDetected': 'Numeric',\n",
       "  'Dropped': 'No',\n",
       "  'EngineeredFeatureCount': 2,\n",
       "  'Transformations': ['MedianImputer', 'ImputationMarker']},\n",
       " {'RawFeatureName': 'Age60',\n",
       "  'TypeDetected': 'Numeric',\n",
       "  'Dropped': 'No',\n",
       "  'EngineeredFeatureCount': 2,\n",
       "  'Transformations': ['MedianImputer', 'ImputationMarker']},\n",
       " {'RawFeatureName': 'COLLEGE',\n",
       "  'TypeDetected': 'Numeric',\n",
       "  'Dropped': 'No',\n",
       "  'EngineeredFeatureCount': 2,\n",
       "  'Transformations': ['MedianImputer', 'ImputationMarker']},\n",
       " {'RawFeatureName': 'INCOME',\n",
       "  'TypeDetected': 'Numeric',\n",
       "  'Dropped': 'No',\n",
       "  'EngineeredFeatureCount': 2,\n",
       "  'Transformations': ['MedianImputer', 'ImputationMarker']},\n",
       " {'RawFeatureName': 'Hincome150',\n",
       "  'TypeDetected': 'Numeric',\n",
       "  'Dropped': 'No',\n",
       "  'EngineeredFeatureCount': 2,\n",
       "  'Transformations': ['MedianImputer', 'ImputationMarker']},\n",
       " {'RawFeatureName': 'Large HH',\n",
       "  'TypeDetected': 'Numeric',\n",
       "  'Dropped': 'No',\n",
       "  'EngineeredFeatureCount': 2,\n",
       "  'Transformations': ['MedianImputer', 'ImputationMarker']},\n",
       " {'RawFeatureName': 'Minorities',\n",
       "  'TypeDetected': 'Numeric',\n",
       "  'Dropped': 'No',\n",
       "  'EngineeredFeatureCount': 2,\n",
       "  'Transformations': ['MedianImputer', 'ImputationMarker']},\n",
       " {'RawFeatureName': 'WorkingWoman',\n",
       "  'TypeDetected': 'Numeric',\n",
       "  'Dropped': 'No',\n",
       "  'EngineeredFeatureCount': 2,\n",
       "  'Transformations': ['MedianImputer', 'ImputationMarker']},\n",
       " {'RawFeatureName': 'SSTRDIST',\n",
       "  'TypeDetected': 'Numeric',\n",
       "  'Dropped': 'No',\n",
       "  'EngineeredFeatureCount': 2,\n",
       "  'Transformations': ['MedianImputer', 'ImputationMarker']},\n",
       " {'RawFeatureName': 'SSTRVOL',\n",
       "  'TypeDetected': 'Numeric',\n",
       "  'Dropped': 'No',\n",
       "  'EngineeredFeatureCount': 2,\n",
       "  'Transformations': ['MedianImputer', 'ImputationMarker']},\n",
       " {'RawFeatureName': 'CPDIST5',\n",
       "  'TypeDetected': 'Numeric',\n",
       "  'Dropped': 'No',\n",
       "  'EngineeredFeatureCount': 2,\n",
       "  'Transformations': ['MedianImputer', 'ImputationMarker']},\n",
       " {'RawFeatureName': 'CPWVOL5',\n",
       "  'TypeDetected': 'Numeric',\n",
       "  'Dropped': 'No',\n",
       "  'EngineeredFeatureCount': 2,\n",
       "  'Transformations': ['MedianImputer', 'ImputationMarker']},\n",
       " {'RawFeatureName': 'Store',\n",
       "  'TypeDetected': 'Ignore',\n",
       "  'Dropped': 'Yes',\n",
       "  'EngineeredFeatureCount': 1,\n",
       "  'Transformations': ['GrainMarker-LabelEncoder']},\n",
       " {'RawFeatureName': 'Brand',\n",
       "  'TypeDetected': 'Ignore',\n",
       "  'Dropped': 'Yes',\n",
       "  'EngineeredFeatureCount': 1,\n",
       "  'Transformations': ['GrainMarker-LabelEncoder']},\n",
       " {'RawFeatureName': 'WeekStarting',\n",
       "  'TypeDetected': 'DateTime',\n",
       "  'Dropped': 'No',\n",
       "  'EngineeredFeatureCount': 6,\n",
       "  'Transformations': ['DateTimeTransformer',\n",
       "   'DateTimeTransformer',\n",
       "   'DateTimeTransformer',\n",
       "   'DateTimeTransformer',\n",
       "   'DateTimeTransformer',\n",
       "   'DateTimeTransformer']}]"
      ]
     },
     "execution_count": 21,
     "metadata": {},
     "output_type": "execute_result"
    }
   ],
   "source": [
    "custom_featurizer.get_featurization_summary()"
   ]
  },
  {
   "cell_type": "markdown",
   "metadata": {},
   "source": [
    "# Forecasting\n",
    "\n",
    "Now that we have retrieved the best pipeline/model, it can be used to make predictions on test data. First, we remove the target values from the test set:"
   ]
  },
  {
   "cell_type": "code",
   "execution_count": 22,
   "metadata": {},
   "outputs": [],
   "source": [
    "X_test = test\n",
    "y_test = X_test.pop(target_column_name).values"
   ]
  },
  {
   "cell_type": "code",
   "execution_count": 23,
   "metadata": {},
   "outputs": [
    {
     "data": {
      "text/html": [
       "<div>\n",
       "<style scoped>\n",
       "    .dataframe tbody tr th:only-of-type {\n",
       "        vertical-align: middle;\n",
       "    }\n",
       "\n",
       "    .dataframe tbody tr th {\n",
       "        vertical-align: top;\n",
       "    }\n",
       "\n",
       "    .dataframe thead th {\n",
       "        text-align: right;\n",
       "    }\n",
       "</style>\n",
       "<table border=\"1\" class=\"dataframe\">\n",
       "  <thead>\n",
       "    <tr style=\"text-align: right;\">\n",
       "      <th></th>\n",
       "      <th>WeekStarting</th>\n",
       "      <th>Store</th>\n",
       "      <th>Brand</th>\n",
       "      <th>logQuantity</th>\n",
       "      <th>Advert</th>\n",
       "      <th>Price</th>\n",
       "      <th>Age60</th>\n",
       "      <th>COLLEGE</th>\n",
       "      <th>INCOME</th>\n",
       "      <th>Hincome150</th>\n",
       "      <th>Large HH</th>\n",
       "      <th>Minorities</th>\n",
       "      <th>WorkingWoman</th>\n",
       "      <th>SSTRDIST</th>\n",
       "      <th>SSTRVOL</th>\n",
       "      <th>CPDIST5</th>\n",
       "      <th>CPWVOL5</th>\n",
       "    </tr>\n",
       "  </thead>\n",
       "  <tbody>\n",
       "    <tr>\n",
       "      <th>24192</th>\n",
       "      <td>1992-05-21</td>\n",
       "      <td>2</td>\n",
       "      <td>dominicks</td>\n",
       "      <td>9.18</td>\n",
       "      <td>0</td>\n",
       "      <td>1.69</td>\n",
       "      <td>0.23</td>\n",
       "      <td>0.25</td>\n",
       "      <td>10.55</td>\n",
       "      <td>0.46</td>\n",
       "      <td>0.10</td>\n",
       "      <td>0.11</td>\n",
       "      <td>0.30</td>\n",
       "      <td>2.11</td>\n",
       "      <td>1.14</td>\n",
       "      <td>1.93</td>\n",
       "      <td>0.38</td>\n",
       "    </tr>\n",
       "    <tr>\n",
       "      <th>24441</th>\n",
       "      <td>1992-05-28</td>\n",
       "      <td>2</td>\n",
       "      <td>dominicks</td>\n",
       "      <td>10.73</td>\n",
       "      <td>0</td>\n",
       "      <td>1.69</td>\n",
       "      <td>0.23</td>\n",
       "      <td>0.25</td>\n",
       "      <td>10.55</td>\n",
       "      <td>0.46</td>\n",
       "      <td>0.10</td>\n",
       "      <td>0.11</td>\n",
       "      <td>0.30</td>\n",
       "      <td>2.11</td>\n",
       "      <td>1.14</td>\n",
       "      <td>1.93</td>\n",
       "      <td>0.38</td>\n",
       "    </tr>\n",
       "    <tr>\n",
       "      <th>24675</th>\n",
       "      <td>1992-06-04</td>\n",
       "      <td>2</td>\n",
       "      <td>dominicks</td>\n",
       "      <td>9.95</td>\n",
       "      <td>0</td>\n",
       "      <td>1.74</td>\n",
       "      <td>0.23</td>\n",
       "      <td>0.25</td>\n",
       "      <td>10.55</td>\n",
       "      <td>0.46</td>\n",
       "      <td>0.10</td>\n",
       "      <td>0.11</td>\n",
       "      <td>0.30</td>\n",
       "      <td>2.11</td>\n",
       "      <td>1.14</td>\n",
       "      <td>1.93</td>\n",
       "      <td>0.38</td>\n",
       "    </tr>\n",
       "    <tr>\n",
       "      <th>24909</th>\n",
       "      <td>1992-06-11</td>\n",
       "      <td>2</td>\n",
       "      <td>dominicks</td>\n",
       "      <td>8.79</td>\n",
       "      <td>0</td>\n",
       "      <td>2.09</td>\n",
       "      <td>0.23</td>\n",
       "      <td>0.25</td>\n",
       "      <td>10.55</td>\n",
       "      <td>0.46</td>\n",
       "      <td>0.10</td>\n",
       "      <td>0.11</td>\n",
       "      <td>0.30</td>\n",
       "      <td>2.11</td>\n",
       "      <td>1.14</td>\n",
       "      <td>1.93</td>\n",
       "      <td>0.38</td>\n",
       "    </tr>\n",
       "    <tr>\n",
       "      <th>25152</th>\n",
       "      <td>1992-06-18</td>\n",
       "      <td>2</td>\n",
       "      <td>dominicks</td>\n",
       "      <td>8.52</td>\n",
       "      <td>0</td>\n",
       "      <td>2.05</td>\n",
       "      <td>0.23</td>\n",
       "      <td>0.25</td>\n",
       "      <td>10.55</td>\n",
       "      <td>0.46</td>\n",
       "      <td>0.10</td>\n",
       "      <td>0.11</td>\n",
       "      <td>0.30</td>\n",
       "      <td>2.11</td>\n",
       "      <td>1.14</td>\n",
       "      <td>1.93</td>\n",
       "      <td>0.38</td>\n",
       "    </tr>\n",
       "  </tbody>\n",
       "</table>\n",
       "</div>"
      ],
      "text/plain": [
       "      WeekStarting  Store      Brand  logQuantity  Advert  Price  Age60  \\\n",
       "24192 1992-05-21    2      dominicks 9.18          0      1.69   0.23     \n",
       "24441 1992-05-28    2      dominicks 10.73         0      1.69   0.23     \n",
       "24675 1992-06-04    2      dominicks 9.95          0      1.74   0.23     \n",
       "24909 1992-06-11    2      dominicks 8.79          0      2.09   0.23     \n",
       "25152 1992-06-18    2      dominicks 8.52          0      2.05   0.23     \n",
       "\n",
       "       COLLEGE  INCOME  Hincome150  Large HH  Minorities  WorkingWoman  \\\n",
       "24192 0.25     10.55   0.46        0.10      0.11        0.30            \n",
       "24441 0.25     10.55   0.46        0.10      0.11        0.30            \n",
       "24675 0.25     10.55   0.46        0.10      0.11        0.30            \n",
       "24909 0.25     10.55   0.46        0.10      0.11        0.30            \n",
       "25152 0.25     10.55   0.46        0.10      0.11        0.30            \n",
       "\n",
       "       SSTRDIST  SSTRVOL  CPDIST5  CPWVOL5  \n",
       "24192 2.11      1.14     1.93     0.38      \n",
       "24441 2.11      1.14     1.93     0.38      \n",
       "24675 2.11      1.14     1.93     0.38      \n",
       "24909 2.11      1.14     1.93     0.38      \n",
       "25152 2.11      1.14     1.93     0.38      "
      ]
     },
     "execution_count": 23,
     "metadata": {},
     "output_type": "execute_result"
    }
   ],
   "source": [
    "X_test.head()"
   ]
  },
  {
   "cell_type": "markdown",
   "metadata": {},
   "source": [
    "To produce predictions on the test set, we need to know the feature values at all dates in the test set. This requirement is somewhat reasonable for the OJ sales data since the features mainly consist of price, which is usually set in advance, and customer demographics which are approximately constant for each store over the 20 week forecast horizon in the testing data."
   ]
  },
  {
   "cell_type": "code",
   "execution_count": 24,
   "metadata": {},
   "outputs": [],
   "source": [
    "# The featurized data, aligned to y, will also be returned.\n",
    "# This contains the assumptions that were made in the forecast\n",
    "# and helps align the forecast to the original data\n",
    "y_predictions, X_trans = fitted_model.forecast(X_test)"
   ]
  },
  {
   "cell_type": "markdown",
   "metadata": {},
   "source": [
    "If you are used to scikit pipelines, perhaps you expected `predict(X_test)`. However, forecasting requires a more general interface that also supplies the past target `y` values. Please use `forecast(X,y)` as `predict(X)` is reserved for internal purposes on forecasting models.\n",
    "\n",
    "The [forecast function notebook](../forecasting-forecast-function/auto-ml-forecasting-function.ipynb)."
   ]
  },
  {
   "cell_type": "markdown",
   "metadata": {},
   "source": [
    "# Evaluate\n",
    "\n",
    "To evaluate the accuracy of the forecast, we'll compare against the actual sales quantities for some select metrics, included the mean absolute percentage error (MAPE). \n",
    "\n",
    "It is a good practice to always align the output explicitly to the input, as the count and order of the rows may have changed during transformations that span multiple rows."
   ]
  },
  {
   "cell_type": "code",
   "execution_count": 25,
   "metadata": {},
   "outputs": [],
   "source": [
    "from forecasting_helper import align_outputs\n",
    "\n",
    "df_all = align_outputs(y_predictions, X_trans, X_test, y_test, target_column_name)"
   ]
  },
  {
   "cell_type": "code",
   "execution_count": 26,
   "metadata": {},
   "outputs": [
    {
     "name": "stdout",
     "output_type": "stream",
     "text": [
      "[Test data scores]\n",
      "\n",
      "explained_variance:   0.266\n",
      "root_mean_squared_error:   17705.538\n",
      "normalized_mean_absolute_error:   0.076\n",
      "normalized_median_absolute_error:   0.029\n",
      "normalized_root_mean_squared_log_error:   0.159\n",
      "median_absolute_error:   3868.026\n",
      "mean_absolute_error:   10001.847\n",
      "normalized_root_mean_squared_error:   0.134\n",
      "root_mean_squared_log_error:   0.722\n",
      "mean_absolute_percentage_error:   76.252\n",
      "r2_score:   0.259\n",
      "spearman_correlation:   0.654\n"
     ]
    },
    {
     "data": {
      "image/png": "[encoded data removed]",
      "text/plain": [
       "<Figure size 432x288 with 1 Axes>"
      ]
     },
     "metadata": {
      "needs_background": "light"
     },
     "output_type": "display_data"
    }
   ],
   "source": [
    "from azureml.automl.core.shared import constants\n",
    "from azureml.automl.runtime.shared.score import scoring\n",
    "from matplotlib import pyplot as plt\n",
    "\n",
    "# use automl scoring module\n",
    "scores = scoring.score_regression(\n",
    "    y_test=df_all[target_column_name],\n",
    "    y_pred=df_all['predicted'],\n",
    "    metrics=list(constants.Metric.SCALAR_REGRESSION_SET))\n",
    "\n",
    "print(\"[Test data scores]\\n\")\n",
    "for key, value in scores.items():    \n",
    "    print('{}:   {:.3f}'.format(key, value))\n",
    "    \n",
    "# Plot outputs\n",
    "%matplotlib inline\n",
    "test_pred = plt.scatter(df_all[target_column_name], df_all['predicted'], color='b')\n",
    "test_test = plt.scatter(df_all[target_column_name], df_all[target_column_name], color='g')\n",
    "plt.legend((test_pred, test_test), ('prediction', 'truth'), loc='upper left', fontsize=8)\n",
    "plt.show()"
   ]
  },
  {
   "cell_type": "markdown",
   "metadata": {},
   "source": [
    "# Operationalize"
   ]
  },
  {
   "cell_type": "markdown",
   "metadata": {},
   "source": [
    "_Operationalization_ means getting the model into the cloud so that other can run it after you close the notebook. We will create a docker running on Azure Container Instances with the model."
   ]
  },
  {
   "cell_type": "code",
   "execution_count": 27,
   "metadata": {},
   "outputs": [
    {
     "name": "stderr",
     "output_type": "stream",
     "text": [
      "WARNING - Using different time series parameters in AutoML configs for forecasting tasks will be deprecated, please use ForecastingParameters class instead.\n",
      "WARNING - Forecasting parameter grain_column_names will be deprecated in the future, please use time_series_id_column_names instead.\n",
      "WARNING - Forecasting parameter max_horizon will be deprecated in the future, please use forecast_horizon instead.\n",
      "WARNING - Forecasting parameter country_or_region will be deprecated in the future, please use holiday_country instead.\n",
      "WARNING - Using different time series parameters in AutoML configs for forecasting tasks will be deprecated, please use ForecastingParameters class instead.\n",
      "WARNING - Forecasting parameter grain_column_names will be deprecated in the future, please use time_series_id_column_names instead.\n",
      "WARNING - Forecasting parameter max_horizon will be deprecated in the future, please use forecast_horizon instead.\n",
      "WARNING - Forecasting parameter country_or_region will be deprecated in the future, please use holiday_country instead.\n"
     ]
    },
    {
     "name": "stdout",
     "output_type": "stream",
     "text": [
      "AutoML627c037107\n"
     ]
    }
   ],
   "source": [
    "description = 'AutoML OJ forecaster'\n",
    "tags = None\n",
    "model = remote_run.register_model(model_name = model_name, description = description, tags = tags)\n",
    "\n",
    "print(remote_run.model_id)"
   ]
  },
  {
   "cell_type": "markdown",
   "metadata": {},
   "source": [
    "### Develop the scoring script\n",
    "\n",
    "For the deployment we need a function which will run the forecast on serialized data. It can be obtained from the best_run."
   ]
  },
  {
   "cell_type": "code",
   "execution_count": 28,
   "metadata": {},
   "outputs": [],
   "source": [
    "script_file_name = 'score_fcast.py'\n",
    "best_run.download_file('outputs/scoring_file_v_1_0_0.py', script_file_name)"
   ]
  },
  {
   "cell_type": "markdown",
   "metadata": {},
   "source": [
    "### Deploy the model as a Web Service on Azure Container Instance"
   ]
  },
  {
   "cell_type": "code",
   "execution_count": 29,
   "metadata": {},
   "outputs": [
    {
     "name": "stdout",
     "output_type": "stream",
     "text": [
      "automl-oj-forecast-01\n",
      "Running................................................\n",
      "Succeeded\n",
      "ACI service creation operation finished, operation \"Succeeded\"\n",
      "Healthy\n"
     ]
    }
   ],
   "source": [
    "from azureml.core.model import InferenceConfig\n",
    "from azureml.core.webservice import AciWebservice\n",
    "from azureml.core.webservice import Webservice\n",
    "from azureml.core.model import Model\n",
    "\n",
    "inference_config = InferenceConfig(environment = best_run.get_environment(), \n",
    "                                   entry_script = script_file_name)\n",
    "\n",
    "aciconfig = AciWebservice.deploy_configuration(cpu_cores = 1, \n",
    "                                               memory_gb = 2, \n",
    "                                               tags = {'type': \"automl-forecasting\"},\n",
    "                                               description = \"Automl forecasting sample service\")\n",
    "\n",
    "aci_service_name = 'automl-oj-forecast-01'\n",
    "print(aci_service_name)\n",
    "aci_service = Model.deploy(ws, aci_service_name, [model], inference_config, aciconfig)\n",
    "aci_service.wait_for_deployment(True)\n",
    "print(aci_service.state)"
   ]
  },
  {
   "cell_type": "code",
   "execution_count": 33,
   "metadata": {},
   "outputs": [
    {
     "data": {
      "text/plain": [
       "'2020-07-20T11:12:37,031011098+00:00 - gunicorn/run \\n2020-07-20T11:12:37,032131104+00:00 - iot-server/run \\n2020-07-20T11:12:37,034090513+00:00 - rsyslog/run \\n2020-07-20T11:12:37,041545048+00:00 - nginx/run \\n/usr/sbin/nginx: /azureml-envs/azureml_5eb6df75930b264b533a5ee769ea880a/lib/libcrypto.so.1.0.0: no version information available (required by /usr/sbin/nginx)\\n/usr/sbin/nginx: /azureml-envs/azureml_5eb6df75930b264b533a5ee769ea880a/lib/libcrypto.so.1.0.0: no version information available (required by /usr/sbin/nginx)\\n/usr/sbin/nginx: /azureml-envs/azureml_5eb6df75930b264b533a5ee769ea880a/lib/libssl.so.1.0.0: no version information available (required by /usr/sbin/nginx)\\n/usr/sbin/nginx: /azureml-envs/azureml_5eb6df75930b264b533a5ee769ea880a/lib/libssl.so.1.0.0: no version information available (required by /usr/sbin/nginx)\\n/usr/sbin/nginx: /azureml-envs/azureml_5eb6df75930b264b533a5ee769ea880a/lib/libssl.so.1.0.0: no version information available (required by /usr/sbin/nginx)\\nrsyslogd: /azureml-envs/azureml_5eb6df75930b264b533a5ee769ea880a/lib/libuuid.so.1: no version information available (required by rsyslogd)\\nEdgeHubConnectionString and IOTEDGE_IOTHUBHOSTNAME are not set. Exiting...\\n2020-07-20T11:12:37,426876683+00:00 - iot-server/finish 1 0\\n2020-07-20T11:12:37,433384614+00:00 - Exit code 1 is normal. Not restarting iot-server.\\nStarting gunicorn 19.9.0\\nListening at: http://127.0.0.1:31311 (12)\\nUsing worker: sync\\nworker timeout is set to 300\\nBooting worker with pid: 41\\nInitialized PySpark session.\\nInitializing logger\\nStarting up app insights client\\nStarting up request id generator\\nStarting up app insight hooks\\nInvoking user\\'s init function\\nFailure while loading azureml_run_type_providers. Failed to load entrypoint automl = azureml.train.automl.run:AutoMLRun._from_run_dto with exception module \\'azureml\\' has no attribute \\'dataprep\\'.\\ngenerated new fontManager\\nUsers\\'s init has completed successfully\\nSkipping middleware: dbg_model_info as it\\'s not enabled.\\nScoring timeout is found from os.environ: 60000 ms\\n200\\n127.0.0.1 - - [20/Jul/2020:11:12:48 +0000] \"GET /swagger.json HTTP/1.0\" 200 3186 \"-\" \"Go-http-client/1.1\"\\n200\\n127.0.0.1 - - [20/Jul/2020:11:12:57 +0000] \"GET /swagger.json HTTP/1.0\" 200 3186 \"-\" \"Go-http-client/1.1\"\\nValidation Request Content-Type\\nReceived input: {\\'data\\': [{\\'WeekStarting\\': \\'1992-05-21\\', \\'Store\\': 2, \\'Brand\\': \\'dominicks\\', \\'logQuantity\\': 9.17616292, \\'Advert\\': 0, \\'Price\\': 1.69, \\'Age60\\': 0.232864734, \\'COLLEGE\\': 0.248934934, \\'INCOME\\': 10.55320518, \\'Hincome150\\': 0.463887065, \\'Large HH\\': 0.103953406, \\'Minorities\\': 0.114279949, \\'WorkingWoman\\': 0.303585347, \\'SSTRDIST\\': 2.110122129, \\'SSTRVOL\\': 1.142857143, \\'CPDIST5\\': 1.927279669, \\'CPWVOL5\\': 0.37692661299999997}, {\\'WeekStarting\\': \\'1992-05-28\\', \\'Store\\': 2, \\'Brand\\': \\'dominicks\\', \\'logQuantity\\': 10.726961, \\'Advert\\': 0, \\'Price\\': 1.69, \\'Age60\\': 0.232864734, \\'COLLEGE\\': 0.248934934, \\'INCOME\\': 10.55320518, \\'Hincome150\\': 0.463887065, \\'Large HH\\': 0.103953406, \\'Minorities\\': 0.114279949, \\'WorkingWoman\\': 0.303585347, \\'SSTRDIST\\': 2.110122129, \\'SSTRVOL\\': 1.142857143, \\'CPDIST5\\': 1.927279669, \\'CPWVOL5\\': 0.37692661299999997}, {\\'WeekStarting\\': \\'1992-06-04\\', \\'Store\\': 2, \\'Brand\\': \\'dominicks\\', \\'logQuantity\\': 9.951896692, \\'Advert\\': 0, \\'Price\\': 1.74, \\'Age60\\': 0.232864734, \\'COLLEGE\\': 0.248934934, \\'INCOME\\': 10.55320518, \\'Hincome150\\': 0.463887065, \\'Large HH\\': 0.103953406, \\'Minorities\\': 0.114279949, \\'WorkingWoman\\': 0.303585347, \\'SSTRDIST\\': 2.110122129, \\'SSTRVOL\\': 1.142857143, \\'CPDIST5\\': 1.927279669, \\'CPWVOL5\\': 0.37692661299999997}, {\\'WeekStarting\\': \\'1992-06-11\\', \\'Store\\': 2, \\'Brand\\': \\'dominicks\\', \\'logQuantity\\': 8.793612072, \\'Advert\\': 0, \\'Price\\': 2.09, \\'Age60\\': 0.232864734, \\'COLLEGE\\': 0.248934934, \\'INCOME\\': 10.55320518, \\'Hincome150\\': 0.463887065, \\'Large HH\\': 0.103953406, \\'Minorities\\': 0.114279949, \\'WorkingWoman\\': 0.303585347, \\'SSTRDIST\\': 2.110122129, \\'SSTRVOL\\': 1.142857143, \\'CPDIST5\\': 1.927279669, \\'CPWVOL5\\': 0.37692661299999997}, {\\'WeekStarting\\': \\'1992-06-18\\', \\'Store\\': 2, \\'Brand\\': \\'dominicks\\', \\'logQuantity\\': 8.51559191, \\'Advert\\': 0, \\'Price\\': 2.05, \\'Age60\\': 0.232864734, \\'COLLEGE\\': 0.248934934, \\'INCOME\\': 10.55320518, \\'Hincome150\\': 0.463887065, \\'Large HH\\': 0.103953406, \\'Minorities\\': 0.114279949, \\'WorkingWoman\\': 0.303585347, \\'SSTRDIST\\': 2.110122129, \\'SSTRVOL\\': 1.142857143, \\'CPDIST5\\': 1.927279669, \\'CPWVOL5\\': 0.37692661299999997}, {\\'WeekStarting\\': \\'1992-06-25\\', \\'Store\\': 2, \\'Brand\\': \\'dominicks\\', \\'logQuantity\\': 8.99516499, \\'Advert\\': 0, \\'Price\\': 1.24, \\'Age60\\': 0.232864734, \\'COLLEGE\\': 0.248934934, \\'INCOME\\': 10.55320518, \\'Hincome150\\': 0.463887065, \\'Large HH\\': 0.103953406, \\'Minorities\\': 0.114279949, \\'WorkingWoman\\': 0.303585347, \\'SSTRDIST\\': 2.110122129, \\'SSTRVOL\\': 1.142857143, \\'CPDIST5\\': 1.927279669, \\'CPWVOL5\\': 0.37692661299999997}, {\\'WeekStarting\\': \\'1992-07-02\\', \\'Store\\': 2, \\'Brand\\': \\'dominicks\\', \\'logQuantity\\': 8.903815212, \\'Advert\\': 0, \\'Price\\': 1.61, \\'Age60\\': 0.232864734, \\'COLLEGE\\': 0.248934934, \\'INCOME\\': 10.55320518, \\'Hincome150\\': 0.463887065, \\'Large HH\\': 0.103953406, \\'Minorities\\': 0.114279949, \\'WorkingWoman\\': 0.303585347, \\'SSTRDIST\\': 2.110122129, \\'SSTRVOL\\': 1.142857143, \\'CPDIST5\\': 1.927279669, \\'CPWVOL5\\': 0.37692661299999997}, {\\'WeekStarting\\': \\'1992-07-09\\', \\'Store\\': 2, \\'Brand\\': \\'dominicks\\', \\'logQuantity\\': 9.215128888999999, \\'Advert\\': 0, \\'Price\\': 1.4, \\'Age60\\': 0.232864734, \\'COLLEGE\\': 0.248934934, \\'INCOME\\': 10.55320518, \\'Hincome150\\': 0.463887065, \\'Large HH\\': 0.103953406, \\'Minorities\\': 0.114279949, \\'WorkingWoman\\': 0.303585347, \\'SSTRDIST\\': 2.110122129, \\'SSTRVOL\\': 1.142857143, \\'CPDIST5\\': 1.927279669, \\'CPWVOL5\\': 0.37692661299999997}, {\\'WeekStarting\\': \\'1992-07-16\\', \\'Store\\': 2, \\'Brand\\': \\'dominicks\\', \\'logQuantity\\': 9.221478116, \\'Advert\\': 0, \\'Price\\': 1.91, \\'Age60\\': 0.232864734, \\'COLLEGE\\': 0.248934934, \\'INCOME\\': 10.55320518, \\'Hincome150\\': 0.463887065, \\'Large HH\\': 0.103953406, \\'Minorities\\': 0.114279949, \\'WorkingWoman\\': 0.303585347, \\'SSTRDIST\\': 2.110122129, \\'SSTRVOL\\': 1.142857143, \\'CPDIST5\\': 1.927279669, \\'CPWVOL5\\': 0.37692661299999997}, {\\'WeekStarting\\': \\'1992-07-23\\', \\'Store\\': 2, \\'Brand\\': \\'dominicks\\', \\'logQuantity\\': 9.121727714, \\'Advert\\': 0, \\'Price\\': 1.69, \\'Age60\\': 0.232864734, \\'COLLEGE\\': 0.248934934, \\'INCOME\\': 10.55320518, \\'Hincome150\\': 0.463887065, \\'Large HH\\': 0.103953406, \\'Minorities\\': 0.114279949, \\'WorkingWoman\\': 0.303585347, \\'SSTRDIST\\': 2.110122129, \\'SSTRVOL\\': 1.142857143, \\'CPDIST5\\': 1.927279669, \\'CPWVOL5\\': 0.37692661299999997}, {\\'WeekStarting\\': \\'1992-07-30\\', \\'Store\\': 2, \\'Brand\\': \\'dominicks\\', \\'logQuantity\\': 10.49924239, \\'Advert\\': 1, \\'Price\\': 1.49, \\'Age60\\': 0.232864734, \\'COLLEGE\\': 0.248934934, \\'INCOME\\': 10.55320518, \\'Hincome150\\': 0.463887065, \\'Large HH\\': 0.103953406, \\'Minorities\\': 0.114279949, \\'WorkingWoman\\': 0.303585347, \\'SSTRDIST\\': 2.110122129, \\'SSTRVOL\\': 1.142857143, \\'CPDIST5\\': 1.927279669, \\'CPWVOL5\\': 0.37692661299999997}, {\\'WeekStarting\\': \\'1992-08-06\\', \\'Store\\': 2, \\'Brand\\': \\'dominicks\\', \\'logQuantity\\': 8.236420527, \\'Advert\\': 1, \\'Price\\': 1.99, \\'Age60\\': 0.232864734, \\'COLLEGE\\': 0.248934934, \\'INCOME\\': 10.55320518, \\'Hincome150\\': 0.463887065, \\'Large HH\\': 0.103953406, \\'Minorities\\': 0.114279949, \\'WorkingWoman\\': 0.303585347, \\'SSTRDIST\\': 2.110122129, \\'SSTRVOL\\': 1.142857143, \\'CPDIST5\\': 1.927279669, \\'CPWVOL5\\': 0.37692661299999997}, {\\'WeekStarting\\': \\'1992-08-13\\', \\'Store\\': 2, \\'Brand\\': \\'dominicks\\', \\'logQuantity\\': 8.110126802, \\'Advert\\': 0, \\'Price\\': 1.97, \\'Age60\\': 0.232864734, \\'COLLEGE\\': 0.248934934, \\'INCOME\\': 10.55320518, \\'Hincome150\\': 0.463887065, \\'Large HH\\': 0.103953406, \\'Minorities\\': 0.114279949, \\'WorkingWoman\\': 0.303585347, \\'SSTRDIST\\': 2.110122129, \\'SSTRVOL\\': 1.142857143, \\'CPDIST5\\': 1.927279669, \\'CPWVOL5\\': 0.37692661299999997}, {\\'WeekStarting\\': \\'1992-08-20\\', \\'Store\\': 2, \\'Brand\\': \\'dominicks\\', \\'logQuantity\\': 9.534161491, \\'Advert\\': 0, \\'Price\\': 1.36, \\'Age60\\': 0.232864734, \\'COLLEGE\\': 0.248934934, \\'INCOME\\': 10.55320518, \\'Hincome150\\': 0.463887065, \\'Large HH\\': 0.103953406, \\'Minorities\\': 0.114279949, \\'WorkingWoman\\': 0.303585347, \\'SSTRDIST\\': 2.110122129, \\'SSTRVOL\\': 1.142857143, \\'CPDIST5\\': 1.927279669, \\'CPWVOL5\\': 0.37692661299999997}, {\\'WeekStarting\\': \\'1992-08-27\\', \\'Store\\': 2, \\'Brand\\': \\'dominicks\\', \\'logQuantity\\': 9.107642974, \\'Advert\\': 0, \\'Price\\': 1.19, \\'Age60\\': 0.232864734, \\'COLLEGE\\': 0.248934934, \\'INCOME\\': 10.55320518, \\'Hincome150\\': 0.463887065, \\'Large HH\\': 0.103953406, \\'Minorities\\': 0.114279949, \\'WorkingWoman\\': 0.303585347, \\'SSTRDIST\\': 2.110122129, \\'SSTRVOL\\': 1.142857143, \\'CPDIST5\\': 1.927279669, \\'CPWVOL5\\': 0.37692661299999997}, {\\'WeekStarting\\': \\'1992-09-03\\', \\'Store\\': 2, \\'Brand\\': \\'dominicks\\', \\'logQuantity\\': 7.624618986000001, \\'Advert\\': 0, \\'Price\\': 2.09, \\'Age60\\': 0.232864734, \\'COLLEGE\\': 0.248934934, \\'INCOME\\': 10.55320518, \\'Hincome150\\': 0.463887065, \\'Large HH\\': 0.103953406, \\'Minorities\\': 0.114279949, \\'WorkingWoman\\': 0.303585347, \\'SSTRDIST\\': 2.110122129, \\'SSTRVOL\\': 1.142857143, \\'CPDIST5\\': 1.927279669, \\'CPWVOL5\\': 0.37692661299999997}, {\\'WeekStarting\\': \\'1992-09-10\\', \\'Store\\': 2, \\'Brand\\': \\'dominicks\\', \\'logQuantity\\': 7.592870287999999, \\'Advert\\': 0, \\'Price\\': 2.09, \\'Age60\\': 0.232864734, \\'COLLEGE\\': 0.248934934, \\'INCOME\\': 10.55320518, \\'Hincome150\\': 0.463887065, \\'Large HH\\': 0.103953406, \\'Minorities\\': 0.114279949, \\'WorkingWoman\\': 0.303585347, \\'SSTRDIST\\': 2.110122129, \\'SSTRVOL\\': 1.142857143, \\'CPDIST5\\': 1.927279669, \\'CPWVOL5\\': 0.37692661299999997}, {\\'WeekStarting\\': \\'1992-09-17\\', \\'Store\\': 2, \\'Brand\\': \\'dominicks\\', \\'logQuantity\\': 8.333270353, \\'Advert\\': 0, \\'Price\\': 1.77, \\'Age60\\': 0.232864734, \\'COLLEGE\\': 0.248934934, \\'INCOME\\': 10.55320518, \\'Hincome150\\': 0.463887065, \\'Large HH\\': 0.103953406, \\'Minorities\\': 0.114279949, \\'WorkingWoman\\': 0.303585347, \\'SSTRDIST\\': 2.110122129, \\'SSTRVOL\\': 1.142857143, \\'CPDIST5\\': 1.927279669, \\'CPWVOL5\\': 0.37692661299999997}, {\\'WeekStarting\\': \\'1992-09-24\\', \\'Store\\': 2, \\'Brand\\': \\'dominicks\\', \\'logQuantity\\': 10.47061789, \\'Advert\\': 0, \\'Price\\': 1.49, \\'Age60\\': 0.232864734, \\'COLLEGE\\': 0.248934934, \\'INCOME\\': 10.55320518, \\'Hincome150\\': 0.463887065, \\'Large HH\\': 0.103953406, \\'Minorities\\': 0.114279949, \\'WorkingWoman\\': 0.303585347, \\'SSTRDIST\\': 2.110122129, \\'SSTRVOL\\': 1.142857143, \\'CPDIST5\\': 1.927279669, \\'CPWVOL5\\': 0.37692661299999997}, {\\'WeekStarting\\': \\'1992-10-01\\', \\'Store\\': 2, \\'Brand\\': \\'dominicks\\', \\'logQuantity\\': 9.064157862, \\'Advert\\': 0, \\'Price\\': 1.82, \\'Age60\\': 0.232864734, \\'COLLEGE\\': 0.248934934, \\'INCOME\\': 10.55320518, \\'Hincome150\\': 0.463887065, \\'Large HH\\': 0.103953406, \\'Minorities\\': 0.114279949, \\'WorkingWoman\\': 0.303585347, \\'SSTRDIST\\': 2.110122129, \\'SSTRVOL\\': 1.142857143, \\'CPDIST5\\': 1.927279669, \\'CPWVOL5\\': 0.37692661299999997}, {\\'WeekStarting\\': \\'1992-05-21\\', \\'Store\\': 2, \\'Brand\\': \\'minute.maid\\', \\'logQuantity\\': 10.01681624, \\'Advert\\': 1, \\'Price\\': 2.09, \\'Age60\\': 0.232864734, \\'COLLEGE\\': 0.248934934, \\'INCOME\\': 10.55320518, \\'Hincome150\\': 0.463887065, \\'Large HH\\': 0.103953406, \\'Minorities\\': 0.114279949, \\'WorkingWoman\\': 0.303585347, \\'SSTRDIST\\': 2.110122129, \\'SSTRVOL\\': 1.142857143, \\'CPDIST5\\': 1.927279669, \\'CPWVOL5\\': 0.37692661299999997}, {\\'WeekStarting\\': \\'1992-05-28\\', \\'Store\\': 2, \\'Brand\\': \\'minute.maid\\', \\'logQuantity\\': 8.286017467999999, \\'Advert\\': 0, \\'Price\\': 2.84, \\'Age60\\': 0.232864734, \\'COLLEGE\\': 0.248934934, \\'INCOME\\': 10.55320518, \\'Hincome150\\': 0.463887065, \\'Large HH\\': 0.103953406, \\'Minorities\\': 0.114279949, \\'WorkingWoman\\': 0.303585347, \\'SSTRDIST\\': 2.110122129, \\'SSTRVOL\\': 1.142857143, \\'CPDIST5\\': 1.927279669, \\'CPWVOL5\\': 0.37692661299999997}, {\\'WeekStarting\\': \\'1992-06-04\\', \\'Store\\': 2, \\'Brand\\': \\'minute.maid\\', \\'logQuantity\\': 8.090708716, \\'Advert\\': 0, \\'Price\\': 2.89, \\'Age60\\': 0.232864734, \\'COLLEGE\\': 0.248934934, \\'INCOME\\': 10.55320518, \\'Hincome150\\': 0.463887065, \\'Large HH\\': 0.103953406, \\'Minorities\\': 0.114279949, \\'WorkingWoman\\': 0.303585347, \\'SSTRDIST\\': 2.110122129, \\'SSTRVOL\\': 1.142857143, \\'CPDIST5\\': 1.927279669, \\'CPWVOL5\\': 0.37692661299999997}, {\\'WeekStarting\\': \\'1992-06-11\\', \\'Store\\': 2, \\'Brand\\': \\'minute.maid\\', \\'logQuantity\\': 8.378390789, \\'Advert\\': 0, \\'Price\\': 2.89, \\'Age60\\': 0.232864734, \\'COLLEGE\\': 0.248934934, \\'INCOME\\': 10.55320518, \\'Hincome150\\': 0.463887065, \\'Large HH\\': 0.103953406, \\'Minorities\\': 0.114279949, \\'WorkingWoman\\': 0.303585347, \\'SSTRDIST\\': 2.110122129, \\'SSTRVOL\\': 1.142857143, \\'CPDIST5\\': 1.927279669, \\'CPWVOL5\\': 0.37692661299999997}, {\\'WeekStarting\\': \\'1992-06-18\\', \\'Store\\': 2, \\'Brand\\': \\'minute.maid\\', \\'logQuantity\\': 8.407378325, \\'Advert\\': 0, \\'Price\\': 2.89, \\'Age60\\': 0.232864734, \\'COLLEGE\\': 0.248934934, \\'INCOME\\': 10.55320518, \\'Hincome150\\': 0.463887065, \\'Large HH\\': 0.103953406, \\'Minorities\\': 0.114279949, \\'WorkingWoman\\': 0.303585347, \\'SSTRDIST\\': 2.110122129, \\'SSTRVOL\\': 1.142857143, \\'CPDIST5\\': 1.927279669, \\'CPWVOL5\\': 0.37692661299999997}, {\\'WeekStarting\\': \\'1992-06-25\\', \\'Store\\': 2, \\'Brand\\': \\'minute.maid\\', \\'logQuantity\\': 8.253227646000001, \\'Advert\\': 0, \\'Price\\': 2.52, \\'Age60\\': 0.232864734, \\'COLLEGE\\': 0.248934934, \\'INCOME\\': 10.55320518, \\'Hincome150\\': 0.463887065, \\'Large HH\\': 0.103953406, \\'Minorities\\': 0.114279949, \\'WorkingWoman\\': 0.303585347, \\'SSTRDIST\\': 2.110122129, \\'SSTRVOL\\': 1.142857143, \\'CPDIST5\\': 1.927279669, \\'CPWVOL5\\': 0.37692661299999997}, {\\'WeekStarting\\': \\'1992-07-02\\', \\'Store\\': 2, \\'Brand\\': \\'minute.maid\\', \\'logQuantity\\': 9.496421162999999, \\'Advert\\': 1, \\'Price\\': 2.0, \\'Age60\\': 0.232864734, \\'COLLEGE\\': 0.248934934, \\'INCOME\\': 10.55320518, \\'Hincome150\\': 0.463887065, \\'Large HH\\': 0.103953406, \\'Minorities\\': 0.114279949, \\'WorkingWoman\\': 0.303585347, \\'SSTRDIST\\': 2.110122129, \\'SSTRVOL\\': 1.142857143, \\'CPDIST5\\': 1.927279669, \\'CPWVOL5\\': 0.37692661299999997}, {\\'WeekStarting\\': \\'1992-07-09\\', \\'Store\\': 2, \\'Brand\\': \\'minute.maid\\', \\'logQuantity\\': 8.236420527, \\'Advert\\': 1, \\'Price\\': 2.33, \\'Age60\\': 0.232864734, \\'COLLEGE\\': 0.248934934, \\'INCOME\\': 10.55320518, \\'Hincome150\\': 0.463887065, \\'Large HH\\': 0.103953406, \\'Minorities\\': 0.114279949, \\'WorkingWoman\\': 0.303585347, \\'SSTRDIST\\': 2.110122129, \\'SSTRVOL\\': 1.142857143, \\'CPDIST5\\': 1.927279669, \\'CPWVOL5\\': 0.37692661299999997}, {\\'WeekStarting\\': \\'1992-07-16\\', \\'Store\\': 2, \\'Brand\\': \\'minute.maid\\', \\'logQuantity\\': 8.476371197, \\'Advert\\': 0, \\'Price\\': 2.89, \\'Age60\\': 0.232864734, \\'COLLEGE\\': 0.248934934, \\'INCOME\\': 10.55320518, \\'Hincome150\\': 0.463887065, \\'Large HH\\': 0.103953406, \\'Minorities\\': 0.114279949, \\'WorkingWoman\\': 0.303585347, \\'SSTRDIST\\': 2.110122129, \\'SSTRVOL\\': 1.142857143, \\'CPDIST5\\': 1.927279669, \\'CPWVOL5\\': 0.37692661299999997}, {\\'WeekStarting\\': \\'1992-07-23\\', \\'Store\\': 2, \\'Brand\\': \\'minute.maid\\', \\'logQuantity\\': 10.12502982, \\'Advert\\': 1, \\'Price\\': 2.29, \\'Age60\\': 0.232864734, \\'COLLEGE\\': 0.248934934, \\'INCOME\\': 10.55320518, \\'Hincome150\\': 0.463887065, \\'Large HH\\': 0.103953406, \\'Minorities\\': 0.114279949, \\'WorkingWoman\\': 0.303585347, \\'SSTRDIST\\': 2.110122129, \\'SSTRVOL\\': 1.142857143, \\'CPDIST5\\': 1.927279669, \\'CPWVOL5\\': 0.37692661299999997}, {\\'WeekStarting\\': \\'1992-07-30\\', \\'Store\\': 2, \\'Brand\\': \\'minute.maid\\', \\'logQuantity\\': 8.42156296, \\'Advert\\': 0, \\'Price\\': 2.86, \\'Age60\\': 0.232864734, \\'COLLEGE\\': 0.248934934, \\'INCOME\\': 10.55320518, \\'Hincome150\\': 0.463887065, \\'Large HH\\': 0.103953406, \\'Minorities\\': 0.114279949, \\'WorkingWoman\\': 0.303585347, \\'SSTRDIST\\': 2.110122129, \\'SSTRVOL\\': 1.142857143, \\'CPDIST5\\': 1.927279669, \\'CPWVOL5\\': 0.37692661299999997}, {\\'WeekStarting\\': \\'1992-08-06\\', \\'Store\\': 2, \\'Brand\\': \\'minute.maid\\', \\'logQuantity\\': 8.286017467999999, \\'Advert\\': 1, \\'Price\\': 2.81, \\'Age60\\': 0.232864734, \\'COLLEGE\\': 0.248934934, \\'INCOME\\': 10.55320518, \\'Hincome150\\': 0.463887065, \\'Large HH\\': 0.103953406, \\'Minorities\\': 0.114279949, \\'WorkingWoman\\': 0.303585347, \\'SSTRDIST\\': 2.110122129, \\'SSTRVOL\\': 1.142857143, \\'CPDIST5\\': 1.927279669, \\'CPWVOL5\\': 0.37692661299999997}, {\\'WeekStarting\\': \\'1992-08-13\\', \\'Store\\': 2, \\'Brand\\': \\'minute.maid\\', \\'logQuantity\\': 10.81174611, \\'Advert\\': 1, \\'Price\\': 1.99, \\'Age60\\': 0.232864734, \\'COLLEGE\\': 0.248934934, \\'INCOME\\': 10.55320518, \\'Hincome150\\': 0.463887065, \\'Large HH\\': 0.103953406, \\'Minorities\\': 0.114279949, \\'WorkingWoman\\': 0.303585347, \\'SSTRDIST\\': 2.110122129, \\'SSTRVOL\\': 1.142857143, \\'CPDIST5\\': 1.927279669, \\'CPWVOL5\\': 0.37692661299999997}, {\\'WeekStarting\\': \\'1992-08-20\\', \\'Store\\': 2, \\'Brand\\': \\'minute.maid\\', \\'logQuantity\\': 10.06424493, \\'Advert\\': 1, \\'Price\\': 1.94, \\'Age60\\': 0.232864734, \\'COLLEGE\\': 0.248934934, \\'INCOME\\': 10.55320518, \\'Hincome150\\': 0.463887065, \\'Large HH\\': 0.103953406, \\'Minorities\\': 0.114279949, \\'WorkingWoman\\': 0.303585347, \\'SSTRDIST\\': 2.110122129, \\'SSTRVOL\\': 1.142857143, \\'CPDIST5\\': 1.927279669, \\'CPWVOL5\\': 0.37692661299999997}, {\\'WeekStarting\\': \\'1992-08-27\\', \\'Store\\': 2, \\'Brand\\': \\'minute.maid\\', \\'logQuantity\\': 9.852615222, \\'Advert\\': 0, \\'Price\\': 1.69, \\'Age60\\': 0.232864734, \\'COLLEGE\\': 0.248934934, \\'INCOME\\': 10.55320518, \\'Hincome150\\': 0.463887065, \\'Large HH\\': 0.103953406, \\'Minorities\\': 0.114279949, \\'WorkingWoman\\': 0.303585347, \\'SSTRDIST\\': 2.110122129, \\'SSTRVOL\\': 1.142857143, \\'CPDIST5\\': 1.927279669, \\'CPWVOL5\\': 0.37692661299999997}, {\\'WeekStarting\\': \\'1992-09-03\\', \\'Store\\': 2, \\'Brand\\': \\'minute.maid\\', \\'logQuantity\\': 9.357380115, \\'Advert\\': 0, \\'Price\\': 1.81, \\'Age60\\': 0.232864734, \\'COLLEGE\\': 0.248934934, \\'INCOME\\': 10.55320518, \\'Hincome150\\': 0.463887065, \\'Large HH\\': 0.103953406, \\'Minorities\\': 0.114279949, \\'WorkingWoman\\': 0.303585347, \\'SSTRDIST\\': 2.110122129, \\'SSTRVOL\\': 1.142857143, \\'CPDIST5\\': 1.927279669, \\'CPWVOL5\\': 0.37692661299999997}, {\\'WeekStarting\\': \\'1992-09-10\\', \\'Store\\': 2, \\'Brand\\': \\'minute.maid\\', \\'logQuantity\\': 10.19436452, \\'Advert\\': 1, \\'Price\\': 1.99, \\'Age60\\': 0.232864734, \\'COLLEGE\\': 0.248934934, \\'INCOME\\': 10.55320518, \\'Hincome150\\': 0.463887065, \\'Large HH\\': 0.103953406, \\'Minorities\\': 0.114279949, \\'WorkingWoman\\': 0.303585347, \\'SSTRDIST\\': 2.110122129, \\'SSTRVOL\\': 1.142857143, \\'CPDIST5\\': 1.927279669, \\'CPWVOL5\\': 0.37692661299999997}, {\\'WeekStarting\\': \\'1992-09-17\\', \\'Store\\': 2, \\'Brand\\': \\'minute.maid\\', \\'logQuantity\\': 8.269756948, \\'Advert\\': 0, \\'Price\\': 2.83, \\'Age60\\': 0.232864734, \\'COLLEGE\\': 0.248934934, \\'INCOME\\': 10.55320518, \\'Hincome150\\': 0.463887065, \\'Large HH\\': 0.103953406, \\'Minorities\\': 0.114279949, \\'WorkingWoman\\': 0.303585347, \\'SSTRDIST\\': 2.110122129, \\'SSTRVOL\\': 1.142857143, \\'CPDIST5\\': 1.927279669, \\'CPWVOL5\\': 0.37692661299999997}, {\\'WeekStarting\\': \\'1992-09-24\\', \\'Store\\': 2, \\'Brand\\': \\'minute.maid\\', \\'logQuantity\\': 8.219326094, \\'Advert\\': 0, \\'Price\\': 2.67, \\'Age60\\': 0.232864734, \\'COLLEGE\\': 0.248934934, \\'INCOME\\': 10.55320518, \\'Hincome150\\': 0.463887065, \\'Large HH\\': 0.103953406, \\'Minorities\\': 0.114279949, \\'WorkingWoman\\': 0.303585347, \\'SSTRDIST\\': 2.110122129, \\'SSTRVOL\\': 1.142857143, \\'CPDIST5\\': 1.927279669, \\'CPWVOL5\\': 0.37692661299999997}, {\\'WeekStarting\\': \\'1992-10-01\\', \\'Store\\': 2, \\'Brand\\': \\'minute.maid\\', \\'logQuantity\\': 10.62658181, \\'Advert\\': 1, \\'Price\\': 2.19, \\'Age60\\': 0.232864734, \\'COLLEGE\\': 0.248934934, \\'INCOME\\': 10.55320518, \\'Hincome150\\': 0.463887065, \\'Large HH\\': 0.103953406, \\'Minorities\\': 0.114279949, \\'WorkingWoman\\': 0.303585347, \\'SSTRDIST\\': 2.110122129, \\'SSTRVOL\\': 1.142857143, \\'CPDIST5\\': 1.927279669, \\'CPWVOL5\\': 0.37692661299999997}, {\\'WeekStarting\\': \\'1992-05-21\\', \\'Store\\': 2, \\'Brand\\': \\'tropicana\\', \\'logQuantity\\': 8.850230966, \\'Advert\\': 0, \\'Price\\': 3.19, \\'Age60\\': 0.232864734, \\'COLLEGE\\': 0.248934934, \\'INCOME\\': 10.55320518, \\'Hincome150\\': 0.463887065, \\'Large HH\\': 0.103953406, \\'Minorities\\': 0.114279949, \\'WorkingWoman\\': 0.303585347, \\'SSTRDIST\\': 2.110122129, \\'SSTRVOL\\': 1.142857143, \\'CPDIST5\\': 1.927279669, \\'CPWVOL5\\': 0.37692661299999997}, {\\'WeekStarting\\': \\'1992-05-28\\', \\'Store\\': 2, \\'Brand\\': \\'tropicana\\', \\'logQuantity\\': 8.886270902, \\'Advert\\': 0, \\'Price\\': 3.19, \\'Age60\\': 0.232864734, \\'COLLEGE\\': 0.248934934, \\'INCOME\\': 10.55320518, \\'Hincome150\\': 0.463887065, \\'Large HH\\': 0.103953406, \\'Minorities\\': 0.114279949, \\'WorkingWoman\\': 0.303585347, \\'SSTRDIST\\': 2.110122129, \\'SSTRVOL\\': 1.142857143, \\'CPDIST5\\': 1.927279669, \\'CPWVOL5\\': 0.37692661299999997}, {\\'WeekStarting\\': \\'1992-06-04\\', \\'Store\\': 2, \\'Brand\\': \\'tropicana\\', \\'logQuantity\\': 10.84972536, \\'Advert\\': 1, \\'Price\\': 2.49, \\'Age60\\': 0.232864734, \\'COLLEGE\\': 0.248934934, \\'INCOME\\': 10.55320518, \\'Hincome150\\': 0.463887065, \\'Large HH\\': 0.103953406, \\'Minorities\\': 0.114279949, \\'WorkingWoman\\': 0.303585347, \\'SSTRDIST\\': 2.110122129, \\'SSTRVOL\\': 1.142857143, \\'CPDIST5\\': 1.927279669, \\'CPWVOL5\\': 0.37692661299999997}, {\\'WeekStarting\\': \\'1992-06-11\\', \\'Store\\': 2, \\'Brand\\': \\'tropicana\\', \\'logQuantity\\': 10.01108556, \\'Advert\\': 0, \\'Price\\': 2.21, \\'Age60\\': 0.232864734, \\'COLLEGE\\': 0.248934934, \\'INCOME\\': 10.55320518, \\'Hincome150\\': 0.463887065, \\'Large HH\\': 0.103953406, \\'Minorities\\': 0.114279949, \\'WorkingWoman\\': 0.303585347, \\'SSTRDIST\\': 2.110122129, \\'SSTRVOL\\': 1.142857143, \\'CPDIST5\\': 1.927279669, \\'CPWVOL5\\': 0.37692661299999997}, {\\'WeekStarting\\': \\'1992-06-18\\', \\'Store\\': 2, \\'Brand\\': \\'tropicana\\', \\'logQuantity\\': 10.73952222, \\'Advert\\': 1, \\'Price\\': 1.99, \\'Age60\\': 0.232864734, \\'COLLEGE\\': 0.248934934, \\'INCOME\\': 10.55320518, \\'Hincome150\\': 0.463887065, \\'Large HH\\': 0.103953406, \\'Minorities\\': 0.114279949, \\'WorkingWoman\\': 0.303585347, \\'SSTRDIST\\': 2.110122129, \\'SSTRVOL\\': 1.142857143, \\'CPDIST5\\': 1.927279669, \\'CPWVOL5\\': 0.37692661299999997}, {\\'WeekStarting\\': \\'1992-06-25\\', \\'Store\\': 2, \\'Brand\\': \\'tropicana\\', \\'logQuantity\\': 8.378390789, \\'Advert\\': 1, \\'Price\\': 3.19, \\'Age60\\': 0.232864734, \\'COLLEGE\\': 0.248934934, \\'INCOME\\': 10.55320518, \\'Hincome150\\': 0.463887065, \\'Large HH\\': 0.103953406, \\'Minorities\\': 0.114279949, \\'WorkingWoman\\': 0.303585347, \\'SSTRDIST\\': 2.110122129, \\'SSTRVOL\\': 1.142857143, \\'CPDIST5\\': 1.927279669, \\'CPWVOL5\\': 0.37692661299999997}, {\\'WeekStarting\\': \\'1992-07-02\\', \\'Store\\': 2, \\'Brand\\': \\'tropicana\\', \\'logQuantity\\': 9.757305042, \\'Advert\\': 0, \\'Price\\': 2.69, \\'Age60\\': 0.232864734, \\'COLLEGE\\': 0.248934934, \\'INCOME\\': 10.55320518, \\'Hincome150\\': 0.463887065, \\'Large HH\\': 0.103953406, \\'Minorities\\': 0.114279949, \\'WorkingWoman\\': 0.303585347, \\'SSTRDIST\\': 2.110122129, \\'SSTRVOL\\': 1.142857143, \\'CPDIST5\\': 1.927279669, \\'CPWVOL5\\': 0.37692661299999997}, {\\'WeekStarting\\': \\'1992-07-09\\', \\'Store\\': 2, \\'Brand\\': \\'tropicana\\', \\'logQuantity\\': 8.647519453, \\'Advert\\': 0, \\'Price\\': 3.19, \\'Age60\\': 0.232864734, \\'COLLEGE\\': 0.248934934, \\'INCOME\\': 10.55320518, \\'Hincome150\\': 0.463887065, \\'Large HH\\': 0.103953406, \\'Minorities\\': 0.114279949, \\'WorkingWoman\\': 0.303585347, \\'SSTRDIST\\': 2.110122129, \\'SSTRVOL\\': 1.142857143, \\'CPDIST5\\': 1.927279669, \\'CPWVOL5\\': 0.37692661299999997}, {\\'WeekStarting\\': \\'1992-07-16\\', \\'Store\\': 2, \\'Brand\\': \\'tropicana\\', \\'logQuantity\\': 8.831711918, \\'Advert\\': 0, \\'Price\\': 3.19, \\'Age60\\': 0.232864734, \\'COLLEGE\\': 0.248934934, \\'INCOME\\': 10.55320518, \\'Hincome150\\': 0.463887065, \\'Large HH\\': 0.103953406, \\'Minorities\\': 0.114279949, \\'WorkingWoman\\': 0.303585347, \\'SSTRDIST\\': 2.110122129, \\'SSTRVOL\\': 1.142857143, \\'CPDIST5\\': 1.927279669, \\'CPWVOL5\\': 0.37692661299999997}, {\\'WeekStarting\\': \\'1992-07-23\\', \\'Store\\': 2, \\'Brand\\': \\'tropicana\\', \\'logQuantity\\': 8.392989587999999, \\'Advert\\': 0, \\'Price\\': 3.19, \\'Age60\\': 0.232864734, \\'COLLEGE\\': 0.248934934, \\'INCOME\\': 10.55320518, \\'Hincome150\\': 0.463887065, \\'Large HH\\': 0.103953406, \\'Minorities\\': 0.114279949, \\'WorkingWoman\\': 0.303585347, \\'SSTRDIST\\': 2.110122129, \\'SSTRVOL\\': 1.142857143, \\'CPDIST5\\': 1.927279669, \\'CPWVOL5\\': 0.37692661299999997}, {\\'WeekStarting\\': \\'1992-07-30\\', \\'Store\\': 2, \\'Brand\\': \\'tropicana\\', \\'logQuantity\\': 8.449342525, \\'Advert\\': 0, \\'Price\\': 3.16, \\'Age60\\': 0.232864734, \\'COLLEGE\\': 0.248934934, \\'INCOME\\': 10.55320518, \\'Hincome150\\': 0.463887065, \\'Large HH\\': 0.103953406, \\'Minorities\\': 0.114279949, \\'WorkingWoman\\': 0.303585347, \\'SSTRDIST\\': 2.110122129, \\'SSTRVOL\\': 1.142857143, \\'CPDIST5\\': 1.927279669, \\'CPWVOL5\\': 0.37692661299999997}, {\\'WeekStarting\\': \\'1992-08-06\\', \\'Store\\': 2, \\'Brand\\': \\'tropicana\\', \\'logQuantity\\': 8.877381955, \\'Advert\\': 1, \\'Price\\': 3.09, \\'Age60\\': 0.232864734, \\'COLLEGE\\': 0.248934934, \\'INCOME\\': 10.55320518, \\'Hincome150\\': 0.463887065, \\'Large HH\\': 0.103953406, \\'Minorities\\': 0.114279949, \\'WorkingWoman\\': 0.303585347, \\'SSTRDIST\\': 2.110122129, \\'SSTRVOL\\': 1.142857143, \\'CPDIST5\\': 1.927279669, \\'CPWVOL5\\': 0.37692661299999997}, {\\'WeekStarting\\': \\'1992-08-13\\', \\'Store\\': 2, \\'Brand\\': \\'tropicana\\', \\'logQuantity\\': 8.528330936, \\'Advert\\': 0, \\'Price\\': 3.19, \\'Age60\\': 0.232864734, \\'COLLEGE\\': 0.248934934, \\'INCOME\\': 10.55320518, \\'Hincome150\\': 0.463887065, \\'Large HH\\': 0.103953406, \\'Minorities\\': 0.114279949, \\'WorkingWoman\\': 0.303585347, \\'SSTRDIST\\': 2.110122129, \\'SSTRVOL\\': 1.142857143, \\'CPDIST5\\': 1.927279669, \\'CPWVOL5\\': 0.37692661299999997}, {\\'WeekStarting\\': \\'1992-08-20\\', \\'Store\\': 2, \\'Brand\\': \\'tropicana\\', \\'logQuantity\\': 9.501217335, \\'Advert\\': 1, \\'Price\\': 2.79, \\'Age60\\': 0.232864734, \\'COLLEGE\\': 0.248934934, \\'INCOME\\': 10.55320518, \\'Hincome150\\': 0.463887065, \\'Large HH\\': 0.103953406, \\'Minorities\\': 0.114279949, \\'WorkingWoman\\': 0.303585347, \\'SSTRDIST\\': 2.110122129, \\'SSTRVOL\\': 1.142857143, \\'CPDIST5\\': 1.927279669, \\'CPWVOL5\\': 0.37692661299999997}, {\\'WeekStarting\\': \\'1992-08-27\\', \\'Store\\': 2, \\'Brand\\': \\'tropicana\\', \\'logQuantity\\': 9.00307017, \\'Advert\\': 0, \\'Price\\': 2.75, \\'Age60\\': 0.232864734, \\'COLLEGE\\': 0.248934934, \\'INCOME\\': 10.55320518, \\'Hincome150\\': 0.463887065, \\'Large HH\\': 0.103953406, \\'Minorities\\': 0.114279949, \\'WorkingWoman\\': 0.303585347, \\'SSTRDIST\\': 2.110122129, \\'SSTRVOL\\': 1.142857143, \\'CPDIST5\\': 1.927279669, \\'CPWVOL5\\': 0.37692661299999997}, {\\'WeekStarting\\': \\'1992-09-03\\', \\'Store\\': 2, \\'Brand\\': \\'tropicana\\', \\'logQuantity\\': 9.875910785, \\'Advert\\': 1, \\'Price\\': 2.49, \\'Age60\\': 0.232864734, \\'COLLEGE\\': 0.248934934, \\'INCOME\\': 10.55320518, \\'Hincome150\\': 0.463887065, \\'Large HH\\': 0.103953406, \\'Minorities\\': 0.114279949, \\'WorkingWoman\\': 0.303585347, \\'SSTRDIST\\': 2.110122129, \\'SSTRVOL\\': 1.142857143, \\'CPDIST5\\': 1.927279669, \\'CPWVOL5\\': 0.37692661299999997}, {\\'WeekStarting\\': \\'1992-09-10\\', \\'Store\\': 2, \\'Brand\\': \\'tropicana\\', \\'logQuantity\\': 9.215128888999999, \\'Advert\\': 0, \\'Price\\': 2.64, \\'Age60\\': 0.232864734, \\'COLLEGE\\': 0.248934934, \\'INCOME\\': 10.55320518, \\'Hincome150\\': 0.463887065, \\'Large HH\\': 0.103953406, \\'Minorities\\': 0.114279949, \\'WorkingWoman\\': 0.303585347, \\'SSTRDIST\\': 2.110122129, \\'SSTRVOL\\': 1.142857143, \\'CPDIST5\\': 1.927279669, \\'CPWVOL5\\': 0.37692661299999997}, {\\'WeekStarting\\': \\'1992-09-17\\', \\'Store\\': 2, \\'Brand\\': \\'tropicana\\', \\'logQuantity\\': 8.754002933999999, \\'Advert\\': 0, \\'Price\\': 3.19, \\'Age60\\': 0.232864734, \\'COLLEGE\\': 0.248934934, \\'INCOME\\': 10.55320518, \\'Hincome150\\': 0.463887065, \\'Large HH\\': 0.103953406, \\'Minorities\\': 0.114279949, \\'WorkingWoman\\': 0.303585347, \\'SSTRDIST\\': 2.110122129, \\'SSTRVOL\\': 1.142857143, \\'CPDIST5\\': 1.927279669, \\'CPWVOL5\\': 0.37692661299999997}, {\\'WeekStarting\\': \\'1992-09-24\\', \\'Store\\': 2, \\'Brand\\': \\'tropicana\\', \\'logQuantity\\': 9.692272572, \\'Advert\\': 1, \\'Price\\': 2.79, \\'Age60\\': 0.232864734, \\'COLLEGE\\': 0.248934934, \\'INCOME\\': 10.55320518, \\'Hincome150\\': 0.463887065, \\'Large HH\\': 0.103953406, \\'Minorities\\': 0.114279949, \\'WorkingWoman\\': 0.303585347, \\'SSTRDIST\\': 2.110122129, \\'SSTRVOL\\': 1.142857143, \\'CPDIST5\\': 1.927279669, \\'CPWVOL5\\': 0.37692661299999997}, {\\'WeekStarting\\': \\'1992-10-01\\', \\'Store\\': 2, \\'Brand\\': \\'tropicana\\', \\'logQuantity\\': 8.66974259, \\'Advert\\': 0, \\'Price\\': 2.97, \\'Age60\\': 0.232864734, \\'COLLEGE\\': 0.248934934, \\'INCOME\\': 10.55320518, \\'Hincome150\\': 0.463887065, \\'Large HH\\': 0.103953406, \\'Minorities\\': 0.114279949, \\'WorkingWoman\\': 0.303585347, \\'SSTRDIST\\': 2.110122129, \\'SSTRVOL\\': 1.142857143, \\'CPDIST5\\': 1.927279669, \\'CPWVOL5\\': 0.37692661299999997}, {\\'WeekStarting\\': \\'1992-05-14\\', \\'Store\\': 5, \\'Brand\\': \\'dominicks\\', \\'logQuantity\\': 8.333270353, \\'Advert\\': 0, \\'Price\\': 1.99, \\'Age60\\': 0.117368032, \\'COLLEGE\\': 0.32122573, \\'INCOME\\': 10.92237097, \\'Hincome150\\': 0.535883355, \\'Large HH\\': 0.103091585, \\'Minorities\\': 0.053875277, \\'WorkingWoman\\': 0.410568032, \\'SSTRDIST\\': 3.801997814, \\'SSTRVOL\\': 0.681818182, \\'CPDIST5\\': 1.600573425, \\'CPWVOL5\\': 0.736306837}, {\\'WeekStarting\\': \\'1992-05-21\\', \\'Store\\': 5, \\'Brand\\': \\'dominicks\\', \\'logQuantity\\': 10.06424493, \\'Advert\\': 0, \\'Price\\': 1.69, \\'Age60\\': 0.117368032, \\'COLLEGE\\': 0.32122573, \\'INCOME\\': 10.92237097, \\'Hincome150\\': 0.535883355, \\'Large HH\\': 0.103091585, \\'Minorities\\': 0.053875277, \\'WorkingWoman\\': 0.410568032, \\'SSTRDIST\\': 3.801997814, \\'SSTRVOL\\': 0.681818182, \\'CPDIST5\\': 1.600573425, \\'CPWVOL5\\': 0.736306837}, {\\'WeekStarting\\': \\'1992-05-28\\', \\'Store\\': 5, \\'Brand\\': \\'dominicks\\', \\'logQuantity\\': 11.01006801, \\'Advert\\': 0, \\'Price\\': 1.69, \\'Age60\\': 0.117368032, \\'COLLEGE\\': 0.32122573, \\'INCOME\\': 10.92237097, \\'Hincome150\\': 0.535883355, \\'Large HH\\': 0.103091585, \\'Minorities\\': 0.053875277, \\'WorkingWoman\\': 0.410568032, \\'SSTRDIST\\': 3.801997814, \\'SSTRVOL\\': 0.681818182, \\'CPDIST5\\': 1.600573425, \\'CPWVOL5\\': 0.736306837}, {\\'WeekStarting\\': \\'1992-06-04\\', \\'Store\\': 5, \\'Brand\\': \\'dominicks\\', \\'logQuantity\\': 9.924074186, \\'Advert\\': 0, \\'Price\\': 1.69, \\'Age60\\': 0.117368032, \\'COLLEGE\\': 0.32122573, \\'INCOME\\': 10.92237097, \\'Hincome150\\': 0.535883355, \\'Large HH\\': 0.103091585, \\'Minorities\\': 0.053875277, \\'WorkingWoman\\': 0.410568032, \\'SSTRDIST\\': 3.801997814, \\'SSTRVOL\\': 0.681818182, \\'CPDIST5\\': 1.600573425, \\'CPWVOL5\\': 0.736306837}, {\\'WeekStarting\\': \\'1992-06-11\\', \\'Store\\': 5, \\'Brand\\': \\'dominicks\\', \\'logQuantity\\': 8.754002933999999, \\'Advert\\': 0, \\'Price\\': 1.99, \\'Age60\\': 0.117368032, \\'COLLEGE\\': 0.32122573, \\'INCOME\\': 10.92237097, \\'Hincome150\\': 0.535883355, \\'Large HH\\': 0.103091585, \\'Minorities\\': 0.053875277, \\'WorkingWoman\\': 0.410568032, \\'SSTRDIST\\': 3.801997814, \\'SSTRVOL\\': 0.681818182, \\'CPDIST5\\': 1.600573425, \\'CPWVOL5\\': 0.736306837}, {\\'WeekStarting\\': \\'1992-06-25\\', \\'Store\\': 5, \\'Brand\\': \\'dominicks\\', \\'logQuantity\\': 7.249925537, \\'Advert\\': 0, \\'Price\\': 1.99, \\'Age60\\': 0.117368032, \\'COLLEGE\\': 0.32122573, \\'INCOME\\': 10.92237097, \\'Hincome150\\': 0.535883355, \\'Large HH\\': 0.103091585, \\'Minorities\\': 0.053875277, \\'WorkingWoman\\': 0.410568032, \\'SSTRDIST\\': 3.801997814, \\'SSTRVOL\\': 0.681818182, \\'CPDIST5\\': 1.600573425, \\'CPWVOL5\\': 0.736306837}, {\\'WeekStarting\\': \\'1992-07-02\\', \\'Store\\': 5, \\'Brand\\': \\'dominicks\\', \\'logQuantity\\': 8.449342525, \\'Advert\\': 0, \\'Price\\': 1.99, \\'Age60\\': 0.117368032, \\'COLLEGE\\': 0.32122573, \\'INCOME\\': 10.92237097, \\'Hincome150\\': 0.535883355, \\'Large HH\\': 0.103091585, \\'Minorities\\': 0.053875277, \\'WorkingWoman\\': 0.410568032, \\'SSTRDIST\\': 3.801997814, \\'SSTRVOL\\': 0.681818182, \\'CPDIST5\\': 1.600573425, \\'CPWVOL5\\': 0.736306837}, {\\'WeekStarting\\': \\'1992-07-09\\', \\'Store\\': 5, \\'Brand\\': \\'dominicks\\', \\'logQuantity\\': 9.87919486, \\'Advert\\': 0, \\'Price\\': 1.29, \\'Age60\\': 0.117368032, \\'COLLEGE\\': 0.32122573, \\'INCOME\\': 10.92237097, \\'Hincome150\\': 0.535883355, \\'Large HH\\': 0.103091585, \\'Minorities\\': 0.053875277, \\'WorkingWoman\\': 0.410568032, \\'SSTRDIST\\': 3.801997814, \\'SSTRVOL\\': 0.681818182, \\'CPDIST5\\': 1.600573425, \\'CPWVOL5\\': 0.736306837}, {\\'WeekStarting\\': \\'1992-07-16\\', \\'Store\\': 5, \\'Brand\\': \\'dominicks\\', \\'logQuantity\\': 8.971067439, \\'Advert\\': 0, \\'Price\\': 1.99, \\'Age60\\': 0.117368032, \\'COLLEGE\\': 0.32122573, \\'INCOME\\': 10.92237097, \\'Hincome150\\': 0.535883355, \\'Large HH\\': 0.103091585, \\'Minorities\\': 0.053875277, \\'WorkingWoman\\': 0.410568032, \\'SSTRDIST\\': 3.801997814, \\'SSTRVOL\\': 0.681818182, \\'CPDIST5\\': 1.600573425, \\'CPWVOL5\\': 0.736306837}, {\\'WeekStarting\\': \\'1992-07-23\\', \\'Store\\': 5, \\'Brand\\': \\'dominicks\\', \\'logQuantity\\': 8.553332238, \\'Advert\\': 0, \\'Price\\': 1.69, \\'Age60\\': 0.117368032, \\'COLLEGE\\': 0.32122573, \\'INCOME\\': 10.92237097, \\'Hincome150\\': 0.535883355, \\'Large HH\\': 0.103091585, \\'Minorities\\': 0.053875277, \\'WorkingWoman\\': 0.410568032, \\'SSTRDIST\\': 3.801997814, \\'SSTRVOL\\': 0.681818182, \\'CPDIST5\\': 1.600573425, \\'CPWVOL5\\': 0.736306837}, {\\'WeekStarting\\': \\'1992-07-30\\', \\'Store\\': 5, \\'Brand\\': \\'dominicks\\', \\'logQuantity\\': 10.65112292, \\'Advert\\': 1, \\'Price\\': 1.49, \\'Age60\\': 0.117368032, \\'COLLEGE\\': 0.32122573, \\'INCOME\\': 10.92237097, \\'Hincome150\\': 0.535883355, \\'Large HH\\': 0.103091585, \\'Minorities\\': 0.053875277, \\'WorkingWoman\\': 0.410568032, \\'SSTRDIST\\': 3.801997814, \\'SSTRVOL\\': 0.681818182, \\'CPDIST5\\': 1.600573425, \\'CPWVOL5\\': 0.736306837}, {\\'WeekStarting\\': \\'1992-08-06\\', \\'Store\\': 5, \\'Brand\\': \\'dominicks\\', \\'logQuantity\\': 8.793612072, \\'Advert\\': 1, \\'Price\\': 1.89, \\'Age60\\': 0.117368032, \\'COLLEGE\\': 0.32122573, \\'INCOME\\': 10.92237097, \\'Hincome150\\': 0.535883355, \\'Large HH\\': 0.103091585, \\'Minorities\\': 0.053875277, \\'WorkingWoman\\': 0.410568032, \\'SSTRDIST\\': 3.801997814, \\'SSTRVOL\\': 0.681818182, \\'CPDIST5\\': 1.600573425, \\'CPWVOL5\\': 0.736306837}, {\\'WeekStarting\\': \\'1992-08-13\\', \\'Store\\': 5, \\'Brand\\': \\'dominicks\\', \\'logQuantity\\': 7.655390645, \\'Advert\\': 0, \\'Price\\': 1.99, \\'Age60\\': 0.117368032, \\'COLLEGE\\': 0.32122573, \\'INCOME\\': 10.92237097, \\'Hincome150\\': 0.535883355, \\'Large HH\\': 0.103091585, \\'Minorities\\': 0.053875277, \\'WorkingWoman\\': 0.410568032, \\'SSTRDIST\\': 3.801997814, \\'SSTRVOL\\': 0.681818182, \\'CPDIST5\\': 1.600573425, \\'CPWVOL5\\': 0.736306837}, {\\'WeekStarting\\': \\'1992-08-20\\', \\'Store\\': 5, \\'Brand\\': \\'dominicks\\', \\'logQuantity\\': 9.964018052, \\'Advert\\': 0, \\'Price\\': 1.79, \\'Age60\\': 0.117368032, \\'COLLEGE\\': 0.32122573, \\'INCOME\\': 10.92237097, \\'Hincome150\\': 0.535883355, \\'Large HH\\': 0.103091585, \\'Minorities\\': 0.053875277, \\'WorkingWoman\\': 0.410568032, \\'SSTRDIST\\': 3.801997814, \\'SSTRVOL\\': 0.681818182, \\'CPDIST5\\': 1.600573425, \\'CPWVOL5\\': 0.736306837}, {\\'WeekStarting\\': \\'1992-08-27\\', \\'Store\\': 5, \\'Brand\\': \\'dominicks\\', \\'logQuantity\\': 7.526178913, \\'Advert\\': 0, \\'Price\\': 1.29, \\'Age60\\': 0.117368032, \\'COLLEGE\\': 0.32122573, \\'INCOME\\': 10.92237097, \\'Hincome150\\': 0.535883355, \\'Large HH\\': 0.103091585, \\'Minorities\\': 0.053875277, \\'WorkingWoman\\': 0.410568032, \\'SSTRDIST\\': 3.801997814, \\'SSTRVOL\\': 0.681818182, \\'CPDIST5\\': 1.600573425, \\'CPWVOL5\\': 0.736306837}, {\\'WeekStarting\\': \\'1992-09-03\\', \\'Store\\': 5, \\'Brand\\': \\'dominicks\\', \\'logQuantity\\': 8.219326094, \\'Advert\\': 0, \\'Price\\': 1.99, \\'Age60\\': 0.117368032, \\'COLLEGE\\': 0.32122573, \\'INCOME\\': 10.92237097, \\'Hincome150\\': 0.535883355, \\'Large HH\\': 0.103091585, \\'Minorities\\': 0.053875277, \\'WorkingWoman\\': 0.410568032, \\'SSTRDIST\\': 3.801997814, \\'SSTRVOL\\': 0.681818182, \\'CPDIST5\\': 1.600573425, \\'CPWVOL5\\': 0.736306837}, {\\'WeekStarting\\': \\'1992-09-10\\', \\'Store\\': 5, \\'Brand\\': \\'dominicks\\', \\'logQuantity\\': 7.896552702, \\'Advert\\': 0, \\'Price\\': 1.85, \\'Age60\\': 0.117368032, \\'COLLEGE\\': 0.32122573, \\'INCOME\\': 10.92237097, \\'Hincome150\\': 0.535883355, \\'Large HH\\': 0.103091585, \\'Minorities\\': 0.053875277, \\'WorkingWoman\\': 0.410568032, \\'SSTRDIST\\': 3.801997814, \\'SSTRVOL\\': 0.681818182, \\'CPDIST5\\': 1.600573425, \\'CPWVOL5\\': 0.736306837}, {\\'WeekStarting\\': \\'1992-09-17\\', \\'Store\\': 5, \\'Brand\\': \\'dominicks\\', \\'logQuantity\\': 8.774003599999999, \\'Advert\\': 0, \\'Price\\': 1.85, \\'Age60\\': 0.117368032, \\'COLLEGE\\': 0.32122573, \\'INCOME\\': 10.92237097, \\'Hincome150\\': 0.535883355, \\'Large HH\\': 0.103091585, \\'Minorities\\': 0.053875277, \\'WorkingWoman\\': 0.410568032, \\'SSTRDIST\\': 3.801997814, \\'SSTRVOL\\': 0.681818182, \\'CPDIST5\\': 1.600573425, \\'CPWVOL5\\': 0.736306837}, {\\'WeekStarting\\': \\'1992-09-24\\', \\'Store\\': 5, \\'Brand\\': \\'dominicks\\', \\'logQuantity\\': 10.61878754, \\'Advert\\': 0, \\'Price\\': 1.49, \\'Age60\\': 0.117368032, \\'COLLEGE\\': 0.32122573, \\'INCOME\\': 10.92237097, \\'Hincome150\\': 0.535883355, \\'Large HH\\': 0.103091585, \\'Minorities\\': 0.053875277, \\'WorkingWoman\\': 0.410568032, \\'SSTRDIST\\': 3.801997814, \\'SSTRVOL\\': 0.681818182, \\'CPDIST5\\': 1.600573425, \\'CPWVOL5\\': 0.736306837}, {\\'WeekStarting\\': \\'1992-10-01\\', \\'Store\\': 5, \\'Brand\\': \\'dominicks\\', \\'logQuantity\\': 8.723231275, \\'Advert\\': 0, \\'Price\\': 1.85, \\'Age60\\': 0.117368032, \\'COLLEGE\\': 0.32122573, \\'INCOME\\': 10.92237097, \\'Hincome150\\': 0.535883355, \\'Large HH\\': 0.103091585, \\'Minorities\\': 0.053875277, \\'WorkingWoman\\': 0.410568032, \\'SSTRDIST\\': 3.801997814, \\'SSTRVOL\\': 0.681818182, \\'CPDIST5\\': 1.600573425, \\'CPWVOL5\\': 0.736306837}, {\\'WeekStarting\\': \\'1992-05-14\\', \\'Store\\': 5, \\'Brand\\': \\'minute.maid\\', \\'logQuantity\\': 8.783855897, \\'Advert\\': 0, \\'Price\\': 2.66, \\'Age60\\': 0.117368032, \\'COLLEGE\\': 0.32122573, \\'INCOME\\': 10.92237097, \\'Hincome150\\': 0.535883355, \\'Large HH\\': 0.103091585, \\'Minorities\\': 0.053875277, \\'WorkingWoman\\': 0.410568032, \\'SSTRDIST\\': 3.801997814, \\'SSTRVOL\\': 0.681818182, \\'CPDIST5\\': 1.600573425, \\'CPWVOL5\\': 0.736306837}, {\\'WeekStarting\\': \\'1992-05-21\\', \\'Store\\': 5, \\'Brand\\': \\'minute.maid\\', \\'logQuantity\\': 10.33058368, \\'Advert\\': 1, \\'Price\\': 1.99, \\'Age60\\': 0.117368032, \\'COLLEGE\\': 0.32122573, \\'INCOME\\': 10.92237097, \\'Hincome150\\': 0.535883355, \\'Large HH\\': 0.103091585, \\'Minorities\\': 0.053875277, \\'WorkingWoman\\': 0.410568032, \\'SSTRDIST\\': 3.801997814, \\'SSTRVOL\\': 0.681818182, \\'CPDIST5\\': 1.600573425, \\'CPWVOL5\\': 0.736306837}, {\\'WeekStarting\\': \\'1992-05-28\\', \\'Store\\': 5, \\'Brand\\': \\'minute.maid\\', \\'logQuantity\\': 8.803273982999999, \\'Advert\\': 0, \\'Price\\': 2.66, \\'Age60\\': 0.117368032, \\'COLLEGE\\': 0.32122573, \\'INCOME\\': 10.92237097, \\'Hincome150\\': 0.535883355, \\'Large HH\\': 0.103091585, \\'Minorities\\': 0.053875277, \\'WorkingWoman\\': 0.410568032, \\'SSTRDIST\\': 3.801997814, \\'SSTRVOL\\': 0.681818182, \\'CPDIST5\\': 1.600573425, \\'CPWVOL5\\': 0.736306837}, {\\'WeekStarting\\': \\'1992-06-04\\', \\'Store\\': 5, \\'Brand\\': \\'minute.maid\\', \\'logQuantity\\': 8.392989587999999, \\'Advert\\': 0, \\'Price\\': 2.69, \\'Age60\\': 0.117368032, \\'COLLEGE\\': 0.32122573, \\'INCOME\\': 10.92237097, \\'Hincome150\\': 0.535883355, \\'Large HH\\': 0.103091585, \\'Minorities\\': 0.053875277, \\'WorkingWoman\\': 0.410568032, \\'SSTRDIST\\': 3.801997814, \\'SSTRVOL\\': 0.681818182, \\'CPDIST5\\': 1.600573425, \\'CPWVOL5\\': 0.736306837}, {\\'WeekStarting\\': \\'1992-06-11\\', \\'Store\\': 5, \\'Brand\\': \\'minute.maid\\', \\'logQuantity\\': 8.647519453, \\'Advert\\': 0, \\'Price\\': 2.69, \\'Age60\\': 0.117368032, \\'COLLEGE\\': 0.32122573, \\'INCOME\\': 10.92237097, \\'Hincome150\\': 0.535883355, \\'Large HH\\': 0.103091585, \\'Minorities\\': 0.053875277, \\'WorkingWoman\\': 0.410568032, \\'SSTRDIST\\': 3.801997814, \\'SSTRVOL\\': 0.681818182, \\'CPDIST5\\': 1.600573425, \\'CPWVOL5\\': 0.736306837}, {\\'WeekStarting\\': \\'1992-06-25\\', \\'Store\\': 5, \\'Brand\\': \\'minute.maid\\', \\'logQuantity\\': 8.647519453, \\'Advert\\': 0, \\'Price\\': 2.69, \\'Age60\\': 0.117368032, \\'COLLEGE\\': 0.32122573, \\'INCOME\\': 10.92237097, \\'Hincome150\\': 0.535883355, \\'Large HH\\': 0.103091585, \\'Minorities\\': 0.053875277, \\'WorkingWoman\\': 0.410568032, \\'SSTRDIST\\': 3.801997814, \\'SSTRVOL\\': 0.681818182, \\'CPDIST5\\': 1.600573425, \\'CPWVOL5\\': 0.736306837}, {\\'WeekStarting\\': \\'1992-07-02\\', \\'Store\\': 5, \\'Brand\\': \\'minute.maid\\', \\'logQuantity\\': 10.58860256, \\'Advert\\': 1, \\'Price\\': 2.01, \\'Age60\\': 0.117368032, \\'COLLEGE\\': 0.32122573, \\'INCOME\\': 10.92237097, \\'Hincome150\\': 0.535883355, \\'Large HH\\': 0.103091585, \\'Minorities\\': 0.053875277, \\'WorkingWoman\\': 0.410568032, \\'SSTRDIST\\': 3.801997814, \\'SSTRVOL\\': 0.681818182, \\'CPDIST5\\': 1.600573425, \\'CPWVOL5\\': 0.736306837}, {\\'WeekStarting\\': \\'1992-07-09\\', \\'Store\\': 5, \\'Brand\\': \\'minute.maid\\', \\'logQuantity\\': 8.733594062, \\'Advert\\': 1, \\'Price\\': 2.19, \\'Age60\\': 0.117368032, \\'COLLEGE\\': 0.32122573, \\'INCOME\\': 10.92237097, \\'Hincome150\\': 0.535883355, \\'Large HH\\': 0.103091585, \\'Minorities\\': 0.053875277, \\'WorkingWoman\\': 0.410568032, \\'SSTRDIST\\': 3.801997814, \\'SSTRVOL\\': 0.681818182, \\'CPDIST5\\': 1.600573425, \\'CPWVOL5\\': 0.736306837}, {\\'WeekStarting\\': \\'1992-07-16\\', \\'Store\\': 5, \\'Brand\\': \\'minute.maid\\', \\'logQuantity\\': 8.971067439, \\'Advert\\': 0, \\'Price\\': 2.69, \\'Age60\\': 0.117368032, \\'COLLEGE\\': 0.32122573, \\'INCOME\\': 10.92237097, \\'Hincome150\\': 0.535883355, \\'Large HH\\': 0.103091585, \\'Minorities\\': 0.053875277, \\'WorkingWoman\\': 0.410568032, \\'SSTRDIST\\': 3.801997814, \\'SSTRVOL\\': 0.681818182, \\'CPDIST5\\': 1.600573425, \\'CPWVOL5\\': 0.736306837}, {\\'WeekStarting\\': \\'1992-07-23\\', \\'Store\\': 5, \\'Brand\\': \\'minute.maid\\', \\'logQuantity\\': 10.90646961, \\'Advert\\': 1, \\'Price\\': 2.29, \\'Age60\\': 0.117368032, \\'COLLEGE\\': 0.32122573, \\'INCOME\\': 10.92237097, \\'Hincome150\\': 0.535883355, \\'Large HH\\': 0.103091585, \\'Minorities\\': 0.053875277, \\'WorkingWoman\\': 0.410568032, \\'SSTRDIST\\': 3.801997814, \\'SSTRVOL\\': 0.681818182, \\'CPDIST5\\': 1.600573425, \\'CPWVOL5\\': 0.736306837}, {\\'WeekStarting\\': \\'1992-07-30\\', \\'Store\\': 5, \\'Brand\\': \\'minute.maid\\', \\'logQuantity\\': 8.764053269, \\'Advert\\': 0, \\'Price\\': 2.69, \\'Age60\\': 0.117368032, \\'COLLEGE\\': 0.32122573, \\'INCOME\\': 10.92237097, \\'Hincome150\\': 0.535883355, \\'Large HH\\': 0.103091585, \\'Minorities\\': 0.053875277, \\'WorkingWoman\\': 0.410568032, \\'SSTRDIST\\': 3.801997814, \\'SSTRVOL\\': 0.681818182, \\'CPDIST5\\': 1.600573425, \\'CPWVOL5\\': 0.736306837}, {\\'WeekStarting\\': \\'1992-08-06\\', \\'Store\\': 5, \\'Brand\\': \\'minute.maid\\', \\'logQuantity\\': 8.68067166, \\'Advert\\': 1, \\'Price\\': 2.65, \\'Age60\\': 0.117368032, \\'COLLEGE\\': 0.32122573, \\'INCOME\\': 10.92237097, \\'Hincome150\\': 0.535883355, \\'Large HH\\': 0.103091585, \\'Minorities\\': 0.053875277, \\'WorkingWoman\\': 0.410568032, \\'SSTRDIST\\': 3.801997814, \\'SSTRVOL\\': 0.681818182, \\'CPDIST5\\': 1.600573425, \\'CPWVOL5\\': 0.736306837}, {\\'WeekStarting\\': \\'1992-08-13\\', \\'Store\\': 5, \\'Brand\\': \\'minute.maid\\', \\'logQuantity\\': 10.93994071, \\'Advert\\': 1, \\'Price\\': 1.99, \\'Age60\\': 0.117368032, \\'COLLEGE\\': 0.32122573, \\'INCOME\\': 10.92237097, \\'Hincome150\\': 0.535883355, \\'Large HH\\': 0.103091585, \\'Minorities\\': 0.053875277, \\'WorkingWoman\\': 0.410568032, \\'SSTRDIST\\': 3.801997814, \\'SSTRVOL\\': 0.681818182, \\'CPDIST5\\': 1.600573425, \\'CPWVOL5\\': 0.736306837}, {\\'WeekStarting\\': \\'1992-08-20\\', \\'Store\\': 5, \\'Brand\\': \\'minute.maid\\', \\'logQuantity\\': 10.20625526, \\'Advert\\': 1, \\'Price\\': 1.99, \\'Age60\\': 0.117368032, \\'COLLEGE\\': 0.32122573, \\'INCOME\\': 10.92237097, \\'Hincome150\\': 0.535883355, \\'Large HH\\': 0.103091585, \\'Minorities\\': 0.053875277, \\'WorkingWoman\\': 0.410568032, \\'SSTRDIST\\': 3.801997814, \\'SSTRVOL\\': 0.681818182, \\'CPDIST5\\': 1.600573425, \\'CPWVOL5\\': 0.736306837}, {\\'WeekStarting\\': \\'1992-08-27\\', \\'Store\\': 5, \\'Brand\\': \\'minute.maid\\', \\'logQuantity\\': 8.253227646000001, \\'Advert\\': 0, \\'Price\\': 1.69, \\'Age60\\': 0.117368032, \\'COLLEGE\\': 0.32122573, \\'INCOME\\': 10.92237097, \\'Hincome150\\': 0.535883355, \\'Large HH\\': 0.103091585, \\'Minorities\\': 0.053875277, \\'WorkingWoman\\': 0.410568032, \\'SSTRDIST\\': 3.801997814, \\'SSTRVOL\\': 0.681818182, \\'CPDIST5\\': 1.600573425, \\'CPWVOL5\\': 0.736306837}, {\\'WeekStarting\\': \\'1992-09-03\\', \\'Store\\': 5, \\'Brand\\': \\'minute.maid\\', \\'logQuantity\\': 8.723231275, \\'Advert\\': 0, \\'Price\\': 1.69, \\'Age60\\': 0.117368032, \\'COLLEGE\\': 0.32122573, \\'INCOME\\': 10.92237097, \\'Hincome150\\': 0.535883355, \\'Large HH\\': 0.103091585, \\'Minorities\\': 0.053875277, \\'WorkingWoman\\': 0.410568032, \\'SSTRDIST\\': 3.801997814, \\'SSTRVOL\\': 0.681818182, \\'CPDIST5\\': 1.600573425, \\'CPWVOL5\\': 0.736306837}, {\\'WeekStarting\\': \\'1992-09-10\\', \\'Store\\': 5, \\'Brand\\': \\'minute.maid\\', \\'logQuantity\\': 10.50276352, \\'Advert\\': 1, \\'Price\\': 1.99, \\'Age60\\': 0.117368032, \\'COLLEGE\\': 0.32122573, \\'INCOME\\': 10.92237097, \\'Hincome150\\': 0.535883355, \\'Large HH\\': 0.103091585, \\'Minorities\\': 0.053875277, \\'WorkingWoman\\': 0.410568032, \\'SSTRDIST\\': 3.801997814, \\'SSTRVOL\\': 0.681818182, \\'CPDIST5\\': 1.600573425, \\'CPWVOL5\\': 0.736306837}, {\\'WeekStarting\\': \\'1992-09-17\\', \\'Store\\': 5, \\'Brand\\': \\'minute.maid\\', \\'logQuantity\\': 8.60153434, \\'Advert\\': 0, \\'Price\\': 2.69, \\'Age60\\': 0.117368032, \\'COLLEGE\\': 0.32122573, \\'INCOME\\': 10.92237097, \\'Hincome150\\': 0.535883355, \\'Large HH\\': 0.103091585, \\'Minorities\\': 0.053875277, \\'WorkingWoman\\': 0.410568032, \\'SSTRDIST\\': 3.801997814, \\'SSTRVOL\\': 0.681818182, \\'CPDIST5\\': 1.600573425, \\'CPWVOL5\\': 0.736306837}, {\\'WeekStarting\\': \\'1992-09-24\\', \\'Store\\': 5, \\'Brand\\': \\'minute.maid\\', \\'logQuantity\\': 8.946374826, \\'Advert\\': 0, \\'Price\\': 2.49, \\'Age60\\': 0.117368032, \\'COLLEGE\\': 0.32122573, \\'INCOME\\': 10.92237097, \\'Hincome150\\': 0.535883355, \\'Large HH\\': 0.103091585, \\'Minorities\\': 0.053875277, \\'WorkingWoman\\': 0.410568032, \\'SSTRDIST\\': 3.801997814, \\'SSTRVOL\\': 0.681818182, \\'CPDIST5\\': 1.600573425, \\'CPWVOL5\\': 0.736306837}, {\\'WeekStarting\\': \\'1992-10-01\\', \\'Store\\': 5, \\'Brand\\': \\'minute.maid\\', \\'logQuantity\\': 10.82583988, \\'Advert\\': 1, \\'Price\\': 2.19, \\'Age60\\': 0.117368032, \\'COLLEGE\\': 0.32122573, \\'INCOME\\': 10.92237097, \\'Hincome150\\': 0.535883355, \\'Large HH\\': 0.103091585, \\'Minorities\\': 0.053875277, \\'WorkingWoman\\': 0.410568032, \\'SSTRDIST\\': 3.801997814, \\'SSTRVOL\\': 0.681818182, \\'CPDIST5\\': 1.600573425, \\'CPWVOL5\\': 0.736306837}, {\\'WeekStarting\\': \\'1992-05-14\\', \\'Store\\': 5, \\'Brand\\': \\'tropicana\\', \\'logQuantity\\': 8.946374826, \\'Advert\\': 0, \\'Price\\': 2.99, \\'Age60\\': 0.117368032, \\'COLLEGE\\': 0.32122573, \\'INCOME\\': 10.92237097, \\'Hincome150\\': 0.535883355, \\'Large HH\\': 0.103091585, \\'Minorities\\': 0.053875277, \\'WorkingWoman\\': 0.410568032, \\'SSTRDIST\\': 3.801997814, \\'SSTRVOL\\': 0.681818182, \\'CPDIST5\\': 1.600573425, \\'CPWVOL5\\': 0.736306837}, {\\'WeekStarting\\': \\'1992-05-21\\', \\'Store\\': 5, \\'Brand\\': \\'tropicana\\', \\'logQuantity\\': 9.071537969, \\'Advert\\': 0, \\'Price\\': 2.99, \\'Age60\\': 0.117368032, \\'COLLEGE\\': 0.32122573, \\'INCOME\\': 10.92237097, \\'Hincome150\\': 0.535883355, \\'Large HH\\': 0.103091585, \\'Minorities\\': 0.053875277, \\'WorkingWoman\\': 0.410568032, \\'SSTRDIST\\': 3.801997814, \\'SSTRVOL\\': 0.681818182, \\'CPDIST5\\': 1.600573425, \\'CPWVOL5\\': 0.736306837}, {\\'WeekStarting\\': \\'1992-05-28\\', \\'Store\\': 5, \\'Brand\\': \\'tropicana\\', \\'logQuantity\\': 9.2023082, \\'Advert\\': 0, \\'Price\\': 2.99, \\'Age60\\': 0.117368032, \\'COLLEGE\\': 0.32122573, \\'INCOME\\': 10.92237097, \\'Hincome150\\': 0.535883355, \\'Large HH\\': 0.103091585, \\'Minorities\\': 0.053875277, \\'WorkingWoman\\': 0.410568032, \\'SSTRDIST\\': 3.801997814, \\'SSTRVOL\\': 0.681818182, \\'CPDIST5\\': 1.600573425, \\'CPWVOL5\\': 0.736306837}, {\\'WeekStarting\\': \\'1992-06-04\\', \\'Store\\': 5, \\'Brand\\': \\'tropicana\\', \\'logQuantity\\': 11.42919597, \\'Advert\\': 1, \\'Price\\': 2.49, \\'Age60\\': 0.117368032, \\'COLLEGE\\': 0.32122573, \\'INCOME\\': 10.92237097, \\'Hincome150\\': 0.535883355, \\'Large HH\\': 0.103091585, \\'Minorities\\': 0.053875277, \\'WorkingWoman\\': 0.410568032, \\'SSTRDIST\\': 3.801997814, \\'SSTRVOL\\': 0.681818182, \\'CPDIST5\\': 1.600573425, \\'CPWVOL5\\': 0.736306837}, {\\'WeekStarting\\': \\'1992-06-11\\', \\'Store\\': 5, \\'Brand\\': \\'tropicana\\', \\'logQuantity\\': 10.69412435, \\'Advert\\': 0, \\'Price\\': 2.49, \\'Age60\\': 0.117368032, \\'COLLEGE\\': 0.32122573, \\'INCOME\\': 10.92237097, \\'Hincome150\\': 0.535883355, \\'Large HH\\': 0.103091585, \\'Minorities\\': 0.053875277, \\'WorkingWoman\\': 0.410568032, \\'SSTRDIST\\': 3.801997814, \\'SSTRVOL\\': 0.681818182, \\'CPDIST5\\': 1.600573425, \\'CPWVOL5\\': 0.736306837}, {\\'WeekStarting\\': \\'1992-06-25\\', \\'Store\\': 5, \\'Brand\\': \\'tropicana\\', \\'logQuantity\\': 8.895081532, \\'Advert\\': 1, \\'Price\\': 2.99, \\'Age60\\': 0.117368032, \\'COLLEGE\\': 0.32122573, \\'INCOME\\': 10.92237097, \\'Hincome150\\': 0.535883355, \\'Large HH\\': 0.103091585, \\'Minorities\\': 0.053875277, \\'WorkingWoman\\': 0.410568032, \\'SSTRDIST\\': 3.801997814, \\'SSTRVOL\\': 0.681818182, \\'CPDIST5\\': 1.600573425, \\'CPWVOL5\\': 0.736306837}, {\\'WeekStarting\\': \\'1992-07-02\\', \\'Store\\': 5, \\'Brand\\': \\'tropicana\\', \\'logQuantity\\': 9.467150781, \\'Advert\\': 0, \\'Price\\': 2.69, \\'Age60\\': 0.117368032, \\'COLLEGE\\': 0.32122573, \\'INCOME\\': 10.92237097, \\'Hincome150\\': 0.535883355, \\'Large HH\\': 0.103091585, \\'Minorities\\': 0.053875277, \\'WorkingWoman\\': 0.410568032, \\'SSTRDIST\\': 3.801997814, \\'SSTRVOL\\': 0.681818182, \\'CPDIST5\\': 1.600573425, \\'CPWVOL5\\': 0.736306837}, {\\'WeekStarting\\': \\'1992-07-09\\', \\'Store\\': 5, \\'Brand\\': \\'tropicana\\', \\'logQuantity\\': 8.831711918, \\'Advert\\': 0, \\'Price\\': 2.99, \\'Age60\\': 0.117368032, \\'COLLEGE\\': 0.32122573, \\'INCOME\\': 10.92237097, \\'Hincome150\\': 0.535883355, \\'Large HH\\': 0.103091585, \\'Minorities\\': 0.053875277, \\'WorkingWoman\\': 0.410568032, \\'SSTRDIST\\': 3.801997814, \\'SSTRVOL\\': 0.681818182, \\'CPDIST5\\': 1.600573425, \\'CPWVOL5\\': 0.736306837}, {\\'WeekStarting\\': \\'1992-07-16\\', \\'Store\\': 5, \\'Brand\\': \\'tropicana\\', \\'logQuantity\\': 8.99516499, \\'Advert\\': 0, \\'Price\\': 2.99, \\'Age60\\': 0.117368032, \\'COLLEGE\\': 0.32122573, \\'INCOME\\': 10.92237097, \\'Hincome150\\': 0.535883355, \\'Large HH\\': 0.103091585, \\'Minorities\\': 0.053875277, \\'WorkingWoman\\': 0.410568032, \\'SSTRDIST\\': 3.801997814, \\'SSTRVOL\\': 0.681818182, \\'CPDIST5\\': 1.600573425, \\'CPWVOL5\\': 0.736306837}, {\\'WeekStarting\\': \\'1992-07-23\\', \\'Store\\': 5, \\'Brand\\': \\'tropicana\\', \\'logQuantity\\': 8.51559191, \\'Advert\\': 0, \\'Price\\': 2.99, \\'Age60\\': 0.117368032, \\'COLLEGE\\': 0.32122573, \\'INCOME\\': 10.92237097, \\'Hincome150\\': 0.535883355, \\'Large HH\\': 0.103091585, \\'Minorities\\': 0.053875277, \\'WorkingWoman\\': 0.410568032, \\'SSTRDIST\\': 3.801997814, \\'SSTRVOL\\': 0.681818182, \\'CPDIST5\\': 1.600573425, \\'CPWVOL5\\': 0.736306837}, {\\'WeekStarting\\': \\'1992-07-30\\', \\'Store\\': 5, \\'Brand\\': \\'tropicana\\', \\'logQuantity\\': 8.903815212, \\'Advert\\': 0, \\'Price\\': 2.99, \\'Age60\\': 0.117368032, \\'COLLEGE\\': 0.32122573, \\'INCOME\\': 10.92237097, \\'Hincome150\\': 0.535883355, \\'Large HH\\': 0.103091585, \\'Minorities\\': 0.053875277, \\'WorkingWoman\\': 0.410568032, \\'SSTRDIST\\': 3.801997814, \\'SSTRVOL\\': 0.681818182, \\'CPDIST5\\': 1.600573425, \\'CPWVOL5\\': 0.736306837}, {\\'WeekStarting\\': \\'1992-08-06\\', \\'Store\\': 5, \\'Brand\\': \\'tropicana\\', \\'logQuantity\\': 9.034080407000001, \\'Advert\\': 1, \\'Price\\': 2.89, \\'Age60\\': 0.117368032, \\'COLLEGE\\': 0.32122573, \\'INCOME\\': 10.92237097, \\'Hincome150\\': 0.535883355, \\'Large HH\\': 0.103091585, \\'Minorities\\': 0.053875277, \\'WorkingWoman\\': 0.410568032, \\'SSTRDIST\\': 3.801997814, \\'SSTRVOL\\': 0.681818182, \\'CPDIST5\\': 1.600573425, \\'CPWVOL5\\': 0.736306837}, {\\'WeekStarting\\': \\'1992-08-13\\', \\'Store\\': 5, \\'Brand\\': \\'tropicana\\', \\'logQuantity\\': 9.086136769, \\'Advert\\': 0, \\'Price\\': 2.99, \\'Age60\\': 0.117368032, \\'COLLEGE\\': 0.32122573, \\'INCOME\\': 10.92237097, \\'Hincome150\\': 0.535883355, \\'Large HH\\': 0.103091585, \\'Minorities\\': 0.053875277, \\'WorkingWoman\\': 0.410568032, \\'SSTRDIST\\': 3.801997814, \\'SSTRVOL\\': 0.681818182, \\'CPDIST5\\': 1.600573425, \\'CPWVOL5\\': 0.736306837}, {\\'WeekStarting\\': \\'1992-08-20\\', \\'Store\\': 5, \\'Brand\\': \\'tropicana\\', \\'logQuantity\\': 9.78290059, \\'Advert\\': 1, \\'Price\\': 2.79, \\'Age60\\': 0.117368032, \\'COLLEGE\\': 0.32122573, \\'INCOME\\': 10.92237097, \\'Hincome150\\': 0.535883355, \\'Large HH\\': 0.103091585, \\'Minorities\\': 0.053875277, \\'WorkingWoman\\': 0.410568032, \\'SSTRDIST\\': 3.801997814, \\'SSTRVOL\\': 0.681818182, \\'CPDIST5\\': 1.600573425, \\'CPWVOL5\\': 0.736306837}, {\\'WeekStarting\\': \\'1992-08-27\\', \\'Store\\': 5, \\'Brand\\': \\'tropicana\\', \\'logQuantity\\': 9.169518378, \\'Advert\\': 0, \\'Price\\': 2.99, \\'Age60\\': 0.117368032, \\'COLLEGE\\': 0.32122573, \\'INCOME\\': 10.92237097, \\'Hincome150\\': 0.535883355, \\'Large HH\\': 0.103091585, \\'Minorities\\': 0.053875277, \\'WorkingWoman\\': 0.410568032, \\'SSTRDIST\\': 3.801997814, \\'SSTRVOL\\': 0.681818182, \\'CPDIST5\\': 1.600573425, \\'CPWVOL5\\': 0.736306837}, {\\'WeekStarting\\': \\'1992-09-03\\', \\'Store\\': 5, \\'Brand\\': \\'tropicana\\', \\'logQuantity\\': 10.15284451, \\'Advert\\': 1, \\'Price\\': 2.49, \\'Age60\\': 0.117368032, \\'COLLEGE\\': 0.32122573, \\'INCOME\\': 10.92237097, \\'Hincome150\\': 0.535883355, \\'Large HH\\': 0.103091585, \\'Minorities\\': 0.053875277, \\'WorkingWoman\\': 0.410568032, \\'SSTRDIST\\': 3.801997814, \\'SSTRVOL\\': 0.681818182, \\'CPDIST5\\': 1.600573425, \\'CPWVOL5\\': 0.736306837}, {\\'WeekStarting\\': \\'1992-09-10\\', \\'Store\\': 5, \\'Brand\\': \\'tropicana\\', \\'logQuantity\\': 9.208739091, \\'Advert\\': 0, \\'Price\\': 2.49, \\'Age60\\': 0.117368032, \\'COLLEGE\\': 0.32122573, \\'INCOME\\': 10.92237097, \\'Hincome150\\': 0.535883355, \\'Large HH\\': 0.103091585, \\'Minorities\\': 0.053875277, \\'WorkingWoman\\': 0.410568032, \\'SSTRDIST\\': 3.801997814, \\'SSTRVOL\\': 0.681818182, \\'CPDIST5\\': 1.600573425, \\'CPWVOL5\\': 0.736306837}, {\\'WeekStarting\\': \\'1992-09-17\\', \\'Store\\': 5, \\'Brand\\': \\'tropicana\\', \\'logQuantity\\': 9.056722882999999, \\'Advert\\': 0, \\'Price\\': 2.99, \\'Age60\\': 0.117368032, \\'COLLEGE\\': 0.32122573, \\'INCOME\\': 10.92237097, \\'Hincome150\\': 0.535883355, \\'Large HH\\': 0.103091585, \\'Minorities\\': 0.053875277, \\'WorkingWoman\\': 0.410568032, \\'SSTRDIST\\': 3.801997814, \\'SSTRVOL\\': 0.681818182, \\'CPDIST5\\': 1.600573425, \\'CPWVOL5\\': 0.736306837}, {\\'WeekStarting\\': \\'1992-09-24\\', \\'Store\\': 5, \\'Brand\\': \\'tropicana\\', \\'logQuantity\\': 9.486759252, \\'Advert\\': 1, \\'Price\\': 2.78, \\'Age60\\': 0.117368032, \\'COLLEGE\\': 0.32122573, \\'INCOME\\': 10.92237097, \\'Hincome150\\': 0.535883355, \\'Large HH\\': 0.103091585, \\'Minorities\\': 0.053875277, \\'WorkingWoman\\': 0.410568032, \\'SSTRDIST\\': 3.801997814, \\'SSTRVOL\\': 0.681818182, \\'CPDIST5\\': 1.600573425, \\'CPWVOL5\\': 0.736306837}, {\\'WeekStarting\\': \\'1992-10-01\\', \\'Store\\': 5, \\'Brand\\': \\'tropicana\\', \\'logQuantity\\': 8.921057017999999, \\'Advert\\': 0, \\'Price\\': 2.78, \\'Age60\\': 0.117368032, \\'COLLEGE\\': 0.32122573, \\'INCOME\\': 10.92237097, \\'Hincome150\\': 0.535883355, \\'Large HH\\': 0.103091585, \\'Minorities\\': 0.053875277, \\'WorkingWoman\\': 0.410568032, \\'SSTRDIST\\': 3.801997814, \\'SSTRVOL\\': 0.681818182, \\'CPDIST5\\': 1.600573425, \\'CPWVOL5\\': 0.736306837}, {\\'WeekStarting\\': \\'1992-05-14\\', \\'Store\\': 8, \\'Brand\\': \\'dominicks\\', \\'logQuantity\\': 9.911455722000001, \\'Advert\\': 0, \\'Price\\': 1.79, \\'Age60\\': 0.252394035, \\'COLLEGE\\': 0.095173274, \\'INCOME\\': 10.59700966, \\'Hincome150\\': 0.054227156, \\'Large HH\\': 0.131749698, \\'Minorities\\': 0.035243328, \\'WorkingWoman\\': 0.283074736, \\'SSTRDIST\\': 2.636332801, \\'SSTRVOL\\': 1.5, \\'CPDIST5\\': 2.905384316, \\'CPWVOL5\\': 0.641015947}, {\\'WeekStarting\\': \\'1992-05-21\\', \\'Store\\': 8, \\'Brand\\': \\'dominicks\\', \\'logQuantity\\': 9.835636886, \\'Advert\\': 0, \\'Price\\': 1.69, \\'Age60\\': 0.252394035, \\'COLLEGE\\': 0.095173274, \\'INCOME\\': 10.59700966, \\'Hincome150\\': 0.054227156, \\'Large HH\\': 0.131749698, \\'Minorities\\': 0.035243328, \\'WorkingWoman\\': 0.283074736, \\'SSTRDIST\\': 2.636332801, \\'SSTRVOL\\': 1.5, \\'CPDIST5\\': 2.905384316, \\'CPWVOL5\\': 0.641015947}, {\\'WeekStarting\\': \\'1992-05-28\\', \\'Store\\': 8, \\'Brand\\': \\'dominicks\\', \\'logQuantity\\': 11.80428078, \\'Advert\\': 0, \\'Price\\': 1.69, \\'Age60\\': 0.252394035, \\'COLLEGE\\': 0.095173274, \\'INCOME\\': 10.59700966, \\'Hincome150\\': 0.054227156, \\'Large HH\\': 0.131749698, \\'Minorities\\': 0.035243328, \\'WorkingWoman\\': 0.283074736, \\'SSTRDIST\\': 2.636332801, \\'SSTRVOL\\': 1.5, \\'CPDIST5\\': 2.905384316, \\'CPWVOL5\\': 0.641015947}, {\\'WeekStarting\\': \\'1992-06-04\\', \\'Store\\': 8, \\'Brand\\': \\'dominicks\\', \\'logQuantity\\': 11.05860619, \\'Advert\\': 0, \\'Price\\': 1.69, \\'Age60\\': 0.252394035, \\'COLLEGE\\': 0.095173274, \\'INCOME\\': 10.59700966, \\'Hincome150\\': 0.054227156, \\'Large HH\\': 0.131749698, \\'Minorities\\': 0.035243328, \\'WorkingWoman\\': 0.283074736, \\'SSTRDIST\\': 2.636332801, \\'SSTRVOL\\': 1.5, \\'CPDIST5\\': 2.905384316, \\'CPWVOL5\\': 0.641015947}, {\\'WeekStarting\\': \\'1992-06-11\\', \\'Store\\': 8, \\'Brand\\': \\'dominicks\\', \\'logQuantity\\': 11.17099838, \\'Advert\\': 0, \\'Price\\': 1.79, \\'Age60\\': 0.252394035, \\'COLLEGE\\': 0.095173274, \\'INCOME\\': 10.59700966, \\'Hincome150\\': 0.054227156, \\'Large HH\\': 0.131749698, \\'Minorities\\': 0.035243328, \\'WorkingWoman\\': 0.283074736, \\'SSTRDIST\\': 2.636332801, \\'SSTRVOL\\': 1.5, \\'CPDIST5\\': 2.905384316, \\'CPWVOL5\\': 0.641015947}, {\\'WeekStarting\\': \\'1992-06-25\\', \\'Store\\': 8, \\'Brand\\': \\'dominicks\\', \\'logQuantity\\': 9.639522007, \\'Advert\\': 0, \\'Price\\': 1.79, \\'Age60\\': 0.252394035, \\'COLLEGE\\': 0.095173274, \\'INCOME\\': 10.59700966, \\'Hincome150\\': 0.054227156, \\'Large HH\\': 0.131749698, \\'Minorities\\': 0.035243328, \\'WorkingWoman\\': 0.283074736, \\'SSTRDIST\\': 2.636332801, \\'SSTRVOL\\': 1.5, \\'CPDIST5\\': 2.905384316, \\'CPWVOL5\\': 0.641015947}, {\\'WeekStarting\\': \\'1992-07-02\\', \\'Store\\': 8, \\'Brand\\': \\'dominicks\\', \\'logQuantity\\': 9.78290059, \\'Advert\\': 0, \\'Price\\': 1.79, \\'Age60\\': 0.252394035, \\'COLLEGE\\': 0.095173274, \\'INCOME\\': 10.59700966, \\'Hincome150\\': 0.054227156, \\'Large HH\\': 0.131749698, \\'Minorities\\': 0.035243328, \\'WorkingWoman\\': 0.283074736, \\'SSTRDIST\\': 2.636332801, \\'SSTRVOL\\': 1.5, \\'CPDIST5\\': 2.905384316, \\'CPWVOL5\\': 0.641015947}, {\\'WeekStarting\\': \\'1992-07-09\\', \\'Store\\': 8, \\'Brand\\': \\'dominicks\\', \\'logQuantity\\': 10.09641929, \\'Advert\\': 0, \\'Price\\': 1.29, \\'Age60\\': 0.252394035, \\'COLLEGE\\': 0.095173274, \\'INCOME\\': 10.59700966, \\'Hincome150\\': 0.054227156, \\'Large HH\\': 0.131749698, \\'Minorities\\': 0.035243328, \\'WorkingWoman\\': 0.283074736, \\'SSTRDIST\\': 2.636332801, \\'SSTRVOL\\': 1.5, \\'CPDIST5\\': 2.905384316, \\'CPWVOL5\\': 0.641015947}, {\\'WeekStarting\\': \\'1992-07-16\\', \\'Store\\': 8, \\'Brand\\': \\'dominicks\\', \\'logQuantity\\': 9.901886271, \\'Advert\\': 0, \\'Price\\': 1.79, \\'Age60\\': 0.252394035, \\'COLLEGE\\': 0.095173274, \\'INCOME\\': 10.59700966, \\'Hincome150\\': 0.054227156, \\'Large HH\\': 0.131749698, \\'Minorities\\': 0.035243328, \\'WorkingWoman\\': 0.283074736, \\'SSTRDIST\\': 2.636332801, \\'SSTRVOL\\': 1.5, \\'CPDIST5\\': 2.905384316, \\'CPWVOL5\\': 0.641015947}, {\\'WeekStarting\\': \\'1992-07-23\\', \\'Store\\': 8, \\'Brand\\': \\'dominicks\\', \\'logQuantity\\': 9.67633598, \\'Advert\\': 0, \\'Price\\': 1.69, \\'Age60\\': 0.252394035, \\'COLLEGE\\': 0.095173274, \\'INCOME\\': 10.59700966, \\'Hincome150\\': 0.054227156, \\'Large HH\\': 0.131749698, \\'Minorities\\': 0.035243328, \\'WorkingWoman\\': 0.283074736, \\'SSTRDIST\\': 2.636332801, \\'SSTRVOL\\': 1.5, \\'CPDIST5\\': 2.905384316, \\'CPWVOL5\\': 0.641015947}, {\\'WeekStarting\\': \\'1992-07-30\\', \\'Store\\': 8, \\'Brand\\': \\'dominicks\\', \\'logQuantity\\': 11.24310951, \\'Advert\\': 1, \\'Price\\': 1.49, \\'Age60\\': 0.252394035, \\'COLLEGE\\': 0.095173274, \\'INCOME\\': 10.59700966, \\'Hincome150\\': 0.054227156, \\'Large HH\\': 0.131749698, \\'Minorities\\': 0.035243328, \\'WorkingWoman\\': 0.283074736, \\'SSTRDIST\\': 2.636332801, \\'SSTRVOL\\': 1.5, \\'CPDIST5\\': 2.905384316, \\'CPWVOL5\\': 0.641015947}, {\\'WeekStarting\\': \\'1992-08-06\\', \\'Store\\': 8, \\'Brand\\': \\'dominicks\\', \\'logQuantity\\': 9.76468515, \\'Advert\\': 1, \\'Price\\': 1.69, \\'Age60\\': 0.252394035, \\'COLLEGE\\': 0.095173274, \\'INCOME\\': 10.59700966, \\'Hincome150\\': 0.054227156, \\'Large HH\\': 0.131749698, \\'Minorities\\': 0.035243328, \\'WorkingWoman\\': 0.283074736, \\'SSTRDIST\\': 2.636332801, \\'SSTRVOL\\': 1.5, \\'CPDIST5\\': 2.905384316, \\'CPWVOL5\\': 0.641015947}, {\\'WeekStarting\\': \\'1992-08-13\\', \\'Store\\': 8, \\'Brand\\': \\'dominicks\\', \\'logQuantity\\': 9.77201119, \\'Advert\\': 0, \\'Price\\': 1.79, \\'Age60\\': 0.252394035, \\'COLLEGE\\': 0.095173274, \\'INCOME\\': 10.59700966, \\'Hincome150\\': 0.054227156, \\'Large HH\\': 0.131749698, \\'Minorities\\': 0.035243328, \\'WorkingWoman\\': 0.283074736, \\'SSTRDIST\\': 2.636332801, \\'SSTRVOL\\': 1.5, \\'CPDIST5\\': 2.905384316, \\'CPWVOL5\\': 0.641015947}, {\\'WeekStarting\\': \\'1992-08-20\\', \\'Store\\': 8, \\'Brand\\': \\'dominicks\\', \\'logQuantity\\': 10.34919849, \\'Advert\\': 0, \\'Price\\': 1.59, \\'Age60\\': 0.252394035, \\'COLLEGE\\': 0.095173274, \\'INCOME\\': 10.59700966, \\'Hincome150\\': 0.054227156, \\'Large HH\\': 0.131749698, \\'Minorities\\': 0.035243328, \\'WorkingWoman\\': 0.283074736, \\'SSTRDIST\\': 2.636332801, \\'SSTRVOL\\': 1.5, \\'CPDIST5\\': 2.905384316, \\'CPWVOL5\\': 0.641015947}, {\\'WeekStarting\\': \\'1992-08-27\\', \\'Store\\': 8, \\'Brand\\': \\'dominicks\\', \\'logQuantity\\': 9.862665558, \\'Advert\\': 0, \\'Price\\': 1.29, \\'Age60\\': 0.252394035, \\'COLLEGE\\': 0.095173274, \\'INCOME\\': 10.59700966, \\'Hincome150\\': 0.054227156, \\'Large HH\\': 0.131749698, \\'Minorities\\': 0.035243328, \\'WorkingWoman\\': 0.283074736, \\'SSTRDIST\\': 2.636332801, \\'SSTRVOL\\': 1.5, \\'CPDIST5\\': 2.905384316, \\'CPWVOL5\\': 0.641015947}, {\\'WeekStarting\\': \\'1992-09-03\\', \\'Store\\': 8, \\'Brand\\': \\'dominicks\\', \\'logQuantity\\': 9.45720045, \\'Advert\\': 0, \\'Price\\': 1.79, \\'Age60\\': 0.252394035, \\'COLLEGE\\': 0.095173274, \\'INCOME\\': 10.59700966, \\'Hincome150\\': 0.054227156, \\'Large HH\\': 0.131749698, \\'Minorities\\': 0.035243328, \\'WorkingWoman\\': 0.283074736, \\'SSTRDIST\\': 2.636332801, \\'SSTRVOL\\': 1.5, \\'CPDIST5\\': 2.905384316, \\'CPWVOL5\\': 0.641015947}, {\\'WeekStarting\\': \\'1992-09-10\\', \\'Store\\': 8, \\'Brand\\': \\'dominicks\\', \\'logQuantity\\': 9.635346635, \\'Advert\\': 0, \\'Price\\': 1.79, \\'Age60\\': 0.252394035, \\'COLLEGE\\': 0.095173274, \\'INCOME\\': 10.59700966, \\'Hincome150\\': 0.054227156, \\'Large HH\\': 0.131749698, \\'Minorities\\': 0.035243328, \\'WorkingWoman\\': 0.283074736, \\'SSTRDIST\\': 2.636332801, \\'SSTRVOL\\': 1.5, \\'CPDIST5\\': 2.905384316, \\'CPWVOL5\\': 0.641015947}, {\\'WeekStarting\\': \\'1992-09-17\\', \\'Store\\': 8, \\'Brand\\': \\'dominicks\\', \\'logQuantity\\': 9.951896692, \\'Advert\\': 0, \\'Price\\': 1.79, \\'Age60\\': 0.252394035, \\'COLLEGE\\': 0.095173274, \\'INCOME\\': 10.59700966, \\'Hincome150\\': 0.054227156, \\'Large HH\\': 0.131749698, \\'Minorities\\': 0.035243328, \\'WorkingWoman\\': 0.283074736, \\'SSTRDIST\\': 2.636332801, \\'SSTRVOL\\': 1.5, \\'CPDIST5\\': 2.905384316, \\'CPWVOL5\\': 0.641015947}, {\\'WeekStarting\\': \\'1992-09-24\\', \\'Store\\': 8, \\'Brand\\': \\'dominicks\\', \\'logQuantity\\': 11.20987253, \\'Advert\\': 0, \\'Price\\': 1.49, \\'Age60\\': 0.252394035, \\'COLLEGE\\': 0.095173274, \\'INCOME\\': 10.59700966, \\'Hincome150\\': 0.054227156, \\'Large HH\\': 0.131749698, \\'Minorities\\': 0.035243328, \\'WorkingWoman\\': 0.283074736, \\'SSTRDIST\\': 2.636332801, \\'SSTRVOL\\': 1.5, \\'CPDIST5\\': 2.905384316, \\'CPWVOL5\\': 0.641015947}, {\\'WeekStarting\\': \\'1992-10-01\\', \\'Store\\': 8, \\'Brand\\': \\'dominicks\\', \\'logQuantity\\': 9.692272572, \\'Advert\\': 0, \\'Price\\': 1.79, \\'Age60\\': 0.252394035, \\'COLLEGE\\': 0.095173274, \\'INCOME\\': 10.59700966, \\'Hincome150\\': 0.054227156, \\'Large HH\\': 0.131749698, \\'Minorities\\': 0.035243328, \\'WorkingWoman\\': 0.283074736, \\'SSTRDIST\\': 2.636332801, \\'SSTRVOL\\': 1.5, \\'CPDIST5\\': 2.905384316, \\'CPWVOL5\\': 0.641015947}, {\\'WeekStarting\\': \\'1992-05-14\\', \\'Store\\': 8, \\'Brand\\': \\'minute.maid\\', \\'logQuantity\\': 8.764053269, \\'Advert\\': 0, \\'Price\\': 2.39, \\'Age60\\': 0.252394035, \\'COLLEGE\\': 0.095173274, \\'INCOME\\': 10.59700966, \\'Hincome150\\': 0.054227156, \\'Large HH\\': 0.131749698, \\'Minorities\\': 0.035243328, \\'WorkingWoman\\': 0.283074736, \\'SSTRDIST\\': 2.636332801, \\'SSTRVOL\\': 1.5, \\'CPDIST5\\': 2.905384316, \\'CPWVOL5\\': 0.641015947}, {\\'WeekStarting\\': \\'1992-05-21\\', \\'Store\\': 8, \\'Brand\\': \\'minute.maid\\', \\'logQuantity\\': 10.90764263, \\'Advert\\': 1, \\'Price\\': 1.79, \\'Age60\\': 0.252394035, \\'COLLEGE\\': 0.095173274, \\'INCOME\\': 10.59700966, \\'Hincome150\\': 0.054227156, \\'Large HH\\': 0.131749698, \\'Minorities\\': 0.035243328, \\'WorkingWoman\\': 0.283074736, \\'SSTRDIST\\': 2.636332801, \\'SSTRVOL\\': 1.5, \\'CPDIST5\\': 2.905384316, \\'CPWVOL5\\': 0.641015947}, {\\'WeekStarting\\': \\'1992-05-28\\', \\'Store\\': 8, \\'Brand\\': \\'minute.maid\\', \\'logQuantity\\': 9.00307017, \\'Advert\\': 0, \\'Price\\': 2.39, \\'Age60\\': 0.252394035, \\'COLLEGE\\': 0.095173274, \\'INCOME\\': 10.59700966, \\'Hincome150\\': 0.054227156, \\'Large HH\\': 0.131749698, \\'Minorities\\': 0.035243328, \\'WorkingWoman\\': 0.283074736, \\'SSTRDIST\\': 2.636332801, \\'SSTRVOL\\': 1.5, \\'CPDIST5\\': 2.905384316, \\'CPWVOL5\\': 0.641015947}, {\\'WeekStarting\\': \\'1992-06-04\\', \\'Store\\': 8, \\'Brand\\': \\'minute.maid\\', \\'logQuantity\\': 8.502688505, \\'Advert\\': 0, \\'Price\\': 2.49, \\'Age60\\': 0.252394035, \\'COLLEGE\\': 0.095173274, \\'INCOME\\': 10.59700966, \\'Hincome150\\': 0.054227156, \\'Large HH\\': 0.131749698, \\'Minorities\\': 0.035243328, \\'WorkingWoman\\': 0.283074736, \\'SSTRDIST\\': 2.636332801, \\'SSTRVOL\\': 1.5, \\'CPDIST5\\': 2.905384316, \\'CPWVOL5\\': 0.641015947}, {\\'WeekStarting\\': \\'1992-06-11\\', \\'Store\\': 8, \\'Brand\\': \\'minute.maid\\', \\'logQuantity\\': 8.60153434, \\'Advert\\': 0, \\'Price\\': 2.49, \\'Age60\\': 0.252394035, \\'COLLEGE\\': 0.095173274, \\'INCOME\\': 10.59700966, \\'Hincome150\\': 0.054227156, \\'Large HH\\': 0.131749698, \\'Minorities\\': 0.035243328, \\'WorkingWoman\\': 0.283074736, \\'SSTRDIST\\': 2.636332801, \\'SSTRVOL\\': 1.5, \\'CPDIST5\\': 2.905384316, \\'CPWVOL5\\': 0.641015947}, {\\'WeekStarting\\': \\'1992-06-25\\', \\'Store\\': 8, \\'Brand\\': \\'minute.maid\\', \\'logQuantity\\': 8.68067166, \\'Advert\\': 0, \\'Price\\': 2.49, \\'Age60\\': 0.252394035, \\'COLLEGE\\': 0.095173274, \\'INCOME\\': 10.59700966, \\'Hincome150\\': 0.054227156, \\'Large HH\\': 0.131749698, \\'Minorities\\': 0.035243328, \\'WorkingWoman\\': 0.283074736, \\'SSTRDIST\\': 2.636332801, \\'SSTRVOL\\': 1.5, \\'CPDIST5\\': 2.905384316, \\'CPWVOL5\\': 0.641015947}, {\\'WeekStarting\\': \\'1992-07-02\\', \\'Store\\': 8, \\'Brand\\': \\'minute.maid\\', \\'logQuantity\\': 10.0804615, \\'Advert\\': 1, \\'Price\\': 2.02, \\'Age60\\': 0.252394035, \\'COLLEGE\\': 0.095173274, \\'INCOME\\': 10.59700966, \\'Hincome150\\': 0.054227156, \\'Large HH\\': 0.131749698, \\'Minorities\\': 0.035243328, \\'WorkingWoman\\': 0.283074736, \\'SSTRDIST\\': 2.636332801, \\'SSTRVOL\\': 1.5, \\'CPDIST5\\': 2.905384316, \\'CPWVOL5\\': 0.641015947}, {\\'WeekStarting\\': \\'1992-07-09\\', \\'Store\\': 8, \\'Brand\\': \\'minute.maid\\', \\'logQuantity\\': 8.831711918, \\'Advert\\': 1, \\'Price\\': 2.19, \\'Age60\\': 0.252394035, \\'COLLEGE\\': 0.095173274, \\'INCOME\\': 10.59700966, \\'Hincome150\\': 0.054227156, \\'Large HH\\': 0.131749698, \\'Minorities\\': 0.035243328, \\'WorkingWoman\\': 0.283074736, \\'SSTRDIST\\': 2.636332801, \\'SSTRVOL\\': 1.5, \\'CPDIST5\\': 2.905384316, \\'CPWVOL5\\': 0.641015947}, {\\'WeekStarting\\': \\'1992-07-16\\', \\'Store\\': 8, \\'Brand\\': \\'minute.maid\\', \\'logQuantity\\': 9.010913347, \\'Advert\\': 0, \\'Price\\': 2.49, \\'Age60\\': 0.252394035, \\'COLLEGE\\': 0.095173274, \\'INCOME\\': 10.59700966, \\'Hincome150\\': 0.054227156, \\'Large HH\\': 0.131749698, \\'Minorities\\': 0.035243328, \\'WorkingWoman\\': 0.283074736, \\'SSTRDIST\\': 2.636332801, \\'SSTRVOL\\': 1.5, \\'CPDIST5\\': 2.905384316, \\'CPWVOL5\\': 0.641015947}, {\\'WeekStarting\\': \\'1992-07-23\\', \\'Store\\': 8, \\'Brand\\': \\'minute.maid\\', \\'logQuantity\\': 10.91581547, \\'Advert\\': 1, \\'Price\\': 2.29, \\'Age60\\': 0.252394035, \\'COLLEGE\\': 0.095173274, \\'INCOME\\': 10.59700966, \\'Hincome150\\': 0.054227156, \\'Large HH\\': 0.131749698, \\'Minorities\\': 0.035243328, \\'WorkingWoman\\': 0.283074736, \\'SSTRDIST\\': 2.636332801, \\'SSTRVOL\\': 1.5, \\'CPDIST5\\': 2.905384316, \\'CPWVOL5\\': 0.641015947}, {\\'WeekStarting\\': \\'1992-07-30\\', \\'Store\\': 8, \\'Brand\\': \\'minute.maid\\', \\'logQuantity\\': 8.783855897, \\'Advert\\': 0, \\'Price\\': 2.49, \\'Age60\\': 0.252394035, \\'COLLEGE\\': 0.095173274, \\'INCOME\\': 10.59700966, \\'Hincome150\\': 0.054227156, \\'Large HH\\': 0.131749698, \\'Minorities\\': 0.035243328, \\'WorkingWoman\\': 0.283074736, \\'SSTRDIST\\': 2.636332801, \\'SSTRVOL\\': 1.5, \\'CPDIST5\\': 2.905384316, \\'CPWVOL5\\': 0.641015947}, {\\'WeekStarting\\': \\'1992-08-06\\', \\'Store\\': 8, \\'Brand\\': \\'minute.maid\\', \\'logQuantity\\': 8.733594062, \\'Advert\\': 1, \\'Price\\': 2.45, \\'Age60\\': 0.252394035, \\'COLLEGE\\': 0.095173274, \\'INCOME\\': 10.59700966, \\'Hincome150\\': 0.054227156, \\'Large HH\\': 0.131749698, \\'Minorities\\': 0.035243328, \\'WorkingWoman\\': 0.283074736, \\'SSTRDIST\\': 2.636332801, \\'SSTRVOL\\': 1.5, \\'CPDIST5\\': 2.905384316, \\'CPWVOL5\\': 0.641015947}, {\\'WeekStarting\\': \\'1992-08-13\\', \\'Store\\': 8, \\'Brand\\': \\'minute.maid\\', \\'logQuantity\\': 11.45868045, \\'Advert\\': 1, \\'Price\\': 1.99, \\'Age60\\': 0.252394035, \\'COLLEGE\\': 0.095173274, \\'INCOME\\': 10.59700966, \\'Hincome150\\': 0.054227156, \\'Large HH\\': 0.131749698, \\'Minorities\\': 0.035243328, \\'WorkingWoman\\': 0.283074736, \\'SSTRDIST\\': 2.636332801, \\'SSTRVOL\\': 1.5, \\'CPDIST5\\': 2.905384316, \\'CPWVOL5\\': 0.641015947}, {\\'WeekStarting\\': \\'1992-08-20\\', \\'Store\\': 8, \\'Brand\\': \\'minute.maid\\', \\'logQuantity\\': 10.9250748, \\'Advert\\': 1, \\'Price\\': 1.99, \\'Age60\\': 0.252394035, \\'COLLEGE\\': 0.095173274, \\'INCOME\\': 10.59700966, \\'Hincome150\\': 0.054227156, \\'Large HH\\': 0.131749698, \\'Minorities\\': 0.035243328, \\'WorkingWoman\\': 0.283074736, \\'SSTRDIST\\': 2.636332801, \\'SSTRVOL\\': 1.5, \\'CPDIST5\\': 2.905384316, \\'CPWVOL5\\': 0.641015947}, {\\'WeekStarting\\': \\'1992-08-27\\', \\'Store\\': 8, \\'Brand\\': \\'minute.maid\\', \\'logQuantity\\': 9.835636886, \\'Advert\\': 0, \\'Price\\': 1.69, \\'Age60\\': 0.252394035, \\'COLLEGE\\': 0.095173274, \\'INCOME\\': 10.59700966, \\'Hincome150\\': 0.054227156, \\'Large HH\\': 0.131749698, \\'Minorities\\': 0.035243328, \\'WorkingWoman\\': 0.283074736, \\'SSTRDIST\\': 2.636332801, \\'SSTRVOL\\': 1.5, \\'CPDIST5\\': 2.905384316, \\'CPWVOL5\\': 0.641015947}, {\\'WeekStarting\\': \\'1992-09-03\\', \\'Store\\': 8, \\'Brand\\': \\'minute.maid\\', \\'logQuantity\\': 9.592605087, \\'Advert\\': 0, \\'Price\\': 1.69, \\'Age60\\': 0.252394035, \\'COLLEGE\\': 0.095173274, \\'INCOME\\': 10.59700966, \\'Hincome150\\': 0.054227156, \\'Large HH\\': 0.131749698, \\'Minorities\\': 0.035243328, \\'WorkingWoman\\': 0.283074736, \\'SSTRDIST\\': 2.636332801, \\'SSTRVOL\\': 1.5, \\'CPDIST5\\': 2.905384316, \\'CPWVOL5\\': 0.641015947}, {\\'WeekStarting\\': \\'1992-09-10\\', \\'Store\\': 8, \\'Brand\\': \\'minute.maid\\', \\'logQuantity\\': 10.31374118, \\'Advert\\': 1, \\'Price\\': 1.99, \\'Age60\\': 0.252394035, \\'COLLEGE\\': 0.095173274, \\'INCOME\\': 10.59700966, \\'Hincome150\\': 0.054227156, \\'Large HH\\': 0.131749698, \\'Minorities\\': 0.035243328, \\'WorkingWoman\\': 0.283074736, \\'SSTRDIST\\': 2.636332801, \\'SSTRVOL\\': 1.5, \\'CPDIST5\\': 2.905384316, \\'CPWVOL5\\': 0.641015947}, {\\'WeekStarting\\': \\'1992-09-17\\', \\'Store\\': 8, \\'Brand\\': \\'minute.maid\\', \\'logQuantity\\': 8.733594062, \\'Advert\\': 0, \\'Price\\': 2.49, \\'Age60\\': 0.252394035, \\'COLLEGE\\': 0.095173274, \\'INCOME\\': 10.59700966, \\'Hincome150\\': 0.054227156, \\'Large HH\\': 0.131749698, \\'Minorities\\': 0.035243328, \\'WorkingWoman\\': 0.283074736, \\'SSTRDIST\\': 2.636332801, \\'SSTRVOL\\': 1.5, \\'CPDIST5\\': 2.905384316, \\'CPWVOL5\\': 0.641015947}, {\\'WeekStarting\\': \\'1992-09-24\\', \\'Store\\': 8, \\'Brand\\': \\'minute.maid\\', \\'logQuantity\\': 8.868413285, \\'Advert\\': 0, \\'Price\\': 2.49, \\'Age60\\': 0.252394035, \\'COLLEGE\\': 0.095173274, \\'INCOME\\': 10.59700966, \\'Hincome150\\': 0.054227156, \\'Large HH\\': 0.131749698, \\'Minorities\\': 0.035243328, \\'WorkingWoman\\': 0.283074736, \\'SSTRDIST\\': 2.636332801, \\'SSTRVOL\\': 1.5, \\'CPDIST5\\': 2.905384316, \\'CPWVOL5\\': 0.641015947}, {\\'WeekStarting\\': \\'1992-10-01\\', \\'Store\\': 8, \\'Brand\\': \\'minute.maid\\', \\'logQuantity\\': 11.09522582, \\'Advert\\': 1, \\'Price\\': 2.19, \\'Age60\\': 0.252394035, \\'COLLEGE\\': 0.095173274, \\'INCOME\\': 10.59700966, \\'Hincome150\\': 0.054227156, \\'Large HH\\': 0.131749698, \\'Minorities\\': 0.035243328, \\'WorkingWoman\\': 0.283074736, \\'SSTRDIST\\': 2.636332801, \\'SSTRVOL\\': 1.5, \\'CPDIST5\\': 2.905384316, \\'CPWVOL5\\': 0.641015947}, {\\'WeekStarting\\': \\'1992-05-14\\', \\'Store\\': 8, \\'Brand\\': \\'tropicana\\', \\'logQuantity\\': 9.462187991, \\'Advert\\': 0, \\'Price\\': 2.89, \\'Age60\\': 0.252394035, \\'COLLEGE\\': 0.095173274, \\'INCOME\\': 10.59700966, \\'Hincome150\\': 0.054227156, \\'Large HH\\': 0.131749698, \\'Minorities\\': 0.035243328, \\'WorkingWoman\\': 0.283074736, \\'SSTRDIST\\': 2.636332801, \\'SSTRVOL\\': 1.5, \\'CPDIST5\\': 2.905384316, \\'CPWVOL5\\': 0.641015947}, {\\'WeekStarting\\': \\'1992-05-21\\', \\'Store\\': 8, \\'Brand\\': \\'tropicana\\', \\'logQuantity\\': 8.877381955, \\'Advert\\': 0, \\'Price\\': 2.89, \\'Age60\\': 0.252394035, \\'COLLEGE\\': 0.095173274, \\'INCOME\\': 10.59700966, \\'Hincome150\\': 0.054227156, \\'Large HH\\': 0.131749698, \\'Minorities\\': 0.035243328, \\'WorkingWoman\\': 0.283074736, \\'SSTRDIST\\': 2.636332801, \\'SSTRVOL\\': 1.5, \\'CPDIST5\\': 2.905384316, \\'CPWVOL5\\': 0.641015947}, {\\'WeekStarting\\': \\'1992-05-28\\', \\'Store\\': 8, \\'Brand\\': \\'tropicana\\', \\'logQuantity\\': 9.107642974, \\'Advert\\': 0, \\'Price\\': 2.89, \\'Age60\\': 0.252394035, \\'COLLEGE\\': 0.095173274, \\'INCOME\\': 10.59700966, \\'Hincome150\\': 0.054227156, \\'Large HH\\': 0.131749698, \\'Minorities\\': 0.035243328, \\'WorkingWoman\\': 0.283074736, \\'SSTRDIST\\': 2.636332801, \\'SSTRVOL\\': 1.5, \\'CPDIST5\\': 2.905384316, \\'CPWVOL5\\': 0.641015947}, {\\'WeekStarting\\': \\'1992-06-04\\', \\'Store\\': 8, \\'Brand\\': \\'tropicana\\', \\'logQuantity\\': 11.35031241, \\'Advert\\': 1, \\'Price\\': 2.49, \\'Age60\\': 0.252394035, \\'COLLEGE\\': 0.095173274, \\'INCOME\\': 10.59700966, \\'Hincome150\\': 0.054227156, \\'Large HH\\': 0.131749698, \\'Minorities\\': 0.035243328, \\'WorkingWoman\\': 0.283074736, \\'SSTRDIST\\': 2.636332801, \\'SSTRVOL\\': 1.5, \\'CPDIST5\\': 2.905384316, \\'CPWVOL5\\': 0.641015947}, {\\'WeekStarting\\': \\'1992-06-11\\', \\'Store\\': 8, \\'Brand\\': \\'tropicana\\', \\'logQuantity\\': 9.557045785, \\'Advert\\': 0, \\'Price\\': 2.49, \\'Age60\\': 0.252394035, \\'COLLEGE\\': 0.095173274, \\'INCOME\\': 10.59700966, \\'Hincome150\\': 0.054227156, \\'Large HH\\': 0.131749698, \\'Minorities\\': 0.035243328, \\'WorkingWoman\\': 0.283074736, \\'SSTRDIST\\': 2.636332801, \\'SSTRVOL\\': 1.5, \\'CPDIST5\\': 2.905384316, \\'CPWVOL5\\': 0.641015947}, {\\'WeekStarting\\': \\'1992-06-25\\', \\'Store\\': 8, \\'Brand\\': \\'tropicana\\', \\'logQuantity\\': 8.921057017999999, \\'Advert\\': 1, \\'Price\\': 2.89, \\'Age60\\': 0.252394035, \\'COLLEGE\\': 0.095173274, \\'INCOME\\': 10.59700966, \\'Hincome150\\': 0.054227156, \\'Large HH\\': 0.131749698, \\'Minorities\\': 0.035243328, \\'WorkingWoman\\': 0.283074736, \\'SSTRDIST\\': 2.636332801, \\'SSTRVOL\\': 1.5, \\'CPDIST5\\': 2.905384316, \\'CPWVOL5\\': 0.641015947}, {\\'WeekStarting\\': \\'1992-07-02\\', \\'Store\\': 8, \\'Brand\\': \\'tropicana\\', \\'logQuantity\\': 9.421573272, \\'Advert\\': 0, \\'Price\\': 2.69, \\'Age60\\': 0.252394035, \\'COLLEGE\\': 0.095173274, \\'INCOME\\': 10.59700966, \\'Hincome150\\': 0.054227156, \\'Large HH\\': 0.131749698, \\'Minorities\\': 0.035243328, \\'WorkingWoman\\': 0.283074736, \\'SSTRDIST\\': 2.636332801, \\'SSTRVOL\\': 1.5, \\'CPDIST5\\': 2.905384316, \\'CPWVOL5\\': 0.641015947}, {\\'WeekStarting\\': \\'1992-07-09\\', \\'Store\\': 8, \\'Brand\\': \\'tropicana\\', \\'logQuantity\\': 8.647519453, \\'Advert\\': 0, \\'Price\\': 2.89, \\'Age60\\': 0.252394035, \\'COLLEGE\\': 0.095173274, \\'INCOME\\': 10.59700966, \\'Hincome150\\': 0.054227156, \\'Large HH\\': 0.131749698, \\'Minorities\\': 0.035243328, \\'WorkingWoman\\': 0.283074736, \\'SSTRDIST\\': 2.636332801, \\'SSTRVOL\\': 1.5, \\'CPDIST5\\': 2.905384316, \\'CPWVOL5\\': 0.641015947}, {\\'WeekStarting\\': \\'1992-07-16\\', \\'Store\\': 8, \\'Brand\\': \\'tropicana\\', \\'logQuantity\\': 8.946374826, \\'Advert\\': 0, \\'Price\\': 2.89, \\'Age60\\': 0.252394035, \\'COLLEGE\\': 0.095173274, \\'INCOME\\': 10.59700966, \\'Hincome150\\': 0.054227156, \\'Large HH\\': 0.131749698, \\'Minorities\\': 0.035243328, \\'WorkingWoman\\': 0.283074736, \\'SSTRDIST\\': 2.636332801, \\'SSTRVOL\\': 1.5, \\'CPDIST5\\': 2.905384316, \\'CPWVOL5\\': 0.641015947}, {\\'WeekStarting\\': \\'1992-07-23\\', \\'Store\\': 8, \\'Brand\\': \\'tropicana\\', \\'logQuantity\\': 8.60153434, \\'Advert\\': 0, \\'Price\\': 2.89, \\'Age60\\': 0.252394035, \\'COLLEGE\\': 0.095173274, \\'INCOME\\': 10.59700966, \\'Hincome150\\': 0.054227156, \\'Large HH\\': 0.131749698, \\'Minorities\\': 0.035243328, \\'WorkingWoman\\': 0.283074736, \\'SSTRDIST\\': 2.636332801, \\'SSTRVOL\\': 1.5, \\'CPDIST5\\': 2.905384316, \\'CPWVOL5\\': 0.641015947}, {\\'WeekStarting\\': \\'1992-07-30\\', \\'Store\\': 8, \\'Brand\\': \\'tropicana\\', \\'logQuantity\\': 8.636219898, \\'Advert\\': 0, \\'Price\\': 2.89, \\'Age60\\': 0.252394035, \\'COLLEGE\\': 0.095173274, \\'INCOME\\': 10.59700966, \\'Hincome150\\': 0.054227156, \\'Large HH\\': 0.131749698, \\'Minorities\\': 0.035243328, \\'WorkingWoman\\': 0.283074736, \\'SSTRDIST\\': 2.636332801, \\'SSTRVOL\\': 1.5, \\'CPDIST5\\': 2.905384316, \\'CPWVOL5\\': 0.641015947}, {\\'WeekStarting\\': \\'1992-08-06\\', \\'Store\\': 8, \\'Brand\\': \\'tropicana\\', \\'logQuantity\\': 9.100525506, \\'Advert\\': 1, \\'Price\\': 2.79, \\'Age60\\': 0.252394035, \\'COLLEGE\\': 0.095173274, \\'INCOME\\': 10.59700966, \\'Hincome150\\': 0.054227156, \\'Large HH\\': 0.131749698, \\'Minorities\\': 0.035243328, \\'WorkingWoman\\': 0.283074736, \\'SSTRDIST\\': 2.636332801, \\'SSTRVOL\\': 1.5, \\'CPDIST5\\': 2.905384316, \\'CPWVOL5\\': 0.641015947}, {\\'WeekStarting\\': \\'1992-08-13\\', \\'Store\\': 8, \\'Brand\\': \\'tropicana\\', \\'logQuantity\\': 8.712759975, \\'Advert\\': 0, \\'Price\\': 2.89, \\'Age60\\': 0.252394035, \\'COLLEGE\\': 0.095173274, \\'INCOME\\': 10.59700966, \\'Hincome150\\': 0.054227156, \\'Large HH\\': 0.131749698, \\'Minorities\\': 0.035243328, \\'WorkingWoman\\': 0.283074736, \\'SSTRDIST\\': 2.636332801, \\'SSTRVOL\\': 1.5, \\'CPDIST5\\': 2.905384316, \\'CPWVOL5\\': 0.641015947}, {\\'WeekStarting\\': \\'1992-08-20\\', \\'Store\\': 8, \\'Brand\\': \\'tropicana\\', \\'logQuantity\\': 9.056722882999999, \\'Advert\\': 1, \\'Price\\': 2.79, \\'Age60\\': 0.252394035, \\'COLLEGE\\': 0.095173274, \\'INCOME\\': 10.59700966, \\'Hincome150\\': 0.054227156, \\'Large HH\\': 0.131749698, \\'Minorities\\': 0.035243328, \\'WorkingWoman\\': 0.283074736, \\'SSTRDIST\\': 2.636332801, \\'SSTRVOL\\': 1.5, \\'CPDIST5\\': 2.905384316, \\'CPWVOL5\\': 0.641015947}, {\\'WeekStarting\\': \\'1992-08-27\\', \\'Store\\': 8, \\'Brand\\': \\'tropicana\\', \\'logQuantity\\': 8.987196821, \\'Advert\\': 0, \\'Price\\': 2.89, \\'Age60\\': 0.252394035, \\'COLLEGE\\': 0.095173274, \\'INCOME\\': 10.59700966, \\'Hincome150\\': 0.054227156, \\'Large HH\\': 0.131749698, \\'Minorities\\': 0.035243328, \\'WorkingWoman\\': 0.283074736, \\'SSTRDIST\\': 2.636332801, \\'SSTRVOL\\': 1.5, \\'CPDIST5\\': 2.905384316, \\'CPWVOL5\\': 0.641015947}, {\\'WeekStarting\\': \\'1992-09-03\\', \\'Store\\': 8, \\'Brand\\': \\'tropicana\\', \\'logQuantity\\': 9.987828701, \\'Advert\\': 1, \\'Price\\': 2.49, \\'Age60\\': 0.252394035, \\'COLLEGE\\': 0.095173274, \\'INCOME\\': 10.59700966, \\'Hincome150\\': 0.054227156, \\'Large HH\\': 0.131749698, \\'Minorities\\': 0.035243328, \\'WorkingWoman\\': 0.283074736, \\'SSTRDIST\\': 2.636332801, \\'SSTRVOL\\': 1.5, \\'CPDIST5\\': 2.905384316, \\'CPWVOL5\\': 0.641015947}, {\\'WeekStarting\\': \\'1992-09-10\\', \\'Store\\': 8, \\'Brand\\': \\'tropicana\\', \\'logQuantity\\': 9.45720045, \\'Advert\\': 0, \\'Price\\': 2.49, \\'Age60\\': 0.252394035, \\'COLLEGE\\': 0.095173274, \\'INCOME\\': 10.59700966, \\'Hincome150\\': 0.054227156, \\'Large HH\\': 0.131749698, \\'Minorities\\': 0.035243328, \\'WorkingWoman\\': 0.283074736, \\'SSTRDIST\\': 2.636332801, \\'SSTRVOL\\': 1.5, \\'CPDIST5\\': 2.905384316, \\'CPWVOL5\\': 0.641015947}, {\\'WeekStarting\\': \\'1992-09-17\\', \\'Store\\': 8, \\'Brand\\': \\'tropicana\\', \\'logQuantity\\': 9.221478116, \\'Advert\\': 0, \\'Price\\': 2.89, \\'Age60\\': 0.252394035, \\'COLLEGE\\': 0.095173274, \\'INCOME\\': 10.59700966, \\'Hincome150\\': 0.054227156, \\'Large HH\\': 0.131749698, \\'Minorities\\': 0.035243328, \\'WorkingWoman\\': 0.283074736, \\'SSTRDIST\\': 2.636332801, \\'SSTRVOL\\': 1.5, \\'CPDIST5\\': 2.905384316, \\'CPWVOL5\\': 0.641015947}, {\\'WeekStarting\\': \\'1992-09-24\\', \\'Store\\': 8, \\'Brand\\': \\'tropicana\\', \\'logQuantity\\': 9.240287448, \\'Advert\\': 1, \\'Price\\': 2.79, \\'Age60\\': 0.252394035, \\'COLLEGE\\': 0.095173274, \\'INCOME\\': 10.59700966, \\'Hincome150\\': 0.054227156, \\'Large HH\\': 0.131749698, \\'Minorities\\': 0.035243328, \\'WorkingWoman\\': 0.283074736, \\'SSTRDIST\\': 2.636332801, \\'SSTRVOL\\': 1.5, \\'CPDIST5\\': 2.905384316, \\'CPWVOL5\\': 0.641015947}, {\\'WeekStarting\\': \\'1992-10-01\\', \\'Store\\': 8, \\'Brand\\': \\'tropicana\\', \\'logQuantity\\': 8.764053269, \\'Advert\\': 0, \\'Price\\': 2.89, \\'Age60\\': 0.252394035, \\'COLLEGE\\': 0.095173274, \\'INCOME\\': 10.59700966, \\'Hincome150\\': 0.054227156, \\'Large HH\\': 0.131749698, \\'Minorities\\': 0.035243328, \\'WorkingWoman\\': 0.283074736, \\'SSTRDIST\\': 2.636332801, \\'SSTRVOL\\': 1.5, \\'CPDIST5\\': 2.905384316, \\'CPWVOL5\\': 0.641015947}]}\\nHeaders passed in (total 11):\\n\\tHost: localhost:5001\\n\\tX-Real-Ip: 127.0.0.1\\n\\tX-Forwarded-For: 127.0.0.1\\n\\tX-Forwarded-Proto: http\\n\\tConnection: close\\n\\tContent-Length: 71446\\n\\tUser-Agent: python-requests/2.23.0\\n\\tAccept: application/json\\n\\tAccept-Encoding: gzip, deflate\\n\\tContent-Type: application/json\\n\\tX-Ms-Request-Id: 41935e13-93b7-4320-8406-66ab17611825\\nScoring Timer is set to 60.0 seconds\\n200\\n127.0.0.1 - - [20/Jul/2020:11:12:59 +0000] \"POST /score HTTP/1.0\" 200 16943 \"-\" \"python-requests/2.23.0\"\\n'"
      ]
     },
     "execution_count": 33,
     "metadata": {},
     "output_type": "execute_result"
    }
   ],
   "source": [
    "aci_service.get_logs()"
   ]
  },
  {
   "cell_type": "markdown",
   "metadata": {},
   "source": [
    "### Call the service"
   ]
  },
  {
   "cell_type": "code",
   "execution_count": 34,
   "metadata": {},
   "outputs": [],
   "source": [
    "import json\n",
    "X_query = X_test.copy()\n",
    "# We have to convert datetime to string, because Timestamps cannot be serialized to JSON.\n",
    "X_query[time_column_name] = X_query[time_column_name].astype(str)\n",
    "# The Service object accept the complex dictionary, which is internally converted to JSON string.\n",
    "# The section 'data' contains the data frame in the form of dictionary.\n",
    "test_sample = json.dumps({'data': X_query.to_dict(orient='records')})\n",
    "response = aci_service.run(input_data = test_sample)\n",
    "# translate from networkese to datascientese\n",
    "try: \n",
    "    res_dict = json.loads(response)\n",
    "    y_fcst_all = pd.DataFrame(res_dict['index'])\n",
    "    y_fcst_all[time_column_name] = pd.to_datetime(y_fcst_all[time_column_name], unit = 'ms')\n",
    "    y_fcst_all['forecast'] = res_dict['forecast']    \n",
    "except:\n",
    "    print(res_dict)"
   ]
  },
  {
   "cell_type": "code",
   "execution_count": 35,
   "metadata": {},
   "outputs": [
    {
     "data": {
      "text/html": [
       "<div>\n",
       "<style scoped>\n",
       "    .dataframe tbody tr th:only-of-type {\n",
       "        vertical-align: middle;\n",
       "    }\n",
       "\n",
       "    .dataframe tbody tr th {\n",
       "        vertical-align: top;\n",
       "    }\n",
       "\n",
       "    .dataframe thead th {\n",
       "        text-align: right;\n",
       "    }\n",
       "</style>\n",
       "<table border=\"1\" class=\"dataframe\">\n",
       "  <thead>\n",
       "    <tr style=\"text-align: right;\">\n",
       "      <th></th>\n",
       "      <th>Brand</th>\n",
       "      <th>Store</th>\n",
       "      <th>WeekStarting</th>\n",
       "      <th>forecast</th>\n",
       "    </tr>\n",
       "  </thead>\n",
       "  <tbody>\n",
       "    <tr>\n",
       "      <th>0</th>\n",
       "      <td>dominicks</td>\n",
       "      <td>2</td>\n",
       "      <td>1992-05-21</td>\n",
       "      <td>9339.26</td>\n",
       "    </tr>\n",
       "    <tr>\n",
       "      <th>1</th>\n",
       "      <td>dominicks</td>\n",
       "      <td>2</td>\n",
       "      <td>1992-05-28</td>\n",
       "      <td>9449.13</td>\n",
       "    </tr>\n",
       "    <tr>\n",
       "      <th>2</th>\n",
       "      <td>dominicks</td>\n",
       "      <td>2</td>\n",
       "      <td>1992-06-04</td>\n",
       "      <td>9178.13</td>\n",
       "    </tr>\n",
       "    <tr>\n",
       "      <th>3</th>\n",
       "      <td>dominicks</td>\n",
       "      <td>2</td>\n",
       "      <td>1992-06-11</td>\n",
       "      <td>4048.57</td>\n",
       "    </tr>\n",
       "    <tr>\n",
       "      <th>4</th>\n",
       "      <td>dominicks</td>\n",
       "      <td>2</td>\n",
       "      <td>1992-06-18</td>\n",
       "      <td>4317.94</td>\n",
       "    </tr>\n",
       "  </tbody>\n",
       "</table>\n",
       "</div>"
      ],
      "text/plain": [
       "       Brand  Store WeekStarting  forecast\n",
       "0  dominicks  2     1992-05-21   9339.26  \n",
       "1  dominicks  2     1992-05-28   9449.13  \n",
       "2  dominicks  2     1992-06-04   9178.13  \n",
       "3  dominicks  2     1992-06-11   4048.57  \n",
       "4  dominicks  2     1992-06-18   4317.94  "
      ]
     },
     "execution_count": 35,
     "metadata": {},
     "output_type": "execute_result"
    }
   ],
   "source": [
    "y_fcst_all.head()"
   ]
  },
  {
   "cell_type": "markdown",
   "metadata": {},
   "source": [
    "### Delete the web service if desired"
   ]
  },
  {
   "cell_type": "code",
   "execution_count": 36,
   "metadata": {},
   "outputs": [],
   "source": [
    "#serv = Webservice(ws, 'automl-oj-forecast-01')\n",
    "#serv.delete()     # don't do it accidentally"
   ]
  },
  {
   "cell_type": "markdown",
   "metadata": {},
   "source": [
    "<img src=\"https://github.com/retkowsky/images/blob/master/Powered-by-MS-Azure-logo-v2.png?raw=true\" height=\"300\" width=\"300\">"
   ]
  }
 ],
 "metadata": {
  "authors": [
   {
    "name": "erwright"
   }
  ],
  "category": "tutorial",
  "celltoolbar": "Raw Cell Format",
  "compute": [
   "Remote"
  ],
  "datasets": [
   "Orange Juice Sales"
  ],
  "deployment": [
   "Azure Container Instance"
  ],
  "exclude_from_index": false,
  "framework": [
   "Azure ML AutoML"
  ],
  "friendly_name": "Forecasting orange juice sales with deployment",
  "index_order": 1,
  "kernelspec": {
   "display_name": "Python 3.6 - AzureML",
   "language": "python",
   "name": "python3-azureml"
  },
  "language_info": {
   "codemirror_mode": {
    "name": "ipython",
    "version": 3
   },
   "file_extension": ".py",
   "mimetype": "text/x-python",
   "name": "python",
   "nbconvert_exporter": "python",
   "pygments_lexer": "ipython3",
   "version": "3.6.9"
  },
  "tags": [
   "None"
  ],
  "task": "Forecasting"
 },
 "nbformat": 4,
 "nbformat_minor": 2
}
