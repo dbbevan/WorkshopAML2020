{
 "cells": [
  {
   "cell_type": "markdown",
   "metadata": {},
   "source": [
    "# 1. Introduction Azure ML\n",
    "<br>\n",
    "\n",
    "<img src='https://github.com/retkowsky/images/blob/master/AzureMLservicebanniere.png?raw=true'>\n",
    "\n",
    "\n",
    "Documentation : https://docs.microsoft.com/en-us/azure/machine-learning/"
   ]
  },
  {
   "cell_type": "markdown",
   "metadata": {},
   "source": [
    "In this tutorial, you complete the end-to-end steps to get started with the Azure Machine Learning Python SDK running \n",
    "in Jupyter notebooks. \n",
    "\n",
    "In this tutorial, you:\n",
    "- Run some Python code\n",
    "- Log results into an Azure ML experiment\n",
    "- Save ML models into Azure ML repository\n",
    "- Use MLFlow integration with Azure ML\n",
    "- Use Azure OpenDatasets"
   ]
  },
  {
   "cell_type": "markdown",
   "metadata": {},
   "source": [
    "## Architecture et concepts"
   ]
  },
  {
   "cell_type": "markdown",
   "metadata": {},
   "source": [
    "> https://docs.microsoft.com/en-us/azure/machine-learning/concept-azure-machine-learning-architecture"
   ]
  },
  {
   "cell_type": "markdown",
   "metadata": {},
   "source": [
    "<img src=\"https://github.com/retkowsky/images/blob/master/AzureML%20Archi.jpg?raw=true\">"
   ]
  },
  {
   "cell_type": "markdown",
   "metadata": {},
   "source": [
    "> Architectures Azure : https://docs.microsoft.com/en-us/azure/architecture/browse/"
   ]
  },
  {
   "cell_type": "markdown",
   "metadata": {},
   "source": [
    "## 0. Paramétrage"
   ]
  },
  {
   "cell_type": "code",
   "execution_count": 65,
   "metadata": {},
   "outputs": [
    {
     "name": "stdout",
     "output_type": "stream",
     "text": [
      "Aujourd'hui : 2020-09-22 11:56:34.812323\n"
     ]
    }
   ],
   "source": [
    "import datetime\n",
    "maintenant = datetime.datetime.now()\n",
    "print(\"Aujourd'hui :\", maintenant)"
   ]
  },
  {
   "cell_type": "code",
   "execution_count": 66,
   "metadata": {},
   "outputs": [],
   "source": [
    "import scipy, matplotlib, pandas, sklearn\n",
    "import numpy as np\n",
    "import azureml.core\n",
    "from azureml.core.experiment import Experiment\n",
    "from azureml.core.workspace import Workspace\n",
    "from azureml.train.automl import AutoMLConfig\n",
    "from azureml.train.automl.run import AutoMLRun"
   ]
  },
  {
   "cell_type": "code",
   "execution_count": 67,
   "metadata": {},
   "outputs": [
    {
     "name": "stdout",
     "output_type": "stream",
     "text": [
      "Version Python = 3.6.9 |Anaconda, Inc.| (default, Jul 30 2019, 19:07:31) \n",
      "[GCC 7.3.0]\n"
     ]
    }
   ],
   "source": [
    "import sys\n",
    "print(\"Version Python =\", sys.version)"
   ]
  },
  {
   "cell_type": "code",
   "execution_count": 68,
   "metadata": {},
   "outputs": [
    {
     "name": "stdout",
     "output_type": "stream",
     "text": [
      "Versions :\n",
      "- scipy = 1.4.1\n",
      "- numpy = 1.16.2\n",
      "- matplotlib = 3.2.2\n",
      "- pandas = 0.25.3\n",
      "- sklearn = 0.20.3\n",
      "- Azure ML = 1.13.0\n"
     ]
    }
   ],
   "source": [
    "print(\"Versions :\")\n",
    "print('- scipy = {}'.format(scipy.__version__))\n",
    "print('- numpy = {}'.format(np.__version__))\n",
    "print('- matplotlib = {}'.format(matplotlib.__version__))\n",
    "print('- pandas = {}'.format(pandas.__version__))\n",
    "print('- sklearn = {}'.format(sklearn.__version__))\n",
    "print(\"- Azure ML =\",azureml.core.VERSION)"
   ]
  },
  {
   "cell_type": "markdown",
   "metadata": {},
   "source": [
    "> Versions azure ML : https://docs.microsoft.com/en-us/azure/machine-learning/azure-machine-learning-release-notes"
   ]
  },
  {
   "cell_type": "code",
   "execution_count": 69,
   "metadata": {},
   "outputs": [
    {
     "name": "stdout",
     "output_type": "stream",
     "text": [
      "Workspace name: workshopAML2020\n",
      "Azure region: westeurope\n",
      "Resource group: workshopAML2020-rg\n"
     ]
    }
   ],
   "source": [
    "# Rappel des infos du workspace Azure ML service\n",
    "from azureml.core import Workspace\n",
    "\n",
    "ws = Workspace.from_config()\n",
    "print('Workspace name: ' + ws.name, \n",
    "      'Azure region: ' + ws.location, \n",
    "      'Resource group: ' + ws.resource_group, sep='\\n')"
   ]
  },
  {
   "cell_type": "markdown",
   "metadata": {},
   "source": [
    "## 1. Chargement des données"
   ]
  },
  {
   "cell_type": "code",
   "execution_count": 70,
   "metadata": {},
   "outputs": [],
   "source": [
    "from sklearn.datasets import load_diabetes\n",
    "from sklearn.linear_model import Ridge\n",
    "from sklearn.metrics import mean_squared_error\n",
    "from sklearn.model_selection import train_test_split\n",
    "\n",
    "import joblib"
   ]
  },
  {
   "cell_type": "code",
   "execution_count": 71,
   "metadata": {},
   "outputs": [
    {
     "name": "stdout",
     "output_type": "stream",
     "text": [
      "Version scikit-learn = 0.20.3\n"
     ]
    }
   ],
   "source": [
    "# scikit-learn version\n",
    "import sklearn\n",
    "print(\"Version scikit-learn =\", sklearn.__version__)"
   ]
  },
  {
   "cell_type": "markdown",
   "metadata": {},
   "source": [
    "> https://scikit-learn.org/stable/index.html"
   ]
  },
  {
   "cell_type": "markdown",
   "metadata": {},
   "source": [
    "#### Données : DIABETES\n",
    "From Bradley Efron, Trevor Hastie, Iain Johnstone and Robert Tibshirani (2004) \"Least Angle Regression,\" Annals of Statistics (with discussion), 407-499, we have\n",
    "\n",
    "\"Ten baseline variables, age, sex, body mass index, average blood pressure, and six blood serum measurements were obtained for each of n = 442 diabetes patients, as well as the response of interest, a quantitative measure of disease progression one year after baseline.\"\n",
    "> https://www4.stat.ncsu.edu/~boos/var.select/diabetes.html"
   ]
  },
  {
   "cell_type": "code",
   "execution_count": 72,
   "metadata": {},
   "outputs": [],
   "source": [
    "X, y = load_diabetes(return_X_y = True)\n",
    "columns = ['age', 'gender', 'bmi', 'bp', 's1', 's2', 's3', 's4', 's5', 's6']"
   ]
  },
  {
   "cell_type": "code",
   "execution_count": 73,
   "metadata": {},
   "outputs": [],
   "source": [
    "# Taille en % de la base de test\n",
    "testsizepct=0.30"
   ]
  },
  {
   "cell_type": "code",
   "execution_count": 74,
   "metadata": {},
   "outputs": [],
   "source": [
    "X_train, X_test, y_train, y_test = train_test_split(X, y, test_size=testsizepct, random_state=0)\n",
    "\n",
    "data = {\n",
    "    \"train\":{\"X\": X_train, \"y\": y_train},        \n",
    "    \"test\":{\"X\": X_test, \"y\": y_test}\n",
    "}"
   ]
  },
  {
   "cell_type": "code",
   "execution_count": 75,
   "metadata": {},
   "outputs": [
    {
     "name": "stdout",
     "output_type": "stream",
     "text": [
      "Training = 309 observations\n",
      "Test = 133 observations\n"
     ]
    }
   ],
   "source": [
    "nobstrain=len(data['train']['X'])\n",
    "nobstest=len(data['test']['X'])\n",
    "print (\"Training =\", nobstrain, 'observations')\n",
    "print (\"Test =\", nobstest, 'observations')"
   ]
  },
  {
   "cell_type": "markdown",
   "metadata": {},
   "source": [
    "## 2. Modélisation"
   ]
  },
  {
   "cell_type": "markdown",
   "metadata": {},
   "source": [
    "Nous allons réaliser un modèle de régression **Ridge**.<br> \n",
    "<img src='https://github.com/retkowsky/images/blob/master/ridge.png?raw=true'>\n",
    "<br>\n",
    "C'est une version régularisée de la régression linéaire.\n",
    "Particulièrement utile lorsque les covariables sont fortement autocorrélées.\n",
    "\n",
    "Cela permet d'ajuster les données avec des coefficents de pondération du modèle les plus petits possibles.\n",
    "- Si le paramétre = 0 => nous avons dans ce cas une régression linéaire.\n",
    "- Si le paramétre a une valeur importante, alors les coefficients de pondérations ont des valeurs proches de 0 => on aura dans ce cas une ligne horizontale qui passe par la moyenne des données.\n",
    "\n"
   ]
  },
  {
   "cell_type": "markdown",
   "metadata": {},
   "source": [
    "> https://scikit-learn.org/stable/modules/generated/sklearn.linear_model.Ridge.html"
   ]
  },
  {
   "cell_type": "markdown",
   "metadata": {},
   "source": [
    "### Création expérimentation Azure ML"
   ]
  },
  {
   "cell_type": "code",
   "execution_count": 76,
   "metadata": {},
   "outputs": [],
   "source": [
    "from azureml.core import experiment\n",
    "experiment = Experiment(workspace=ws, name=\"Exemple1-Intro\")"
   ]
  },
  {
   "cell_type": "markdown",
   "metadata": {},
   "source": [
    "Les étapes\n",
    "1. Logs d'informations\n",
    "2. Modélisation\n",
    "3. Logs de résultats de modèles et graphiques\n",
    "4. Sauvegarde modèle"
   ]
  },
  {
   "cell_type": "code",
   "execution_count": 88,
   "metadata": {},
   "outputs": [],
   "source": [
    "def regridge(k):\n",
    "    \n",
    "    # 1. On démarre le logging des informations\n",
    "    run = experiment.start_logging(snapshot_directory=None)\n",
    "    \n",
    "    print('k =', k)\n",
    "    print()    \n",
    "       \n",
    "    # 2. Logs d'informations au run\n",
    "    run.log('k', k) # On loggue la valeur de k dans l'expérimentation Azure ML\n",
    "    run.log('Test Size', testsizepct) # On loggue la valeur dans l'expérimentation Azure ML\n",
    "    run.log('Nobs Training', nobstrain) # On loggue la valeur dans l'expérimentation Azure ML\n",
    "    run.log('Nobs Test', nobstest) # On loggue la valeur dans l'expérimentation Azure ML\n",
    "    \n",
    "    print('Test Size =', testsizepct)\n",
    "    print('Nombre observations Training =', nobstrain)\n",
    "    print('Nombre observations Test =', nobstest)    \n",
    "    print()\n",
    "    \n",
    "    # 3. Construction d'un modèle de régression Ridge avec la valeur de k comme hyperparamètre\n",
    "    regression_model = Ridge(alpha=k)\n",
    "    regression_model.fit(data['train']['X'], data['train']['y'])\n",
    "    preds = regression_model.predict(data['test']['X'])\n",
    "\n",
    "    # 4. Log de la métrique Mean Squared Error du modèle dans l'expérimentation\n",
    "    from sklearn.metrics import r2_score\n",
    "    import math\n",
    "    \n",
    "    mse = mean_squared_error(data['test']['y'], preds)\n",
    "    rmse = math.sqrt(mse)\n",
    "    R2 = r2_score(data['test']['y'], preds)\n",
    "    \n",
    "    print('- RMSE =', rmse)\n",
    "    print('- MSE =', mse)\n",
    "    print('- R2 =', R2)\n",
    "    \n",
    "    run.log(\"rmse\", rmse)\n",
    "    run.log('mse', mse)\n",
    "    run.log('R2', R2)\n",
    "\n",
    "    # 5. Export modèle pour chaque valeur de k\n",
    "    \n",
    "    model_name = \"RegRidgeModele-k-\" + str(k) + \".pkl\"\n",
    "    filename = \"outputs/\" + model_name\n",
    "    joblib.dump(value=regression_model, filename=filename)\n",
    "    run.upload_file(name=model_name, path_or_stream=filename)\n",
    "    \n",
    "    # 6. Ajout de tags personnalisés au run\n",
    "    run.tag(\"Langage\", \"Python\")\n",
    "    run.tag(\"Version_Python\", \"3.6.9\")\n",
    "    run.tag(\"Version_AzureML\", \"1.1.13\")\n",
    "    run.tag(\"Team\", \"DataScience France\")\n",
    "    run.tag(\"Pays\", \"France\") \n",
    "    run.tag(\"Auteur\", \"Serge\") \n",
    "    \n",
    "    # 7. Création et log d'un graphique\n",
    "    %matplotlib inline\n",
    "    import matplotlib.pyplot as plt\n",
    "\n",
    "    fig = plt.figure(1)\n",
    "    idx = np.argsort(data['test']['y'])\n",
    "    plt.plot(data['test']['y'][idx],preds[idx])\n",
    "    \n",
    "    fig.savefig(\"RegRidgeGraphique-k-\"+str(k)+\".png\") # On sauvegarde chaque graphique avec un nom personnalisé\n",
    "    plt.title('Ajustement Régression Ridge', fontsize=10)\n",
    "    \n",
    "    run.log_image(name='Ajustement Régression Ridge', plot=plt) # On loggue dans l'expérimentation l'image du graphique\n",
    "    \n",
    "    # 6. Fin du run\n",
    "    run.complete()"
   ]
  },
  {
   "cell_type": "markdown",
   "metadata": {},
   "source": [
    "### On réalise plusieurs appels de la fonction REGRIDGE"
   ]
  },
  {
   "cell_type": "code",
   "execution_count": 89,
   "metadata": {},
   "outputs": [
    {
     "name": "stdout",
     "output_type": "stream",
     "text": [
      "k = 0\n",
      "\n",
      "Test Size = 0.3\n",
      "Nombre observations Training = 309\n",
      "Nombre observations Test = 133\n",
      "\n",
      "- RMSE = 55.65200929335614\n",
      "- MSE = 3097.1461383877977\n",
      "- R2 = 0.3928939845074757\n"
     ]
    },
    {
     "data": {
      "image/png": "[encoded data removed]",
      "text/plain": [
       "<Figure size 432x288 with 1 Axes>"
      ]
     },
     "metadata": {
      "needs_background": "light"
     },
     "output_type": "display_data"
    }
   ],
   "source": [
    "regridge(0)"
   ]
  },
  {
   "cell_type": "code",
   "execution_count": 90,
   "metadata": {},
   "outputs": [
    {
     "name": "stdout",
     "output_type": "stream",
     "text": [
      "k = 0.1\n",
      "\n",
      "Test Size = 0.3\n",
      "Nombre observations Training = 309\n",
      "Nombre observations Test = 133\n",
      "\n",
      "- RMSE = 55.227098269942545\n",
      "- MSE = 3050.0323833178904\n",
      "- R2 = 0.4021292749449723\n"
     ]
    },
    {
     "data": {
      "image/png": "[encoded data removed]",
      "text/plain": [
       "<Figure size 432x288 with 1 Axes>"
      ]
     },
     "metadata": {
      "needs_background": "light"
     },
     "output_type": "display_data"
    }
   ],
   "source": [
    "regridge(0.1)"
   ]
  },
  {
   "cell_type": "code",
   "execution_count": 91,
   "metadata": {},
   "outputs": [
    {
     "name": "stdout",
     "output_type": "stream",
     "text": [
      "k = 0.2\n",
      "\n",
      "Test Size = 0.3\n",
      "Nombre observations Training = 309\n",
      "Nombre observations Test = 133\n",
      "\n",
      "- RMSE = 55.015159130262695\n",
      "- MSE = 3026.667734128127\n",
      "- R2 = 0.4067092393506434\n"
     ]
    },
    {
     "data": {
      "image/png": "[encoded data removed]",
      "text/plain": [
       "<Figure size 432x288 with 1 Axes>"
      ]
     },
     "metadata": {
      "needs_background": "light"
     },
     "output_type": "display_data"
    }
   ],
   "source": [
    "regridge(0.2)"
   ]
  },
  {
   "cell_type": "code",
   "execution_count": 92,
   "metadata": {},
   "outputs": [
    {
     "name": "stdout",
     "output_type": "stream",
     "text": [
      "k = 0.3\n",
      "\n",
      "Test Size = 0.3\n",
      "Nombre observations Training = 309\n",
      "Nombre observations Test = 133\n",
      "\n",
      "- RMSE = 55.052105254959926\n",
      "- MSE = 3030.734293003186\n",
      "- R2 = 0.40591210797708555\n"
     ]
    },
    {
     "data": {
      "image/png": "[encoded data removed]",
      "text/plain": [
       "<Figure size 432x288 with 1 Axes>"
      ]
     },
     "metadata": {
      "needs_background": "light"
     },
     "output_type": "display_data"
    }
   ],
   "source": [
    "regridge(0.3)"
   ]
  },
  {
   "cell_type": "code",
   "execution_count": 93,
   "metadata": {},
   "outputs": [
    {
     "name": "stdout",
     "output_type": "stream",
     "text": [
      "k = 0.4\n",
      "\n",
      "Test Size = 0.3\n",
      "Nombre observations Training = 309\n",
      "Nombre observations Test = 133\n",
      "\n",
      "- RMSE = 55.22012756388052\n",
      "- MSE = 3049.262488171237\n",
      "- R2 = 0.40228019064411824\n"
     ]
    },
    {
     "data": {
      "image/png": "[encoded data removed]",
      "text/plain": [
       "<Figure size 432x288 with 1 Axes>"
      ]
     },
     "metadata": {
      "needs_background": "light"
     },
     "output_type": "display_data"
    }
   ],
   "source": [
    "regridge(0.4)"
   ]
  },
  {
   "cell_type": "code",
   "execution_count": 94,
   "metadata": {},
   "outputs": [
    {
     "name": "stdout",
     "output_type": "stream",
     "text": [
      "k = 0.5\n",
      "\n",
      "Test Size = 0.3\n",
      "Nombre observations Training = 309\n",
      "Nombre observations Test = 133\n",
      "\n",
      "- RMSE = 55.45784630670391\n",
      "- MSE = 3075.5727169779925\n",
      "- R2 = 0.39712283046030694\n"
     ]
    },
    {
     "data": {
      "image/png": "[encoded data removed]",
      "text/plain": [
       "<Figure size 432x288 with 1 Axes>"
      ]
     },
     "metadata": {
      "needs_background": "light"
     },
     "output_type": "display_data"
    }
   ],
   "source": [
    "regridge(0.5)"
   ]
  },
  {
   "cell_type": "code",
   "execution_count": 95,
   "metadata": {},
   "outputs": [
    {
     "name": "stdout",
     "output_type": "stream",
     "text": [
      "-rwxrwxrwx 1 root root 627 Sep 22 12:04 \u001b[0m\u001b[01;32moutputs/RegRidgeModele-k-0.1.pkl\u001b[0m*\r\n",
      "-rwxrwxrwx 1 root root 627 Sep 22 12:04 \u001b[01;32moutputs/RegRidgeModele-k-0.2.pkl\u001b[0m*\r\n",
      "-rwxrwxrwx 1 root root 627 Sep 22 12:04 \u001b[01;32moutputs/RegRidgeModele-k-0.3.pkl\u001b[0m*\r\n",
      "-rwxrwxrwx 1 root root 627 Sep 22 12:05 \u001b[01;32moutputs/RegRidgeModele-k-0.4.pkl\u001b[0m*\r\n",
      "-rwxrwxrwx 1 root root 627 Sep 22 12:05 \u001b[01;32moutputs/RegRidgeModele-k-0.5.pkl\u001b[0m*\r\n",
      "-rwxrwxrwx 1 root root 620 Sep 22 12:04 \u001b[01;32moutputs/RegRidgeModele-k-0.pkl\u001b[0m*\r\n"
     ]
    }
   ],
   "source": [
    "# Liste des pickle des modèles sauvegardés sur le disque\n",
    "%ls outputs/RegRidgeModele*.pkl -l"
   ]
  },
  {
   "cell_type": "code",
   "execution_count": 96,
   "metadata": {},
   "outputs": [
    {
     "name": "stdout",
     "output_type": "stream",
     "text": [
      "-rwxrwxrwx 1 root root 24471 Sep 22 12:04 \u001b[0m\u001b[01;32mRegRidgeGraphique-k-0.1.png\u001b[0m*\r\n",
      "-rwxrwxrwx 1 root root 26538 Sep 22 12:04 \u001b[01;32mRegRidgeGraphique-k-0.2.png\u001b[0m*\r\n",
      "-rwxrwxrwx 1 root root 26890 Sep 22 12:04 \u001b[01;32mRegRidgeGraphique-k-0.3.png\u001b[0m*\r\n",
      "-rwxrwxrwx 1 root root 27243 Sep 22 12:05 \u001b[01;32mRegRidgeGraphique-k-0.4.png\u001b[0m*\r\n",
      "-rwxrwxrwx 1 root root 27150 Sep 22 12:05 \u001b[01;32mRegRidgeGraphique-k-0.5.png\u001b[0m*\r\n",
      "-rwxrwxrwx 1 root root 25004 Sep 22 12:04 \u001b[01;32mRegRidgeGraphique-k-0.png\u001b[0m*\r\n"
     ]
    }
   ],
   "source": [
    "# Liste des graphiques sauvegardés sur le disque\n",
    "%ls RegRidgeGraphique*.png -l"
   ]
  },
  {
   "cell_type": "markdown",
   "metadata": {},
   "source": [
    "## Référencement du modèle"
   ]
  },
  {
   "cell_type": "markdown",
   "metadata": {},
   "source": [
    "Le meilleur modèle est pour k=0.2."
   ]
  },
  {
   "cell_type": "code",
   "execution_count": 97,
   "metadata": {},
   "outputs": [],
   "source": [
    "monmodele='RegRidgeModele-k-0.2.pkl'\n",
    "k=0.2\n",
    "RMSE = 55.015159130262695\n",
    "MSE = 3026.667734128127\n",
    "R2 = 0.4067092393506434"
   ]
  },
  {
   "cell_type": "code",
   "execution_count": 98,
   "metadata": {},
   "outputs": [
    {
     "name": "stdout",
     "output_type": "stream",
     "text": [
      "Registering model DiabetesRidge\n"
     ]
    }
   ],
   "source": [
    "from azureml.core.model import Model\n",
    "\n",
    "model = Model.register(model_path=\"outputs/\"+monmodele, # Référence du pickle\n",
    "                       model_name=\"DiabetesRidge\", # Nom du modèle référencé\n",
    "                       model_framework=Model.Framework.SCIKITLEARN,  # Framework\n",
    "                       model_framework_version='0.20.3',             # Version scikit-learn\n",
    "                       tags={'area': 'Diabetes', # Ajout de tags au modèle\n",
    "                             'type': 'Regression Ridge', \n",
    "                             'k':k, \n",
    "                             'MSE' : MSE, \n",
    "                             'R2' : R2,\n",
    "                             'RMSE' : RMSE,\n",
    "                             'Framework' : 'Azure ML SDK'},\n",
    "                       description=\"Modèle de régression Ridge\", # Description du modèle\n",
    "                       workspace=ws) # Nom du workspace Azure ML"
   ]
  },
  {
   "cell_type": "markdown",
   "metadata": {},
   "source": [
    "Le modèle est référencé dans le référentiel des modèles Azure ML."
   ]
  },
  {
   "cell_type": "markdown",
   "metadata": {},
   "source": [
    "## Informations du modèle référencé"
   ]
  },
  {
   "cell_type": "code",
   "execution_count": 99,
   "metadata": {},
   "outputs": [
    {
     "name": "stdout",
     "output_type": "stream",
     "text": [
      "Nom du modèle : DiabetesRidge\n",
      "Description : Modèle de régression Ridge\n",
      "ID = DiabetesRidge:11\n",
      "Version = 11\n"
     ]
    }
   ],
   "source": [
    "print('Nom du modèle :', model.name)\n",
    "print('Description :', model.description)\n",
    "print('ID =', model.id)\n",
    "print('Version =', model.version)"
   ]
  },
  {
   "cell_type": "markdown",
   "metadata": {},
   "source": [
    "## On visualise les métriques pour chaque run"
   ]
  },
  {
   "cell_type": "code",
   "execution_count": 100,
   "metadata": {},
   "outputs": [
    {
     "name": "stdout",
     "output_type": "stream",
     "text": [
      "\n",
      "Run ID : 75d966cf-7181-439c-a1c5-4edbfc5264f6\n",
      "\n",
      "Run ID : 7bfeea31-a6be-4f56-afd1-8662cd0ebe58\n",
      "\n",
      "Run ID : 50b75027-9a88-4be1-b9ea-657f45ca305f\n",
      "- k 0.5\n",
      "- Test Size 0.2\n",
      "- Nobs Training 353\n",
      "- Nobs Test 89\n",
      "- rmse 57.43613501800989\n",
      "- mse 3298.9096058070622\n",
      "- R2 0.35667773997495866\n",
      "- Ajustement Régression Ridge aml://artifactId/ExperimentRun/dcid.50b75027-9a88-4be1-b9ea-657f45ca305f/Ajustement Régression Ridge_1595351621.png\n",
      "\n",
      "Run ID : 86811847-4b53-4d26-883e-acc4fe2cfb67\n",
      "- k 0.4\n",
      "- Test Size 0.2\n",
      "- Nobs Training 353\n",
      "- Nobs Test 89\n",
      "- rmse 57.40854522068826\n",
      "- mse 3295.741064355809\n",
      "- R2 0.3572956390661659\n",
      "- Ajustement Régression Ridge aml://artifactId/ExperimentRun/dcid.86811847-4b53-4d26-883e-acc4fe2cfb67/Ajustement Régression Ridge_1595351557.png\n",
      "\n",
      "Run ID : 0fdd8e70-803f-4bca-b85c-4a226fbcb613\n",
      "- k 0.3\n",
      "- Test Size 0.2\n",
      "- Nobs Training 353\n",
      "- Nobs Test 89\n",
      "- rmse 57.46889274556911\n",
      "- mse 3302.6736334017255\n",
      "- R2 0.35594371478835374\n",
      "- Ajustement Régression Ridge aml://artifactId/ExperimentRun/dcid.0fdd8e70-803f-4bca-b85c-4a226fbcb613/Ajustement Régression Ridge_1595351521.png\n",
      "\n",
      "Run ID : 417d0115-4f5c-4b95-8fb3-dc0e023276e2\n",
      "- k 0.2\n",
      "- Test Size 0.2\n",
      "- Nobs Training 353\n",
      "- Nobs Test 89\n",
      "- rmse 57.66536811178679\n",
      "- mse 3325.2946794678764\n",
      "- R2 0.35153237158155903\n",
      "- Ajustement Régression Ridge aml://artifactId/ExperimentRun/dcid.417d0115-4f5c-4b95-8fb3-dc0e023276e2/Ajustement Régression Ridge_1595351471.png\n",
      "\n",
      "Run ID : 2854c6d9-c117-4f6d-8778-9fe91c583031\n",
      "- k 0.1\n",
      "- Test Size 0.2\n",
      "- Nobs Training 353\n",
      "- Nobs Test 89\n",
      "- rmse 58.07451788702195\n",
      "- mse 3372.649627810032\n",
      "- R2 0.3422976558630022\n",
      "- Ajustement Régression Ridge aml://artifactId/ExperimentRun/dcid.2854c6d9-c117-4f6d-8778-9fe91c583031/Ajustement Régression Ridge_1595351377.png\n",
      "\n",
      "Run ID : 4bfc32f6-35d6-400e-b4ed-a9355d2dab7d\n",
      "\n",
      "Run ID : 94a64192-4924-43be-b648-193155c0d8b5\n",
      "\n",
      "Run ID : 39f63a01-607e-48a4-87e2-dbe9462d2d12\n",
      "\n",
      "Run ID : 74a93777-a43b-44e9-97cd-e345603970d7\n",
      "- k 0.1\n",
      "- Test Size 0.2\n",
      "- Nobs Training 353\n",
      "- Nobs Test 89\n",
      "- rmse 58.07451788702195\n",
      "- mse 3372.649627810032\n",
      "- R2 0.3422976558630022\n",
      "- Ajustement Régression Ridge aml://artifactId/ExperimentRun/dcid.74a93777-a43b-44e9-97cd-e345603970d7/Ajustement Régression Ridge_1595348088.png\n",
      "\n",
      "Run ID : 4a343ab5-e7f3-4857-b7af-d032db2e7e4b\n",
      "\n",
      "Run ID : 86542587-ce13-4802-afbd-8f9d5e409505\n",
      "\n",
      "Run ID : 08b14ddb-7917-4231-852a-28e4c38a439e\n",
      "\n",
      "Run ID : cfa945ab-733d-4a11-bb0c-68954647a668\n",
      "- k 0.3\n",
      "- Test Size 0.2\n",
      "- Nobs Training 353\n",
      "- Nobs Test 89\n",
      "- rmse 57.46889274556911\n",
      "- mse 3302.6736334017255\n",
      "- Ajustement Régression Ridge aml://artifactId/ExperimentRun/dcid.cfa945ab-733d-4a11-bb0c-68954647a668/Ajustement Régression Ridge_1595347456.png\n",
      "- R2 0.35594371478835374\n",
      "\n",
      "Run ID : 6a87db1a-801b-4496-886c-53313bdeefb4\n",
      "- k 0.2\n",
      "- Test Size 0.2\n",
      "- Nobs Training 353\n",
      "- Nobs Test 89\n",
      "- rmse 57.66536811178679\n",
      "- mse 3325.2946794678764\n",
      "- R2 0.35153237158155903\n",
      "- Ajustement Régression Ridge aml://artifactId/ExperimentRun/dcid.6a87db1a-801b-4496-886c-53313bdeefb4/Ajustement Régression Ridge_1595347427.png\n",
      "\n",
      "Run ID : ac808e13-a8ab-4e36-a60b-1a88b679da8f\n",
      "- k 0.1\n",
      "- Test Size 0.2\n",
      "- Nobs Training 353\n",
      "- Nobs Test 89\n",
      "- rmse 58.07451788702195\n",
      "- mse 3372.649627810032\n",
      "- R2 0.3422976558630022\n",
      "- Ajustement Régression Ridge aml://artifactId/ExperimentRun/dcid.ac808e13-a8ab-4e36-a60b-1a88b679da8f/Ajustement Régression Ridge_1595347395.png\n",
      "\n",
      "Run ID : 64d79271-b9cd-42a4-bdc8-ae25cc07603a\n",
      "- k 0.5\n",
      "- Test Size 0.2\n",
      "- Nobs Training 353\n",
      "- Nobs Test 89\n",
      "- rmse 57.43613501800989\n",
      "- mse 3298.9096058070622\n",
      "- R2 0.35667773997495866\n",
      "- Ajustement Régression Ridge aml://artifactId/ExperimentRun/dcid.64d79271-b9cd-42a4-bdc8-ae25cc07603a/Ajustement Régression Ridge_1595346817.png\n",
      "\n",
      "Run ID : e583ff6d-df3b-480c-affb-4c45906c6cda\n",
      "- k 0.4\n",
      "- Test Size 0.2\n",
      "- Nobs Training 353\n",
      "- Nobs Test 89\n",
      "- rmse 57.40854522068826\n",
      "- mse 3295.741064355809\n",
      "- R2 0.3572956390661659\n",
      "- Ajustement Régression Ridge aml://artifactId/ExperimentRun/dcid.e583ff6d-df3b-480c-affb-4c45906c6cda/Ajustement Régression Ridge_1595346786.png\n",
      "\n",
      "Run ID : 0172e614-9a50-4aeb-9903-cdd43e50f28b\n",
      "- k 0.3\n",
      "- Test Size 0.2\n",
      "- Nobs Training 353\n",
      "- Nobs Test 89\n",
      "- rmse 57.46889274556911\n",
      "- mse 3302.6736334017255\n",
      "- R2 0.35594371478835374\n",
      "- Ajustement Régression Ridge aml://artifactId/ExperimentRun/dcid.0172e614-9a50-4aeb-9903-cdd43e50f28b/Ajustement Régression Ridge_1595346755.png\n",
      "\n",
      "Run ID : 8a02dd69-8888-4a7f-abb7-91458188cb75\n",
      "- k 0.2\n",
      "- Test Size 0.2\n",
      "- Nobs Training 353\n",
      "- Nobs Test 89\n",
      "- rmse 57.66536811178679\n",
      "- mse 3325.2946794678764\n",
      "- R2 0.35153237158155903\n",
      "- Ajustement Régression Ridge aml://artifactId/ExperimentRun/dcid.8a02dd69-8888-4a7f-abb7-91458188cb75/Ajustement Régression Ridge_1595346730.png\n",
      "\n",
      "Run ID : 8d540a76-15eb-44d4-9ed3-5ef27ef233df\n",
      "- k 0.1\n",
      "- Test Size 0.2\n",
      "- Nobs Training 353\n",
      "- Nobs Test 89\n",
      "- rmse 58.07451788702195\n",
      "- mse 3372.649627810032\n",
      "- R2 0.3422976558630022\n",
      "- Ajustement Régression Ridge aml://artifactId/ExperimentRun/dcid.8d540a76-15eb-44d4-9ed3-5ef27ef233df/Ajustement Régression Ridge_1595346698.png\n",
      "\n",
      "Run ID : 8d2a4249-f2db-4809-9145-a6ca90fcc26c\n",
      "- k 0.1\n",
      "- Test Size 0.2\n",
      "- Nobs Training 353\n",
      "- Nobs Test 89\n",
      "- rmse 58.07451788702195\n",
      "- mse 3372.649627810032\n",
      "- R2 0.3422976558630022\n"
     ]
    }
   ],
   "source": [
    "# Liste des métriques par Run\n",
    "from azureml.core import Experiment, Run\n",
    "\n",
    "diabetes_experiment = ws.experiments['Exemple1-Diabetes']\n",
    "for logged_run in diabetes_experiment.get_runs():\n",
    "    print()\n",
    "    print('Run ID :', logged_run.id)\n",
    "    metrics = logged_run.get_metrics()\n",
    "    for key in metrics.keys():\n",
    "        print('-', key, metrics.get(key))"
   ]
  },
  {
   "cell_type": "markdown",
   "metadata": {},
   "source": [
    "Nous pouvons visualiser les résultats sur le portail dans la section **experiments** :"
   ]
  },
  {
   "cell_type": "code",
   "execution_count": 101,
   "metadata": {},
   "outputs": [
    {
     "data": {
      "text/html": [
       "<table style=\"width:100%\"><tr><th>Name</th><th>Workspace</th><th>Report Page</th><th>Docs Page</th></tr><tr><td>Exemple1-Intro</td><td>workshopAML2020</td><td><a href=\"https://ml.azure.com/experiments/Exemple1-Intro?wsid=/subscriptions/70b8f39e-8863-49f7-b6ba-34a80799550c/resourcegroups/workshopAML2020-rg/workspaces/workshopAML2020\" target=\"_blank\" rel=\"noopener\">Link to Azure Machine Learning studio</a></td><td><a href=\"https://docs.microsoft.com/en-us/python/api/azureml-core/azureml.core.experiment.Experiment?view=azure-ml-py\" target=\"_blank\" rel=\"noopener\">Link to Documentation</a></td></tr></table>"
      ],
      "text/plain": [
       "Experiment(Name: Exemple1-Intro,\n",
       "Workspace: workshopAML2020)"
      ]
     },
     "execution_count": 101,
     "metadata": {},
     "output_type": "execute_result"
    }
   ],
   "source": [
    "experiment"
   ]
  },
  {
   "cell_type": "markdown",
   "metadata": {},
   "source": [
    "## 3. Utilisation MLFlow\n",
    "\n",
    "<img src=\"https://docs.microsoft.com/en-us/azure/machine-learning/service/media/how-to-use-mlflow/mlflow-diagram-track.png\">"
   ]
  },
  {
   "cell_type": "markdown",
   "metadata": {},
   "source": [
    "Documentation: https://docs.microsoft.com/en-us/azure/machine-learning/service/how-to-use-mlflow"
   ]
  },
  {
   "cell_type": "markdown",
   "metadata": {},
   "source": [
    "> https://mlflow.org/"
   ]
  },
  {
   "cell_type": "code",
   "execution_count": 102,
   "metadata": {},
   "outputs": [],
   "source": [
    "import mlflow\n",
    "import mlflow.sklearn\n",
    "import azureml.core\n",
    "from azureml.core import Workspace\n",
    "import matplotlib.pyplot as plt"
   ]
  },
  {
   "cell_type": "code",
   "execution_count": 103,
   "metadata": {},
   "outputs": [],
   "source": [
    "# A installer si besoin\n",
    "#!pip install azureml-mlflow"
   ]
  },
  {
   "cell_type": "code",
   "execution_count": 104,
   "metadata": {},
   "outputs": [],
   "source": [
    "ws = Workspace.from_config()\n",
    "\n",
    "mlflow.set_tracking_uri(ws.get_mlflow_tracking_uri())\n",
    "\n",
    "experiment_name = \"Exemple1-MLFlow\"\n",
    "mlflow.set_experiment(experiment_name)"
   ]
  },
  {
   "cell_type": "code",
   "execution_count": 105,
   "metadata": {},
   "outputs": [
    {
     "name": "stdout",
     "output_type": "stream",
     "text": [
      "Données : 353 observations d'apprentissage et 89 observations de test.\n",
      "k = 0.4\n",
      "Mean Squared Error = 3295.741064355809\n"
     ]
    },
    {
     "name": "stderr",
     "output_type": "stream",
     "text": [
      "2020/09/22 12:07:11 WARNING mlflow.models.model: Logging model metadata to the tracking server has failed, possibly due older server version. The model artifacts have been logged successfully under azureml://experiments/Exemple1-MLFlow/runs/cea18ec9-7c4e-4821-8f98-404dba1a1021/artifacts. In addition to exporting model artifacts, MLflow clients 1.7.0 and above attempt to record model metadata to the  tracking store. If logging to a mlflow server via REST, consider  upgrading the server version to MLflow 1.7.0 or above.\n"
     ]
    },
    {
     "data": {
      "image/png": "[encoded data removed]",
      "text/plain": [
       "<Figure size 432x288 with 1 Axes>"
      ]
     },
     "metadata": {
      "needs_background": "light"
     },
     "output_type": "display_data"
    }
   ],
   "source": [
    "import numpy as np\n",
    "from sklearn.datasets import load_diabetes\n",
    "from sklearn.linear_model import Ridge\n",
    "from sklearn.metrics import mean_squared_error\n",
    "from sklearn.model_selection import train_test_split\n",
    "\n",
    "X, y = load_diabetes(return_X_y = True)\n",
    "columns = ['age', 'gender', 'bmi', 'bp', 's1', 's2', 's3', 's4', 's5', 's6']\n",
    "X_train, X_test, y_train, y_test = train_test_split(X, y, test_size=0.2, random_state=0)\n",
    "data = {\n",
    "    \"train\":{\"X\": X_train, \"y\": y_train},        \n",
    "    \"test\":{\"X\": X_test, \"y\": y_test}\n",
    "}\n",
    "\n",
    "print (\"Données :\", len(data['train']['X']), \"observations d'apprentissage et\",len(data['test']['X']), \"observations de test.\")\n",
    "\n",
    "model_save_path = \"model\"\n",
    "\n",
    "k=0.4\n",
    "\n",
    "with mlflow.start_run() as run:\n",
    "    \n",
    "    mlflow.log_metric('k', k)\n",
    "    print('k =', k)\n",
    "    \n",
    "    regression_model = Ridge(alpha=k)\n",
    "    regression_model.fit(data['train']['X'], data['train']['y'])\n",
    "    preds = regression_model.predict(data['test']['X'])\n",
    "\n",
    "    print('Mean Squared Error =', mean_squared_error(data['test']['y'], preds))\n",
    "    mlflow.log_metric('mse', mean_squared_error(data['test']['y'], preds))\n",
    "    \n",
    "    mlflow.sklearn.log_model(regression_model,model_save_path)\n",
    "    \n",
    "    fig = plt.figure(1)\n",
    "    idx = np.argsort(data['test']['y'])\n",
    "    plt.plot(data['test']['y'][idx],preds[idx])\n",
    "    fig.savefig(\"GraphiqueMLFlow.png\")\n",
    "    mlflow.log_artifact(\"GraphiqueMLFlow.png\")\n",
    "    "
   ]
  },
  {
   "cell_type": "code",
   "execution_count": 106,
   "metadata": {},
   "outputs": [
    {
     "data": {
      "text/html": [
       "<table style=\"width:100%\"><tr><th>Name</th><th>Workspace</th><th>Report Page</th><th>Docs Page</th></tr><tr><td>Exemple1-MLFlow</td><td>workshopAML2020</td><td><a href=\"https://ml.azure.com/experiments/Exemple1-MLFlow?wsid=/subscriptions/70b8f39e-8863-49f7-b6ba-34a80799550c/resourcegroups/workshopAML2020-rg/workspaces/workshopAML2020\" target=\"_blank\" rel=\"noopener\">Link to Azure Machine Learning studio</a></td><td><a href=\"https://docs.microsoft.com/en-us/python/api/azureml-core/azureml.core.experiment.Experiment?view=azure-ml-py\" target=\"_blank\" rel=\"noopener\">Link to Documentation</a></td></tr></table>"
      ],
      "text/plain": [
       "Experiment(Name: Exemple1-MLFlow,\n",
       "Workspace: workshopAML2020)"
      ]
     },
     "execution_count": 106,
     "metadata": {},
     "output_type": "execute_result"
    }
   ],
   "source": [
    "ws.experiments[experiment_name]"
   ]
  },
  {
   "cell_type": "markdown",
   "metadata": {},
   "source": [
    "## 4. Autres exemples"
   ]
  },
  {
   "cell_type": "code",
   "execution_count": 107,
   "metadata": {},
   "outputs": [],
   "source": [
    "experiment = Experiment(workspace=ws, name='Exemple1-Logging')"
   ]
  },
  {
   "cell_type": "code",
   "execution_count": 108,
   "metadata": {},
   "outputs": [],
   "source": [
    "from tqdm import tqdm"
   ]
  },
  {
   "cell_type": "code",
   "execution_count": 109,
   "metadata": {},
   "outputs": [],
   "source": [
    "# start logging for the run\n",
    "run = experiment.start_logging(snapshot_directory=None)\n",
    "\n",
    "# change the scale factor on different runs to see how you can compare multiple runs\n",
    "scale_factor = 3.14\n",
    "\n",
    "# change the category on different runs to see how to organize data in reports\n",
    "category = 'Pi'"
   ]
  },
  {
   "cell_type": "code",
   "execution_count": 110,
   "metadata": {},
   "outputs": [
    {
     "data": {
      "text/html": [
       "<table style=\"width:100%\"><tr><th>Experiment</th><th>Id</th><th>Type</th><th>Status</th><th>Details Page</th><th>Docs Page</th></tr><tr><td>Exemple1-Logging</td><td>cae2fd46-415a-4bc3-8467-428e6f2c03d0</td><td></td><td>Running</td><td><a href=\"https://ml.azure.com/experiments/Exemple1-Logging/runs/cae2fd46-415a-4bc3-8467-428e6f2c03d0?wsid=/subscriptions/70b8f39e-8863-49f7-b6ba-34a80799550c/resourcegroups/workshopAML2020-rg/workspaces/workshopAML2020\" target=\"_blank\" rel=\"noopener\">Link to Azure Machine Learning studio</a></td><td><a href=\"https://docs.microsoft.com/en-us/python/api/azureml-core/azureml.core.run.Run?view=azure-ml-py\" target=\"_blank\" rel=\"noopener\">Link to Documentation</a></td></tr></table>"
      ],
      "text/plain": [
       "Run(Experiment: Exemple1-Logging,\n",
       "Id: cae2fd46-415a-4bc3-8467-428e6f2c03d0,\n",
       "Type: None,\n",
       "Status: Running)"
      ]
     },
     "execution_count": 110,
     "metadata": {},
     "output_type": "execute_result"
    }
   ],
   "source": [
    "run"
   ]
  },
  {
   "cell_type": "code",
   "execution_count": 111,
   "metadata": {},
   "outputs": [
    {
     "data": {
      "text/html": [
       "<table style=\"width:100%\"><tr><th>Name</th><th>Workspace</th><th>Report Page</th><th>Docs Page</th></tr><tr><td>Exemple1-Logging</td><td>workshopAML2020</td><td><a href=\"https://ml.azure.com/experiments/Exemple1-Logging?wsid=/subscriptions/70b8f39e-8863-49f7-b6ba-34a80799550c/resourcegroups/workshopAML2020-rg/workspaces/workshopAML2020\" target=\"_blank\" rel=\"noopener\">Link to Azure Machine Learning studio</a></td><td><a href=\"https://docs.microsoft.com/en-us/python/api/azureml-core/azureml.core.experiment.Experiment?view=azure-ml-py\" target=\"_blank\" rel=\"noopener\">Link to Documentation</a></td></tr></table>"
      ],
      "text/plain": [
       "Experiment(Name: Exemple1-Logging,\n",
       "Workspace: workshopAML2020)"
      ]
     },
     "execution_count": 111,
     "metadata": {},
     "output_type": "execute_result"
    }
   ],
   "source": [
    "experiment"
   ]
  },
  {
   "cell_type": "code",
   "execution_count": 112,
   "metadata": {},
   "outputs": [],
   "source": [
    "# log chaine de caractères\n",
    "run.log(name='Category', value=category)"
   ]
  },
  {
   "cell_type": "code",
   "execution_count": 113,
   "metadata": {},
   "outputs": [],
   "source": [
    "# log donneés numériques\n",
    "run.log(name=\"scale factor\", value = scale_factor)\n",
    "run.log(name='Magic Number', value=42 * scale_factor)"
   ]
  },
  {
   "cell_type": "code",
   "execution_count": 114,
   "metadata": {},
   "outputs": [
    {
     "name": "stderr",
     "output_type": "stream",
     "text": [
      "100%|██████████| 20/20 [00:00<00:00, 7298.25it/s]\n"
     ]
    }
   ],
   "source": [
    "fibonacci_values = [0, 1, 1, 2, 3, 5, 8, 13, 21, 34, 55, 89]\n",
    "scaled_values = (i * scale_factor for i in fibonacci_values)\n",
    "\n",
    "# Log a list of values. Note this will generate a single-variable line chart.\n",
    "run.log_list(name='Fibonacci', value=scaled_values)\n",
    "\n",
    "for i in tqdm(range(-10, 10)):\n",
    "    # log a metric value repeatedly, this will generate a single-variable line chart.\n",
    "    run.log(name='Sigmoid', value=1 / (1 + np.exp(-i)))"
   ]
  },
  {
   "cell_type": "code",
   "execution_count": 115,
   "metadata": {},
   "outputs": [
    {
     "name": "stderr",
     "output_type": "stream",
     "text": [
      "100%|██████████| 20/20 [00:00<00:00, 7095.76it/s]\n"
     ]
    }
   ],
   "source": [
    "# create a dictionary to hold a table of values\n",
    "sines = {}\n",
    "sines['angle'] = []\n",
    "sines['sine'] = []\n",
    "\n",
    "for i in tqdm(range(-10, 10)):\n",
    "    angle = i / 2.0 * scale_factor\n",
    "    \n",
    "    # log a 2 (or more) values as a metric repeatedly. This will generate a 2-variable line chart if you have 2 numerical columns.\n",
    "    run.log_row(name='Cosine Wave', angle=angle, cos=np.cos(angle))\n",
    "        \n",
    "    sines['angle'].append(angle)\n",
    "    sines['sine'].append(np.sin(angle))\n",
    "\n",
    "# log a dictionary as a table, this will generate a 2-variable chart if you have 2 numerical columns\n",
    "run.log_table(name='Sine Wave', value=sines)"
   ]
  },
  {
   "cell_type": "code",
   "execution_count": 116,
   "metadata": {},
   "outputs": [
    {
     "data": {
      "image/png": "[encoded data removed]",
      "text/plain": [
       "<Figure size 432x288 with 1 Axes>"
      ]
     },
     "metadata": {
      "needs_background": "light"
     },
     "output_type": "display_data"
    }
   ],
   "source": [
    "%matplotlib inline\n",
    "\n",
    "import matplotlib.pyplot as plt\n",
    "angle = np.linspace(-3, 3, 50) * scale_factor\n",
    "plt.plot(angle,np.tanh(angle), label='tanh')\n",
    "plt.legend(fontsize=12)\n",
    "plt.title('Tangente hyperbolique', fontsize=16)\n",
    "plt.grid(True)\n",
    "\n",
    "run.log_image(name='Tangente hyperbolique', plot=plt)"
   ]
  },
  {
   "cell_type": "code",
   "execution_count": 117,
   "metadata": {},
   "outputs": [
    {
     "data": {
      "text/plain": [
       "<azureml._restclient.models.batch_artifact_content_information_dto.BatchArtifactContentInformationDto at 0x7fbb847cb898>"
      ]
     },
     "execution_count": 117,
     "metadata": {},
     "output_type": "execute_result"
    }
   ],
   "source": [
    "file_name = 'outputs/myfile.txt'\n",
    "\n",
    "with open(file_name, \"w\") as f:\n",
    "    f.write('This is an output file that will be uploaded.\\n')\n",
    "\n",
    "# Upload the file explicitly into artifacts \n",
    "run.upload_file(name = file_name, path_or_stream = file_name)"
   ]
  },
  {
   "cell_type": "code",
   "execution_count": 118,
   "metadata": {},
   "outputs": [],
   "source": [
    "run.complete()"
   ]
  },
  {
   "cell_type": "code",
   "execution_count": 119,
   "metadata": {},
   "outputs": [
    {
     "data": {
      "text/html": [
       "<table style=\"width:100%\"><tr><th>Name</th><th>Workspace</th><th>Report Page</th><th>Docs Page</th></tr><tr><td>Exemple1-Logging</td><td>workshopAML2020</td><td><a href=\"https://ml.azure.com/experiments/Exemple1-Logging?wsid=/subscriptions/70b8f39e-8863-49f7-b6ba-34a80799550c/resourcegroups/workshopAML2020-rg/workspaces/workshopAML2020\" target=\"_blank\" rel=\"noopener\">Link to Azure Machine Learning studio</a></td><td><a href=\"https://docs.microsoft.com/en-us/python/api/azureml-core/azureml.core.experiment.Experiment?view=azure-ml-py\" target=\"_blank\" rel=\"noopener\">Link to Documentation</a></td></tr></table>"
      ],
      "text/plain": [
       "Experiment(Name: Exemple1-Logging,\n",
       "Workspace: workshopAML2020)"
      ]
     },
     "execution_count": 119,
     "metadata": {},
     "output_type": "execute_result"
    }
   ],
   "source": [
    "experiment"
   ]
  },
  {
   "cell_type": "code",
   "execution_count": 120,
   "metadata": {},
   "outputs": [
    {
     "name": "stdout",
     "output_type": "stream",
     "text": [
      "Run ID: cae2fd46-415a-4bc3-8467-428e6f2c03d0\n",
      "- Tangente hyperbolique aml://artifactId/ExperimentRun/dcid.cae2fd46-415a-4bc3-8467-428e6f2c03d0/Tangente hyperbolique_1600776443.png\n",
      "- Category Pi\n",
      "- scale factor 3.14\n",
      "- Magic Number 131.88\n",
      "- Fibonacci [0.0, 3.14, 3.14, 6.28, 9.42, 15.700000000000001, 25.12, 40.82, 65.94, 106.76, 172.70000000000002, 279.46000000000004]\n",
      "- Sigmoid [4.5397868702434395e-05, 0.00012339457598623172, 0.0003353501304664781, 0.0009110511944006454, 0.0024726231566347743, 0.0066928509242848554, 0.01798620996209156, 0.04742587317756678, 0.11920292202211755, 0.2689414213699951, 0.5, 0.7310585786300049, 0.8807970779778823, 0.9525741268224334, 0.9820137900379085, 0.9933071490757153, 0.9975273768433653, 0.9990889488055994, 0.9996646498695336, 0.9998766054240137]\n",
      "- Cosine Wave {'angle': [-15.700000000000001, -14.13, -12.56, -10.99, -9.42, -7.8500000000000005, -6.28, -4.71, -3.14, -1.57, 0.0, 1.57, 3.14, 4.71, 6.28, 7.8500000000000005, 9.42, 10.99, 12.56, 14.13], 'cos': [-0.9999682933493399, 0.0071668797991832804, 0.9999797077049732, -0.005574258696310301, -0.9999885855671581, 0.003981623454078851, 0.9999949269133752, -0.0023889781122815386, -0.9999987317275395, 0.0007963267107332633, 1.0, 0.0007963267107332633, -0.9999987317275395, -0.0023889781122815386, 0.9999949269133752, 0.003981623454078851, -0.9999885855671581, -0.005574258696310301, 0.9999797077049732, 0.0071668797991832804]}\n",
      "- Sine Wave {'angle': [-15.700000000000001, -14.13, -12.56, -10.99, -9.42, -7.8500000000000005, -6.28, -4.71, -3.14, -1.57, 0.0, 1.57, 3.14, 4.71, 6.28, 7.8500000000000005, 9.42, 10.99, 12.56, 14.13], 'sine': [-0.007963183785935567, -0.9999743175871789, 0.006370571267652135, 0.9999844636993049, -0.0047779425901285115, -0.9999920733059188, 0.0031853017931379904, 0.999997146387718, -0.0015926529164868282, -0.9999996829318346, 0.0, 0.9999996829318346, 0.0015926529164868282, -0.999997146387718, -0.0031853017931379904, 0.9999920733059188, 0.0047779425901285115, -0.9999844636993049, -0.006370571267652135, 0.9999743175871789]}\n",
      "Run ID: f255da0e-52a4-410e-8c78-8f644656d2db\n",
      "- Tangente hyperbolique aml://artifactId/ExperimentRun/dcid.f255da0e-52a4-410e-8c78-8f644656d2db/Tangente hyperbolique_1600768768.png\n",
      "- Category Pi\n",
      "- scale factor 3.14\n",
      "- Magic Number 131.88\n",
      "- Fibonacci [0.0, 3.14, 3.14, 6.28, 9.42, 15.700000000000001, 25.12, 40.82, 65.94, 106.76, 172.70000000000002, 279.46000000000004]\n",
      "- Sigmoid [4.5397868702434395e-05, 0.00012339457598623172, 0.0003353501304664781, 0.0009110511944006454, 0.0024726231566347743, 0.0066928509242848554, 0.01798620996209156, 0.04742587317756678, 0.11920292202211755, 0.2689414213699951, 0.5, 0.7310585786300049, 0.8807970779778823, 0.9525741268224334, 0.9820137900379085, 0.9933071490757153, 0.9975273768433653, 0.9990889488055994, 0.9996646498695336, 0.9998766054240137]\n",
      "- Cosine Wave {'angle': [-15.700000000000001, -14.13, -12.56, -10.99, -9.42, -7.8500000000000005, -6.28, -4.71, -3.14, -1.57, 0.0, 1.57, 3.14, 4.71, 6.28, 7.8500000000000005, 9.42, 10.99, 12.56, 14.13], 'cos': [-0.9999682933493399, 0.0071668797991832804, 0.9999797077049732, -0.005574258696310301, -0.9999885855671581, 0.003981623454078851, 0.9999949269133752, -0.0023889781122815386, -0.9999987317275395, 0.0007963267107332633, 1.0, 0.0007963267107332633, -0.9999987317275395, -0.0023889781122815386, 0.9999949269133752, 0.003981623454078851, -0.9999885855671581, -0.005574258696310301, 0.9999797077049732, 0.0071668797991832804]}\n",
      "- Sine Wave {'angle': [-15.700000000000001, -14.13, -12.56, -10.99, -9.42, -7.8500000000000005, -6.28, -4.71, -3.14, -1.57, 0.0, 1.57, 3.14, 4.71, 6.28, 7.8500000000000005, 9.42, 10.99, 12.56, 14.13], 'sine': [-0.007963183785935567, -0.9999743175871789, 0.006370571267652135, 0.9999844636993049, -0.0047779425901285115, -0.9999920733059188, 0.0031853017931379904, 0.999997146387718, -0.0015926529164868282, -0.9999996829318346, 0.0, 0.9999996829318346, 0.0015926529164868282, -0.999997146387718, -0.0031853017931379904, 0.9999920733059188, 0.0047779425901285115, -0.9999844636993049, -0.006370571267652135, 0.9999743175871789]}\n",
      "Run ID: 8ad89d06-bd36-4f2a-88ba-557112ff521f\n",
      "- Category Pi\n",
      "- Tangente hyperbolique aml://artifactId/ExperimentRun/dcid.8ad89d06-bd36-4f2a-88ba-557112ff521f/Tangente hyperbolique_1600327305.png\n",
      "- scale factor 3.14\n",
      "- Magic Number 131.88\n",
      "- Fibonacci [0.0, 3.14, 3.14, 6.28, 9.42, 15.700000000000001, 25.12, 40.82, 65.94, 106.76, 172.70000000000002, 279.46000000000004]\n",
      "- Sigmoid [4.5397868702434395e-05, 0.00012339457598623172, 0.0003353501304664781, 0.0009110511944006454, 0.0024726231566347743, 0.0066928509242848554, 0.01798620996209156, 0.04742587317756678, 0.11920292202211755, 0.2689414213699951, 0.5, 0.7310585786300049, 0.8807970779778823, 0.9525741268224334, 0.9820137900379085, 0.9933071490757153, 0.9975273768433653, 0.9990889488055994, 0.9996646498695336, 0.9998766054240137]\n",
      "- Cosine Wave {'angle': [-15.700000000000001, -14.13, -12.56, -10.99, -9.42, -7.8500000000000005, -6.28, -4.71, -3.14, -1.57, 0.0, 1.57, 3.14, 4.71, 6.28, 7.8500000000000005, 9.42, 10.99, 12.56, 14.13], 'cos': [-0.9999682933493399, 0.0071668797991832804, 0.9999797077049732, -0.005574258696310301, -0.9999885855671581, 0.003981623454078851, 0.9999949269133752, -0.0023889781122815386, -0.9999987317275395, 0.0007963267107332633, 1.0, 0.0007963267107332633, -0.9999987317275395, -0.0023889781122815386, 0.9999949269133752, 0.003981623454078851, -0.9999885855671581, -0.005574258696310301, 0.9999797077049732, 0.0071668797991832804]}\n",
      "- Sine Wave {'angle': [-15.700000000000001, -14.13, -12.56, -10.99, -9.42, -7.8500000000000005, -6.28, -4.71, -3.14, -1.57, 0.0, 1.57, 3.14, 4.71, 6.28, 7.8500000000000005, 9.42, 10.99, 12.56, 14.13], 'sine': [-0.007963183785935567, -0.9999743175871789, 0.006370571267652135, 0.9999844636993049, -0.0047779425901285115, -0.9999920733059188, 0.0031853017931379904, 0.999997146387718, -0.0015926529164868282, -0.9999996829318346, 0.0, 0.9999996829318346, 0.0015926529164868282, -0.999997146387718, -0.0031853017931379904, 0.9999920733059188, 0.0047779425901285115, -0.9999844636993049, -0.006370571267652135, 0.9999743175871789]}\n",
      "Run ID: a5bd0e74-3897-47c7-a39c-69150fd5da47\n",
      "- Tangente hyperbolique aml://artifactId/ExperimentRun/dcid.a5bd0e74-3897-47c7-a39c-69150fd5da47/Tangente hyperbolique_1600266455.png\n",
      "- Category Pi\n",
      "- scale factor 3.14\n",
      "- Magic Number 131.88\n",
      "- Fibonacci [0.0, 3.14, 3.14, 6.28, 9.42, 15.700000000000001, 25.12, 40.82, 65.94, 106.76, 172.70000000000002, 279.46000000000004]\n",
      "- Sigmoid [4.5397868702434395e-05, 0.00012339457598623172, 0.0003353501304664781, 0.0009110511944006454, 0.0024726231566347743, 0.0066928509242848554, 0.01798620996209156, 0.04742587317756678, 0.11920292202211755, 0.2689414213699951, 0.5, 0.7310585786300049, 0.8807970779778823, 0.9525741268224334, 0.9820137900379085, 0.9933071490757153, 0.9975273768433653, 0.9990889488055994, 0.9996646498695336, 0.9998766054240137]\n",
      "- Cosine Wave {'angle': [-15.700000000000001, -14.13, -12.56, -10.99, -9.42, -7.8500000000000005, -6.28, -4.71, -3.14, -1.57, 0.0, 1.57, 3.14, 4.71, 6.28, 7.8500000000000005, 9.42, 10.99, 12.56, 14.13], 'cos': [-0.9999682933493399, 0.0071668797991832804, 0.9999797077049732, -0.005574258696310301, -0.9999885855671581, 0.003981623454078851, 0.9999949269133752, -0.0023889781122815386, -0.9999987317275395, 0.0007963267107332633, 1.0, 0.0007963267107332633, -0.9999987317275395, -0.0023889781122815386, 0.9999949269133752, 0.003981623454078851, -0.9999885855671581, -0.005574258696310301, 0.9999797077049732, 0.0071668797991832804]}\n",
      "- Sine Wave {'angle': [-15.700000000000001, -14.13, -12.56, -10.99, -9.42, -7.8500000000000005, -6.28, -4.71, -3.14, -1.57, 0.0, 1.57, 3.14, 4.71, 6.28, 7.8500000000000005, 9.42, 10.99, 12.56, 14.13], 'sine': [-0.007963183785935567, -0.9999743175871789, 0.006370571267652135, 0.9999844636993049, -0.0047779425901285115, -0.9999920733059188, 0.0031853017931379904, 0.999997146387718, -0.0015926529164868282, -0.9999996829318346, 0.0, 0.9999996829318346, 0.0015926529164868282, -0.999997146387718, -0.0031853017931379904, 0.9999920733059188, 0.0047779425901285115, -0.9999844636993049, -0.006370571267652135, 0.9999743175871789]}\n",
      "Run ID: 1a6f8793-1d27-4576-bdc9-27c0291adec5\n",
      "Run ID: e4c70eb0-11fb-4333-bd63-9299fd2d72d9\n",
      "- Tangente hyperbolique aml://artifactId/ExperimentRun/dcid.e4c70eb0-11fb-4333-bd63-9299fd2d72d9/Tangente hyperbolique_1599656507.png\n",
      "- Category Pi\n",
      "- scale factor 3.14\n",
      "- Magic Number 131.88\n",
      "- Fibonacci [0.0, 3.14, 3.14, 6.28, 9.42, 15.700000000000001, 25.12, 40.82, 65.94, 106.76, 172.70000000000002, 279.46000000000004]\n",
      "- Sigmoid [4.5397868702434395e-05, 0.00012339457598623172, 0.0003353501304664781, 0.0009110511944006454, 0.0024726231566347743, 0.0066928509242848554, 0.01798620996209156, 0.04742587317756678, 0.11920292202211755, 0.2689414213699951, 0.5, 0.7310585786300049, 0.8807970779778823, 0.9525741268224334, 0.9820137900379085, 0.9933071490757153, 0.9975273768433653, 0.9990889488055994, 0.9996646498695336, 0.9998766054240137]\n",
      "- Cosine Wave {'angle': [-15.700000000000001, -14.13, -12.56, -10.99, -9.42, -7.8500000000000005, -6.28, -4.71, -3.14, -1.57, 0.0, 1.57, 3.14, 4.71, 6.28, 7.8500000000000005, 9.42, 10.99, 12.56, 14.13], 'cos': [-0.9999682933493399, 0.0071668797991832804, 0.9999797077049732, -0.005574258696310301, -0.9999885855671581, 0.003981623454078851, 0.9999949269133752, -0.0023889781122815386, -0.9999987317275395, 0.0007963267107332633, 1.0, 0.0007963267107332633, -0.9999987317275395, -0.0023889781122815386, 0.9999949269133752, 0.003981623454078851, -0.9999885855671581, -0.005574258696310301, 0.9999797077049732, 0.0071668797991832804]}\n",
      "- Sine Wave {'angle': [-15.700000000000001, -14.13, -12.56, -10.99, -9.42, -7.8500000000000005, -6.28, -4.71, -3.14, -1.57, 0.0, 1.57, 3.14, 4.71, 6.28, 7.8500000000000005, 9.42, 10.99, 12.56, 14.13], 'sine': [-0.007963183785935567, -0.9999743175871789, 0.006370571267652135, 0.9999844636993049, -0.0047779425901285115, -0.9999920733059188, 0.0031853017931379904, 0.999997146387718, -0.0015926529164868282, -0.9999996829318346, 0.0, 0.9999996829318346, 0.0015926529164868282, -0.999997146387718, -0.0031853017931379904, 0.9999920733059188, 0.0047779425901285115, -0.9999844636993049, -0.006370571267652135, 0.9999743175871789]}\n",
      "Run ID: 86f08a09-086e-4c37-9578-fe9448a651b0\n",
      "- Tangente hyperbolique aml://artifactId/ExperimentRun/dcid.86f08a09-086e-4c37-9578-fe9448a651b0/Tangente hyperbolique_1595576967.png\n",
      "- Category Pi\n",
      "- scale factor 3.14\n",
      "- Magic Number 131.88\n",
      "- Fibonacci [0.0, 3.14, 3.14, 6.28, 9.42, 15.700000000000001, 25.12, 40.82, 65.94, 106.76, 172.70000000000002, 279.46000000000004]\n",
      "- Sigmoid [4.5397868702434395e-05, 0.00012339457598623172, 0.0003353501304664781, 0.0024726231566347743, 0.0009110511944006454, 0.01798620996209156, 0.04742587317756678, 0.11920292202211755, 0.0066928509242848554, 0.2689414213699951, 0.5, 0.7310585786300049, 0.8807970779778823, 0.9525741268224334, 0.9820137900379085, 0.9933071490757153, 0.9975273768433653, 0.9990889488055994, 0.9996646498695336, 0.9998766054240137]\n",
      "- Cosine Wave {'angle': [-15.700000000000001, -14.13, -12.56, -10.99, -9.42, -7.8500000000000005, -6.28, -4.71, -1.57, 0, 1.57, 3.14, 4.71, 6.28, 7.8500000000000005, 9.42, 10.99, 12.56, 14.13, -3.14], 'cos': [-0.9999682933493399, 0.0071668797991832804, 0.9999797077049732, -0.005574258696310301, -0.9999885855671581, 0.003981623454078851, 0.9999949269133752, -0.0023889781122815386, 0.0007963267107332633, 1, 0.0007963267107332633, -0.9999987317275395, -0.0023889781122815386, 0.9999949269133752, 0.003981623454078851, -0.9999885855671581, -0.005574258696310301, 0.9999797077049732, 0.0071668797991832804, -0.9999987317275395]}\n",
      "- Sine Wave {'angle': [-15.700000000000001, -14.13, -12.56, -10.99, -9.42, -7.8500000000000005, -6.28, -4.71, -3.14, -1.57, 0, 1.57, 3.14, 4.71, 6.28, 7.8500000000000005, 9.42, 10.99, 12.56, 14.13], 'sine': [-0.007963183785935567, -0.9999743175871789, 0.006370571267652135, 0.9999844636993049, -0.0047779425901285115, -0.9999920733059188, 0.0031853017931379904, 0.999997146387718, -0.0015926529164868282, -0.9999996829318346, 0, 0.9999996829318346, 0.0015926529164868282, -0.999997146387718, -0.0031853017931379904, 0.9999920733059188, 0.0047779425901285115, -0.9999844636993049, -0.006370571267652135, 0.9999743175871789]}\n",
      "Run ID: 278bd55d-619a-43e0-9a21-8e6974a3b063\n",
      "- Tangente hyperbolique aml://artifactId/ExperimentRun/dcid.278bd55d-619a-43e0-9a21-8e6974a3b063/Tangente hyperbolique_1595351699.png\n",
      "- Category Pi\n",
      "- scale factor 3.14\n",
      "- Magic Number 131.88\n",
      "- Fibonacci [0.0, 3.14, 3.14, 6.28, 9.42, 15.700000000000001, 25.12, 40.82, 65.94, 106.76, 172.70000000000002, 279.46000000000004]\n",
      "- Sigmoid [4.5397868702434395e-05, 0.0066928509242848554, 0.0009110511944006454, 0.00012339457598623172, 0.04742587317756678, 0.01798620996209156, 0.0003353501304664781, 0.0024726231566347743, 0.11920292202211755, 0.9933071490757153, 0.9996646498695336, 0.2689414213699951, 0.9990889488055994, 0.8807970779778823, 0.9525741268224334, 0.9998766054240137, 0.9820137900379085, 0.5, 0.9975273768433653, 0.7310585786300049]\n",
      "- Cosine Wave {'angle': [-12.56, -9.42, -7.8500000000000005, -10.99, -6.28, -4.71, -3.14, -1.57, 0, -14.13, -15.700000000000001, 1.57, 3.14, 4.71, 6.28, 7.8500000000000005, 9.42, 12.56, 14.13, 10.99], 'cos': [0.9999797077049732, -0.9999885855671581, 0.003981623454078851, -0.005574258696310301, 0.9999949269133752, -0.0023889781122815386, -0.9999987317275395, 0.0007963267107332633, 1, 0.0071668797991832804, -0.9999682933493399, 0.0007963267107332633, -0.9999987317275395, -0.0023889781122815386, 0.9999949269133752, 0.003981623454078851, -0.9999885855671581, 0.9999797077049732, 0.0071668797991832804, -0.005574258696310301]}\n",
      "- Sine Wave {'angle': [-15.700000000000001, -14.13, -12.56, -10.99, -9.42, -7.8500000000000005, -6.28, -4.71, -3.14, -1.57, 0, 1.57, 3.14, 4.71, 6.28, 7.8500000000000005, 9.42, 10.99, 12.56, 14.13], 'sine': [-0.007963183785935567, -0.9999743175871789, 0.006370571267652135, 0.9999844636993049, -0.0047779425901285115, -0.9999920733059188, 0.0031853017931379904, 0.999997146387718, -0.0015926529164868282, -0.9999996829318346, 0, 0.9999996829318346, 0.0015926529164868282, -0.999997146387718, -0.0031853017931379904, 0.9999920733059188, 0.0047779425901285115, -0.9999844636993049, -0.006370571267652135, 0.9999743175871789]}\n",
      "Run ID: c4915d52-fd85-4250-9871-82b31b06ea83\n",
      "Run ID: ca2ef587-bf0b-4b86-bee5-705543606fab\n",
      "- Category Pi\n",
      "- scale factor 3.14\n",
      "- Tangente hyperbolique aml://artifactId/ExperimentRun/dcid.ca2ef587-bf0b-4b86-bee5-705543606fab/Tangente hyperbolique_1595233913.png\n",
      "- Magic Number 131.88\n",
      "- Fibonacci [0.0, 3.14, 3.14, 6.28, 9.42, 15.700000000000001, 25.12, 40.82, 65.94, 106.76, 172.70000000000002, 279.46000000000004]\n",
      "- Sigmoid [4.5397868702434395e-05, 0.9820137900379085, 0.9975273768433653, 0.9990889488055994, 0.9998766054240137, 0.0009110511944006454, 0.01798620996209156, 0.0066928509242848554, 0.04742587317756678, 0.00012339457598623172, 0.9933071490757153, 0.8807970779778823, 0.11920292202211755, 0.0024726231566347743, 0.7310585786300049, 0.0003353501304664781, 0.9996646498695336, 0.5, 0.9525741268224334, 0.2689414213699951]\n",
      "- Cosine Wave {'angle': [-6.28, -4.71, -3.14, -1.57, 1.57, 0, 3.14, 4.71, 6.28, 7.8500000000000005, 9.42, -10.99, -14.13, -12.56, -15.700000000000001, -7.8500000000000005, -9.42, 10.99, 12.56, 14.13], 'cos': [0.9999949269133752, -0.0023889781122815386, -0.9999987317275395, 0.0007963267107332633, 0.0007963267107332633, 1, -0.9999987317275395, -0.0023889781122815386, 0.9999949269133752, 0.003981623454078851, -0.9999885855671581, -0.005574258696310301, 0.0071668797991832804, 0.9999797077049732, -0.9999682933493399, 0.003981623454078851, -0.9999885855671581, -0.005574258696310301, 0.9999797077049732, 0.0071668797991832804]}\n",
      "- Sine Wave {'angle': [-15.700000000000001, -14.13, -12.56, -10.99, -9.42, -7.8500000000000005, -6.28, -4.71, -3.14, -1.57, 0, 1.57, 3.14, 4.71, 6.28, 7.8500000000000005, 9.42, 10.99, 12.56, 14.13], 'sine': [-0.007963183785935567, -0.9999743175871789, 0.006370571267652135, 0.9999844636993049, -0.0047779425901285115, -0.9999920733059188, 0.0031853017931379904, 0.999997146387718, -0.0015926529164868282, -0.9999996829318346, 0, 0.9999996829318346, 0.0015926529164868282, -0.999997146387718, -0.0031853017931379904, 0.9999920733059188, 0.0047779425901285115, -0.9999844636993049, -0.006370571267652135, 0.9999743175871789]}\n",
      "Run ID: 994350f9-9f8d-4f35-ae83-c1c6bbcd275c\n",
      "- Tangente hyperbolique aml://artifactId/ExperimentRun/dcid.994350f9-9f8d-4f35-ae83-c1c6bbcd275c/Tangente hyperbolique_1594195377.png\n",
      "- Category Pi\n",
      "- scale factor 3.14\n",
      "- Magic Number 131.88\n",
      "- Fibonacci [0.0, 3.14, 3.14, 6.28, 9.42, 15.700000000000001, 25.12, 40.82, 65.94, 106.76, 172.70000000000002, 279.46000000000004]\n",
      "- Sigmoid [4.5397868702434395e-05, 0.00012339457598623172, 0.0003353501304664781, 0.0009110511944006454, 0.9975273768433653, 0.01798620996209156, 0.8807970779778823, 0.04742587317756678, 0.5, 0.11920292202211755, 0.2689414213699951, 0.9990889488055994, 0.9525741268224334, 0.0024726231566347743, 0.9996646498695336, 0.7310585786300049, 0.9820137900379085, 0.0066928509242848554, 0.9998766054240137, 0.9933071490757153]\n",
      "- Cosine Wave {'angle': [-14.13, -10.99, -15.700000000000001, 1.57, -1.57, 3.14, 0.0, 4.71, 7.8500000000000005, 6.28, 9.42, 10.99, 12.56, 14.13, -6.28, -3.14, -12.56, -7.8500000000000005, -9.42, -4.71], 'cos': [0.0071668797991832804, -0.005574258696310301, -0.9999682933493399, 0.0007963267107332633, 0.0007963267107332633, -0.9999987317275395, 1.0, -0.0023889781122815386, 0.003981623454078851, 0.9999949269133752, -0.9999885855671581, -0.005574258696310301, 0.9999797077049732, 0.0071668797991832804, 0.9999949269133752, -0.9999987317275395, 0.9999797077049732, 0.003981623454078851, -0.9999885855671581, -0.0023889781122815386]}\n",
      "- Sine Wave {'angle': [-15.700000000000001, -14.13, -12.56, -10.99, -9.42, -7.8500000000000005, -6.28, -4.71, -3.14, -1.57, 0, 1.57, 3.14, 4.71, 6.28, 7.8500000000000005, 9.42, 10.99, 12.56, 14.13], 'sine': [-0.007963183785935567, -0.9999743175871789, 0.006370571267652135, 0.9999844636993049, -0.0047779425901285115, -0.9999920733059188, 0.0031853017931379904, 0.999997146387718, -0.0015926529164868282, -0.9999996829318346, 0, 0.9999996829318346, 0.0015926529164868282, -0.999997146387718, -0.0031853017931379904, 0.9999920733059188, 0.0047779425901285115, -0.9999844636993049, -0.006370571267652135, 0.9999743175871789]}\n",
      "Run ID: 0383eaff-e5d3-44cc-ab9d-ea28fd0312c4\n",
      "- Tangente hyperbolique aml://artifactId/ExperimentRun/dcid.0383eaff-e5d3-44cc-ab9d-ea28fd0312c4/Tangente hyperbolique_1590999780.png\n",
      "- Category Pi\n",
      "- scale factor 3.14\n",
      "- Magic Number 131.88\n",
      "- Fibonacci [0.0, 3.14, 3.14, 6.28, 9.42, 15.700000000000001, 25.12, 40.82, 65.94, 106.76, 172.70000000000002, 279.46000000000004]\n",
      "- Sigmoid [4.5397868702434395e-05, 0.00012339457598623172, 0.0003353501304664781, 0.11920292202211755, 0.5, 0.9820137900379085, 0.2689414213699951, 0.8807970779778823, 0.7310585786300049, 0.9990889488055994, 0.9933071490757153, 0.0066928509242848554, 0.0009110511944006454, 0.9998766054240137, 0.01798620996209156, 0.0024726231566347743, 0.9975273768433653, 0.9525741268224334, 0.9996646498695336, 0.04742587317756678]\n",
      "- Cosine Wave {'angle': [-15.700000000000001, -14.13, -12.56, -3.14, 0, -1.57, 1.57, 3.14, 4.71, 6.28, 7.8500000000000005, -10.99, 10.99, 12.56, 9.42, 14.13, -4.71, -7.8500000000000005, -6.28, -9.42], 'cos': [-0.9999682933493399, 0.0071668797991832804, 0.9999797077049732, -0.9999987317275395, 1, 0.0007963267107332633, 0.0007963267107332633, -0.9999987317275395, -0.0023889781122815386, 0.9999949269133752, 0.003981623454078851, -0.005574258696310301, -0.005574258696310301, 0.9999797077049732, -0.9999885855671581, 0.0071668797991832804, -0.0023889781122815386, 0.003981623454078851, 0.9999949269133752, -0.9999885855671581]}\n",
      "- Sine Wave {'angle': [-15.700000000000001, -14.13, -12.56, -10.99, -9.42, -7.8500000000000005, -6.28, -4.71, -3.14, -1.57, 0, 1.57, 3.14, 4.71, 6.28, 7.8500000000000005, 9.42, 10.99, 12.56, 14.13], 'sine': [-0.007963183785935567, -0.9999743175871789, 0.006370571267652135, 0.9999844636993049, -0.0047779425901285115, -0.9999920733059188, 0.0031853017931379904, 0.999997146387718, -0.0015926529164868282, -0.9999996829318346, 0, 0.9999996829318346, 0.0015926529164868282, -0.999997146387718, -0.0031853017931379904, 0.9999920733059188, 0.0047779425901285115, -0.9999844636993049, -0.006370571267652135, 0.9999743175871789]}\n",
      "Run ID: c7e6be26-b748-43f8-a00a-d39d0184854c\n",
      "- Tangente hyperbolique aml://artifactId/ExperimentRun/dcid.c7e6be26-b748-43f8-a00a-d39d0184854c/Tangente hyperbolique_1589805782.png\n",
      "- Category Pi\n",
      "- scale factor 3.14\n",
      "- Magic Number 131.88\n",
      "- Fibonacci [0.0, 3.14, 3.14, 6.28, 9.42, 15.700000000000001, 25.12, 40.82, 65.94, 106.76, 172.70000000000002, 279.46000000000004]\n",
      "- Sigmoid [4.5397868702434395e-05, 0.00012339457598623172, 0.0003353501304664781, 0.0009110511944006454, 0.0024726231566347743, 0.0066928509242848554, 0.01798620996209156, 0.04742587317756678, 0.11920292202211755, 0.2689414213699951, 0.5, 0.7310585786300049, 0.8807970779778823, 0.9525741268224334, 0.9933071490757153, 0.9820137900379085, 0.9990889488055994, 0.9975273768433653, 0.9996646498695336, 0.9998766054240137]\n",
      "- Cosine Wave {'angle': [-15.700000000000001, -14.13, -12.56, -10.99, -9.42, -7.8500000000000005, -6.28, -4.71, -3.14, -1.57, 0, 1.57, 3.14, 4.71, 6.28, 7.8500000000000005, 9.42, 10.99, 12.56, 14.13], 'cos': [-0.9999682933493399, 0.0071668797991832804, 0.9999797077049732, -0.005574258696310301, -0.9999885855671581, 0.003981623454078851, 0.9999949269133752, -0.0023889781122815386, -0.9999987317275395, 0.0007963267107332633, 1, 0.0007963267107332633, -0.9999987317275395, -0.0023889781122815386, 0.9999949269133752, 0.003981623454078851, -0.9999885855671581, -0.005574258696310301, 0.9999797077049732, 0.0071668797991832804]}\n",
      "- Sine Wave {'angle': [-15.700000000000001, -14.13, -12.56, -10.99, -9.42, -7.8500000000000005, -6.28, -4.71, -3.14, -1.57, 0, 1.57, 3.14, 4.71, 6.28, 7.8500000000000005, 9.42, 10.99, 12.56, 14.13], 'sine': [-0.007963183785935567, -0.9999743175871789, 0.006370571267652135, 0.9999844636993049, -0.0047779425901285115, -0.9999920733059188, 0.0031853017931379904, 0.999997146387718, -0.0015926529164868282, -0.9999996829318346, 0, 0.9999996829318346, 0.0015926529164868282, -0.999997146387718, -0.0031853017931379904, 0.9999920733059188, 0.0047779425901285115, -0.9999844636993049, -0.006370571267652135, 0.9999743175871789]}\n",
      "Run ID: 35a2a494-2515-4039-be34-309fd17e7201\n",
      "- Tangente hyperbolique aml://artifactId/ExperimentRun/dcid.35a2a494-2515-4039-be34-309fd17e7201/Tangente hyperbolique_1588760745.png\n",
      "- Category Pi\n",
      "- scale factor 3.14\n",
      "- Magic Number 131.88\n",
      "- Fibonacci [0.0, 3.14, 3.14, 6.28, 9.42, 15.700000000000001, 25.12, 40.82, 65.94, 106.76, 172.70000000000002, 279.46000000000004]\n",
      "- Sigmoid [4.5397868702434395e-05, 0.00012339457598623172, 0.0003353501304664781, 0.9525741268224334, 0.9996646498695336, 0.9998766054240137, 0.9990889488055994, 0.01798620996209156, 0.5, 0.0066928509242848554, 0.8807970779778823, 0.7310585786300049, 0.9820137900379085, 0.04742587317756678, 0.9933071490757153, 0.9975273768433653, 0.2689414213699951, 0.0009110511944006454, 0.0024726231566347743, 0.11920292202211755]\n",
      "- Cosine Wave {'angle': [-14.13, -15.700000000000001, -7.8500000000000005, -9.42, -12.56, -10.99, -4.71, -3.14, -1.57, 1.57, 4.71, 6.28, 7.8500000000000005, 9.42, 10.99, 12.56, 0, 3.14, 14.13, -6.28], 'cos': [0.0071668797991832804, -0.9999682933493399, 0.003981623454078851, -0.9999885855671581, 0.9999797077049732, -0.005574258696310301, -0.0023889781122815386, -0.9999987317275395, 0.0007963267107332633, 0.0007963267107332633, -0.0023889781122815386, 0.9999949269133752, 0.003981623454078851, -0.9999885855671581, -0.005574258696310301, 0.9999797077049732, 1, -0.9999987317275395, 0.0071668797991832804, 0.9999949269133752]}\n",
      "- Sine Wave {'angle': [-15.700000000000001, -14.13, -12.56, -10.99, -9.42, -7.8500000000000005, -6.28, -4.71, -3.14, -1.57, 0, 1.57, 3.14, 4.71, 6.28, 7.8500000000000005, 9.42, 10.99, 12.56, 14.13], 'sine': [-0.007963183785935567, -0.9999743175871789, 0.006370571267652135, 0.9999844636993049, -0.0047779425901285115, -0.9999920733059188, 0.0031853017931379904, 0.999997146387718, -0.0015926529164868282, -0.9999996829318346, 0, 0.9999996829318346, 0.0015926529164868282, -0.999997146387718, -0.0031853017931379904, 0.9999920733059188, 0.0047779425901285115, -0.9999844636993049, -0.006370571267652135, 0.9999743175871789]}\n",
      "Run ID: 2081130d-7be0-490d-b798-c05ee3300402\n",
      "- Tangente hyperbolique aml://artifactId/ExperimentRun/dcid.2081130d-7be0-490d-b798-c05ee3300402/Tangente hyperbolique_1588697324.png\n",
      "- Category Pi\n",
      "- scale factor 3.14\n",
      "- Magic Number 131.88\n",
      "- Fibonacci [0.0, 3.14, 3.14, 6.28, 9.42, 15.700000000000001, 25.12, 40.82, 65.94, 106.76, 172.70000000000002, 279.46000000000004]\n",
      "- Sigmoid [4.5397868702434395e-05, 0.00012339457598623172, 0.9998766054240137, 0.0003353501304664781, 0.01798620996209156, 0.9990889488055994, 0.2689414213699951, 0.0009110511944006454, 0.9525741268224334, 0.04742587317756678, 0.5, 0.9996646498695336, 0.0024726231566347743, 0.0066928509242848554, 0.7310585786300049, 0.9820137900379085, 0.9933071490757153, 0.8807970779778823, 0.11920292202211755, 0.9975273768433653]\n",
      "- Cosine Wave {'angle': [-10.99, -9.42, -6.28, -4.71, -3.14, -1.57, 0.0, 1.57, 3.14, 4.71, 6.28, 9.42, 7.8500000000000005, 10.99, 12.56, -14.13, 14.13, -15.700000000000001, -7.8500000000000005, -12.56], 'cos': [-0.005574258696310301, -0.9999885855671581, 0.9999949269133752, -0.0023889781122815386, -0.9999987317275395, 0.0007963267107332633, 1.0, 0.0007963267107332633, -0.9999987317275395, -0.0023889781122815386, 0.9999949269133752, -0.9999885855671581, 0.003981623454078851, -0.005574258696310301, 0.9999797077049732, 0.0071668797991832804, 0.0071668797991832804, -0.9999682933493399, 0.003981623454078851, 0.9999797077049732]}\n",
      "- Sine Wave {'angle': [-15.700000000000001, -14.13, -12.56, -10.99, -9.42, -7.8500000000000005, -6.28, -4.71, -3.14, -1.57, 0, 1.57, 3.14, 4.71, 6.28, 7.8500000000000005, 9.42, 10.99, 12.56, 14.13], 'sine': [-0.007963183785935567, -0.9999743175871789, 0.006370571267652135, 0.9999844636993049, -0.0047779425901285115, -0.9999920733059188, 0.0031853017931379904, 0.999997146387718, -0.0015926529164868282, -0.9999996829318346, 0, 0.9999996829318346, 0.0015926529164868282, -0.999997146387718, -0.0031853017931379904, 0.9999920733059188, 0.0047779425901285115, -0.9999844636993049, -0.006370571267652135, 0.9999743175871789]}\n",
      "Run ID: 2fb2ec2f-144b-457c-97ec-0e15a0c763cf\n",
      "- Tangente hyperbolique aml://artifactId/ExperimentRun/dcid.2fb2ec2f-144b-457c-97ec-0e15a0c763cf/Tangente hyperbolique_1588696771.png\n",
      "- Category Pi\n",
      "- scale factor 3.14\n",
      "- Magic Number 131.88\n",
      "- Fibonacci [0.0, 3.14, 3.14, 6.28, 9.42, 15.700000000000001, 25.12, 40.82, 65.94, 106.76, 172.70000000000002, 279.46000000000004]\n",
      "- Sigmoid [0.0003353501304664781, 0.01798620996209156, 0.9975273768433653, 0.0009110511944006454, 0.5, 0.0024726231566347743, 0.9996646498695336, 0.11920292202211755, 0.7310585786300049, 0.04742587317756678, 0.9998766054240137, 0.9820137900379085, 0.8807970779778823, 0.0066928509242848554, 0.9933071490757153, 0.2689414213699951, 4.5397868702434395e-05, 0.00012339457598623172, 0.9990889488055994, 0.9525741268224334]\n",
      "- Cosine Wave {'angle': [-14.13, -10.99, -12.56, -9.42, -7.8500000000000005, -6.28, -4.71, -3.14, 1.57, 0, -1.57, 3.14, 4.71, 7.8500000000000005, 10.99, 6.28, 9.42, 12.56, 14.13, -15.700000000000001], 'cos': [0.0071668797991832804, -0.005574258696310301, 0.9999797077049732, -0.9999885855671581, 0.003981623454078851, 0.9999949269133752, -0.0023889781122815386, -0.9999987317275395, 0.0007963267107332633, 1, 0.0007963267107332633, -0.9999987317275395, -0.0023889781122815386, 0.003981623454078851, -0.005574258696310301, 0.9999949269133752, -0.9999885855671581, 0.9999797077049732, 0.0071668797991832804, -0.9999682933493399]}\n",
      "- Sine Wave {'angle': [-15.700000000000001, -14.13, -12.56, -10.99, -9.42, -7.8500000000000005, -6.28, -4.71, -3.14, -1.57, 0, 1.57, 3.14, 4.71, 6.28, 7.8500000000000005, 9.42, 10.99, 12.56, 14.13], 'sine': [-0.007963183785935567, -0.9999743175871789, 0.006370571267652135, 0.9999844636993049, -0.0047779425901285115, -0.9999920733059188, 0.0031853017931379904, 0.999997146387718, -0.0015926529164868282, -0.9999996829318346, 0, 0.9999996829318346, 0.0015926529164868282, -0.999997146387718, -0.0031853017931379904, 0.9999920733059188, 0.0047779425901285115, -0.9999844636993049, -0.006370571267652135, 0.9999743175871789]}\n",
      "Run ID: 55a3e53f-8f1b-42d0-aff5-2d343587292c\n",
      "- Hyperbolic Tangent aml://artifactId/ExperimentRun/dcid.55a3e53f-8f1b-42d0-aff5-2d343587292c/Hyperbolic Tangent_1588597520.png\n",
      "- Category Rouge\n",
      "- scale factor 3\n",
      "- Magic Number 126\n",
      "- Fibonacci [0, 3, 3, 6, 9, 15, 24, 39, 63, 102, 165, 267]\n",
      "- Sigmoid [4.5397868702434395e-05, 0.9525741268224334, 0.9933071490757153, 0.9996646498695336, 0.0003353501304664781, 0.04742587317756678, 0.00012339457598623172, 0.01798620996209156, 0.9975273768433653, 0.2689414213699951, 0.5, 0.8807970779778823, 0.9990889488055994, 0.0009110511944006454, 0.7310585786300049, 0.9998766054240137, 0.11920292202211755, 0.0024726231566347743, 0.0066928509242848554, 0.9820137900379085]\n",
      "- Cosine Wave {'angle': [-15.0, -6, -4.5, -3, -1.5, 0, 1.5, 3, 4.5, 6, 9, 7.5, 10.5, 13.5, 12, -12, -7.5, -13.5, -9, -10.5], 'cos': [-0.7596879128588213, 0.960170286650366, -0.2107957994307797, -0.9899924966004454, 0.0707372016677029, 1, 0.0707372016677029, -0.9899924966004454, -0.2107957994307797, 0.960170286650366, -0.9111302618846769, 0.3466353178350258, -0.4755369279959925, 0.594920663309892, 0.8438539587324921, 0.8438539587324921, 0.3466353178350258, 0.594920663309892, -0.9111302618846769, -0.4755369279959925]}\n",
      "- Sine Wave {'angle': [-15.0, -13.5, -12, -10.5, -9, -7.5, -6, -4.5, -3, -1.5, 0, 1.5, 3, 4.5, 6, 7.5, 9, 10.5, 12, 13.5], 'sine': [-0.6502878401571168, -0.803784426551621, 0.5365729180004349, 0.87969575997167, -0.4121184852417566, -0.9379999767747389, 0.27941549819892586, 0.977530117665097, -0.1411200080598672, -0.9974949866040544, 0, 0.9974949866040544, 0.1411200080598672, -0.977530117665097, -0.27941549819892586, 0.9379999767747389, 0.4121184852417566, -0.87969575997167, -0.5365729180004349, 0.803784426551621]}\n",
      "Run ID: 5cb4fd09-1d31-4db9-92a6-1187217a9a9a\n",
      "- Hyperbolic Tangent aml://artifactId/ExperimentRun/dcid.5cb4fd09-1d31-4db9-92a6-1187217a9a9a/Hyperbolic Tangent_1588247533.png\n",
      "- Category Rouge\n",
      "- scale factor 3\n",
      "- Magic Number 126\n",
      "- Fibonacci [0, 3, 3, 6, 9, 15, 24, 39, 63, 102, 165, 267]\n",
      "- Sigmoid [4.5397868702434395e-05, 0.00012339457598623172, 0.0003353501304664781, 0.0009110511944006454, 0.0024726231566347743, 0.0066928509242848554, 0.01798620996209156, 0.04742587317756678, 0.11920292202211755, 0.2689414213699951, 0.5, 0.8807970779778823, 0.9525741268224334, 0.9820137900379085, 0.9933071490757153, 0.9998766054240137, 0.9990889488055994, 0.9975273768433653, 0.7310585786300049, 0.9996646498695336]\n",
      "- Cosine Wave {'angle': [-15.0, -13.5, -12, -10.5, -9, -7.5, -6.0, -4.5, -3, 0, 1.5, 3, 4.5, 6, 7.5, 9, 13.5, 10.5, 12, -1.5], 'cos': [-0.7596879128588213, 0.594920663309892, 0.8438539587324921, -0.4755369279959925, -0.9111302618846769, 0.3466353178350258, 0.960170286650366, -0.2107957994307797, -0.9899924966004454, 1, 0.0707372016677029, -0.9899924966004454, -0.2107957994307797, 0.960170286650366, 0.3466353178350258, -0.9111302618846769, 0.594920663309892, -0.4755369279959925, 0.8438539587324921, 0.0707372016677029]}\n",
      "- Sine Wave {'angle': [-15.0, -13.5, -12, -10.5, -9, -7.5, -6, -4.5, -3, -1.5, 0, 1.5, 3, 4.5, 6, 7.5, 9, 10.5, 12, 13.5], 'sine': [-0.6502878401571168, -0.803784426551621, 0.5365729180004349, 0.87969575997167, -0.4121184852417566, -0.9379999767747389, 0.27941549819892586, 0.977530117665097, -0.1411200080598672, -0.9974949866040544, 0, 0.9974949866040544, 0.1411200080598672, -0.977530117665097, -0.27941549819892586, 0.9379999767747389, 0.4121184852417566, -0.87969575997167, -0.5365729180004349, 0.803784426551621]}\n",
      "Run ID: 74faf069-9957-4be0-8549-8ddfa1606e74\n",
      "- Hyperbolic Tangent aml://artifactId/ExperimentRun/dcid.74faf069-9957-4be0-8549-8ddfa1606e74/Hyperbolic Tangent_1588240422.png\n",
      "- Category Rouge\n",
      "- scale factor 3\n",
      "- Magic Number 126\n",
      "- Fibonacci [0, 3, 3, 6, 9, 15, 24, 39, 63, 102, 165, 267]\n",
      "- Sigmoid [4.5397868702434395e-05, 0.00012339457598623172, 0.0003353501304664781, 0.0009110511944006454, 0.0024726231566347743, 0.0066928509242848554, 0.01798620996209156, 0.04742587317756678, 0.11920292202211755, 0.2689414213699951, 0.7310585786300049, 0.8807970779778823, 0.9525741268224334, 0.9975273768433653, 0.9996646498695336, 0.9998766054240137, 0.9820137900379085, 0.9990889488055994, 0.9933071490757153, 0.5]\n",
      "- Cosine Wave {'angle': [-4.5, -3, -1.5, 0, 1.5, 9, 10.5, 12, 13.5, -7.5, 4.5, 7.5, -9, -15, -12, 3, 6, -13.5, -10.5, -6], 'cos': [-0.2107957994307797, -0.9899924966004454, 0.0707372016677029, 1, 0.0707372016677029, -0.9111302618846769, -0.4755369279959925, 0.8438539587324921, 0.594920663309892, 0.3466353178350258, -0.2107957994307797, 0.3466353178350258, -0.9111302618846769, -0.7596879128588213, 0.8438539587324921, -0.9899924966004454, 0.960170286650366, 0.594920663309892, -0.4755369279959925, 0.960170286650366]}\n",
      "- Sine Wave {'angle': [-15.0, -13.5, -12, -10.5, -9, -7.5, -6, -4.5, -3, -1.5, 0, 1.5, 3, 4.5, 6, 7.5, 9, 10.5, 12, 13.5], 'sine': [-0.6502878401571168, -0.803784426551621, 0.5365729180004349, 0.87969575997167, -0.4121184852417566, -0.9379999767747389, 0.27941549819892586, 0.977530117665097, -0.1411200080598672, -0.9974949866040544, 0, 0.9974949866040544, 0.1411200080598672, -0.977530117665097, -0.27941549819892586, 0.9379999767747389, 0.4121184852417566, -0.87969575997167, -0.5365729180004349, 0.803784426551621]}\n",
      "Run ID: b5826513-0a75-4706-ac25-b1d0443fb8d9\n",
      "- Sine Wave {'angle': [-15.0, -13.5, -12, -10.5, -9, -7.5, -6, -4.5, -3, -1.5, 0, 1.5, 3, 4.5, 6, 7.5, 9, 10.5, 12, 13.5], 'sine': [-0.6502878401571168, -0.803784426551621, 0.5365729180004349, 0.87969575997167, -0.4121184852417566, -0.9379999767747389, 0.27941549819892586, 0.977530117665097, -0.1411200080598672, -0.9974949866040544, 0, 0.9974949866040544, 0.1411200080598672, -0.977530117665097, -0.27941549819892586, 0.9379999767747389, 0.4121184852417566, -0.87969575997167, -0.5365729180004349, 0.803784426551621]}\n",
      "- Cosine Wave {'angle': [-15.0, -13.5, -12, -10.5, -9, -7.5, -6.0, -4.5, -3, -1.5, 0, 1.5, 3, 4.5, 6, 7.5, 9, 10.5, 12, 13.5], 'cos': [-0.7596879128588213, 0.594920663309892, 0.8438539587324921, -0.4755369279959925, -0.9111302618846769, 0.3466353178350258, 0.960170286650366, -0.2107957994307797, -0.9899924966004454, 0.0707372016677029, 1, 0.0707372016677029, -0.9899924966004454, -0.2107957994307797, 0.960170286650366, 0.3466353178350258, -0.9111302618846769, -0.4755369279959925, 0.8438539587324921, 0.594920663309892]}\n",
      "- Sigmoid [4.5397868702434395e-05, 0.00012339457598623172, 0.0003353501304664781, 0.0009110511944006454, 0.0024726231566347743, 0.0066928509242848554, 0.01798620996209156, 0.04742587317756678, 0.11920292202211755, 0.2689414213699951, 0.5, 0.7310585786300049, 0.8807970779778823, 0.9525741268224334, 0.9820137900379085, 0.9933071490757153, 0.9975273768433653, 0.9990889488055994, 0.9996646498695336, 0.9998766054240137]\n",
      "- Fibonacci [0, 3, 3, 6, 9, 15, 24, 39, 63, 102, 165, 267]\n",
      "- Magic Number 126\n",
      "- scale factor 3\n",
      "- Category Rouge\n",
      "- Hyperbolic Tangent aml://artifactId/ExperimentRun/dcid.b5826513-0a75-4706-ac25-b1d0443fb8d9/Hyperbolic Tangent_1587549743.png\n",
      "Run ID: 811295a2-ec40-455f-bc5c-edc312515ca7\n",
      "- Hyperbolic Tangent aml://artifactId/ExperimentRun/dcid.811295a2-ec40-455f-bc5c-edc312515ca7/Hyperbolic Tangent_1586959992.png\n",
      "- Sine Wave {'angle': [-15.0, -13.5, -12, -10.5, -9, -7.5, -6, -4.5, -3, -1.5, 0, 1.5, 3, 4.5, 6, 7.5, 9, 10.5, 12, 13.5], 'sine': [-0.6502878401571168, -0.803784426551621, 0.5365729180004349, 0.87969575997167, -0.4121184852417566, -0.9379999767747389, 0.27941549819892586, 0.977530117665097, -0.1411200080598672, -0.9974949866040544, 0, 0.9974949866040544, 0.1411200080598672, -0.977530117665097, -0.27941549819892586, 0.9379999767747389, 0.4121184852417566, -0.87969575997167, -0.5365729180004349, 0.803784426551621]}\n",
      "- Cosine Wave {'angle': [-13.5, -15, -12, -9, -7.5, -10.5, -6.0, -3, -1.5, 1.5, 0, 3, 4.5, 6, 7.5, -4.5, 9, 10.5, 12, 13.5], 'cos': [0.594920663309892, -0.7596879128588213, 0.8438539587324921, -0.9111302618846769, 0.3466353178350258, -0.4755369279959925, 0.960170286650366, -0.9899924966004454, 0.0707372016677029, 0.0707372016677029, 1, -0.9899924966004454, -0.2107957994307797, 0.960170286650366, 0.3466353178350258, -0.2107957994307797, -0.9111302618846769, -0.4755369279959925, 0.8438539587324921, 0.594920663309892]}\n",
      "- Sigmoid [0.00012339457598623172, 0.0003353501304664781, 4.5397868702434395e-05, 0.0009110511944006454, 0.0024726231566347743, 0.0066928509242848554, 0.01798620996209156, 0.04742587317756678, 0.11920292202211755, 0.2689414213699951, 0.5, 0.7310585786300049, 0.8807970779778823, 0.9525741268224334, 0.9820137900379085, 0.9933071490757153, 0.9975273768433653, 0.9990889488055994, 0.9996646498695336, 0.9998766054240137]\n",
      "- Fibonacci [0, 3, 3, 6, 9, 15, 24, 39, 63, 102, 165, 267, 0, 3, 3, 6, 9, 15, 24, 39, 63, 102, 165, 267, 0, 3, 3, 6, 9, 15, 24, 39, 63, 102, 165, 267]\n",
      "- Magic Number 126\n",
      "- scale factor 3\n",
      "- Category Rouge\n",
      "Run ID: 6f9d3dd2-9959-4b1f-a465-bbee8a3ae7c2\n",
      "- Hyperbolic Tangent aml://artifactId/ExperimentRun/dcid.6f9d3dd2-9959-4b1f-a465-bbee8a3ae7c2/Hyperbolic Tangent_1586854594.png\n",
      "- Sine Wave {'angle': [-15.0, -13.5, -12, -10.5, -9, -7.5, -6, -4.5, -3, -1.5, 0, 1.5, 3, 4.5, 6, 7.5, 9, 10.5, 12, 13.5], 'sine': [-0.6502878401571168, -0.803784426551621, 0.5365729180004349, 0.87969575997167, -0.4121184852417566, -0.9379999767747389, 0.27941549819892586, 0.977530117665097, -0.1411200080598672, -0.9974949866040544, 0, 0.9974949866040544, 0.1411200080598672, -0.977530117665097, -0.27941549819892586, 0.9379999767747389, 0.4121184852417566, -0.87969575997167, -0.5365729180004349, 0.803784426551621]}\n",
      "- Cosine Wave {'angle': [-13.5, -15, -12, -10.5, -9, -7.5, -6.0, -4.5, -3, -1.5, 0, 1.5, 3, 4.5, 6, 7.5, 9, 10.5, 12, 13.5], 'cos': [0.594920663309892, -0.7596879128588213, 0.8438539587324921, -0.4755369279959925, -0.9111302618846769, 0.3466353178350258, 0.960170286650366, -0.2107957994307797, -0.9899924966004454, 0.0707372016677029, 1, 0.0707372016677029, -0.9899924966004454, -0.2107957994307797, 0.960170286650366, 0.3466353178350258, -0.9111302618846769, -0.4755369279959925, 0.8438539587324921, 0.594920663309892]}\n",
      "- Sigmoid [4.5397868702434395e-05, 0.00012339457598623172, 0.0003353501304664781, 0.0009110511944006454, 0.0024726231566347743, 0.0066928509242848554, 0.01798620996209156, 0.04742587317756678, 0.11920292202211755, 0.2689414213699951, 0.5, 0.7310585786300049, 0.8807970779778823, 0.9525741268224334, 0.9820137900379085, 0.9933071490757153, 0.9975273768433653, 0.9990889488055994, 0.9996646498695336, 0.9998766054240137]\n",
      "- Fibonacci [0, 3, 3, 6, 9, 15, 24, 39, 63, 102, 165, 267]\n",
      "- Magic Number 126\n",
      "- scale factor 3\n",
      "- Category Rouge\n",
      "Run ID: 269faaf2-ed1e-4c83-b092-423a6b24a8ba\n",
      "Run ID: 6ff4d531-8e5c-4d8f-bc11-d04f24b6ec04\n",
      "Run ID: ce1ab61d-8f26-4adc-915a-cecb52a1d196\n",
      "- Sine Wave {'angle': [-15.0, -13.5, -12, -10.5, -9, -7.5, -6, -4.5, -3, -1.5, 0, 1.5, 3, 4.5, 6, 7.5, 9, 10.5, 12, 13.5], 'sine': [-0.6502878401571168, -0.803784426551621, 0.5365729180004349, 0.87969575997167, -0.4121184852417566, -0.9379999767747389, 0.27941549819892586, 0.977530117665097, -0.1411200080598672, -0.9974949866040544, 0, 0.9974949866040544, 0.1411200080598672, -0.977530117665097, -0.27941549819892586, 0.9379999767747389, 0.4121184852417566, -0.87969575997167, -0.5365729180004349, 0.803784426551621]}\n",
      "- Cosine Wave {'angle': [-15.0, -13.5, -12, -10.5, -9, -7.5, -6.0, -4.5, -3, -1.5, 0, 1.5, 3, 4.5, 6, 7.5, 9, 10.5, 12, 13.5], 'cos': [-0.7596879128588213, 0.594920663309892, 0.8438539587324921, -0.4755369279959925, -0.9111302618846769, 0.3466353178350258, 0.960170286650366, -0.2107957994307797, -0.9899924966004454, 0.0707372016677029, 1, 0.0707372016677029, -0.9899924966004454, -0.2107957994307797, 0.960170286650366, 0.3466353178350258, -0.9111302618846769, -0.4755369279959925, 0.8438539587324921, 0.594920663309892]}\n",
      "- Sigmoid [4.5397868702434395e-05, 0.00012339457598623172, 0.0003353501304664781, 0.0009110511944006454, 0.0024726231566347743, 0.0066928509242848554, 0.01798620996209156, 0.04742587317756678, 0.11920292202211755, 0.2689414213699951, 0.5, 0.7310585786300049, 0.8807970779778823, 0.9525741268224334, 0.9820137900379085, 0.9933071490757153, 0.9975273768433653, 0.9990889488055994, 0.9996646498695336, 0.9998766054240137]\n",
      "- Fibonacci [0, 3, 3, 6, 9, 15, 24, 39, 63, 102, 165, 267]\n",
      "- Magic Number 126\n",
      "- scale factor 3\n",
      "- Category Rouge\n",
      "- Hyperbolic Tangent aml://artifactId/ExperimentRun/dcid.ce1ab61d-8f26-4adc-915a-cecb52a1d196/Hyperbolic Tangent_1585813670.png\n",
      "Run ID: 5b957bf2-67d7-40b9-9336-df94a60b4ff9\n",
      "- Sine Wave {'angle': [-15.0, -13.5, -12, -10.5, -9, -7.5, -6, -4.5, -3, -1.5, 0, 1.5, 3, 4.5, 6, 7.5, 9, 10.5, 12, 13.5], 'sine': [-0.6502878401571168, -0.803784426551621, 0.5365729180004349, 0.87969575997167, -0.4121184852417566, -0.9379999767747389, 0.27941549819892586, 0.977530117665097, -0.1411200080598672, -0.9974949866040544, 0, 0.9974949866040544, 0.1411200080598672, -0.977530117665097, -0.27941549819892586, 0.9379999767747389, 0.4121184852417566, -0.87969575997167, -0.5365729180004349, 0.803784426551621]}\n",
      "- Cosine Wave {'angle': [-15.0, -13.5, -12, -10.5, -9, -7.5, -6.0, -4.5, -3, -1.5, 0, 1.5, 3, 4.5, 6, 7.5, 9, 10.5, 12, 13.5], 'cos': [-0.7596879128588213, 0.594920663309892, 0.8438539587324921, -0.4755369279959925, -0.9111302618846769, 0.3466353178350258, 0.960170286650366, -0.2107957994307797, -0.9899924966004454, 0.0707372016677029, 1, 0.0707372016677029, -0.9899924966004454, -0.2107957994307797, 0.960170286650366, 0.3466353178350258, -0.9111302618846769, -0.4755369279959925, 0.8438539587324921, 0.594920663309892]}\n",
      "- Sigmoid [4.5397868702434395e-05, 0.00012339457598623172, 0.0003353501304664781, 0.0009110511944006454, 0.0024726231566347743, 0.0066928509242848554, 0.01798620996209156, 0.04742587317756678, 0.11920292202211755, 0.2689414213699951, 0.5, 0.7310585786300049, 0.8807970779778823, 0.9525741268224334, 0.9820137900379085, 0.9933071490757153, 0.9975273768433653, 0.9990889488055994, 0.9996646498695336, 0.9998766054240137]\n",
      "- Fibonacci [0, 3, 3, 6, 9, 15, 24, 39, 63, 102, 165, 267]\n",
      "- Magic Number 126\n",
      "- scale factor 3\n",
      "- Category Rouge\n",
      "- Hyperbolic Tangent aml://artifactId/ExperimentRun/dcid.5b957bf2-67d7-40b9-9336-df94a60b4ff9/Hyperbolic Tangent_1585571111.png\n",
      "Run ID: d939f4b2-da66-425f-b479-45e83f32691f\n",
      "- Sine Wave {'angle': [-15.0, -13.5, -12, -10.5, -9, -7.5, -6, -4.5, -3, -1.5, 0, 1.5, 3, 4.5, 6, 7.5, 9, 10.5, 12, 13.5], 'sine': [-0.6502878401571168, -0.803784426551621, 0.5365729180004349, 0.87969575997167, -0.4121184852417566, -0.9379999767747389, 0.27941549819892586, 0.977530117665097, -0.1411200080598672, -0.9974949866040544, 0, 0.9974949866040544, 0.1411200080598672, -0.977530117665097, -0.27941549819892586, 0.9379999767747389, 0.4121184852417566, -0.87969575997167, -0.5365729180004349, 0.803784426551621]}\n",
      "- Cosine Wave {'angle': [-15.0, -13.5, -12, -10.5, -9, -7.5, -6.0, -4.5, -3, -1.5, 0, 1.5, 3, 4.5, 6, 7.5, 9, 10.5, 12, 13.5], 'cos': [-0.7596879128588213, 0.594920663309892, 0.8438539587324921, -0.4755369279959925, -0.9111302618846769, 0.3466353178350258, 0.960170286650366, -0.2107957994307797, -0.9899924966004454, 0.0707372016677029, 1, 0.0707372016677029, -0.9899924966004454, -0.2107957994307797, 0.960170286650366, 0.3466353178350258, -0.9111302618846769, -0.4755369279959925, 0.8438539587324921, 0.594920663309892]}\n",
      "- Sigmoid [4.5397868702434395e-05, 0.00012339457598623172, 0.0003353501304664781, 0.0009110511944006454, 0.0024726231566347743, 0.0066928509242848554, 0.01798620996209156, 0.04742587317756678, 0.11920292202211755, 0.2689414213699951, 0.5, 0.7310585786300049, 0.8807970779778823, 0.9525741268224334, 0.9820137900379085, 0.9933071490757153, 0.9975273768433653, 0.9990889488055994, 0.9996646498695336, 0.9998766054240137]\n",
      "- Fibonacci [0, 3, 3, 6, 9, 15, 24, 39, 63, 102, 165, 267]\n",
      "- Magic Number 126\n",
      "- scale factor 3\n",
      "- Category Rouge\n",
      "- Hyperbolic Tangent aml://artifactId/ExperimentRun/dcid.d939f4b2-da66-425f-b479-45e83f32691f/Hyperbolic Tangent_1585045402.png\n",
      "Run ID: 63b3b24f-e5b8-47b7-b8e1-bf98258e1dd7\n",
      "- Sine Wave {'angle': [-15.0, -13.5, -12, -10.5, -9, -7.5, -6, -4.5, -3, -1.5, 0, 1.5, 3, 4.5, 6, 7.5, 9, 10.5, 12, 13.5], 'sine': [-0.6502878401571168, -0.803784426551621, 0.5365729180004349, 0.87969575997167, -0.4121184852417566, -0.9379999767747389, 0.27941549819892586, 0.977530117665097, -0.1411200080598672, -0.9974949866040544, 0, 0.9974949866040544, 0.1411200080598672, -0.977530117665097, -0.27941549819892586, 0.9379999767747389, 0.4121184852417566, -0.87969575997167, -0.5365729180004349, 0.803784426551621]}\n",
      "- Cosine Wave {'angle': [-15.0, -13.5, -12, -10.5, -9, -7.5, -6.0, -4.5, -3, -1.5, 0, 1.5, 3, 4.5, 6, 7.5, 9, 10.5, 12, 13.5], 'cos': [-0.7596879128588213, 0.594920663309892, 0.8438539587324921, -0.4755369279959925, -0.9111302618846769, 0.3466353178350258, 0.960170286650366, -0.2107957994307797, -0.9899924966004454, 0.0707372016677029, 1, 0.0707372016677029, -0.9899924966004454, -0.2107957994307797, 0.960170286650366, 0.3466353178350258, -0.9111302618846769, -0.4755369279959925, 0.8438539587324921, 0.594920663309892]}\n",
      "- Sigmoid [4.5397868702434395e-05, 0.00012339457598623172, 0.0003353501304664781, 0.0009110511944006454, 0.0024726231566347743, 0.0066928509242848554, 0.01798620996209156, 0.04742587317756678, 0.11920292202211755, 0.2689414213699951, 0.5, 0.7310585786300049, 0.8807970779778823, 0.9525741268224334, 0.9820137900379085, 0.9933071490757153, 0.9975273768433653, 0.9990889488055994, 0.9996646498695336, 0.9998766054240137]\n",
      "- Fibonacci [0, 3, 3, 6, 9, 15, 24, 39, 63, 102, 165, 267]\n",
      "- Magic Number 126\n",
      "- scale factor 3\n",
      "- Category Rouge\n",
      "- Hyperbolic Tangent aml://artifactId/ExperimentRun/dcid.63b3b24f-e5b8-47b7-b8e1-bf98258e1dd7/Hyperbolic Tangent_1584980359.png\n",
      "Run ID: 468614ce-5b65-47bc-b194-65ab38b277b2\n",
      "- Hyperbolic Tangent aml://artifactId/ExperimentRun/dcid.468614ce-5b65-47bc-b194-65ab38b277b2/Hyperbolic Tangent_1584624443.png\n",
      "- Sine Wave {'angle': [-15.0, -13.5, -12, -10.5, -9, -7.5, -6, -4.5, -3, -1.5, 0, 1.5, 3, 4.5, 6, 7.5, 9, 10.5, 12, 13.5], 'sine': [-0.6502878401571168, -0.803784426551621, 0.5365729180004349, 0.87969575997167, -0.4121184852417566, -0.9379999767747389, 0.27941549819892586, 0.977530117665097, -0.1411200080598672, -0.9974949866040544, 0, 0.9974949866040544, 0.1411200080598672, -0.977530117665097, -0.27941549819892586, 0.9379999767747389, 0.4121184852417566, -0.87969575997167, -0.5365729180004349, 0.803784426551621]}\n",
      "- Cosine Wave {'angle': [-15.0, -13.5, -12, -10.5, -9, -7.5, -6.0, -4.5, -3, -1.5, 0, 1.5, 3, 4.5, 6, 7.5, 9, 10.5, 12, 13.5], 'cos': [-0.7596879128588213, 0.594920663309892, 0.8438539587324921, -0.4755369279959925, -0.9111302618846769, 0.3466353178350258, 0.960170286650366, -0.2107957994307797, -0.9899924966004454, 0.0707372016677029, 1, 0.0707372016677029, -0.9899924966004454, -0.2107957994307797, 0.960170286650366, 0.3466353178350258, -0.9111302618846769, -0.4755369279959925, 0.8438539587324921, 0.594920663309892]}\n",
      "- Sigmoid [4.5397868702434395e-05, 0.00012339457598623172, 0.0003353501304664781, 0.0009110511944006454, 0.0024726231566347743, 0.0066928509242848554, 0.01798620996209156, 0.04742587317756678, 0.11920292202211755, 0.2689414213699951, 0.5, 0.7310585786300049, 0.8807970779778823, 0.9525741268224334, 0.9820137900379085, 0.9933071490757153, 0.9975273768433653, 0.9990889488055994, 0.9996646498695336, 0.9998766054240137]\n",
      "- Fibonacci [0, 3, 3, 6, 9, 15, 24, 39, 63, 102, 165, 267]\n",
      "- Magic Number 126\n",
      "- scale factor 3\n",
      "- Category Rouge\n"
     ]
    }
   ],
   "source": [
    "from azureml.core import Experiment, Run\n",
    "\n",
    "diabetes_experiment = ws.experiments['Exemple1-Logging']\n",
    "for logged_run in diabetes_experiment.get_runs():\n",
    "    print('Run ID:', logged_run.id)\n",
    "    metrics = logged_run.get_metrics()\n",
    "    for key in metrics.keys():\n",
    "        print('-', key, metrics.get(key))\n"
   ]
  },
  {
   "cell_type": "markdown",
   "metadata": {},
   "source": [
    "## 5. Azure Open Datasets\n",
    "\n",
    "Mise à disposition d'open data dans Azure.\n",
    "Azure ML permet d'accéder à ces open datasets.\n",
    "\n",
    "<img src=\"https://github.com/retkowsky/images/blob/master/opendata.jpg?raw=true\">"
   ]
  },
  {
   "cell_type": "markdown",
   "metadata": {},
   "source": [
    "> https://azure.microsoft.com/fr-fr/services/open-datasets/"
   ]
  },
  {
   "cell_type": "code",
   "execution_count": 121,
   "metadata": {},
   "outputs": [],
   "source": [
    "#!pip install azureml-opendatasets"
   ]
  },
  {
   "cell_type": "code",
   "execution_count": 122,
   "metadata": {},
   "outputs": [],
   "source": [
    "# Dataset jours fériés\n",
    "from azureml.opendatasets import PublicHolidays\n",
    "\n",
    "from datetime import datetime\n",
    "from dateutil import parser\n",
    "from dateutil.relativedelta import relativedelta"
   ]
  },
  {
   "cell_type": "code",
   "execution_count": 123,
   "metadata": {},
   "outputs": [],
   "source": [
    "# Intervalle en mois\n",
    "mois=12"
   ]
  },
  {
   "cell_type": "code",
   "execution_count": 124,
   "metadata": {},
   "outputs": [
    {
     "name": "stdout",
     "output_type": "stream",
     "text": [
      "Date : 22-09-2020\n"
     ]
    }
   ],
   "source": [
    "import time\n",
    "datedujour = time.strftime(\"%d-%m-%Y\")\n",
    "print(\"Date :\", datedujour)"
   ]
  },
  {
   "cell_type": "code",
   "execution_count": 125,
   "metadata": {},
   "outputs": [],
   "source": [
    "fin = datetime.today() + relativedelta(months=mois)\n",
    "debut = datetime.today() - relativedelta(months=mois)"
   ]
  },
  {
   "cell_type": "code",
   "execution_count": 126,
   "metadata": {},
   "outputs": [
    {
     "name": "stdout",
     "output_type": "stream",
     "text": [
      "Début : 2019-09-22 12:07:44.258882\n",
      "Fin : 2021-09-22 12:07:44.258712\n"
     ]
    }
   ],
   "source": [
    "print(\"Début :\", debut)\n",
    "print(\"Fin :\", fin)"
   ]
  },
  {
   "cell_type": "code",
   "execution_count": 127,
   "metadata": {},
   "outputs": [
    {
     "name": "stdout",
     "output_type": "stream",
     "text": [
      "[Info] read from /tmp/tmpwbmgsgec/https%3A/%2Fazureopendatastorage.azurefd.net/holidaydatacontainer/Processed/part-00000-tid-1744422316179224954-2cd4580c-2bf8-4ad7-9568-a4bd34746b1f-649-c000.snappy.parquet\n"
     ]
    }
   ],
   "source": [
    "hol = PublicHolidays(start_date=debut, end_date=fin)\n",
    "joursferies = hol.to_pandas_dataframe()"
   ]
  },
  {
   "cell_type": "code",
   "execution_count": 128,
   "metadata": {},
   "outputs": [
    {
     "data": {
      "text/plain": [
       "(1099, 6)"
      ]
     },
     "execution_count": 128,
     "metadata": {},
     "output_type": "execute_result"
    }
   ],
   "source": [
    "joursferies.shape"
   ]
  },
  {
   "cell_type": "code",
   "execution_count": 129,
   "metadata": {},
   "outputs": [
    {
     "data": {
      "text/html": [
       "<div>\n",
       "<style scoped>\n",
       "    .dataframe tbody tr th:only-of-type {\n",
       "        vertical-align: middle;\n",
       "    }\n",
       "\n",
       "    .dataframe tbody tr th {\n",
       "        vertical-align: top;\n",
       "    }\n",
       "\n",
       "    .dataframe thead th {\n",
       "        text-align: right;\n",
       "    }\n",
       "</style>\n",
       "<table border=\"1\" class=\"dataframe\">\n",
       "  <thead>\n",
       "    <tr style=\"text-align: right;\">\n",
       "      <th></th>\n",
       "      <th>countryOrRegion</th>\n",
       "      <th>holidayName</th>\n",
       "      <th>normalizeHolidayName</th>\n",
       "      <th>isPaidTimeOff</th>\n",
       "      <th>countryRegionCode</th>\n",
       "      <th>date</th>\n",
       "    </tr>\n",
       "  </thead>\n",
       "  <tbody>\n",
       "    <tr>\n",
       "      <th>25781</th>\n",
       "      <td>Japan</td>\n",
       "      <td>秋分の日</td>\n",
       "      <td>秋分の日</td>\n",
       "      <td>None</td>\n",
       "      <td>JP</td>\n",
       "      <td>2019-09-23</td>\n",
       "    </tr>\n",
       "    <tr>\n",
       "      <th>25782</th>\n",
       "      <td>South Africa</td>\n",
       "      <td>Heritage Day</td>\n",
       "      <td>Heritage Day</td>\n",
       "      <td>None</td>\n",
       "      <td>ZA</td>\n",
       "      <td>2019-09-24</td>\n",
       "    </tr>\n",
       "    <tr>\n",
       "      <th>25783</th>\n",
       "      <td>Czech</td>\n",
       "      <td>Den české státnosti</td>\n",
       "      <td>Den české státnosti</td>\n",
       "      <td>None</td>\n",
       "      <td>CZ</td>\n",
       "      <td>2019-09-28</td>\n",
       "    </tr>\n",
       "    <tr>\n",
       "      <th>25784</th>\n",
       "      <td>Norway</td>\n",
       "      <td>Søndag</td>\n",
       "      <td>Søndag</td>\n",
       "      <td>None</td>\n",
       "      <td>NO</td>\n",
       "      <td>2019-09-29</td>\n",
       "    </tr>\n",
       "    <tr>\n",
       "      <th>25785</th>\n",
       "      <td>Sweden</td>\n",
       "      <td>Söndag</td>\n",
       "      <td>Söndag</td>\n",
       "      <td>None</td>\n",
       "      <td>SE</td>\n",
       "      <td>2019-09-29</td>\n",
       "    </tr>\n",
       "    <tr>\n",
       "      <th>25786</th>\n",
       "      <td>India</td>\n",
       "      <td>Gandhi Jayanti</td>\n",
       "      <td>Gandhi Jayanti</td>\n",
       "      <td>True</td>\n",
       "      <td>IN</td>\n",
       "      <td>2019-10-02</td>\n",
       "    </tr>\n",
       "    <tr>\n",
       "      <th>25787</th>\n",
       "      <td>Germany</td>\n",
       "      <td>Tag der Deutschen Einheit</td>\n",
       "      <td>Tag der Deutschen Einheit</td>\n",
       "      <td>None</td>\n",
       "      <td>DE</td>\n",
       "      <td>2019-10-03</td>\n",
       "    </tr>\n",
       "    <tr>\n",
       "      <th>25788</th>\n",
       "      <td>Portugal</td>\n",
       "      <td>Implantação da República</td>\n",
       "      <td>Implantação da República</td>\n",
       "      <td>None</td>\n",
       "      <td>PT</td>\n",
       "      <td>2019-10-05</td>\n",
       "    </tr>\n",
       "    <tr>\n",
       "      <th>25789</th>\n",
       "      <td>Norway</td>\n",
       "      <td>Søndag</td>\n",
       "      <td>Søndag</td>\n",
       "      <td>None</td>\n",
       "      <td>NO</td>\n",
       "      <td>2019-10-06</td>\n",
       "    </tr>\n",
       "    <tr>\n",
       "      <th>25790</th>\n",
       "      <td>Sweden</td>\n",
       "      <td>Söndag</td>\n",
       "      <td>Söndag</td>\n",
       "      <td>None</td>\n",
       "      <td>SE</td>\n",
       "      <td>2019-10-06</td>\n",
       "    </tr>\n",
       "    <tr>\n",
       "      <th>25791</th>\n",
       "      <td>Croatia</td>\n",
       "      <td>Dan neovisnosti</td>\n",
       "      <td>Dan neovisnosti</td>\n",
       "      <td>None</td>\n",
       "      <td>HR</td>\n",
       "      <td>2019-10-08</td>\n",
       "    </tr>\n",
       "    <tr>\n",
       "      <th>25792</th>\n",
       "      <td>Argentina</td>\n",
       "      <td>Día del Respeto a la Diversidad Cultural [Resp...</td>\n",
       "      <td>Día del Respeto a la Diversidad Cultural [Resp...</td>\n",
       "      <td>None</td>\n",
       "      <td>AR</td>\n",
       "      <td>2019-10-12</td>\n",
       "    </tr>\n",
       "    <tr>\n",
       "      <th>25793</th>\n",
       "      <td>Brazil</td>\n",
       "      <td>Nossa Senhora Aparecida</td>\n",
       "      <td>Nossa Senhora Aparecida</td>\n",
       "      <td>None</td>\n",
       "      <td>BR</td>\n",
       "      <td>2019-10-12</td>\n",
       "    </tr>\n",
       "    <tr>\n",
       "      <th>25794</th>\n",
       "      <td>Spain</td>\n",
       "      <td>Día de la Hispanidad</td>\n",
       "      <td>Día de la Hispanidad</td>\n",
       "      <td>None</td>\n",
       "      <td>ES</td>\n",
       "      <td>2019-10-12</td>\n",
       "    </tr>\n",
       "    <tr>\n",
       "      <th>25795</th>\n",
       "      <td>Norway</td>\n",
       "      <td>Søndag</td>\n",
       "      <td>Søndag</td>\n",
       "      <td>None</td>\n",
       "      <td>NO</td>\n",
       "      <td>2019-10-13</td>\n",
       "    </tr>\n",
       "  </tbody>\n",
       "</table>\n",
       "</div>"
      ],
      "text/plain": [
       "      countryOrRegion                                        holidayName  \\\n",
       "25781           Japan                                               秋分の日   \n",
       "25782    South Africa                                       Heritage Day   \n",
       "25783           Czech                                Den české státnosti   \n",
       "25784          Norway                                             Søndag   \n",
       "25785          Sweden                                             Söndag   \n",
       "25786           India                                     Gandhi Jayanti   \n",
       "25787         Germany                          Tag der Deutschen Einheit   \n",
       "25788        Portugal                           Implantação da República   \n",
       "25789          Norway                                             Søndag   \n",
       "25790          Sweden                                             Söndag   \n",
       "25791         Croatia                                    Dan neovisnosti   \n",
       "25792       Argentina  Día del Respeto a la Diversidad Cultural [Resp...   \n",
       "25793          Brazil                            Nossa Senhora Aparecida   \n",
       "25794           Spain                               Día de la Hispanidad   \n",
       "25795          Norway                                             Søndag   \n",
       "\n",
       "                                    normalizeHolidayName isPaidTimeOff  \\\n",
       "25781                                               秋分の日          None   \n",
       "25782                                       Heritage Day          None   \n",
       "25783                                Den české státnosti          None   \n",
       "25784                                             Søndag          None   \n",
       "25785                                             Söndag          None   \n",
       "25786                                     Gandhi Jayanti          True   \n",
       "25787                          Tag der Deutschen Einheit          None   \n",
       "25788                           Implantação da República          None   \n",
       "25789                                             Søndag          None   \n",
       "25790                                             Söndag          None   \n",
       "25791                                    Dan neovisnosti          None   \n",
       "25792  Día del Respeto a la Diversidad Cultural [Resp...          None   \n",
       "25793                            Nossa Senhora Aparecida          None   \n",
       "25794                               Día de la Hispanidad          None   \n",
       "25795                                             Søndag          None   \n",
       "\n",
       "      countryRegionCode       date  \n",
       "25781                JP 2019-09-23  \n",
       "25782                ZA 2019-09-24  \n",
       "25783                CZ 2019-09-28  \n",
       "25784                NO 2019-09-29  \n",
       "25785                SE 2019-09-29  \n",
       "25786                IN 2019-10-02  \n",
       "25787                DE 2019-10-03  \n",
       "25788                PT 2019-10-05  \n",
       "25789                NO 2019-10-06  \n",
       "25790                SE 2019-10-06  \n",
       "25791                HR 2019-10-08  \n",
       "25792                AR 2019-10-12  \n",
       "25793                BR 2019-10-12  \n",
       "25794                ES 2019-10-12  \n",
       "25795                NO 2019-10-13  "
      ]
     },
     "execution_count": 129,
     "metadata": {},
     "output_type": "execute_result"
    }
   ],
   "source": [
    "joursferies.head(15)"
   ]
  },
  {
   "cell_type": "code",
   "execution_count": 130,
   "metadata": {},
   "outputs": [],
   "source": [
    "# Pour avoir les jours féries en France\n",
    "joursferiesFR=joursferies[joursferies.countryRegionCode == 'FR']"
   ]
  },
  {
   "cell_type": "code",
   "execution_count": 131,
   "metadata": {},
   "outputs": [],
   "source": [
    "# Pour avoir la colonne date en 1ere colonne\n",
    "joursferiesFR = joursferiesFR[ ['date'] + [ col for col in joursferiesFR.columns if col != 'date' ] ]"
   ]
  },
  {
   "cell_type": "code",
   "execution_count": 132,
   "metadata": {},
   "outputs": [
    {
     "name": "stdout",
     "output_type": "stream",
     "text": [
      "Nombre de jours fériés sur la période : 22 jours.\n"
     ]
    }
   ],
   "source": [
    "print(\"Nombre de jours fériés sur la période :\", len(joursferiesFR.index), \"jours.\")"
   ]
  },
  {
   "cell_type": "code",
   "execution_count": 133,
   "metadata": {},
   "outputs": [
    {
     "data": {
      "text/html": [
       "<div>\n",
       "<style scoped>\n",
       "    .dataframe tbody tr th:only-of-type {\n",
       "        vertical-align: middle;\n",
       "    }\n",
       "\n",
       "    .dataframe tbody tr th {\n",
       "        vertical-align: top;\n",
       "    }\n",
       "\n",
       "    .dataframe thead th {\n",
       "        text-align: right;\n",
       "    }\n",
       "</style>\n",
       "<table border=\"1\" class=\"dataframe\">\n",
       "  <thead>\n",
       "    <tr style=\"text-align: right;\">\n",
       "      <th></th>\n",
       "      <th>date</th>\n",
       "      <th>countryOrRegion</th>\n",
       "      <th>holidayName</th>\n",
       "      <th>normalizeHolidayName</th>\n",
       "      <th>isPaidTimeOff</th>\n",
       "      <th>countryRegionCode</th>\n",
       "    </tr>\n",
       "  </thead>\n",
       "  <tbody>\n",
       "    <tr>\n",
       "      <th>25816</th>\n",
       "      <td>2019-11-01</td>\n",
       "      <td>France</td>\n",
       "      <td>Toussaint</td>\n",
       "      <td>Toussaint</td>\n",
       "      <td>None</td>\n",
       "      <td>FR</td>\n",
       "    </tr>\n",
       "    <tr>\n",
       "      <th>25836</th>\n",
       "      <td>2019-11-11</td>\n",
       "      <td>France</td>\n",
       "      <td>Armistice 1918</td>\n",
       "      <td>Armistice 1918</td>\n",
       "      <td>None</td>\n",
       "      <td>FR</td>\n",
       "    </tr>\n",
       "    <tr>\n",
       "      <th>25886</th>\n",
       "      <td>2019-12-25</td>\n",
       "      <td>France</td>\n",
       "      <td>Noël</td>\n",
       "      <td>Noël</td>\n",
       "      <td>None</td>\n",
       "      <td>FR</td>\n",
       "    </tr>\n",
       "    <tr>\n",
       "      <th>25951</th>\n",
       "      <td>2020-01-01</td>\n",
       "      <td>France</td>\n",
       "      <td>Jour de l'an</td>\n",
       "      <td>Jour de l'an</td>\n",
       "      <td>None</td>\n",
       "      <td>FR</td>\n",
       "    </tr>\n",
       "    <tr>\n",
       "      <th>26100</th>\n",
       "      <td>2020-04-13</td>\n",
       "      <td>France</td>\n",
       "      <td>Lundi de Pâques</td>\n",
       "      <td>Lundi de Pâques</td>\n",
       "      <td>None</td>\n",
       "      <td>FR</td>\n",
       "    </tr>\n",
       "    <tr>\n",
       "      <th>26142</th>\n",
       "      <td>2020-05-01</td>\n",
       "      <td>France</td>\n",
       "      <td>Fête du Travail</td>\n",
       "      <td>Fête du Travail</td>\n",
       "      <td>None</td>\n",
       "      <td>FR</td>\n",
       "    </tr>\n",
       "    <tr>\n",
       "      <th>26169</th>\n",
       "      <td>2020-05-08</td>\n",
       "      <td>France</td>\n",
       "      <td>Armistice 1945</td>\n",
       "      <td>Armistice 1945</td>\n",
       "      <td>None</td>\n",
       "      <td>FR</td>\n",
       "    </tr>\n",
       "    <tr>\n",
       "      <th>26186</th>\n",
       "      <td>2020-05-21</td>\n",
       "      <td>France</td>\n",
       "      <td>Ascension</td>\n",
       "      <td>Ascension</td>\n",
       "      <td>None</td>\n",
       "      <td>FR</td>\n",
       "    </tr>\n",
       "    <tr>\n",
       "      <th>26215</th>\n",
       "      <td>2020-06-01</td>\n",
       "      <td>France</td>\n",
       "      <td>Lundi de Pentecôte</td>\n",
       "      <td>Lundi de Pentecôte</td>\n",
       "      <td>None</td>\n",
       "      <td>FR</td>\n",
       "    </tr>\n",
       "    <tr>\n",
       "      <th>26268</th>\n",
       "      <td>2020-07-14</td>\n",
       "      <td>France</td>\n",
       "      <td>Fête nationale</td>\n",
       "      <td>Fête nationale</td>\n",
       "      <td>None</td>\n",
       "      <td>FR</td>\n",
       "    </tr>\n",
       "    <tr>\n",
       "      <th>26294</th>\n",
       "      <td>2020-08-15</td>\n",
       "      <td>France</td>\n",
       "      <td>Assomption</td>\n",
       "      <td>Assomption</td>\n",
       "      <td>None</td>\n",
       "      <td>FR</td>\n",
       "    </tr>\n",
       "    <tr>\n",
       "      <th>26363</th>\n",
       "      <td>2020-11-01</td>\n",
       "      <td>France</td>\n",
       "      <td>Toussaint</td>\n",
       "      <td>Toussaint</td>\n",
       "      <td>None</td>\n",
       "      <td>FR</td>\n",
       "    </tr>\n",
       "    <tr>\n",
       "      <th>26379</th>\n",
       "      <td>2020-11-11</td>\n",
       "      <td>France</td>\n",
       "      <td>Armistice 1918</td>\n",
       "      <td>Armistice 1918</td>\n",
       "      <td>None</td>\n",
       "      <td>FR</td>\n",
       "    </tr>\n",
       "    <tr>\n",
       "      <th>26432</th>\n",
       "      <td>2020-12-25</td>\n",
       "      <td>France</td>\n",
       "      <td>Noël</td>\n",
       "      <td>Noël</td>\n",
       "      <td>None</td>\n",
       "      <td>FR</td>\n",
       "    </tr>\n",
       "    <tr>\n",
       "      <th>26505</th>\n",
       "      <td>2021-01-01</td>\n",
       "      <td>France</td>\n",
       "      <td>Jour de l'an</td>\n",
       "      <td>Jour de l'an</td>\n",
       "      <td>None</td>\n",
       "      <td>FR</td>\n",
       "    </tr>\n",
       "    <tr>\n",
       "      <th>26654</th>\n",
       "      <td>2021-04-05</td>\n",
       "      <td>France</td>\n",
       "      <td>Lundi de Pâques</td>\n",
       "      <td>Lundi de Pâques</td>\n",
       "      <td>None</td>\n",
       "      <td>FR</td>\n",
       "    </tr>\n",
       "    <tr>\n",
       "      <th>26698</th>\n",
       "      <td>2021-05-01</td>\n",
       "      <td>France</td>\n",
       "      <td>Fête du Travail</td>\n",
       "      <td>Fête du Travail</td>\n",
       "      <td>None</td>\n",
       "      <td>FR</td>\n",
       "    </tr>\n",
       "    <tr>\n",
       "      <th>26728</th>\n",
       "      <td>2021-05-08</td>\n",
       "      <td>France</td>\n",
       "      <td>Armistice 1945</td>\n",
       "      <td>Armistice 1945</td>\n",
       "      <td>None</td>\n",
       "      <td>FR</td>\n",
       "    </tr>\n",
       "    <tr>\n",
       "      <th>26738</th>\n",
       "      <td>2021-05-13</td>\n",
       "      <td>France</td>\n",
       "      <td>Ascension</td>\n",
       "      <td>Ascension</td>\n",
       "      <td>None</td>\n",
       "      <td>FR</td>\n",
       "    </tr>\n",
       "    <tr>\n",
       "      <th>26761</th>\n",
       "      <td>2021-05-24</td>\n",
       "      <td>France</td>\n",
       "      <td>Lundi de Pentecôte</td>\n",
       "      <td>Lundi de Pentecôte</td>\n",
       "      <td>None</td>\n",
       "      <td>FR</td>\n",
       "    </tr>\n",
       "    <tr>\n",
       "      <th>26823</th>\n",
       "      <td>2021-07-14</td>\n",
       "      <td>France</td>\n",
       "      <td>Fête nationale</td>\n",
       "      <td>Fête nationale</td>\n",
       "      <td>None</td>\n",
       "      <td>FR</td>\n",
       "    </tr>\n",
       "    <tr>\n",
       "      <th>26847</th>\n",
       "      <td>2021-08-15</td>\n",
       "      <td>France</td>\n",
       "      <td>Assomption</td>\n",
       "      <td>Assomption</td>\n",
       "      <td>None</td>\n",
       "      <td>FR</td>\n",
       "    </tr>\n",
       "  </tbody>\n",
       "</table>\n",
       "</div>"
      ],
      "text/plain": [
       "            date countryOrRegion         holidayName normalizeHolidayName  \\\n",
       "25816 2019-11-01          France           Toussaint            Toussaint   \n",
       "25836 2019-11-11          France      Armistice 1918       Armistice 1918   \n",
       "25886 2019-12-25          France                Noël                 Noël   \n",
       "25951 2020-01-01          France        Jour de l'an         Jour de l'an   \n",
       "26100 2020-04-13          France     Lundi de Pâques      Lundi de Pâques   \n",
       "26142 2020-05-01          France     Fête du Travail      Fête du Travail   \n",
       "26169 2020-05-08          France      Armistice 1945       Armistice 1945   \n",
       "26186 2020-05-21          France           Ascension            Ascension   \n",
       "26215 2020-06-01          France  Lundi de Pentecôte   Lundi de Pentecôte   \n",
       "26268 2020-07-14          France      Fête nationale       Fête nationale   \n",
       "26294 2020-08-15          France          Assomption           Assomption   \n",
       "26363 2020-11-01          France           Toussaint            Toussaint   \n",
       "26379 2020-11-11          France      Armistice 1918       Armistice 1918   \n",
       "26432 2020-12-25          France                Noël                 Noël   \n",
       "26505 2021-01-01          France        Jour de l'an         Jour de l'an   \n",
       "26654 2021-04-05          France     Lundi de Pâques      Lundi de Pâques   \n",
       "26698 2021-05-01          France     Fête du Travail      Fête du Travail   \n",
       "26728 2021-05-08          France      Armistice 1945       Armistice 1945   \n",
       "26738 2021-05-13          France           Ascension            Ascension   \n",
       "26761 2021-05-24          France  Lundi de Pentecôte   Lundi de Pentecôte   \n",
       "26823 2021-07-14          France      Fête nationale       Fête nationale   \n",
       "26847 2021-08-15          France          Assomption           Assomption   \n",
       "\n",
       "      isPaidTimeOff countryRegionCode  \n",
       "25816          None                FR  \n",
       "25836          None                FR  \n",
       "25886          None                FR  \n",
       "25951          None                FR  \n",
       "26100          None                FR  \n",
       "26142          None                FR  \n",
       "26169          None                FR  \n",
       "26186          None                FR  \n",
       "26215          None                FR  \n",
       "26268          None                FR  \n",
       "26294          None                FR  \n",
       "26363          None                FR  \n",
       "26379          None                FR  \n",
       "26432          None                FR  \n",
       "26505          None                FR  \n",
       "26654          None                FR  \n",
       "26698          None                FR  \n",
       "26728          None                FR  \n",
       "26738          None                FR  \n",
       "26761          None                FR  \n",
       "26823          None                FR  \n",
       "26847          None                FR  "
      ]
     },
     "execution_count": 133,
     "metadata": {},
     "output_type": "execute_result"
    }
   ],
   "source": [
    "joursferiesFR"
   ]
  },
  {
   "cell_type": "code",
   "execution_count": 134,
   "metadata": {},
   "outputs": [],
   "source": [
    "# Export fichier CSV\n",
    "joursferiesFR.to_csv(r'exportjoursferies.csv', index = False)"
   ]
  },
  {
   "cell_type": "code",
   "execution_count": 135,
   "metadata": {},
   "outputs": [],
   "source": [
    "# Export fichier EXCEL\n",
    "joursferiesFR.to_excel('exportjoursferies.xlsx')  "
   ]
  },
  {
   "cell_type": "code",
   "execution_count": 136,
   "metadata": {},
   "outputs": [
    {
     "name": "stdout",
     "output_type": "stream",
     "text": [
      "-rwxrwxrwx 1 root root 1170 Sep 22 12:07 \u001b[0m\u001b[01;32mexportjoursferies.csv\u001b[0m*\r\n",
      "-rwxrwxrwx 1 root root 6280 Sep 22 12:07 \u001b[01;32mexportjoursferies.xlsx\u001b[0m*\r\n"
     ]
    }
   ],
   "source": [
    "%ls exportjoursferies.* -l"
   ]
  },
  {
   "cell_type": "code",
   "execution_count": 137,
   "metadata": {},
   "outputs": [
    {
     "name": "stdout",
     "output_type": "stream",
     "text": [
      "date,countryOrRegion,holidayName,normalizeHolidayName,isPaidTimeOff,countryRegionCode\n",
      "2019-11-01,France,Toussaint,Toussaint,,FR\n",
      "2019-11-11,France,Armistice 1918,Armistice 1918,,FR\n",
      "2019-12-25,France,Noël,Noël,,FR\n",
      "2020-01-01,France,Jour de l'an,Jour de l'an,,FR\n",
      "2020-04-13,France,Lundi de Pâques,Lundi de Pâques,,FR\n",
      "2020-05-01,France,Fête du Travail,Fête du Travail,,FR\n",
      "2020-05-08,France,Armistice 1945,Armistice 1945,,FR\n",
      "2020-05-21,France,Ascension,Ascension,,FR\n",
      "2020-06-01,France,Lundi de Pentecôte,Lundi de Pentecôte,,FR\n",
      "2020-07-14,France,Fête nationale,Fête nationale,,FR\n",
      "2020-08-15,France,Assomption,Assomption,,FR\n",
      "2020-11-01,France,Toussaint,Toussaint,,FR\n",
      "2020-11-11,France,Armistice 1918,Armistice 1918,,FR\n",
      "2020-12-25,France,Noël,Noël,,FR\n",
      "2021-01-01,France,Jour de l'an,Jour de l'an,,FR\n",
      "2021-04-05,France,Lundi de Pâques,Lundi de Pâques,,FR\n",
      "2021-05-01,France,Fête du Travail,Fête du Travail,,FR\n",
      "2021-05-08,France,Armistice 1945,Armistice 1945,,FR\n",
      "2021-05-13,France,Ascension,Ascension,,FR\n",
      "2021-05-24,France,Lundi de Pentecôte,Lundi de Pentecôte,,FR\n",
      "2021-07-14,France,Fête nationale,Fête nationale,,FR\n",
      "2021-08-15,France,Assomption,Assomption,,FR\n",
      "\n"
     ]
    }
   ],
   "source": [
    "# Visu du fichier csv exporté\n",
    "with open(os.path.join('./exportjoursferies.csv'), 'r') as f:\n",
    "    print(f.read())"
   ]
  },
  {
   "cell_type": "markdown",
   "metadata": {},
   "source": [
    "<img src=\"https://github.com/retkowsky/images/blob/master/Powered-by-MS-Azure-logo-v2.png?raw=true\" height=\"300\" width=\"300\">"
   ]
  }
 ],
 "metadata": {
  "kernelspec": {
   "display_name": "Python 3.6 - AzureML",
   "language": "python",
   "name": "python3-azureml"
  },
  "language_info": {
   "codemirror_mode": {
    "name": "ipython",
    "version": 3
   },
   "file_extension": ".py",
   "mimetype": "text/x-python",
   "name": "python",
   "nbconvert_exporter": "python",
   "pygments_lexer": "ipython3",
   "version": "3.6.9"
  }
 },
 "nbformat": 4,
 "nbformat_minor": 2
}
