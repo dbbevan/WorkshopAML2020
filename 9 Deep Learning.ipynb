{
 "cells": [
  {
   "cell_type": "markdown",
   "metadata": {},
   "source": [
    "# Introduction Deep Learning"
   ]
  },
  {
   "cell_type": "markdown",
   "metadata": {},
   "source": [
    "<img src='https://github.com/retkowsky/images/blob/master/AzureMLservicebanniere.png?raw=true'>"
   ]
  },
  {
   "cell_type": "markdown",
   "metadata": {},
   "source": [
    "https://en.wikipedia.org/wiki/MNIST_database\n",
    "\n",
    "Exemple **MNIST** (Modified National Institute of Standards and Technology.<br>\n",
    "Pour représenter cette image, nous allons utiliser un vecteur binaire de **784 variables (28x28)**. La ième valeur du vecteur prendra la valeur 0 ou 1 suivant si le ième pixel dans l'image est blanc ou noir.\n",
    "\n",
    "Un algorithme de **Deep Learning** va commencer par subdiviser ce problème complexe, en sous problèmes plus simple à résoudre. Pour cela, il va prendre des sous parties de l'image, par exemple, des groupements de pixels de 5x5, 4x4, ou 3x3, et opérer une fonction afin d'extraire des motifs dans cette sous-partie (on parle d'opération de convolution).\n",
    "Ainsi, différentes transformations sont opérées sur différentes parties de l'image d'entrée, retravaillées puis combinées à la couche suivante, etc., etc. permettant ainsi de générer des cartographies des pixels importants dans l'image.<br>\n"
   ]
  },
  {
   "cell_type": "markdown",
   "metadata": {},
   "source": [
    "<img src=\"https://upload.wikimedia.org/wikipedia/commons/2/27/MnistExamples.png\">"
   ]
  },
  {
   "cell_type": "markdown",
   "metadata": {},
   "source": [
    "<img src=\"https://msdnshared.blob.core.windows.net/media/2016/04/042816_1315_Unepremirei32.png\">"
   ]
  },
  {
   "cell_type": "markdown",
   "metadata": {},
   "source": [
    "L'illustration ci-dessus met en évidence la succession des couches, et l'extraction de l'information qu'elles réalisent. Elle permet aussi de refléter la hiérarchie entre les couches :\n",
    "\n",
    "La première se focalise sur une petite portion de l'image (5x5 par exemple).\n",
    "La seconde récupère le résultat de toutes les portions précédentes et essaye de repérer de nouveaux indicateurs.\n",
    "La troisième va encore plus loin, en suivant le même principe, permettant d'identifier assez précisément les contours du visage.\n",
    "Vous l'aurez donc compris, chaque couche est génératrice de variables. Chaque couche va venir rajouter son lot de variable issues de la combinaison des précédentes. C'est ici qu'intervient la véritable différence entre un réseau de neurones « classique » et un algorithme de Deep Learning.\n",
    "\n",
    "Cette faculté à générer des variables, qui plus est, très pertinentes dans un problème donné, permet à l'algorithme de découvrir des indicateurs de « haut niveaux » générant un fort pouvoir prédictif.\n",
    "\n",
    "En combinant toutes ces informations issues des différentes couches, correctement pondérées, nous obtenons un système capable d'identifier les éléments importants d'une image, dans le but final de prédire la sortie avec la plus forte probabilité d'être correcte."
   ]
  },
  {
   "cell_type": "markdown",
   "metadata": {},
   "source": [
    "## Partitionnement des données\n",
    "On va utiliser une partie des données pour apprendre (60 000) et le reste (10 000) pour vérifier si notre algorithme est correct. <br>Nous utilisons KERAS qui est une surcouche à TensorFlow."
   ]
  },
  {
   "cell_type": "code",
   "execution_count": 37,
   "metadata": {},
   "outputs": [
    {
     "data": {
      "text/plain": [
       "'3.6.9 |Anaconda, Inc.| (default, Jul 30 2019, 19:07:31) \\n[GCC 7.3.0]'"
      ]
     },
     "execution_count": 37,
     "metadata": {},
     "output_type": "execute_result"
    }
   ],
   "source": [
    "import sys\n",
    "sys.version"
   ]
  },
  {
   "cell_type": "code",
   "execution_count": 38,
   "metadata": {},
   "outputs": [],
   "source": [
    "import scipy, matplotlib, pandas, sklearn\n",
    "import numpy as np\n",
    "import azureml.core\n",
    "from azureml.core.experiment import Experiment\n",
    "from azureml.core.workspace import Workspace\n",
    "from azureml.train.automl import AutoMLConfig\n",
    "from azureml.train.automl.run import AutoMLRun"
   ]
  },
  {
   "cell_type": "code",
   "execution_count": 39,
   "metadata": {},
   "outputs": [
    {
     "name": "stdout",
     "output_type": "stream",
     "text": [
      "Azure ML version = 1.13.0\n"
     ]
    }
   ],
   "source": [
    "print(\"Azure ML version =\", azureml.core.VERSION)"
   ]
  },
  {
   "cell_type": "code",
   "execution_count": 40,
   "metadata": {},
   "outputs": [],
   "source": [
    "%matplotlib inline\n",
    "import matplotlib.pyplot as plt\n",
    "import numpy as np\n",
    "from keras.datasets import mnist\n",
    "from keras.models import Sequential\n",
    "from keras.layers.core import Dense, Activation\n",
    "from keras.optimizers import SGD\n",
    "from keras.utils import np_utils"
   ]
  },
  {
   "cell_type": "code",
   "execution_count": 41,
   "metadata": {},
   "outputs": [
    {
     "name": "stdout",
     "output_type": "stream",
     "text": [
      "Version Keras = 2.3.1\n"
     ]
    }
   ],
   "source": [
    "import keras\n",
    "print(\"Version Keras =\", keras.__version__)"
   ]
  },
  {
   "cell_type": "code",
   "execution_count": 42,
   "metadata": {},
   "outputs": [
    {
     "name": "stdout",
     "output_type": "stream",
     "text": [
      "Azure ML version = 1.13.0\n"
     ]
    }
   ],
   "source": [
    "import azureml.core\n",
    "print(\"Azure ML version =\", azureml.core.VERSION)"
   ]
  },
  {
   "cell_type": "code",
   "execution_count": 43,
   "metadata": {},
   "outputs": [
    {
     "name": "stdout",
     "output_type": "stream",
     "text": [
      "Workspace name: workshopAML2020\n",
      "Azure region: westeurope\n",
      "Resource group: workshopAML2020-rg\n"
     ]
    }
   ],
   "source": [
    "# Rappel des infos du workspace Azure ML service\n",
    "from azureml.core import Workspace\n",
    "\n",
    "ws = Workspace.from_config()\n",
    "print('Workspace name: ' + ws.name, \n",
    "      'Azure region: ' + ws.location, \n",
    "      'Resource group: ' + ws.resource_group, sep='\\n')"
   ]
  },
  {
   "cell_type": "code",
   "execution_count": 44,
   "metadata": {},
   "outputs": [],
   "source": [
    "from azureml.core import experiment\n",
    "experiment = Experiment(workspace=ws, name=\"Exemple9-DLsimuls\")"
   ]
  },
  {
   "cell_type": "code",
   "execution_count": 45,
   "metadata": {},
   "outputs": [
    {
     "name": "stdout",
     "output_type": "stream",
     "text": [
      "1. Training : 60000\n",
      "2. Test : 10000\n"
     ]
    }
   ],
   "source": [
    "nb_classes = 10 # On doit reconnaitre 10 chiffres différents\n",
    "\n",
    "# Affichage du nombre de lignes\n",
    "(training_images, training_labels), (test_images, test_labels) = mnist.load_data()\n",
    "print ('1. Training :', training_images.shape[0])\n",
    "print ('2. Test :', test_images.shape[0])"
   ]
  },
  {
   "cell_type": "markdown",
   "metadata": {},
   "source": [
    "## Visualisation"
   ]
  },
  {
   "cell_type": "code",
   "execution_count": 46,
   "metadata": {},
   "outputs": [
    {
     "data": {
      "image/png": "[encoded data removed]",
      "text/plain": [
       "<Figure size 432x288 with 8 Axes>"
      ]
     },
     "metadata": {
      "needs_background": "light"
     },
     "output_type": "display_data"
    }
   ],
   "source": [
    "for i in range(8):\n",
    "    plt.subplot(2,4,i+1)\n",
    "    plt.imshow(training_images[i], cmap='gray', interpolation='none')\n",
    "    plt.title(\"Chiffre : {}\".format(training_labels[i]))"
   ]
  },
  {
   "cell_type": "markdown",
   "metadata": {},
   "source": [
    "## Traitement\n",
    "Les images sont représentées par 28 pixels sur 28 pixels.\n",
    "Nous allons donc générer un réseau de 784 neurones (28 X 28).\n",
    "En sortie nous voulons 10 neurones (= les 10 chiffres de 0 à 9).\n",
    "\n",
    "Nous allons convertir les images qui sont sous forme de tableaux 28 par 28 en un vecteur de longueur 784.\n",
    "Nous allons diviser les valeurs par 255 pour que notre vecteur ne contienne que des données entre 0 et 1.<br>\n",
    "Au final nous allons convertir les classes de chiffres en catégories."
   ]
  },
  {
   "cell_type": "code",
   "execution_count": 47,
   "metadata": {},
   "outputs": [],
   "source": [
    "training_images = training_images.reshape(60000, 784)\n",
    "test_images = test_images.reshape(10000, 784)\n",
    "training_images = training_images.astype('float32')\n",
    "test_images = test_images.astype('float32')\n",
    "training_images /= 255\n",
    "test_images /= 255\n",
    "\n",
    "training_labels_categories = np_utils.to_categorical(training_labels, nb_classes)\n",
    "test_labels_categories = np_utils.to_categorical(test_labels, nb_classes)"
   ]
  },
  {
   "cell_type": "markdown",
   "metadata": {},
   "source": [
    "## Estimation\n",
    "Nous allons estimer un réseau avec une première couche de 500 neurones et une couche de sortie de 10 neurones.<br>\n",
    "Autres paramétres :\n",
    "- Fonction d’optimisation : SGD (Stochastique Gradient Descent) et « vitesse d’apprentissage » 0.5\n",
    "- Taille du batch : 500 (nombre d’images utilisées pour entrainer le réseau)\n",
    "- Nombre d’epoch : 1 (un epoch = un apprentissage sur toutes les données)\n"
   ]
  },
  {
   "cell_type": "markdown",
   "metadata": {},
   "source": [
    "## Modèle 1"
   ]
  },
  {
   "cell_type": "code",
   "execution_count": 48,
   "metadata": {},
   "outputs": [],
   "source": [
    "run = experiment.start_logging(snapshot_directory=None)"
   ]
  },
  {
   "cell_type": "code",
   "execution_count": 49,
   "metadata": {},
   "outputs": [
    {
     "name": "stdout",
     "output_type": "stream",
     "text": [
      "Train on 60000 samples, validate on 10000 samples\n",
      "Epoch 1/1\n",
      "60000/60000 [==============================] - 2s 32us/step - loss: 0.5049 - accuracy: 0.8492 - val_loss: 0.2661 - val_accuracy: 0.9205\n",
      "\n",
      "Accuracy= 0.9204999804496765\n"
     ]
    }
   ],
   "source": [
    "model = Sequential()\n",
    "model.add(Dense(100, input_shape=(784,)))\n",
    "model.add(Activation('relu'))\n",
    "model.add(Dense(10))\n",
    "model.add(Activation('softmax'))\n",
    "\n",
    "bs=500\n",
    "epochs=1\n",
    "\n",
    "model.compile(loss='categorical_crossentropy', optimizer=SGD(0.5), metrics=['accuracy'])\n",
    "\n",
    "history = model.fit(training_images, training_labels_categories, batch_size=bs, epochs=epochs,\n",
    "                    verbose=1, validation_data=(test_images, test_labels_categories))\n",
    "score = model.evaluate(test_images, test_labels_categories, verbose=0)\n",
    "\n",
    "run.log('Accuracy', score[1]) \n",
    "run.log('BatchSize', bs)\n",
    "run.log('epochs', epochs)\n",
    "print()\n",
    "print('Accuracy=', score[1])"
   ]
  },
  {
   "cell_type": "code",
   "execution_count": 50,
   "metadata": {},
   "outputs": [],
   "source": [
    "run.complete()"
   ]
  },
  {
   "cell_type": "markdown",
   "metadata": {},
   "source": [
    "## Modèle 2"
   ]
  },
  {
   "cell_type": "code",
   "execution_count": 52,
   "metadata": {},
   "outputs": [],
   "source": [
    "run = experiment.start_logging(snapshot_directory=None)"
   ]
  },
  {
   "cell_type": "code",
   "execution_count": 53,
   "metadata": {},
   "outputs": [
    {
     "name": "stdout",
     "output_type": "stream",
     "text": [
      "Train on 60000 samples, validate on 10000 samples\n",
      "Epoch 1/10\n",
      "60000/60000 [==============================] - 1s 9us/step - loss: 0.6156 - accuracy: 0.8148 - val_loss: 0.3080 - val_accuracy: 0.9133\n",
      "Epoch 2/10\n",
      "60000/60000 [==============================] - 0s 6us/step - loss: 0.2788 - accuracy: 0.9193 - val_loss: 0.2352 - val_accuracy: 0.9334\n",
      "Epoch 3/10\n",
      "60000/60000 [==============================] - 0s 5us/step - loss: 0.2248 - accuracy: 0.9356 - val_loss: 0.2026 - val_accuracy: 0.9425\n",
      "Epoch 4/10\n",
      "60000/60000 [==============================] - 0s 5us/step - loss: 0.1910 - accuracy: 0.9458 - val_loss: 0.1772 - val_accuracy: 0.9478\n",
      "Epoch 5/10\n",
      "60000/60000 [==============================] - 0s 5us/step - loss: 0.1681 - accuracy: 0.9528 - val_loss: 0.1617 - val_accuracy: 0.9512\n",
      "Epoch 6/10\n",
      "60000/60000 [==============================] - 0s 5us/step - loss: 0.1510 - accuracy: 0.9567 - val_loss: 0.1444 - val_accuracy: 0.9568\n",
      "Epoch 7/10\n",
      "60000/60000 [==============================] - 0s 5us/step - loss: 0.1385 - accuracy: 0.9607 - val_loss: 0.1359 - val_accuracy: 0.9592\n",
      "Epoch 8/10\n",
      "60000/60000 [==============================] - 0s 6us/step - loss: 0.1263 - accuracy: 0.9631 - val_loss: 0.1258 - val_accuracy: 0.9622\n",
      "Epoch 9/10\n",
      "60000/60000 [==============================] - 0s 5us/step - loss: 0.1164 - accuracy: 0.9672 - val_loss: 0.1195 - val_accuracy: 0.9658\n",
      "Epoch 10/10\n",
      "60000/60000 [==============================] - 0s 5us/step - loss: 0.1077 - accuracy: 0.9701 - val_loss: 0.1111 - val_accuracy: 0.9678\n",
      "\n",
      "Accuracy= 0.9678000211715698\n"
     ]
    }
   ],
   "source": [
    "model = Sequential()\n",
    "model.add(Dense(100, input_shape=(784,)))\n",
    "model.add(Activation('relu'))\n",
    "model.add(Dense(10))\n",
    "model.add(Activation('softmax'))\n",
    "\n",
    "bs=800\n",
    "epochs=10\n",
    "\n",
    "model.compile(loss='categorical_crossentropy', optimizer=SGD(0.5), metrics=['accuracy'])\n",
    "\n",
    "history = model.fit(training_images, training_labels_categories, batch_size=bs, epochs=epochs,\n",
    "                    verbose=1, validation_data=(test_images, test_labels_categories))\n",
    "score = model.evaluate(test_images, test_labels_categories, verbose=0)\n",
    "\n",
    "run.log('Accuracy', score[1]) \n",
    "run.log('BatchSize', bs)\n",
    "run.log('epochs', epochs)\n",
    "\n",
    "print()\n",
    "print('Accuracy=', score[1])"
   ]
  },
  {
   "cell_type": "code",
   "execution_count": 54,
   "metadata": {},
   "outputs": [],
   "source": [
    "run.complete()"
   ]
  },
  {
   "cell_type": "markdown",
   "metadata": {},
   "source": [
    "## Modèle 3"
   ]
  },
  {
   "cell_type": "code",
   "execution_count": 55,
   "metadata": {},
   "outputs": [],
   "source": [
    "run = experiment.start_logging(snapshot_directory=None)"
   ]
  },
  {
   "cell_type": "code",
   "execution_count": 56,
   "metadata": {},
   "outputs": [
    {
     "name": "stdout",
     "output_type": "stream",
     "text": [
      "Train on 60000 samples, validate on 10000 samples\n",
      "Epoch 1/20\n",
      "60000/60000 [==============================] - 0s 8us/step - loss: 0.6485 - accuracy: 0.8043 - val_loss: 0.3136 - val_accuracy: 0.9108\n",
      "Epoch 2/20\n",
      "60000/60000 [==============================] - 0s 5us/step - loss: 0.2922 - accuracy: 0.9172 - val_loss: 0.2437 - val_accuracy: 0.9317\n",
      "Epoch 3/20\n",
      "60000/60000 [==============================] - 0s 5us/step - loss: 0.2363 - accuracy: 0.9325 - val_loss: 0.2203 - val_accuracy: 0.9365\n",
      "Epoch 4/20\n",
      "60000/60000 [==============================] - 0s 5us/step - loss: 0.2024 - accuracy: 0.9433 - val_loss: 0.1886 - val_accuracy: 0.9442\n",
      "Epoch 5/20\n",
      "60000/60000 [==============================] - 0s 5us/step - loss: 0.1791 - accuracy: 0.9499 - val_loss: 0.1727 - val_accuracy: 0.9509\n",
      "Epoch 6/20\n",
      "60000/60000 [==============================] - 0s 5us/step - loss: 0.1620 - accuracy: 0.9540 - val_loss: 0.1534 - val_accuracy: 0.9549\n",
      "Epoch 7/20\n",
      "60000/60000 [==============================] - 0s 5us/step - loss: 0.1472 - accuracy: 0.9584 - val_loss: 0.1446 - val_accuracy: 0.9572\n",
      "Epoch 8/20\n",
      "60000/60000 [==============================] - 0s 5us/step - loss: 0.1347 - accuracy: 0.9626 - val_loss: 0.1337 - val_accuracy: 0.9597\n",
      "Epoch 9/20\n",
      "60000/60000 [==============================] - 0s 5us/step - loss: 0.1255 - accuracy: 0.9651 - val_loss: 0.1265 - val_accuracy: 0.9626\n",
      "Epoch 10/20\n",
      "60000/60000 [==============================] - 0s 5us/step - loss: 0.1168 - accuracy: 0.9676 - val_loss: 0.1206 - val_accuracy: 0.9634\n",
      "Epoch 11/20\n",
      "60000/60000 [==============================] - 0s 5us/step - loss: 0.1096 - accuracy: 0.9697 - val_loss: 0.1144 - val_accuracy: 0.9662\n",
      "Epoch 12/20\n",
      "60000/60000 [==============================] - 0s 5us/step - loss: 0.1029 - accuracy: 0.9708 - val_loss: 0.1109 - val_accuracy: 0.9661\n",
      "Epoch 13/20\n",
      "60000/60000 [==============================] - 0s 5us/step - loss: 0.0970 - accuracy: 0.9735 - val_loss: 0.1066 - val_accuracy: 0.9673\n",
      "Epoch 14/20\n",
      "60000/60000 [==============================] - 0s 5us/step - loss: 0.0918 - accuracy: 0.9751 - val_loss: 0.1039 - val_accuracy: 0.9679\n",
      "Epoch 15/20\n",
      "60000/60000 [==============================] - 0s 5us/step - loss: 0.0869 - accuracy: 0.9761 - val_loss: 0.0978 - val_accuracy: 0.9699\n",
      "Epoch 16/20\n",
      "60000/60000 [==============================] - 0s 5us/step - loss: 0.0826 - accuracy: 0.9776 - val_loss: 0.1000 - val_accuracy: 0.9701\n",
      "Epoch 17/20\n",
      "60000/60000 [==============================] - 0s 5us/step - loss: 0.0786 - accuracy: 0.9782 - val_loss: 0.0937 - val_accuracy: 0.9719\n",
      "Epoch 18/20\n",
      "60000/60000 [==============================] - 0s 6us/step - loss: 0.0752 - accuracy: 0.9798 - val_loss: 0.0945 - val_accuracy: 0.9714\n",
      "Epoch 19/20\n",
      "60000/60000 [==============================] - 0s 5us/step - loss: 0.0722 - accuracy: 0.9804 - val_loss: 0.0901 - val_accuracy: 0.9722\n",
      "Epoch 20/20\n",
      "60000/60000 [==============================] - 0s 5us/step - loss: 0.0689 - accuracy: 0.9811 - val_loss: 0.0886 - val_accuracy: 0.9729\n",
      "\n",
      "Accuracy= 0.9728999733924866\n"
     ]
    }
   ],
   "source": [
    "model = Sequential()\n",
    "model.add(Dense(100, input_shape=(784,)))\n",
    "model.add(Activation('relu'))\n",
    "model.add(Dense(10))\n",
    "model.add(Activation('softmax'))\n",
    "\n",
    "bs=900\n",
    "epochs=20\n",
    "\n",
    "model.compile(loss='categorical_crossentropy', optimizer=SGD(0.5), metrics=['accuracy'])\n",
    "\n",
    "history = model.fit(training_images, training_labels_categories, batch_size=bs, epochs=epochs,\n",
    "                    verbose=1, validation_data=(test_images, test_labels_categories))\n",
    "score = model.evaluate(test_images, test_labels_categories, verbose=0)\n",
    "\n",
    "run.log('Accuracy', score[1]) \n",
    "run.log('BatchSize', bs)\n",
    "run.log('epochs', epochs)\n",
    "\n",
    "print()\n",
    "print('Accuracy=', score[1])"
   ]
  },
  {
   "cell_type": "code",
   "execution_count": 57,
   "metadata": {},
   "outputs": [],
   "source": [
    "run.complete()"
   ]
  },
  {
   "cell_type": "markdown",
   "metadata": {},
   "source": [
    "## Modèle 4"
   ]
  },
  {
   "cell_type": "code",
   "execution_count": 58,
   "metadata": {},
   "outputs": [],
   "source": [
    "run = experiment.start_logging(snapshot_directory=None)"
   ]
  },
  {
   "cell_type": "code",
   "execution_count": 59,
   "metadata": {},
   "outputs": [
    {
     "name": "stdout",
     "output_type": "stream",
     "text": [
      "Train on 60000 samples, validate on 10000 samples\n",
      "Epoch 1/50\n",
      "60000/60000 [==============================] - 0s 8us/step - loss: 0.6362 - accuracy: 0.8082 - val_loss: 0.3122 - val_accuracy: 0.9083\n",
      "Epoch 2/50\n",
      "60000/60000 [==============================] - 0s 5us/step - loss: 0.2892 - accuracy: 0.9172 - val_loss: 0.2461 - val_accuracy: 0.9292\n",
      "Epoch 3/50\n",
      "60000/60000 [==============================] - 0s 5us/step - loss: 0.2396 - accuracy: 0.9307 - val_loss: 0.2031 - val_accuracy: 0.9412\n",
      "Epoch 4/50\n",
      "60000/60000 [==============================] - 0s 5us/step - loss: 0.2015 - accuracy: 0.9428 - val_loss: 0.1843 - val_accuracy: 0.9469\n",
      "Epoch 5/50\n",
      "60000/60000 [==============================] - 0s 5us/step - loss: 0.1788 - accuracy: 0.9496 - val_loss: 0.1647 - val_accuracy: 0.9520\n",
      "Epoch 6/50\n",
      "60000/60000 [==============================] - 0s 5us/step - loss: 0.1606 - accuracy: 0.9540 - val_loss: 0.1522 - val_accuracy: 0.9540\n",
      "Epoch 7/50\n",
      "60000/60000 [==============================] - 0s 6us/step - loss: 0.1466 - accuracy: 0.9580 - val_loss: 0.1415 - val_accuracy: 0.9578\n",
      "Epoch 8/50\n",
      "60000/60000 [==============================] - 0s 5us/step - loss: 0.1339 - accuracy: 0.9618 - val_loss: 0.1297 - val_accuracy: 0.9624\n",
      "Epoch 9/50\n",
      "60000/60000 [==============================] - 0s 5us/step - loss: 0.1242 - accuracy: 0.9651 - val_loss: 0.1271 - val_accuracy: 0.9630\n",
      "Epoch 10/50\n",
      "60000/60000 [==============================] - 0s 5us/step - loss: 0.1161 - accuracy: 0.9674 - val_loss: 0.1177 - val_accuracy: 0.9659\n",
      "Epoch 11/50\n",
      "60000/60000 [==============================] - 0s 5us/step - loss: 0.1085 - accuracy: 0.9698 - val_loss: 0.1135 - val_accuracy: 0.9675\n",
      "Epoch 12/50\n",
      "60000/60000 [==============================] - 0s 5us/step - loss: 0.1022 - accuracy: 0.9708 - val_loss: 0.1162 - val_accuracy: 0.9662\n",
      "Epoch 13/50\n",
      "60000/60000 [==============================] - 0s 5us/step - loss: 0.0965 - accuracy: 0.9731 - val_loss: 0.1049 - val_accuracy: 0.9705\n",
      "Epoch 14/50\n",
      "60000/60000 [==============================] - 0s 5us/step - loss: 0.0913 - accuracy: 0.9744 - val_loss: 0.1043 - val_accuracy: 0.9687\n",
      "Epoch 15/50\n",
      "60000/60000 [==============================] - 0s 5us/step - loss: 0.0873 - accuracy: 0.9757 - val_loss: 0.1012 - val_accuracy: 0.9703\n",
      "Epoch 16/50\n",
      "60000/60000 [==============================] - 0s 5us/step - loss: 0.0828 - accuracy: 0.9767 - val_loss: 0.1001 - val_accuracy: 0.9696\n",
      "Epoch 17/50\n",
      "60000/60000 [==============================] - 0s 5us/step - loss: 0.0788 - accuracy: 0.9783 - val_loss: 0.0959 - val_accuracy: 0.9719\n",
      "Epoch 18/50\n",
      "60000/60000 [==============================] - 0s 6us/step - loss: 0.0752 - accuracy: 0.9791 - val_loss: 0.0927 - val_accuracy: 0.9725\n",
      "Epoch 19/50\n",
      "60000/60000 [==============================] - 0s 5us/step - loss: 0.0724 - accuracy: 0.9796 - val_loss: 0.0925 - val_accuracy: 0.9726\n",
      "Epoch 20/50\n",
      "60000/60000 [==============================] - 0s 5us/step - loss: 0.0693 - accuracy: 0.9808 - val_loss: 0.0879 - val_accuracy: 0.9733\n",
      "Epoch 21/50\n",
      "60000/60000 [==============================] - 0s 5us/step - loss: 0.0664 - accuracy: 0.9814 - val_loss: 0.0884 - val_accuracy: 0.9730\n",
      "Epoch 22/50\n",
      "60000/60000 [==============================] - 0s 5us/step - loss: 0.0642 - accuracy: 0.9821 - val_loss: 0.0864 - val_accuracy: 0.9740\n",
      "Epoch 23/50\n",
      "60000/60000 [==============================] - 0s 5us/step - loss: 0.0612 - accuracy: 0.9833 - val_loss: 0.0852 - val_accuracy: 0.9746\n",
      "Epoch 24/50\n",
      "60000/60000 [==============================] - 0s 5us/step - loss: 0.0593 - accuracy: 0.9837 - val_loss: 0.0853 - val_accuracy: 0.9752\n",
      "Epoch 25/50\n",
      "60000/60000 [==============================] - 0s 5us/step - loss: 0.0571 - accuracy: 0.9845 - val_loss: 0.0829 - val_accuracy: 0.9757\n",
      "Epoch 26/50\n",
      "60000/60000 [==============================] - 0s 5us/step - loss: 0.0553 - accuracy: 0.9851 - val_loss: 0.0827 - val_accuracy: 0.9758\n",
      "Epoch 27/50\n",
      "60000/60000 [==============================] - 0s 5us/step - loss: 0.0537 - accuracy: 0.9853 - val_loss: 0.0825 - val_accuracy: 0.9748\n",
      "Epoch 28/50\n",
      "60000/60000 [==============================] - 0s 5us/step - loss: 0.0518 - accuracy: 0.9862 - val_loss: 0.0808 - val_accuracy: 0.9752\n",
      "Epoch 29/50\n",
      "60000/60000 [==============================] - 0s 5us/step - loss: 0.0501 - accuracy: 0.9866 - val_loss: 0.0817 - val_accuracy: 0.9751\n",
      "Epoch 30/50\n",
      "60000/60000 [==============================] - 0s 5us/step - loss: 0.0485 - accuracy: 0.9873 - val_loss: 0.0819 - val_accuracy: 0.9752\n",
      "Epoch 31/50\n",
      "60000/60000 [==============================] - 0s 5us/step - loss: 0.0469 - accuracy: 0.9876 - val_loss: 0.0783 - val_accuracy: 0.9755\n",
      "Epoch 32/50\n",
      "60000/60000 [==============================] - 0s 5us/step - loss: 0.0455 - accuracy: 0.9881 - val_loss: 0.0804 - val_accuracy: 0.9749\n",
      "Epoch 33/50\n",
      "60000/60000 [==============================] - 0s 5us/step - loss: 0.0443 - accuracy: 0.9885 - val_loss: 0.0774 - val_accuracy: 0.9764\n",
      "Epoch 34/50\n",
      "60000/60000 [==============================] - 0s 5us/step - loss: 0.0427 - accuracy: 0.9896 - val_loss: 0.0761 - val_accuracy: 0.9774\n",
      "Epoch 35/50\n",
      "60000/60000 [==============================] - 0s 5us/step - loss: 0.0412 - accuracy: 0.9897 - val_loss: 0.0776 - val_accuracy: 0.9757\n",
      "Epoch 36/50\n",
      "60000/60000 [==============================] - 0s 5us/step - loss: 0.0400 - accuracy: 0.9901 - val_loss: 0.0757 - val_accuracy: 0.9766\n",
      "Epoch 37/50\n",
      "60000/60000 [==============================] - 0s 5us/step - loss: 0.0389 - accuracy: 0.9904 - val_loss: 0.0763 - val_accuracy: 0.9761\n",
      "Epoch 38/50\n",
      "60000/60000 [==============================] - 0s 5us/step - loss: 0.0378 - accuracy: 0.9904 - val_loss: 0.0774 - val_accuracy: 0.9753\n",
      "Epoch 39/50\n",
      "60000/60000 [==============================] - 0s 5us/step - loss: 0.0366 - accuracy: 0.9911 - val_loss: 0.0735 - val_accuracy: 0.9773\n",
      "Epoch 40/50\n",
      "60000/60000 [==============================] - 0s 5us/step - loss: 0.0356 - accuracy: 0.9916 - val_loss: 0.0766 - val_accuracy: 0.9751\n",
      "Epoch 41/50\n",
      "60000/60000 [==============================] - 0s 5us/step - loss: 0.0347 - accuracy: 0.9916 - val_loss: 0.0738 - val_accuracy: 0.9769\n",
      "Epoch 42/50\n",
      "60000/60000 [==============================] - 0s 5us/step - loss: 0.0336 - accuracy: 0.9922 - val_loss: 0.0752 - val_accuracy: 0.9773\n",
      "Epoch 43/50\n",
      "60000/60000 [==============================] - 0s 5us/step - loss: 0.0328 - accuracy: 0.9923 - val_loss: 0.0730 - val_accuracy: 0.9759\n",
      "Epoch 44/50\n",
      "60000/60000 [==============================] - 0s 5us/step - loss: 0.0321 - accuracy: 0.9926 - val_loss: 0.0748 - val_accuracy: 0.9763\n",
      "Epoch 45/50\n",
      "60000/60000 [==============================] - 0s 5us/step - loss: 0.0308 - accuracy: 0.9928 - val_loss: 0.0736 - val_accuracy: 0.9773\n",
      "Epoch 46/50\n",
      "60000/60000 [==============================] - 0s 5us/step - loss: 0.0301 - accuracy: 0.9932 - val_loss: 0.0741 - val_accuracy: 0.9770\n",
      "Epoch 47/50\n",
      "60000/60000 [==============================] - 0s 5us/step - loss: 0.0293 - accuracy: 0.9934 - val_loss: 0.0745 - val_accuracy: 0.9764\n",
      "Epoch 48/50\n",
      "60000/60000 [==============================] - 0s 5us/step - loss: 0.0285 - accuracy: 0.9936 - val_loss: 0.0735 - val_accuracy: 0.9767\n",
      "Epoch 49/50\n",
      "60000/60000 [==============================] - 0s 5us/step - loss: 0.0278 - accuracy: 0.9939 - val_loss: 0.0728 - val_accuracy: 0.9774\n",
      "Epoch 50/50\n",
      "60000/60000 [==============================] - 0s 5us/step - loss: 0.0270 - accuracy: 0.9941 - val_loss: 0.0722 - val_accuracy: 0.9773\n",
      "\n",
      "Accuracy= 0.9772999882698059\n"
     ]
    }
   ],
   "source": [
    "model = Sequential()\n",
    "model.add(Dense(100, input_shape=(784,)))\n",
    "model.add(Activation('relu'))\n",
    "model.add(Dense(10))\n",
    "model.add(Activation('softmax'))\n",
    "\n",
    "bs=900\n",
    "epochs=50\n",
    "\n",
    "model.compile(loss='categorical_crossentropy', optimizer=SGD(0.5), metrics=['accuracy'])\n",
    "\n",
    "history = model.fit(training_images, training_labels_categories, batch_size=bs, epochs=epochs,\n",
    "                    verbose=1, validation_data=(test_images, test_labels_categories))\n",
    "score = model.evaluate(test_images, test_labels_categories, verbose=0)\n",
    "\n",
    "run.log('Accuracy', score[1]) \n",
    "run.log('BatchSize', bs)\n",
    "run.log('epochs', epochs)\n",
    "\n",
    "print()\n",
    "print('Accuracy=', score[1])"
   ]
  },
  {
   "cell_type": "code",
   "execution_count": 60,
   "metadata": {},
   "outputs": [],
   "source": [
    "run.complete()"
   ]
  },
  {
   "cell_type": "markdown",
   "metadata": {},
   "source": [
    "## Accès a l'expérimentation"
   ]
  },
  {
   "cell_type": "code",
   "execution_count": 61,
   "metadata": {},
   "outputs": [
    {
     "data": {
      "text/html": [
       "<table style=\"width:100%\"><tr><th>Name</th><th>Workspace</th><th>Report Page</th><th>Docs Page</th></tr><tr><td>Exemple9-DLsimuls</td><td>workshopAML2020</td><td><a href=\"https://ml.azure.com/experiments/Exemple9-DLsimuls?wsid=/subscriptions/70b8f39e-8863-49f7-b6ba-34a80799550c/resourcegroups/workshopAML2020-rg/workspaces/workshopAML2020\" target=\"_blank\" rel=\"noopener\">Link to Azure Machine Learning studio</a></td><td><a href=\"https://docs.microsoft.com/en-us/python/api/azureml-core/azureml.core.experiment.Experiment?view=azure-ml-py\" target=\"_blank\" rel=\"noopener\">Link to Documentation</a></td></tr></table>"
      ],
      "text/plain": [
       "Experiment(Name: Exemple9-DLsimuls,\n",
       "Workspace: workshopAML2020)"
      ]
     },
     "execution_count": 61,
     "metadata": {},
     "output_type": "execute_result"
    }
   ],
   "source": [
    "experiment"
   ]
  },
  {
   "cell_type": "markdown",
   "metadata": {},
   "source": [
    "## Test du modèle"
   ]
  },
  {
   "cell_type": "code",
   "execution_count": 62,
   "metadata": {},
   "outputs": [
    {
     "data": {
      "image/png": "[encoded data removed]",
      "text/plain": [
       "<Figure size 432x288 with 3 Axes>"
      ]
     },
     "metadata": {
      "needs_background": "light"
     },
     "output_type": "display_data"
    }
   ],
   "source": [
    "classes_predites = model.predict_classes(test_images)\n",
    "correct_indices = np.nonzero(classes_predites == test_labels)[0]\n",
    "incorrect_indices = np.nonzero(classes_predites != test_labels)[0]\n",
    "\n",
    "plt.figure()\n",
    "for i, correct in enumerate(correct_indices[:3]):\n",
    "    plt.subplot(1,3,i+1)\n",
    "    plt.imshow(test_images[correct].reshape(28,28), cmap='gray', interpolation='none')\n",
    "    plt.title(\"Score={} Chiffre={}\".format(classes_predites[correct], test_labels[correct]))"
   ]
  },
  {
   "cell_type": "markdown",
   "metadata": {},
   "source": [
    "### Erreurs du modèle :"
   ]
  },
  {
   "cell_type": "code",
   "execution_count": 63,
   "metadata": {},
   "outputs": [
    {
     "data": {
      "text/plain": [
       "array([ 247,  321,  340,  366,  445,  449,  582,  583,  591,  619,  659,\n",
       "        684,  691,  720,  938,  947,  951,  956,  965,  992, 1014, 1039,\n",
       "       1112, 1114, 1181, 1182, 1226, 1232, 1242, 1247, 1260, 1289, 1299,\n",
       "       1319, 1337, 1393, 1444, 1494, 1500, 1522, 1527, 1530, 1531, 1549,\n",
       "       1553, 1609, 1681, 1717, 1751, 1754, 1790, 1828, 1901, 1940, 1941,\n",
       "       1952, 1982, 1984, 1987, 2016, 2018, 2024, 2043, 2044, 2053, 2063,\n",
       "       2070, 2073, 2098, 2109, 2118, 2130, 2135, 2174, 2182, 2185, 2189,\n",
       "       2224, 2272, 2293, 2387, 2406, 2414, 2433, 2447, 2454, 2488, 2514,\n",
       "       2607, 2648, 2654, 2720, 2877, 2896, 2907, 2939, 2953, 2979, 3030,\n",
       "       3062, 3073, 3117, 3289, 3422, 3474, 3503, 3520, 3533, 3549, 3558,\n",
       "       3567, 3681, 3727, 3757, 3780, 3796, 3808, 3811, 3818, 3838, 3853,\n",
       "       3869, 3893, 3906, 3941, 3943, 3976, 4065, 4078, 4176, 4199, 4201,\n",
       "       4224, 4248, 4289, 4355, 4425, 4437, 4443, 4497, 4536, 4578, 4740,\n",
       "       4761, 4807, 4814, 4823, 4860, 4880, 4890, 4956, 5201, 5331, 5457,\n",
       "       5564, 5600, 5642, 5676, 5734, 5749, 5842, 5936, 5937, 5955, 5972,\n",
       "       5973, 5982, 6011, 6023, 6045, 6046, 6059, 6166, 6173, 6400, 6426,\n",
       "       6532, 6555, 6558, 6571, 6572, 6575, 6576, 6597, 6598, 6625, 6651,\n",
       "       6735, 6755, 6783, 7434, 7451, 7800, 7821, 7823, 7886, 8020, 8059,\n",
       "       8062, 8094, 8273, 8277, 8408, 8456, 8522, 8527, 9009, 9015, 9019,\n",
       "       9024, 9280, 9587, 9634, 9664, 9679, 9698, 9719, 9729, 9745, 9749,\n",
       "       9755, 9768, 9770, 9808, 9811, 9839, 9944])"
      ]
     },
     "execution_count": 63,
     "metadata": {},
     "output_type": "execute_result"
    }
   ],
   "source": [
    "incorrect_indices"
   ]
  },
  {
   "cell_type": "code",
   "execution_count": 64,
   "metadata": {},
   "outputs": [
    {
     "data": {
      "image/png": "[encoded data removed]",
      "text/plain": [
       "<Figure size 432x288 with 3 Axes>"
      ]
     },
     "metadata": {
      "needs_background": "light"
     },
     "output_type": "display_data"
    }
   ],
   "source": [
    "plt.figure()\n",
    "for i, incorrect in enumerate(incorrect_indices[:3]):\n",
    "    plt.subplot(1,3,i+1)\n",
    "    plt.imshow(test_images[incorrect].reshape(28,28), cmap='gray', interpolation='none')\n",
    "    plt.title(\"Score={} Chiffre={}\".format(classes_predites[incorrect], test_labels[incorrect]))"
   ]
  },
  {
   "cell_type": "markdown",
   "metadata": {},
   "source": [
    "<img src=\"https://github.com/retkowsky/images/blob/master/Powered-by-MS-Azure-logo-v2.png?raw=true\" height=\"300\" width=\"300\">"
   ]
  }
 ],
 "metadata": {
  "kernelspec": {
   "display_name": "Python 3.6 - AzureML",
   "language": "python",
   "name": "python3-azureml"
  },
  "language_info": {
   "codemirror_mode": {
    "name": "ipython",
    "version": 3
   },
   "file_extension": ".py",
   "mimetype": "text/x-python",
   "name": "python",
   "nbconvert_exporter": "python",
   "pygments_lexer": "ipython3",
   "version": "3.6.9"
  }
 },
 "nbformat": 4,
 "nbformat_minor": 2
}
