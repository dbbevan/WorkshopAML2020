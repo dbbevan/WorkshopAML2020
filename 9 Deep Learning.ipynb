{
 "cells": [
  {
   "cell_type": "markdown",
   "metadata": {},
   "source": [
    "# Deep Learning"
   ]
  },
  {
   "cell_type": "markdown",
   "metadata": {},
   "source": [
    "<img src='https://github.com/retkowsky/images/blob/master/AzureMLservicebanniere.png?raw=true'>"
   ]
  },
  {
   "cell_type": "markdown",
   "metadata": {},
   "source": [
    "https://en.wikipedia.org/wiki/MNIST_database\n",
    "\n",
    "Exemple **MNIST** (Modified National Institute of Standards and Technology.<br>\n",
    "Pour représenter cette image, nous allons utiliser un vecteur binaire de **784 variables (28x28)**. La ième valeur du vecteur prendra la valeur 0 ou 1 suivant si le ième pixel dans l'image est blanc ou noir.\n",
    "\n",
    "Un algorithme de **Deep Learning** va commencer par subdiviser ce problème complexe, en sous problèmes plus simple à résoudre. Pour cela, il va prendre des sous parties de l'image, par exemple, des groupements de pixels de 5x5, 4x4, ou 3x3, et opérer une fonction afin d'extraire des motifs dans cette sous-partie (on parle d'opération de convolution).\n",
    "Ainsi, différentes transformations sont opérées sur différentes parties de l'image d'entrée, retravaillées puis combinées à la couche suivante, etc., etc. permettant ainsi de générer des cartographies des pixels importants dans l'image.<br>\n"
   ]
  },
  {
   "cell_type": "markdown",
   "metadata": {},
   "source": [
    "<img src=\"https://upload.wikimedia.org/wikipedia/commons/2/27/MnistExamples.png\">"
   ]
  },
  {
   "cell_type": "markdown",
   "metadata": {},
   "source": [
    "<img src=\"https://msdnshared.blob.core.windows.net/media/2016/04/042816_1315_Unepremirei32.png\">"
   ]
  },
  {
   "cell_type": "markdown",
   "metadata": {},
   "source": [
    "L'illustration ci-dessus met en évidence la succession des couches, et l'extraction de l'information qu'elles réalisent. Elle permet aussi de refléter la hiérarchie entre les couches :\n",
    "\n",
    "La première se focalise sur une petite portion de l'image (5x5 par exemple).\n",
    "La seconde récupère le résultat de toutes les portions précédentes et essaye de repérer de nouveaux indicateurs.\n",
    "La troisième va encore plus loin, en suivant le même principe, permettant d'identifier assez précisément les contours du visage.\n",
    "Vous l'aurez donc compris, chaque couche est génératrice de variables. Chaque couche va venir rajouter son lot de variable issues de la combinaison des précédentes. C'est ici qu'intervient la véritable différence entre un réseau de neurones « classique » et un algorithme de Deep Learning.\n",
    "\n",
    "Cette faculté à générer des variables, qui plus est, très pertinentes dans un problème donné, permet à l'algorithme de découvrir des indicateurs de « haut niveaux » générant un fort pouvoir prédictif.\n",
    "\n",
    "En combinant toutes ces informations issues des différentes couches, correctement pondérées, nous obtenons un système capable d'identifier les éléments importants d'une image, dans le but final de prédire la sortie avec la plus forte probabilité d'être correcte."
   ]
  },
  {
   "cell_type": "markdown",
   "metadata": {},
   "source": [
    "## Partitionnement des données\n",
    "On va utiliser une partie des données pour apprendre (60 000) et le reste (10 000) pour vérifier si notre algorithme est correct. <br>Nous utilisons KERAS qui est une surcouche à TensorFlow."
   ]
  },
  {
   "cell_type": "code",
   "execution_count": 67,
   "metadata": {},
   "outputs": [
    {
     "data": {
      "text/plain": [
       "'3.6.9 |Anaconda, Inc.| (default, Jul 30 2019, 19:07:31) \\n[GCC 7.3.0]'"
      ]
     },
     "execution_count": 67,
     "metadata": {},
     "output_type": "execute_result"
    }
   ],
   "source": [
    "import sys\n",
    "sys.version"
   ]
  },
  {
   "cell_type": "code",
   "execution_count": 68,
   "metadata": {},
   "outputs": [],
   "source": [
    "import scipy, matplotlib, pandas, sklearn\n",
    "import numpy as np\n",
    "import azureml.core\n",
    "from azureml.core.experiment import Experiment\n",
    "from azureml.core.workspace import Workspace\n",
    "from azureml.train.automl import AutoMLConfig\n",
    "from azureml.train.automl.run import AutoMLRun"
   ]
  },
  {
   "cell_type": "code",
   "execution_count": 69,
   "metadata": {},
   "outputs": [],
   "source": [
    "%matplotlib inline\n",
    "import matplotlib.pyplot as plt\n",
    "import numpy as np\n",
    "from keras.datasets import mnist\n",
    "from keras.models import Sequential\n",
    "from keras.layers.core import Dense, Activation\n",
    "from keras.optimizers import SGD\n",
    "from keras.utils import np_utils"
   ]
  },
  {
   "cell_type": "code",
   "execution_count": 70,
   "metadata": {},
   "outputs": [
    {
     "name": "stdout",
     "output_type": "stream",
     "text": [
      "2.3.1\n"
     ]
    }
   ],
   "source": [
    "import keras\n",
    "print(keras.__version__)"
   ]
  },
  {
   "cell_type": "code",
   "execution_count": 71,
   "metadata": {},
   "outputs": [
    {
     "name": "stdout",
     "output_type": "stream",
     "text": [
      "Workspace name: workshopAML2020\n",
      "Azure region: westeurope\n",
      "Resource group: workshopAML2020-rg\n"
     ]
    }
   ],
   "source": [
    "# Rappel des infos du workspace Azure ML service\n",
    "from azureml.core import Workspace\n",
    "\n",
    "ws = Workspace.from_config()\n",
    "print('Workspace name: ' + ws.name, \n",
    "      'Azure region: ' + ws.location, \n",
    "      'Resource group: ' + ws.resource_group, sep='\\n')"
   ]
  },
  {
   "cell_type": "code",
   "execution_count": 72,
   "metadata": {},
   "outputs": [],
   "source": [
    "from azureml.core import experiment\n",
    "experiment = Experiment(workspace=ws, name=\"Exemple9-DLsimuls\")"
   ]
  },
  {
   "cell_type": "code",
   "execution_count": 73,
   "metadata": {},
   "outputs": [
    {
     "name": "stdout",
     "output_type": "stream",
     "text": [
      "1. Training : 60000\n",
      "2. Test : 10000\n"
     ]
    }
   ],
   "source": [
    "nb_classes = 10 # On doit reconnaitre 10 chiffres différents\n",
    "\n",
    "# Affichage du nombre de lignes\n",
    "(training_images, training_labels), (test_images, test_labels) = mnist.load_data()\n",
    "print ('1. Training :', training_images.shape[0])\n",
    "print ('2. Test :', test_images.shape[0])"
   ]
  },
  {
   "cell_type": "markdown",
   "metadata": {},
   "source": [
    "## Visualisation"
   ]
  },
  {
   "cell_type": "code",
   "execution_count": 74,
   "metadata": {},
   "outputs": [
    {
     "data": {
      "image/png": "[encoded data removed]",
      "text/plain": [
       "<Figure size 432x288 with 8 Axes>"
      ]
     },
     "metadata": {
      "needs_background": "light"
     },
     "output_type": "display_data"
    }
   ],
   "source": [
    "for i in range(8):\n",
    "    plt.subplot(2,4,i+1)\n",
    "    plt.imshow(training_images[i], cmap='gray', interpolation='none')\n",
    "    plt.title(\"Chiffre : {}\".format(training_labels[i]))"
   ]
  },
  {
   "cell_type": "markdown",
   "metadata": {},
   "source": [
    "## Traitement\n",
    "Les images sont représentées par 28 pixels sur 28 pixels.\n",
    "Nous allons donc générer un réseau de 784 neurones (28 X 28).\n",
    "En sortie nous voulons 10 neurones (= les 10 chiffres de 0 à 9).\n",
    "\n",
    "Nous allons convertir les images qui sont sous forme de tableaux 28 par 28 en un vecteur de longueur 784.\n",
    "Nous allons diviser les valeurs par 255 pour que notre vecteur ne contienne que des données entre 0 et 1.<br>\n",
    "Au final nous allons convertir les classes de chiffres en catégories."
   ]
  },
  {
   "cell_type": "code",
   "execution_count": 75,
   "metadata": {},
   "outputs": [],
   "source": [
    "training_images = training_images.reshape(60000, 784)\n",
    "test_images = test_images.reshape(10000, 784)\n",
    "training_images = training_images.astype('float32')\n",
    "test_images = test_images.astype('float32')\n",
    "training_images /= 255\n",
    "test_images /= 255\n",
    "\n",
    "training_labels_categories = np_utils.to_categorical(training_labels, nb_classes)\n",
    "test_labels_categories = np_utils.to_categorical(test_labels, nb_classes)"
   ]
  },
  {
   "cell_type": "markdown",
   "metadata": {},
   "source": [
    "## Estimation\n",
    "Nous allons estimer un réseau avec une première couche de 500 neurones et une couche de sortie de 10 neurones.<br>\n",
    "Autres paramétres :\n",
    "- Fonction d’optimisation : SGD (Stochastique Gradient Descent) et « vitesse d’apprentissage » 0.5\n",
    "- Taille du batch : 500 (nombre d’images utilisées pour entrainer le réseau)\n",
    "- Nombre d’epoch : 1 (un epoch = un apprentissage sur toutes les données)\n"
   ]
  },
  {
   "cell_type": "markdown",
   "metadata": {},
   "source": [
    "## Modèle 1"
   ]
  },
  {
   "cell_type": "code",
   "execution_count": 76,
   "metadata": {},
   "outputs": [],
   "source": [
    "run = experiment.start_logging()"
   ]
  },
  {
   "cell_type": "code",
   "execution_count": 77,
   "metadata": {},
   "outputs": [
    {
     "name": "stdout",
     "output_type": "stream",
     "text": [
      "Train on 60000 samples, validate on 10000 samples\n",
      "Epoch 1/1\n",
      "60000/60000 [==============================] - 0s 7us/step - loss: 0.4961 - accuracy: 0.8523 - val_loss: 0.2663 - val_accuracy: 0.9231\n",
      "\n",
      "Accuracy= 0.9230999946594238\n"
     ]
    }
   ],
   "source": [
    "model = Sequential()\n",
    "model.add(Dense(100, input_shape=(784,)))\n",
    "model.add(Activation('relu'))\n",
    "model.add(Dense(10))\n",
    "model.add(Activation('softmax'))\n",
    "\n",
    "bs=500\n",
    "epochs=1\n",
    "\n",
    "model.compile(loss='categorical_crossentropy', optimizer=SGD(0.5), metrics=['accuracy'])\n",
    "\n",
    "history = model.fit(training_images, training_labels_categories, batch_size=bs, epochs=epochs,\n",
    "                    verbose=1, validation_data=(test_images, test_labels_categories))\n",
    "score = model.evaluate(test_images, test_labels_categories, verbose=0)\n",
    "\n",
    "run.log('Accuracy', score[1]) \n",
    "run.log('BatchSize', bs)\n",
    "run.log('epochs', epochs)\n",
    "print()\n",
    "print('Accuracy=', score[1])"
   ]
  },
  {
   "cell_type": "code",
   "execution_count": 78,
   "metadata": {},
   "outputs": [],
   "source": [
    "run.complete()"
   ]
  },
  {
   "cell_type": "markdown",
   "metadata": {},
   "source": [
    "## Modèle 2"
   ]
  },
  {
   "cell_type": "code",
   "execution_count": 79,
   "metadata": {},
   "outputs": [],
   "source": [
    "run = experiment.start_logging()"
   ]
  },
  {
   "cell_type": "code",
   "execution_count": 80,
   "metadata": {},
   "outputs": [
    {
     "name": "stdout",
     "output_type": "stream",
     "text": [
      "Train on 60000 samples, validate on 10000 samples\n",
      "Epoch 1/10\n",
      "60000/60000 [==============================] - 0s 6us/step - loss: 0.6139 - accuracy: 0.8152 - val_loss: 0.3147 - val_accuracy: 0.9045\n",
      "Epoch 2/10\n",
      "60000/60000 [==============================] - 0s 5us/step - loss: 0.2750 - accuracy: 0.9209 - val_loss: 0.2345 - val_accuracy: 0.9316\n",
      "Epoch 3/10\n",
      "60000/60000 [==============================] - 0s 5us/step - loss: 0.2244 - accuracy: 0.9358 - val_loss: 0.1983 - val_accuracy: 0.9431\n",
      "Epoch 4/10\n",
      "60000/60000 [==============================] - 0s 5us/step - loss: 0.1922 - accuracy: 0.9454 - val_loss: 0.1794 - val_accuracy: 0.9463\n",
      "Epoch 5/10\n",
      "60000/60000 [==============================] - 0s 5us/step - loss: 0.1682 - accuracy: 0.9523 - val_loss: 0.1585 - val_accuracy: 0.9550\n",
      "Epoch 6/10\n",
      "60000/60000 [==============================] - 0s 5us/step - loss: 0.1511 - accuracy: 0.9575 - val_loss: 0.1439 - val_accuracy: 0.9573\n",
      "Epoch 7/10\n",
      "60000/60000 [==============================] - 0s 5us/step - loss: 0.1370 - accuracy: 0.9612 - val_loss: 0.1354 - val_accuracy: 0.9598\n",
      "Epoch 8/10\n",
      "60000/60000 [==============================] - 0s 5us/step - loss: 0.1255 - accuracy: 0.9648 - val_loss: 0.1236 - val_accuracy: 0.9649\n",
      "Epoch 9/10\n",
      "60000/60000 [==============================] - 0s 5us/step - loss: 0.1156 - accuracy: 0.9677 - val_loss: 0.1168 - val_accuracy: 0.9656\n",
      "Epoch 10/10\n",
      "60000/60000 [==============================] - 0s 5us/step - loss: 0.1079 - accuracy: 0.9703 - val_loss: 0.1112 - val_accuracy: 0.9684\n",
      "\n",
      "Accuracy= 0.9684000015258789\n"
     ]
    }
   ],
   "source": [
    "model = Sequential()\n",
    "model.add(Dense(100, input_shape=(784,)))\n",
    "model.add(Activation('relu'))\n",
    "model.add(Dense(10))\n",
    "model.add(Activation('softmax'))\n",
    "\n",
    "bs=800\n",
    "epochs=10\n",
    "\n",
    "model.compile(loss='categorical_crossentropy', optimizer=SGD(0.5), metrics=['accuracy'])\n",
    "\n",
    "history = model.fit(training_images, training_labels_categories, batch_size=bs, epochs=epochs,\n",
    "                    verbose=1, validation_data=(test_images, test_labels_categories))\n",
    "score = model.evaluate(test_images, test_labels_categories, verbose=0)\n",
    "\n",
    "run.log('Accuracy', score[1]) \n",
    "run.log('BatchSize', bs)\n",
    "run.log('epochs', epochs)\n",
    "\n",
    "print()\n",
    "print('Accuracy=', score[1])"
   ]
  },
  {
   "cell_type": "code",
   "execution_count": 81,
   "metadata": {},
   "outputs": [],
   "source": [
    "run.complete()"
   ]
  },
  {
   "cell_type": "markdown",
   "metadata": {},
   "source": [
    "## Modèle 3"
   ]
  },
  {
   "cell_type": "code",
   "execution_count": 82,
   "metadata": {},
   "outputs": [],
   "source": [
    "run = experiment.start_logging()"
   ]
  },
  {
   "cell_type": "code",
   "execution_count": 83,
   "metadata": {},
   "outputs": [
    {
     "name": "stdout",
     "output_type": "stream",
     "text": [
      "Train on 60000 samples, validate on 10000 samples\n",
      "Epoch 1/20\n",
      "60000/60000 [==============================] - 0s 6us/step - loss: 0.6276 - accuracy: 0.8091 - val_loss: 0.3453 - val_accuracy: 0.8971\n",
      "Epoch 2/20\n",
      "60000/60000 [==============================] - 0s 5us/step - loss: 0.2946 - accuracy: 0.9151 - val_loss: 0.2528 - val_accuracy: 0.9293\n",
      "Epoch 3/20\n",
      "60000/60000 [==============================] - 0s 5us/step - loss: 0.2383 - accuracy: 0.9322 - val_loss: 0.2152 - val_accuracy: 0.9376\n",
      "Epoch 4/20\n",
      "60000/60000 [==============================] - 0s 5us/step - loss: 0.2060 - accuracy: 0.9409 - val_loss: 0.1893 - val_accuracy: 0.9454\n",
      "Epoch 5/20\n",
      "60000/60000 [==============================] - 0s 5us/step - loss: 0.1823 - accuracy: 0.9478 - val_loss: 0.1800 - val_accuracy: 0.9476\n",
      "Epoch 6/20\n",
      "60000/60000 [==============================] - 0s 5us/step - loss: 0.1641 - accuracy: 0.9527 - val_loss: 0.1599 - val_accuracy: 0.9544\n",
      "Epoch 7/20\n",
      "60000/60000 [==============================] - 0s 5us/step - loss: 0.1501 - accuracy: 0.9567 - val_loss: 0.1476 - val_accuracy: 0.9561\n",
      "Epoch 8/20\n",
      "60000/60000 [==============================] - 0s 5us/step - loss: 0.1377 - accuracy: 0.9603 - val_loss: 0.1363 - val_accuracy: 0.9596\n",
      "Epoch 9/20\n",
      "60000/60000 [==============================] - 0s 5us/step - loss: 0.1276 - accuracy: 0.9637 - val_loss: 0.1291 - val_accuracy: 0.9620\n",
      "Epoch 10/20\n",
      "60000/60000 [==============================] - 0s 5us/step - loss: 0.1184 - accuracy: 0.9662 - val_loss: 0.1251 - val_accuracy: 0.9635\n",
      "Epoch 11/20\n",
      "60000/60000 [==============================] - 0s 5us/step - loss: 0.1102 - accuracy: 0.9685 - val_loss: 0.1194 - val_accuracy: 0.9649\n",
      "Epoch 12/20\n",
      "60000/60000 [==============================] - 0s 5us/step - loss: 0.1046 - accuracy: 0.9700 - val_loss: 0.1101 - val_accuracy: 0.9676\n",
      "Epoch 13/20\n",
      "60000/60000 [==============================] - 0s 5us/step - loss: 0.0983 - accuracy: 0.9724 - val_loss: 0.1076 - val_accuracy: 0.9673\n",
      "Epoch 14/20\n",
      "60000/60000 [==============================] - 0s 5us/step - loss: 0.0929 - accuracy: 0.9740 - val_loss: 0.1040 - val_accuracy: 0.9679\n",
      "Epoch 15/20\n",
      "60000/60000 [==============================] - 0s 5us/step - loss: 0.0880 - accuracy: 0.9753 - val_loss: 0.1010 - val_accuracy: 0.9698\n",
      "Epoch 16/20\n",
      "60000/60000 [==============================] - 0s 5us/step - loss: 0.0834 - accuracy: 0.9768 - val_loss: 0.0978 - val_accuracy: 0.9708\n",
      "Epoch 17/20\n",
      "60000/60000 [==============================] - 0s 5us/step - loss: 0.0797 - accuracy: 0.9778 - val_loss: 0.0946 - val_accuracy: 0.9707\n",
      "Epoch 18/20\n",
      "60000/60000 [==============================] - 0s 5us/step - loss: 0.0760 - accuracy: 0.9786 - val_loss: 0.0938 - val_accuracy: 0.9714\n",
      "Epoch 19/20\n",
      "60000/60000 [==============================] - 0s 5us/step - loss: 0.0723 - accuracy: 0.9801 - val_loss: 0.0905 - val_accuracy: 0.9722\n",
      "Epoch 20/20\n",
      "60000/60000 [==============================] - 0s 5us/step - loss: 0.0691 - accuracy: 0.9806 - val_loss: 0.0996 - val_accuracy: 0.9704\n",
      "\n",
      "Accuracy= 0.9703999757766724\n"
     ]
    }
   ],
   "source": [
    "model = Sequential()\n",
    "model.add(Dense(100, input_shape=(784,)))\n",
    "model.add(Activation('relu'))\n",
    "model.add(Dense(10))\n",
    "model.add(Activation('softmax'))\n",
    "\n",
    "bs=900\n",
    "epochs=20\n",
    "\n",
    "model.compile(loss='categorical_crossentropy', optimizer=SGD(0.5), metrics=['accuracy'])\n",
    "\n",
    "history = model.fit(training_images, training_labels_categories, batch_size=bs, epochs=epochs,\n",
    "                    verbose=1, validation_data=(test_images, test_labels_categories))\n",
    "score = model.evaluate(test_images, test_labels_categories, verbose=0)\n",
    "\n",
    "run.log('Accuracy', score[1]) \n",
    "run.log('BatchSize', bs)\n",
    "run.log('epochs', epochs)\n",
    "\n",
    "print()\n",
    "print('Accuracy=', score[1])"
   ]
  },
  {
   "cell_type": "code",
   "execution_count": 84,
   "metadata": {},
   "outputs": [],
   "source": [
    "run.complete()"
   ]
  },
  {
   "cell_type": "markdown",
   "metadata": {},
   "source": [
    "## Modèle 4"
   ]
  },
  {
   "cell_type": "code",
   "execution_count": 85,
   "metadata": {},
   "outputs": [],
   "source": [
    "run = experiment.start_logging()"
   ]
  },
  {
   "cell_type": "code",
   "execution_count": 86,
   "metadata": {},
   "outputs": [
    {
     "name": "stdout",
     "output_type": "stream",
     "text": [
      "Train on 60000 samples, validate on 10000 samples\n",
      "Epoch 1/50\n",
      "60000/60000 [==============================] - 0s 6us/step - loss: 0.6247 - accuracy: 0.8080 - val_loss: 0.3020 - val_accuracy: 0.9119\n",
      "Epoch 2/50\n",
      "60000/60000 [==============================] - 0s 5us/step - loss: 0.2843 - accuracy: 0.9185 - val_loss: 0.2381 - val_accuracy: 0.9312\n",
      "Epoch 3/50\n",
      "60000/60000 [==============================] - 0s 5us/step - loss: 0.2309 - accuracy: 0.9352 - val_loss: 0.2077 - val_accuracy: 0.9395\n",
      "Epoch 4/50\n",
      "60000/60000 [==============================] - 0s 5us/step - loss: 0.2000 - accuracy: 0.9434 - val_loss: 0.1827 - val_accuracy: 0.9467\n",
      "Epoch 5/50\n",
      "60000/60000 [==============================] - 0s 5us/step - loss: 0.1779 - accuracy: 0.9499 - val_loss: 0.1665 - val_accuracy: 0.9507\n",
      "Epoch 6/50\n",
      "60000/60000 [==============================] - 0s 5us/step - loss: 0.1603 - accuracy: 0.9554 - val_loss: 0.1566 - val_accuracy: 0.9534\n",
      "Epoch 7/50\n",
      "60000/60000 [==============================] - 0s 5us/step - loss: 0.1463 - accuracy: 0.9593 - val_loss: 0.1421 - val_accuracy: 0.9592\n",
      "Epoch 8/50\n",
      "60000/60000 [==============================] - 0s 5us/step - loss: 0.1344 - accuracy: 0.9620 - val_loss: 0.1345 - val_accuracy: 0.9592\n",
      "Epoch 9/50\n",
      "60000/60000 [==============================] - 0s 5us/step - loss: 0.1248 - accuracy: 0.9649 - val_loss: 0.1305 - val_accuracy: 0.9609\n",
      "Epoch 10/50\n",
      "60000/60000 [==============================] - 0s 5us/step - loss: 0.1167 - accuracy: 0.9674 - val_loss: 0.1242 - val_accuracy: 0.9611\n",
      "Epoch 11/50\n",
      "60000/60000 [==============================] - 0s 5us/step - loss: 0.1098 - accuracy: 0.9696 - val_loss: 0.1163 - val_accuracy: 0.9646\n",
      "Epoch 12/50\n",
      "60000/60000 [==============================] - 0s 5us/step - loss: 0.1035 - accuracy: 0.9708 - val_loss: 0.1135 - val_accuracy: 0.9647\n",
      "Epoch 13/50\n",
      "60000/60000 [==============================] - 0s 5us/step - loss: 0.0977 - accuracy: 0.9729 - val_loss: 0.1104 - val_accuracy: 0.9661\n",
      "Epoch 14/50\n",
      "60000/60000 [==============================] - 0s 5us/step - loss: 0.0922 - accuracy: 0.9744 - val_loss: 0.1044 - val_accuracy: 0.9685\n",
      "Epoch 15/50\n",
      "60000/60000 [==============================] - 0s 5us/step - loss: 0.0877 - accuracy: 0.9761 - val_loss: 0.1015 - val_accuracy: 0.9692\n",
      "Epoch 16/50\n",
      "60000/60000 [==============================] - 0s 5us/step - loss: 0.0834 - accuracy: 0.9770 - val_loss: 0.1030 - val_accuracy: 0.9684\n",
      "Epoch 17/50\n",
      "60000/60000 [==============================] - 0s 5us/step - loss: 0.0796 - accuracy: 0.9781 - val_loss: 0.0958 - val_accuracy: 0.9705\n",
      "Epoch 18/50\n",
      "60000/60000 [==============================] - 0s 5us/step - loss: 0.0759 - accuracy: 0.9789 - val_loss: 0.0946 - val_accuracy: 0.9715\n",
      "Epoch 19/50\n",
      "60000/60000 [==============================] - 0s 5us/step - loss: 0.0732 - accuracy: 0.9795 - val_loss: 0.0939 - val_accuracy: 0.9700\n",
      "Epoch 20/50\n",
      "60000/60000 [==============================] - 0s 5us/step - loss: 0.0700 - accuracy: 0.9807 - val_loss: 0.0913 - val_accuracy: 0.9718\n",
      "Epoch 21/50\n",
      "60000/60000 [==============================] - 0s 5us/step - loss: 0.0671 - accuracy: 0.9814 - val_loss: 0.0938 - val_accuracy: 0.9718\n",
      "Epoch 22/50\n",
      "60000/60000 [==============================] - 0s 5us/step - loss: 0.0648 - accuracy: 0.9822 - val_loss: 0.0919 - val_accuracy: 0.9707\n",
      "Epoch 23/50\n",
      "60000/60000 [==============================] - 0s 5us/step - loss: 0.0618 - accuracy: 0.9835 - val_loss: 0.0868 - val_accuracy: 0.9723\n",
      "Epoch 24/50\n",
      "60000/60000 [==============================] - 0s 5us/step - loss: 0.0595 - accuracy: 0.9839 - val_loss: 0.0861 - val_accuracy: 0.9734\n",
      "Epoch 25/50\n",
      "60000/60000 [==============================] - 0s 5us/step - loss: 0.0575 - accuracy: 0.9842 - val_loss: 0.0885 - val_accuracy: 0.9734\n",
      "Epoch 26/50\n",
      "60000/60000 [==============================] - 0s 5us/step - loss: 0.0557 - accuracy: 0.9848 - val_loss: 0.0847 - val_accuracy: 0.9745\n",
      "Epoch 27/50\n",
      "60000/60000 [==============================] - 0s 5us/step - loss: 0.0533 - accuracy: 0.9855 - val_loss: 0.0842 - val_accuracy: 0.9755\n",
      "Epoch 28/50\n",
      "60000/60000 [==============================] - 0s 5us/step - loss: 0.0516 - accuracy: 0.9862 - val_loss: 0.0824 - val_accuracy: 0.9745\n",
      "Epoch 29/50\n",
      "60000/60000 [==============================] - 0s 5us/step - loss: 0.0500 - accuracy: 0.9867 - val_loss: 0.0823 - val_accuracy: 0.9744\n",
      "Epoch 30/50\n",
      "60000/60000 [==============================] - 0s 5us/step - loss: 0.0483 - accuracy: 0.9874 - val_loss: 0.0819 - val_accuracy: 0.9738\n",
      "Epoch 31/50\n",
      "60000/60000 [==============================] - 0s 5us/step - loss: 0.0467 - accuracy: 0.9882 - val_loss: 0.0822 - val_accuracy: 0.9737\n",
      "Epoch 32/50\n",
      "60000/60000 [==============================] - 0s 5us/step - loss: 0.0453 - accuracy: 0.9883 - val_loss: 0.0836 - val_accuracy: 0.9733\n",
      "Epoch 33/50\n",
      "60000/60000 [==============================] - 0s 5us/step - loss: 0.0439 - accuracy: 0.9888 - val_loss: 0.0799 - val_accuracy: 0.9756\n",
      "Epoch 34/50\n",
      "60000/60000 [==============================] - 0s 5us/step - loss: 0.0423 - accuracy: 0.9893 - val_loss: 0.0789 - val_accuracy: 0.9754\n",
      "Epoch 35/50\n",
      "60000/60000 [==============================] - 0s 5us/step - loss: 0.0408 - accuracy: 0.9900 - val_loss: 0.0807 - val_accuracy: 0.9756\n",
      "Epoch 36/50\n",
      "60000/60000 [==============================] - 0s 5us/step - loss: 0.0401 - accuracy: 0.9899 - val_loss: 0.0775 - val_accuracy: 0.9760\n",
      "Epoch 37/50\n",
      "60000/60000 [==============================] - 0s 5us/step - loss: 0.0387 - accuracy: 0.9906 - val_loss: 0.0762 - val_accuracy: 0.9748\n",
      "Epoch 38/50\n",
      "60000/60000 [==============================] - 0s 5us/step - loss: 0.0372 - accuracy: 0.9913 - val_loss: 0.0769 - val_accuracy: 0.9747\n",
      "Epoch 39/50\n",
      "60000/60000 [==============================] - 0s 5us/step - loss: 0.0365 - accuracy: 0.9912 - val_loss: 0.0766 - val_accuracy: 0.9747\n",
      "Epoch 40/50\n",
      "60000/60000 [==============================] - 0s 5us/step - loss: 0.0356 - accuracy: 0.9916 - val_loss: 0.0759 - val_accuracy: 0.9766\n",
      "Epoch 41/50\n",
      "60000/60000 [==============================] - 0s 5us/step - loss: 0.0344 - accuracy: 0.9922 - val_loss: 0.0753 - val_accuracy: 0.9765\n",
      "Epoch 42/50\n",
      "60000/60000 [==============================] - 0s 5us/step - loss: 0.0334 - accuracy: 0.9922 - val_loss: 0.0751 - val_accuracy: 0.9756\n",
      "Epoch 43/50\n",
      "60000/60000 [==============================] - 0s 5us/step - loss: 0.0324 - accuracy: 0.9924 - val_loss: 0.0768 - val_accuracy: 0.9772\n",
      "Epoch 44/50\n",
      "60000/60000 [==============================] - 0s 5us/step - loss: 0.0314 - accuracy: 0.9931 - val_loss: 0.0742 - val_accuracy: 0.9771\n",
      "Epoch 45/50\n",
      "60000/60000 [==============================] - 0s 5us/step - loss: 0.0306 - accuracy: 0.9932 - val_loss: 0.0750 - val_accuracy: 0.9763\n",
      "Epoch 46/50\n",
      "60000/60000 [==============================] - 0s 5us/step - loss: 0.0297 - accuracy: 0.9936 - val_loss: 0.0738 - val_accuracy: 0.9774\n",
      "Epoch 47/50\n",
      "60000/60000 [==============================] - 0s 5us/step - loss: 0.0289 - accuracy: 0.9940 - val_loss: 0.0753 - val_accuracy: 0.9757\n",
      "Epoch 48/50\n",
      "60000/60000 [==============================] - 0s 5us/step - loss: 0.0282 - accuracy: 0.9938 - val_loss: 0.0730 - val_accuracy: 0.9766\n",
      "Epoch 49/50\n",
      "60000/60000 [==============================] - 0s 5us/step - loss: 0.0274 - accuracy: 0.9942 - val_loss: 0.0735 - val_accuracy: 0.9777\n",
      "Epoch 50/50\n",
      "60000/60000 [==============================] - 0s 5us/step - loss: 0.0269 - accuracy: 0.9942 - val_loss: 0.0737 - val_accuracy: 0.9777\n",
      "\n",
      "Accuracy= 0.9776999950408936\n"
     ]
    }
   ],
   "source": [
    "model = Sequential()\n",
    "model.add(Dense(100, input_shape=(784,)))\n",
    "model.add(Activation('relu'))\n",
    "model.add(Dense(10))\n",
    "model.add(Activation('softmax'))\n",
    "\n",
    "bs=900\n",
    "epochs=50\n",
    "\n",
    "model.compile(loss='categorical_crossentropy', optimizer=SGD(0.5), metrics=['accuracy'])\n",
    "\n",
    "history = model.fit(training_images, training_labels_categories, batch_size=bs, epochs=epochs,\n",
    "                    verbose=1, validation_data=(test_images, test_labels_categories))\n",
    "score = model.evaluate(test_images, test_labels_categories, verbose=0)\n",
    "\n",
    "run.log('Accuracy', score[1]) \n",
    "run.log('BatchSize', bs)\n",
    "run.log('epochs', epochs)\n",
    "\n",
    "print()\n",
    "print('Accuracy=', score[1])"
   ]
  },
  {
   "cell_type": "code",
   "execution_count": 87,
   "metadata": {},
   "outputs": [],
   "source": [
    "run.complete()"
   ]
  },
  {
   "cell_type": "markdown",
   "metadata": {},
   "source": [
    "## Accès a l'expérimentation"
   ]
  },
  {
   "cell_type": "code",
   "execution_count": 88,
   "metadata": {},
   "outputs": [
    {
     "data": {
      "text/html": [
       "<table style=\"width:100%\"><tr><th>Name</th><th>Workspace</th><th>Report Page</th><th>Docs Page</th></tr><tr><td>Exemple9-DLsimuls</td><td>workshopAML2020</td><td><a href=\"https://ml.azure.com/experiments/Exemple9-DLsimuls?wsid=/subscriptions/70b8f39e-8863-49f7-b6ba-34a80799550c/resourcegroups/workshopAML2020-rg/workspaces/workshopAML2020\" target=\"_blank\" rel=\"noopener\">Link to Azure Machine Learning studio</a></td><td><a href=\"https://docs.microsoft.com/en-us/python/api/azureml-core/azureml.core.experiment.Experiment?view=azure-ml-py\" target=\"_blank\" rel=\"noopener\">Link to Documentation</a></td></tr></table>"
      ],
      "text/plain": [
       "Experiment(Name: Exemple9-DLsimuls,\n",
       "Workspace: workshopAML2020)"
      ]
     },
     "execution_count": 88,
     "metadata": {},
     "output_type": "execute_result"
    }
   ],
   "source": [
    "experiment"
   ]
  },
  {
   "cell_type": "markdown",
   "metadata": {},
   "source": [
    "## Test du modèle"
   ]
  },
  {
   "cell_type": "code",
   "execution_count": 89,
   "metadata": {},
   "outputs": [
    {
     "data": {
      "image/png": "[encoded data removed]",
      "text/plain": [
       "<Figure size 432x288 with 3 Axes>"
      ]
     },
     "metadata": {
      "needs_background": "light"
     },
     "output_type": "display_data"
    }
   ],
   "source": [
    "classes_predites = model.predict_classes(test_images)\n",
    "correct_indices = np.nonzero(classes_predites == test_labels)[0]\n",
    "incorrect_indices = np.nonzero(classes_predites != test_labels)[0]\n",
    "\n",
    "plt.figure()\n",
    "for i, correct in enumerate(correct_indices[:3]):\n",
    "    plt.subplot(1,3,i+1)\n",
    "    plt.imshow(test_images[correct].reshape(28,28), cmap='gray', interpolation='none')\n",
    "    plt.title(\"Score={} Chiffre={}\".format(classes_predites[correct], test_labels[correct]))"
   ]
  },
  {
   "cell_type": "markdown",
   "metadata": {},
   "source": [
    "### Erreurs du modèle :"
   ]
  },
  {
   "cell_type": "code",
   "execution_count": 90,
   "metadata": {},
   "outputs": [
    {
     "data": {
      "text/plain": [
       "array([ 233,  247,  321,  340,  445,  449,  495,  582,  583,  659,  684,\n",
       "        691,  720,  813,  874,  883,  947,  951,  956,  965, 1003, 1014,\n",
       "       1044, 1112, 1156, 1181, 1182, 1224, 1226, 1232, 1242, 1247, 1260,\n",
       "       1289, 1319, 1378, 1393, 1395, 1444, 1458, 1464, 1500, 1522, 1530,\n",
       "       1549, 1553, 1609, 1621, 1678, 1681, 1709, 1717, 1754, 1790, 1901,\n",
       "       1941, 1982, 1984, 2016, 2033, 2035, 2044, 2053, 2070, 2098, 2109,\n",
       "       2118, 2129, 2135, 2182, 2224, 2272, 2293, 2329, 2387, 2406, 2414,\n",
       "       2425, 2433, 2454, 2488, 2514, 2578, 2607, 2648, 2654, 2720, 2730,\n",
       "       2810, 2896, 2921, 2939, 2953, 2970, 3030, 3060, 3073, 3117, 3284,\n",
       "       3289, 3384, 3422, 3474, 3503, 3520, 3558, 3559, 3597, 3681, 3727,\n",
       "       3749, 3757, 3780, 3796, 3808, 3818, 3853, 3869, 3893, 3906, 3926,\n",
       "       3941, 3943, 3968, 3985, 4065, 4078, 4093, 4163, 4176, 4199, 4201,\n",
       "       4224, 4248, 4289, 4355, 4369, 4425, 4497, 4500, 4534, 4536, 4547,\n",
       "       4601, 4731, 4761, 4807, 4814, 4823, 4860, 4876, 4880, 4956, 5165,\n",
       "       5199, 5331, 5457, 5623, 5642, 5734, 5749, 5842, 5887, 5936, 5937,\n",
       "       5955, 5972, 5973, 5982, 6011, 6023, 6035, 6045, 6046, 6059, 6166,\n",
       "       6173, 6392, 6400, 6421, 6505, 6532, 6558, 6571, 6574, 6590, 6597,\n",
       "       6625, 6651, 6783, 6847, 7216, 7434, 7451, 7492, 7886, 7921, 8020,\n",
       "       8062, 8094, 8246, 8273, 8339, 8408, 8522, 9009, 9024, 9280, 9587,\n",
       "       9634, 9642, 9664, 9679, 9692, 9698, 9729, 9733, 9749, 9770, 9792,\n",
       "       9808, 9839, 9944])"
      ]
     },
     "execution_count": 90,
     "metadata": {},
     "output_type": "execute_result"
    }
   ],
   "source": [
    "incorrect_indices"
   ]
  },
  {
   "cell_type": "code",
   "execution_count": 91,
   "metadata": {},
   "outputs": [
    {
     "data": {
      "image/png": "[encoded data removed]",
      "text/plain": [
       "<Figure size 432x288 with 3 Axes>"
      ]
     },
     "metadata": {
      "needs_background": "light"
     },
     "output_type": "display_data"
    }
   ],
   "source": [
    "plt.figure()\n",
    "for i, incorrect in enumerate(incorrect_indices[:3]):\n",
    "    plt.subplot(1,3,i+1)\n",
    "    plt.imshow(test_images[incorrect].reshape(28,28), cmap='gray', interpolation='none')\n",
    "    plt.title(\"Score={} Chiffre={}\".format(classes_predites[incorrect], test_labels[incorrect]))"
   ]
  },
  {
   "cell_type": "markdown",
   "metadata": {},
   "source": [
    "<img src=\"https://github.com/retkowsky/images/blob/master/Powered-by-MS-Azure-logo-v2.png?raw=true\" height=\"300\" width=\"300\">"
   ]
  }
 ],
 "metadata": {
  "kernelspec": {
   "display_name": "Python 3.6 - AzureML",
   "language": "python",
   "name": "python3-azureml"
  },
  "language_info": {
   "codemirror_mode": {
    "name": "ipython",
    "version": 3
   },
   "file_extension": ".py",
   "mimetype": "text/x-python",
   "name": "python",
   "nbconvert_exporter": "python",
   "pygments_lexer": "ipython3",
   "version": "3.6.9"
  }
 },
 "nbformat": 4,
 "nbformat_minor": 2
}
